{
  "nbformat": 4,
  "nbformat_minor": 0,
  "metadata": {
    "colab": {
      "provenance": []
    },
    "kernelspec": {
      "name": "python3",
      "display_name": "Python 3"
    },
    "language_info": {
      "name": "python"
    }
  },
  "cells": [
    {
      "cell_type": "markdown",
      "source": [
        "# 리스트"
      ],
      "metadata": {
        "id": "PtxH4X-AEW0I"
      }
    },
    {
      "cell_type": "code",
      "source": [
        "# 시퀀스형 자료형\n",
        "a = 'hello world'\n",
        "a[0]\n",
        "a[:5]"
      ],
      "metadata": {
        "colab": {
          "base_uri": "https://localhost:8080/",
          "height": 35
        },
        "id": "r0KT7-2lEYN5",
        "outputId": "4d722dec-7ac3-4da2-bd6b-b6a47975096a"
      },
      "execution_count": null,
      "outputs": [
        {
          "output_type": "execute_result",
          "data": {
            "text/plain": [
              "'hello'"
            ],
            "application/vnd.google.colaboratory.intrinsic+json": {
              "type": "string"
            }
          },
          "metadata": {},
          "execution_count": 3
        }
      ]
    },
    {
      "cell_type": "code",
      "source": [
        "range(10)[3]"
      ],
      "metadata": {
        "colab": {
          "base_uri": "https://localhost:8080/"
        },
        "id": "KIA8c-EVE1L2",
        "outputId": "67624cd4-509f-43c5-9e94-7715a2201654"
      },
      "execution_count": null,
      "outputs": [
        {
          "output_type": "execute_result",
          "data": {
            "text/plain": [
              "3"
            ]
          },
          "metadata": {},
          "execution_count": 4
        }
      ]
    },
    {
      "cell_type": "code",
      "source": [
        "range(100, 1000, 10)[3]"
      ],
      "metadata": {
        "colab": {
          "base_uri": "https://localhost:8080/"
        },
        "id": "3PkpqvF82N5z",
        "outputId": "bda3d7b2-68a8-4247-bf76-bec93d088195"
      },
      "execution_count": null,
      "outputs": [
        {
          "output_type": "execute_result",
          "data": {
            "text/plain": [
              "130"
            ]
          },
          "metadata": {},
          "execution_count": 6
        }
      ]
    },
    {
      "cell_type": "code",
      "source": [
        "range(100)[::5]"
      ],
      "metadata": {
        "colab": {
          "base_uri": "https://localhost:8080/"
        },
        "id": "4L038m6bE5Xl",
        "outputId": "15c130bf-b25b-4d78-8f34-b9d02071ea21"
      },
      "execution_count": null,
      "outputs": [
        {
          "output_type": "execute_result",
          "data": {
            "text/plain": [
              "range(0, 100, 5)"
            ]
          },
          "metadata": {},
          "execution_count": 8
        }
      ]
    },
    {
      "cell_type": "code",
      "source": [
        "range(10)[3:]"
      ],
      "metadata": {
        "colab": {
          "base_uri": "https://localhost:8080/"
        },
        "id": "b77BgqrzFB9o",
        "outputId": "b650d04a-daf7-4abd-9d91-e69b56e771a5"
      },
      "execution_count": null,
      "outputs": [
        {
          "output_type": "execute_result",
          "data": {
            "text/plain": [
              "range(3, 10)"
            ]
          },
          "metadata": {},
          "execution_count": 9
        }
      ]
    },
    {
      "cell_type": "code",
      "source": [
        "a, b, c, d, e = 'hello'\n",
        "d"
      ],
      "metadata": {
        "colab": {
          "base_uri": "https://localhost:8080/",
          "height": 35
        },
        "id": "nbSVqk0O3EMw",
        "outputId": "05f985ef-417a-414e-b302-3105b43153bf"
      },
      "execution_count": null,
      "outputs": [
        {
          "output_type": "execute_result",
          "data": {
            "text/plain": [
              "'l'"
            ],
            "application/vnd.google.colaboratory.intrinsic+json": {
              "type": "string"
            }
          },
          "metadata": {},
          "execution_count": 7
        }
      ]
    },
    {
      "cell_type": "code",
      "source": [
        "for i, j in [[10, 20], [30, 40]]:\n",
        "    print(i, j)"
      ],
      "metadata": {
        "colab": {
          "base_uri": "https://localhost:8080/"
        },
        "id": "TF17TtGH3HJl",
        "outputId": "68e5ce82-6662-404b-c232-512809383d7a"
      },
      "execution_count": null,
      "outputs": [
        {
          "output_type": "stream",
          "name": "stdout",
          "text": [
            "10 20\n",
            "30 40\n"
          ]
        }
      ]
    },
    {
      "cell_type": "code",
      "source": [
        "enumerate([0, 1, 2, 3, 4, 5, 6, 7, 8, 9], 100)"
      ],
      "metadata": {
        "colab": {
          "base_uri": "https://localhost:8080/"
        },
        "id": "uzO4wcmeFHV8",
        "outputId": "f8fadb87-cc1a-4046-c8ad-50057d106f88"
      },
      "execution_count": null,
      "outputs": [
        {
          "output_type": "execute_result",
          "data": {
            "text/plain": [
              "<enumerate at 0x7a0fdd4eda80>"
            ]
          },
          "metadata": {},
          "execution_count": 12
        }
      ]
    },
    {
      "cell_type": "code",
      "source": [
        "# enumerate([0, 1, 2, 3, 4, 5, 6, 7, 8, 9], 100)[2]\n",
        "# enumerate([0, 1, 2, 3, 4, 5, 6, 7, 8, 9], 100)[2:]"
      ],
      "metadata": {
        "id": "d8lxptlTFTIC"
      },
      "execution_count": null,
      "outputs": []
    },
    {
      "cell_type": "code",
      "source": [
        "b = b'world' # 유니코드표 X, 아스키코드표에서 찾습니다!\n",
        "b[0]"
      ],
      "metadata": {
        "colab": {
          "base_uri": "https://localhost:8080/"
        },
        "id": "jqZDB3ie3tnY",
        "outputId": "81e73354-d97f-45c7-dbb1-359762dcc571"
      },
      "execution_count": null,
      "outputs": [
        {
          "output_type": "execute_result",
          "data": {
            "text/plain": [
              "119"
            ]
          },
          "metadata": {},
          "execution_count": 9
        }
      ]
    },
    {
      "cell_type": "code",
      "source": [
        "# b'' # 바이트\n",
        "# f'' # f-string 용법\n",
        "# r'' # raw값 출력"
      ],
      "metadata": {
        "id": "pdzinjAG3xEo"
      },
      "execution_count": null,
      "outputs": []
    },
    {
      "cell_type": "code",
      "source": [
        "# 덧셈과 곱셈\n",
        "a = [1, 2, 3, 4, 5]\n",
        "b = [6, 7, 8]\n",
        "\n",
        "print(a + b) # 출력: [1, 2, 3, 4, 5, 6, 7, 8]"
      ],
      "metadata": {
        "colab": {
          "base_uri": "https://localhost:8080/"
        },
        "id": "gdkt5OOmF07w",
        "outputId": "ce18951d-4a75-41d6-bdbe-bc7b031a13e2"
      },
      "execution_count": null,
      "outputs": [
        {
          "output_type": "stream",
          "name": "stdout",
          "text": [
            "[1, 2, 3, 4, 5, 6, 7, 8]\n"
          ]
        }
      ]
    },
    {
      "cell_type": "code",
      "source": [
        "a = [1, 2, 3, 4, 5]\n",
        "\n",
        "print(a * 3) # 출력: [1, 2, 3, 4, 5, 1, 2, 3, 4, 5, 1, 2, 3, 4, 5]"
      ],
      "metadata": {
        "colab": {
          "base_uri": "https://localhost:8080/"
        },
        "id": "V5lF152EF4Hz",
        "outputId": "efce66cb-775e-4a92-b1d1-203e63d63507"
      },
      "execution_count": null,
      "outputs": [
        {
          "output_type": "stream",
          "name": "stdout",
          "text": [
            "[1, 2, 3, 4, 5, 1, 2, 3, 4, 5, 1, 2, 3, 4, 5]\n"
          ]
        }
      ]
    },
    {
      "cell_type": "code",
      "source": [
        "a = [1, 2, 3, 4, 5]\n",
        "a = a * 3\n",
        "print(a * 3)\n",
        "id(a[2]), id(a[7])"
      ],
      "metadata": {
        "colab": {
          "base_uri": "https://localhost:8080/"
        },
        "id": "thOMAYnkGBWr",
        "outputId": "80958829-ffb4-44ed-b894-6e27e78469d9"
      },
      "execution_count": null,
      "outputs": [
        {
          "output_type": "stream",
          "name": "stdout",
          "text": [
            "[1, 2, 3, 4, 5, 1, 2, 3, 4, 5, 1, 2, 3, 4, 5, 1, 2, 3, 4, 5, 1, 2, 3, 4, 5, 1, 2, 3, 4, 5, 1, 2, 3, 4, 5, 1, 2, 3, 4, 5, 1, 2, 3, 4, 5]\n"
          ]
        },
        {
          "output_type": "execute_result",
          "data": {
            "text/plain": [
              "(134209827012912, 134209827012912)"
            ]
          },
          "metadata": {},
          "execution_count": 19
        }
      ]
    },
    {
      "cell_type": "code",
      "source": [
        "a = [1, 2, 3]\n",
        "a = [a * 2] * 2 # 리스트 컴프리헨션 사용하셔서 만드시 것을 권합니다!\n",
        "print(a)\n",
        "id(a[0]), id(a[1])\n",
        "a[0][0] = 10000\n",
        "a"
      ],
      "metadata": {
        "colab": {
          "base_uri": "https://localhost:8080/"
        },
        "id": "7TBAu3GAGVx6",
        "outputId": "05723a25-7878-41a4-f6fa-14611d8b1735"
      },
      "execution_count": null,
      "outputs": [
        {
          "output_type": "stream",
          "name": "stdout",
          "text": [
            "[[1, 2, 3, 1, 2, 3], [1, 2, 3, 1, 2, 3]]\n"
          ]
        },
        {
          "output_type": "execute_result",
          "data": {
            "text/plain": [
              "[[10000, 2, 3, 1, 2, 3], [10000, 2, 3, 1, 2, 3]]"
            ]
          },
          "metadata": {},
          "execution_count": 25
        }
      ]
    },
    {
      "cell_type": "code",
      "source": [
        "l = [1, 2, 3, 4, 5]\n",
        "print(l[0]) # 출력: 1\n",
        "print(l[3]) # 출력: 4\n",
        "print(l[-1]) # 출력: 5\n",
        "print(l[-3]) # 출력: 3"
      ],
      "metadata": {
        "colab": {
          "base_uri": "https://localhost:8080/"
        },
        "id": "sm0IBz0AHAuN",
        "outputId": "d34ce892-5243-4935-d4a2-743675653074"
      },
      "execution_count": null,
      "outputs": [
        {
          "output_type": "stream",
          "name": "stdout",
          "text": [
            "1\n",
            "4\n",
            "5\n",
            "3\n"
          ]
        }
      ]
    },
    {
      "cell_type": "code",
      "source": [
        "l = [1, 2, 3, 4, 5]\n",
        "print(l[1:4])"
      ],
      "metadata": {
        "colab": {
          "base_uri": "https://localhost:8080/"
        },
        "id": "77AJjx1OHGRC",
        "outputId": "be9b2945-ac74-4d03-98d2-9d3407675570"
      },
      "execution_count": null,
      "outputs": [
        {
          "output_type": "stream",
          "name": "stdout",
          "text": [
            "[2, 3, 4]\n"
          ]
        }
      ]
    },
    {
      "cell_type": "code",
      "source": [
        "l = [1, 2, 3, 4, 5]\n",
        "print(l[:])     # 출력: [1, 2, 3, 4, 5]\n",
        "print(l[::-1])  # 출력: [5, 4, 3, 2, 1]\n",
        "print(l[::2])   # 출력: [1, 3, 5]"
      ],
      "metadata": {
        "colab": {
          "base_uri": "https://localhost:8080/"
        },
        "id": "Z9T7tz3_HUYn",
        "outputId": "2fe9929c-d6e7-4afc-8b05-3de6c8fd32e9"
      },
      "execution_count": null,
      "outputs": [
        {
          "output_type": "stream",
          "name": "stdout",
          "text": [
            "[1, 2, 3, 4, 5]\n",
            "[5, 4, 3, 2, 1]\n",
            "[1, 3, 5]\n"
          ]
        }
      ]
    },
    {
      "cell_type": "code",
      "source": [
        "l = [1, 2, 3, 4, 5]\n",
        "print(type(l))\n",
        "print(dir(l))"
      ],
      "metadata": {
        "colab": {
          "base_uri": "https://localhost:8080/"
        },
        "id": "sLSc9VqXHYWF",
        "outputId": "3fb6e824-08c1-48a0-8728-59cef9ecf762"
      },
      "execution_count": null,
      "outputs": [
        {
          "output_type": "stream",
          "name": "stdout",
          "text": [
            "<class 'list'>\n",
            "['__add__', '__class__', '__class_getitem__', '__contains__', '__delattr__', '__delitem__', '__dir__', '__doc__', '__eq__', '__format__', '__ge__', '__getattribute__', '__getitem__', '__gt__', '__hash__', '__iadd__', '__imul__', '__init__', '__init_subclass__', '__iter__', '__le__', '__len__', '__lt__', '__mul__', '__ne__', '__new__', '__reduce__', '__reduce_ex__', '__repr__', '__reversed__', '__rmul__', '__setattr__', '__setitem__', '__sizeof__', '__str__', '__subclasshook__', 'append', 'clear', 'copy', 'count', 'extend', 'index', 'insert', 'pop', 'remove', 'reverse', 'sort']\n"
          ]
        }
      ]
    },
    {
      "cell_type": "code",
      "source": [
        "# [1, 2, 3] + [1, 2, 3] = [1, 2, 3, 1, 2, 3]\n",
        "# [2, 4, 6] 요소마다 더해지는 것은 아닙니다. 그런데 이러한 코드는 __add__에 구현이 되어 있는 것입니다.\n",
        "# __add__에 요소마다 더하는 것으로 구현이 되어 있었다면 [2, 4, 6]을 출력했을 것입니다."
      ],
      "metadata": {
        "id": "q8XK-Ew_HnHl"
      },
      "execution_count": null,
      "outputs": []
    },
    {
      "cell_type": "code",
      "source": [
        "import numpy as np\n",
        "\n",
        "l = [1, 2, 3]\n",
        "l = np.array(l)\n",
        "l * 3\n",
        "l + l\n",
        "# 너무 당연하게 요소를 붙이는 것이다라고 생각하지는 않으셨으면 좋겠습니다."
      ],
      "metadata": {
        "id": "sOoHpt_tIZgd",
        "colab": {
          "base_uri": "https://localhost:8080/"
        },
        "outputId": "338749a5-8f75-405a-d8e5-b8f88be4fada"
      },
      "execution_count": null,
      "outputs": [
        {
          "output_type": "execute_result",
          "data": {
            "text/plain": [
              "array([2, 4, 6])"
            ]
          },
          "metadata": {},
          "execution_count": 1
        }
      ]
    },
    {
      "cell_type": "code",
      "source": [
        "# 문제1: 이 데이터에서 licat을 출력해주세요. 단, 직접 접근은 안됩니다. data[1]로 접근하는 것은 안됩니다.\n",
        "data = [['weniv CTO binky', 2], ['weniv CEO licat', 1], ['weniv COO mura', 2]]"
      ],
      "metadata": {
        "id": "GsGYTDbvIejg"
      },
      "execution_count": null,
      "outputs": []
    },
    {
      "cell_type": "code",
      "source": [
        "# 문제2: 리스트 numbers가 주어졌을 때,\n",
        "# 이 리스트 내의 모든 짝수를 제거하는 코드를 작성하시오.\n",
        "numbers = [2, 3, 4, 5, 6, 7, 8, 9, 10]\n",
        "numbers = list(filter(lambda x:x%2==1,numbers))\n",
        "print(numbers)  # 결과: [3, 5, 7, 9]"
      ],
      "metadata": {
        "colab": {
          "base_uri": "https://localhost:8080/"
        },
        "id": "kdIxfOuG1_hD",
        "outputId": "2f93481a-f73a-4cc8-b8f8-2945a09864cb"
      },
      "execution_count": null,
      "outputs": [
        {
          "output_type": "stream",
          "name": "stdout",
          "text": [
            "[3, 5, 7, 9]\n"
          ]
        }
      ]
    },
    {
      "cell_type": "markdown",
      "source": [
        "# 리스트(이어서)"
      ],
      "metadata": {
        "id": "Zcx3itWR4Vic"
      }
    },
    {
      "cell_type": "code",
      "source": [
        "z = [\n",
        "\t10,\n",
        "    20,\n",
        "    30,\n",
        "    40,\n",
        "]\n",
        "print(z[0])"
      ],
      "metadata": {
        "colab": {
          "base_uri": "https://localhost:8080/"
        },
        "id": "1yONWodl4YkR",
        "outputId": "defe3f29-1928-4a0a-a135-6f0753e5c92f"
      },
      "execution_count": null,
      "outputs": [
        {
          "output_type": "stream",
          "name": "stdout",
          "text": [
            "10\n"
          ]
        }
      ]
    },
    {
      "cell_type": "code",
      "source": [
        "a = [1, 2, 3, 4, 5]\n",
        "b = [6, 7, 8]\n",
        "\n",
        "print(a + b) # 출력: [1, 2, 3, 4, 5, 6, 7, 8]"
      ],
      "metadata": {
        "colab": {
          "base_uri": "https://localhost:8080/"
        },
        "id": "bUcg0YDm5k8E",
        "outputId": "18061094-bcc5-48af-c833-3dc12d1580da"
      },
      "execution_count": null,
      "outputs": [
        {
          "output_type": "stream",
          "name": "stdout",
          "text": [
            "[1, 2, 3, 4, 5, 6, 7, 8]\n"
          ]
        }
      ]
    },
    {
      "cell_type": "code",
      "source": [
        "import numpy as np\n",
        "\n",
        "l = [1, 2, 3]\n",
        "l = np.array(l)\n",
        "l * 3\n",
        "l + l\n",
        "# 너무 당연하게 요소를 붙이는 것이다라고 생각하지 않으셨으면 좋겠습니다."
      ],
      "metadata": {
        "colab": {
          "base_uri": "https://localhost:8080/"
        },
        "id": "MIw3W3Uj5r5R",
        "outputId": "02ad004e-4a3d-4591-bf6d-615d4f3c1e0d"
      },
      "execution_count": null,
      "outputs": [
        {
          "output_type": "execute_result",
          "data": {
            "text/plain": [
              "array([2, 4, 6])"
            ]
          },
          "metadata": {},
          "execution_count": 16
        }
      ]
    },
    {
      "cell_type": "code",
      "source": [
        "l = [1, 2, 3, 4, 5]\n",
        "print(l[0]) # 출력: 1\n",
        "print(l[3]) # 출력: 4\n",
        "print(l[-1]) # 출력: 5\n",
        "print(l[-3]) # 출력: 3"
      ],
      "metadata": {
        "colab": {
          "base_uri": "https://localhost:8080/"
        },
        "id": "gU7IfK-p5tYA",
        "outputId": "d377c0e1-35bd-4b0c-bf6c-eee89d73b19f"
      },
      "execution_count": null,
      "outputs": [
        {
          "output_type": "stream",
          "name": "stdout",
          "text": [
            "1\n",
            "4\n",
            "5\n",
            "3\n"
          ]
        }
      ]
    },
    {
      "cell_type": "code",
      "source": [
        "print(l[-3:])"
      ],
      "metadata": {
        "colab": {
          "base_uri": "https://localhost:8080/"
        },
        "id": "GY_ONsVf6YVZ",
        "outputId": "5146264b-b646-4b19-f328-4cd21ae4bd53"
      },
      "execution_count": null,
      "outputs": [
        {
          "output_type": "stream",
          "name": "stdout",
          "text": [
            "[3, 4, 5]\n"
          ]
        }
      ]
    },
    {
      "cell_type": "code",
      "source": [
        "sum([1, 2, 3, 4])"
      ],
      "metadata": {
        "colab": {
          "base_uri": "https://localhost:8080/"
        },
        "id": "5j3NXnv06dzS",
        "outputId": "0e117dc7-f1fb-479b-b8df-944364a7543d"
      },
      "execution_count": null,
      "outputs": [
        {
          "output_type": "execute_result",
          "data": {
            "text/plain": [
              "10"
            ]
          },
          "metadata": {},
          "execution_count": 19
        }
      ]
    },
    {
      "cell_type": "code",
      "source": [
        "# sum(list(range(101)))과 슬라이싱을 사용해 아래 문제를 풀어주세요.\n",
        "\n",
        "# 문제 1: 짝수를 모두 더해주세요.\n",
        "sum(list(range(101)[::2]))\n",
        "# 문제 2: 3의 배수와 5의 배수를 모두 더해주세요.\n",
        "sum(list(range(101)[::3])) + sum(list(range(101)[::5])) - sum(list(range(101)[::15]))\n",
        "# (슬라이싱 2개 사용) 난이도가 있는 보너스 문제: 1부터 90까지의 짝수를 모두 더해주세요.\n",
        "sum(list(range(101))[0:91][::2])"
      ],
      "metadata": {
        "colab": {
          "base_uri": "https://localhost:8080/"
        },
        "id": "t6gN9nIl6gCM",
        "outputId": "d5e35e07-5690-4da9-b4bf-9cca4d4f5b4f"
      },
      "execution_count": null,
      "outputs": [
        {
          "output_type": "execute_result",
          "data": {
            "text/plain": [
              "2070"
            ]
          },
          "metadata": {},
          "execution_count": 37
        }
      ]
    },
    {
      "cell_type": "code",
      "source": [
        "# 실무에서도 이렇게 2개를 자주 사용합니다!\n",
        "(list(range(101))[0:91][::-1])"
      ],
      "metadata": {
        "colab": {
          "base_uri": "https://localhost:8080/"
        },
        "id": "af6tkM3k9HqL",
        "outputId": "09f4d944-75d2-4eb5-fc6f-6ebbcb0be05f"
      },
      "execution_count": null,
      "outputs": [
        {
          "output_type": "execute_result",
          "data": {
            "text/plain": [
              "[90,\n",
              " 89,\n",
              " 88,\n",
              " 87,\n",
              " 86,\n",
              " 85,\n",
              " 84,\n",
              " 83,\n",
              " 82,\n",
              " 81,\n",
              " 80,\n",
              " 79,\n",
              " 78,\n",
              " 77,\n",
              " 76,\n",
              " 75,\n",
              " 74,\n",
              " 73,\n",
              " 72,\n",
              " 71,\n",
              " 70,\n",
              " 69,\n",
              " 68,\n",
              " 67,\n",
              " 66,\n",
              " 65,\n",
              " 64,\n",
              " 63,\n",
              " 62,\n",
              " 61,\n",
              " 60,\n",
              " 59,\n",
              " 58,\n",
              " 57,\n",
              " 56,\n",
              " 55,\n",
              " 54,\n",
              " 53,\n",
              " 52,\n",
              " 51,\n",
              " 50,\n",
              " 49,\n",
              " 48,\n",
              " 47,\n",
              " 46,\n",
              " 45,\n",
              " 44,\n",
              " 43,\n",
              " 42,\n",
              " 41,\n",
              " 40,\n",
              " 39,\n",
              " 38,\n",
              " 37,\n",
              " 36,\n",
              " 35,\n",
              " 34,\n",
              " 33,\n",
              " 32,\n",
              " 31,\n",
              " 30,\n",
              " 29,\n",
              " 28,\n",
              " 27,\n",
              " 26,\n",
              " 25,\n",
              " 24,\n",
              " 23,\n",
              " 22,\n",
              " 21,\n",
              " 20,\n",
              " 19,\n",
              " 18,\n",
              " 17,\n",
              " 16,\n",
              " 15,\n",
              " 14,\n",
              " 13,\n",
              " 12,\n",
              " 11,\n",
              " 10,\n",
              " 9,\n",
              " 8,\n",
              " 7,\n",
              " 6,\n",
              " 5,\n",
              " 4,\n",
              " 3,\n",
              " 2,\n",
              " 1,\n",
              " 0]"
            ]
          },
          "metadata": {},
          "execution_count": 39
        }
      ]
    },
    {
      "cell_type": "code",
      "source": [
        "ㅣ = [1, 2, 3]\n",
        "dir(l)"
      ],
      "metadata": {
        "id": "jDsrbqEt9VD2"
      },
      "execution_count": null,
      "outputs": []
    },
    {
      "cell_type": "code",
      "source": [
        "#  'append',\n",
        "#  'clear',\n",
        "#  'copy',\n",
        "#  'count',\n",
        "#  'extend',\n",
        "#  'index',\n",
        "#  'insert',\n",
        "#  'pop',\n",
        "#  'remove',\n",
        "#  'reverse',\n",
        "#  'sort'\n",
        "\n",
        "# append\n",
        "l = [1, 2, 3]\n",
        "l.append(100)\n",
        "\n"
      ],
      "metadata": {
        "colab": {
          "base_uri": "https://localhost:8080/"
        },
        "id": "9Nwu5QNU-fcF",
        "outputId": "27cd7926-7585-43ec-9429-ca035138c3ce"
      },
      "execution_count": null,
      "outputs": [
        {
          "output_type": "execute_result",
          "data": {
            "text/plain": [
              "[1, 2, 3, 100]"
            ]
          },
          "metadata": {},
          "execution_count": 44
        }
      ]
    },
    {
      "cell_type": "code",
      "source": [
        "#  'clear',\n",
        "#  'copy',\n",
        "#  'count',\n",
        "#  'extend',\n",
        "#  'index',\n",
        "#  'insert',\n",
        "#  'pop',\n",
        "#  'remove',\n",
        "#  'reverse',\n",
        "#  'sort'\n",
        "\n",
        "# clear\n",
        "l = [1, 2, 3]\n",
        "l.clear()\n",
        "l"
      ],
      "metadata": {
        "colab": {
          "base_uri": "https://localhost:8080/"
        },
        "id": "JT_AUrvs-5vm",
        "outputId": "a4d00cac-62b7-4224-a70b-c6cbf1110edd"
      },
      "execution_count": null,
      "outputs": [
        {
          "output_type": "execute_result",
          "data": {
            "text/plain": [
              "[]"
            ]
          },
          "metadata": {},
          "execution_count": 47
        }
      ]
    },
    {
      "cell_type": "code",
      "source": [
        "#  'copy',\n",
        "#  'count',\n",
        "#  'extend',\n",
        "#  'index',\n",
        "#  'insert',\n",
        "#  'pop',\n",
        "#  'remove',\n",
        "#  'reverse',\n",
        "#  'sort'\n",
        "\n",
        "# copy\n",
        "l = [10, 20, 30]\n",
        "ll = l\n",
        "l[0] = 1000\n",
        "l"
      ],
      "metadata": {
        "colab": {
          "base_uri": "https://localhost:8080/"
        },
        "id": "CyEoINQT-_rS",
        "outputId": "d5cc12c1-b766-4138-876b-02488a47ea42"
      },
      "execution_count": null,
      "outputs": [
        {
          "output_type": "execute_result",
          "data": {
            "text/plain": [
              "[1000, 20, 30]"
            ]
          },
          "metadata": {},
          "execution_count": 55
        }
      ]
    },
    {
      "cell_type": "code",
      "source": [
        "l = [10, 20, 30]\n",
        "ll = l\n",
        "print(id(ll), id(l))\n",
        "l[0] = 1000\n",
        "print(l, ll)"
      ],
      "metadata": {
        "colab": {
          "base_uri": "https://localhost:8080/"
        },
        "id": "HFimfKwVAaE7",
        "outputId": "2a3a29a3-20e3-4980-bd1f-e03f547c4297"
      },
      "execution_count": null,
      "outputs": [
        {
          "output_type": "stream",
          "name": "stdout",
          "text": [
            "133036557469824 133036557469824\n",
            "[1000, 20, 30] [1000, 20, 30]\n"
          ]
        }
      ]
    },
    {
      "cell_type": "code",
      "source": [
        "l = [10, 20, 30]\n",
        "ll = l.copy()\n",
        "print(id(ll), id(l))\n",
        "l[0] = 1000\n",
        "print(l, ll)"
      ],
      "metadata": {
        "colab": {
          "base_uri": "https://localhost:8080/"
        },
        "id": "Bows49c7Aa9U",
        "outputId": "08afd5b5-70dc-4d4f-9695-e05a41907fbd"
      },
      "execution_count": null,
      "outputs": [
        {
          "output_type": "stream",
          "name": "stdout",
          "text": [
            "133035992186560 133035989695488\n",
            "[1000, 20, 30] [10, 20, 30]\n"
          ]
        }
      ]
    },
    {
      "cell_type": "code",
      "source": [],
      "metadata": {
        "id": "gjOhYWliAdGV"
      },
      "execution_count": null,
      "outputs": []
    },
    {
      "cell_type": "code",
      "source": [
        "a = [10, 20]\n",
        "b = [100, 200]\n",
        "\n",
        "l = [a, b]\n",
        "ll = l.copy()\n",
        "print(id(l), id(ll))\n",
        "l[0][0] = 1000\n",
        "print(l, ll)"
      ],
      "metadata": {
        "colab": {
          "base_uri": "https://localhost:8080/"
        },
        "id": "9arf3NWs_6Ot",
        "outputId": "1c11de75-8493-4afc-fdbf-cda34d340819"
      },
      "execution_count": null,
      "outputs": [
        {
          "output_type": "stream",
          "name": "stdout",
          "text": [
            "133037229533248 133035991404672\n",
            "[[1000, 20], [100, 200]] [[1000, 20], [100, 200]]\n"
          ]
        }
      ]
    },
    {
      "cell_type": "code",
      "source": [
        "import copy\n",
        "# 많이 사용되니 내장되어 있는 것이지만\n",
        "# 많이 사용되지는 않습니다.\n",
        "\n",
        "a = [10, 20]\n",
        "b = [100, 200]\n",
        "\n",
        "l = [a, b]\n",
        "ll = copy.deepcopy(l)\n",
        "\n",
        "print(id(l), id(ll))\n",
        "l[0][0] = 100000\n",
        "print(l, ll)"
      ],
      "metadata": {
        "colab": {
          "base_uri": "https://localhost:8080/"
        },
        "id": "yYjpUPeVEGEN",
        "outputId": "c5157b1f-150f-4857-8984-b3d0eba48bbd"
      },
      "execution_count": null,
      "outputs": [
        {
          "output_type": "stream",
          "name": "stdout",
          "text": [
            "133035990924096 133036557505344\n",
            "[[100000, 20], [100, 200]] [[10, 20], [100, 200]]\n"
          ]
        }
      ]
    },
    {
      "cell_type": "code",
      "source": [
        "a = 10\n",
        "b = a\n",
        "c = b\n",
        "b = 20\n",
        "\n"
      ],
      "metadata": {
        "id": "t8HPsFHEEHkV"
      },
      "execution_count": null,
      "outputs": []
    },
    {
      "cell_type": "code",
      "source": [
        "import copy\n",
        "\n",
        "k = [10000]\n",
        "\n",
        "a = [10, k]\n",
        "b = [100, k]\n",
        "\n",
        "l = [a, b]\n",
        "ll = copy.deepcopy(l)\n",
        "k[0] = 1000000\n",
        "print(l)\n",
        "print(ll)"
      ],
      "metadata": {
        "colab": {
          "base_uri": "https://localhost:8080/"
        },
        "id": "MX1-zYC3Fqyg",
        "outputId": "35b3a64a-7044-4d1f-d347-966edda8baad"
      },
      "execution_count": null,
      "outputs": [
        {
          "output_type": "stream",
          "name": "stdout",
          "text": [
            "[[10, [1000000]], [100, [1000000]]]\n",
            "[[10, [10000]], [100, [10000]]]\n"
          ]
        }
      ]
    },
    {
      "cell_type": "code",
      "source": [
        "#  'count',\n",
        "#  'extend',\n",
        "#  'index',\n",
        "#  'insert',\n",
        "#  'pop',\n",
        "#  'remove',\n",
        "#  'reverse',\n",
        "#  'sort\n",
        "\n",
        "# count\n",
        "\n",
        "[1, 1, 1, 3, 3, 5, 6].count(1)"
      ],
      "metadata": {
        "colab": {
          "base_uri": "https://localhost:8080/"
        },
        "id": "sRsylCb5HNFh",
        "outputId": "5d6a6992-c75b-4a67-a13a-883792d45d1c"
      },
      "execution_count": null,
      "outputs": [
        {
          "output_type": "execute_result",
          "data": {
            "text/plain": [
              "3"
            ]
          },
          "metadata": {},
          "execution_count": 72
        }
      ]
    },
    {
      "cell_type": "code",
      "source": [
        "list('1113356').count('1')"
      ],
      "metadata": {
        "colab": {
          "base_uri": "https://localhost:8080/"
        },
        "id": "OIYHGbQiHR8u",
        "outputId": "192c91d3-4481-4441-db03-f40396ddd975"
      },
      "execution_count": null,
      "outputs": [
        {
          "output_type": "execute_result",
          "data": {
            "text/plain": [
              "3"
            ]
          },
          "metadata": {},
          "execution_count": 75
        }
      ]
    },
    {
      "cell_type": "code",
      "source": [
        "#  'extend',\n",
        "#  'index',\n",
        "#  'insert',\n",
        "#  'pop',\n",
        "#  'remove',\n",
        "#  'reverse',\n",
        "#  'sort\n",
        "\n",
        "# extend\n",
        "\n",
        "l = [10, 20 ,30]\n",
        "l.append([10, 20])\n",
        "l"
      ],
      "metadata": {
        "colab": {
          "base_uri": "https://localhost:8080/"
        },
        "id": "4pge4VBKHXju",
        "outputId": "7cb9cee6-ebde-4794-8da3-117c6dee93fa"
      },
      "execution_count": null,
      "outputs": [
        {
          "output_type": "execute_result",
          "data": {
            "text/plain": [
              "[10, 20, 30, [10, 20]]"
            ]
          },
          "metadata": {},
          "execution_count": 78
        }
      ]
    },
    {
      "cell_type": "code",
      "source": [
        "l = [10, 20 ,30]\n",
        "l.extend([10, 20])\n",
        "l"
      ],
      "metadata": {
        "colab": {
          "base_uri": "https://localhost:8080/"
        },
        "id": "EN7vGZMCHnA3",
        "outputId": "45269884-6189-4383-bac3-e1c848a3177d"
      },
      "execution_count": null,
      "outputs": [
        {
          "output_type": "execute_result",
          "data": {
            "text/plain": [
              "[10, 20, 30, 10, 20]"
            ]
          },
          "metadata": {},
          "execution_count": 80
        }
      ]
    },
    {
      "cell_type": "code",
      "source": [
        "l = [10, 20 ,30]\n",
        "l.extend(['hello'])\n",
        "l"
      ],
      "metadata": {
        "colab": {
          "base_uri": "https://localhost:8080/"
        },
        "id": "g-U3z_oIHsja",
        "outputId": "ea025d64-2d4c-4c51-aa0f-286701860348"
      },
      "execution_count": null,
      "outputs": [
        {
          "output_type": "execute_result",
          "data": {
            "text/plain": [
              "[10, 20, 30, 'hello']"
            ]
          },
          "metadata": {},
          "execution_count": 81
        }
      ]
    },
    {
      "cell_type": "code",
      "source": [
        "# 한 자리씩 잘라서 넣는다라고 생각해볼게요. 예를 들어 자릿수 모두 더하는 문제\n",
        "userinput = input('숫자를 입력하세요:')\n",
        "l = [10, 20 ,30]\n",
        "l.extend(map(int, userinput))\n",
        "l"
      ],
      "metadata": {
        "colab": {
          "base_uri": "https://localhost:8080/"
        },
        "id": "_HqsJClQH90Q",
        "outputId": "24038ba2-5056-4976-8d7b-e4b3a3eb6459"
      },
      "execution_count": null,
      "outputs": [
        {
          "name": "stdout",
          "output_type": "stream",
          "text": [
            "숫자를 입력하세요:123\n"
          ]
        },
        {
          "output_type": "execute_result",
          "data": {
            "text/plain": [
              "[10, 20, 30, 1, 2, 3]"
            ]
          },
          "metadata": {},
          "execution_count": 85
        }
      ]
    },
    {
      "cell_type": "code",
      "source": [
        "# 한 자리씩 잘라서 넣는다라고 생각해볼게요.\n",
        "l = [10, 20 ,30]\n",
        "l.extend(map(int, input('숫자를 입력하세요:')))\n",
        "l"
      ],
      "metadata": {
        "colab": {
          "base_uri": "https://localhost:8080/"
        },
        "id": "rElDPl4xIiYe",
        "outputId": "91ad7c55-02a4-437a-b1b2-018f63c6bdb1"
      },
      "execution_count": null,
      "outputs": [
        {
          "name": "stdout",
          "output_type": "stream",
          "text": [
            "숫자를 입력하세요:452\n"
          ]
        },
        {
          "output_type": "execute_result",
          "data": {
            "text/plain": [
              "[10, 20, 30, 4, 5, 2]"
            ]
          },
          "metadata": {},
          "execution_count": 86
        }
      ]
    },
    {
      "cell_type": "code",
      "source": [
        "#  'index',\n",
        "#  'insert',\n",
        "#  'pop',\n",
        "#  'remove',\n",
        "#  'reverse',\n",
        "#  'sort\n",
        "\n",
        "# index\n",
        "\n",
        "l = [10, 20 ,30, 40 ,50]\n",
        "l.index(30)\n",
        "\n",
        "# l.index(60)"
      ],
      "metadata": {
        "colab": {
          "base_uri": "https://localhost:8080/"
        },
        "id": "eloPV3HzItiv",
        "outputId": "bc4c62bc-72b9-45cd-d046-5500daad18fd"
      },
      "execution_count": null,
      "outputs": [
        {
          "output_type": "execute_result",
          "data": {
            "text/plain": [
              "2"
            ]
          },
          "metadata": {},
          "execution_count": 87
        }
      ]
    },
    {
      "cell_type": "code",
      "source": [
        "l = [10, 20 ,30, 40 ,50]\n",
        "# l.find(60) find 메서드가 없습니다!"
      ],
      "metadata": {
        "id": "tuXRSDVdI_br"
      },
      "execution_count": null,
      "outputs": []
    },
    {
      "cell_type": "code",
      "source": [
        "#  'insert',\n",
        "#  'pop',\n",
        "#  'remove',\n",
        "#  'reverse',\n",
        "#  'sort\n",
        "\n",
        "# insert\n",
        "\n",
        "l = [10, 20 ,30]\n",
        "l.insert(2, 25)\n",
        "print(l)"
      ],
      "metadata": {
        "colab": {
          "base_uri": "https://localhost:8080/"
        },
        "id": "feTurBoyJWFE",
        "outputId": "6cd2a48d-4c0d-4a0c-bea8-49b82ae21de8"
      },
      "execution_count": null,
      "outputs": [
        {
          "output_type": "stream",
          "name": "stdout",
          "text": [
            "[10, 20, 25, 30]\n"
          ]
        }
      ]
    },
    {
      "cell_type": "markdown",
      "source": [
        "# 연습문제"
      ],
      "metadata": {
        "id": "IIBSXEG5Ju2O"
      }
    },
    {
      "cell_type": "code",
      "source": [
        "# [10, 20, 40, 50, 30]와 같은 리스트에서 20과 30 중간에 25라는 값을 삽입하고 싶습니다.\n",
        "# 현재 리스트는 정렬되어 있지 않은데 이 리스트를 정렬하고 20과 30에 값을 index 메서드로 찾아\n",
        "# insert로 중간에 값을 삽입해주세요.\n",
        "# 정답: [10, 20, 25, 30, 40, 50]\n",
        "# * 다른 정답을 허용합니다.\n",
        "\n",
        "s = sorted([10, 20, 40, 50, 30])\n",
        "s.insert(s.index(30), 25)\n",
        "s\n",
        "\n",
        "s = [10, 20, 40, 50, 30]\n",
        "s.append(25)\n",
        "sorted(s)\n",
        "\n",
        "# sorted([10, 20, 40, 50, 30].append(25)) # error\n",
        "# print(s.append(100))의 값이 None이기 때문에 그렇습니다."
      ],
      "metadata": {
        "colab": {
          "base_uri": "https://localhost:8080/"
        },
        "id": "H5CHXLhbJv8F",
        "outputId": "c4f2bcb8-495e-47d3-f081-bd4d67fe2b51"
      },
      "execution_count": null,
      "outputs": [
        {
          "output_type": "execute_result",
          "data": {
            "text/plain": [
              "[10, 20, 25, 30, 40, 50]"
            ]
          },
          "metadata": {},
          "execution_count": 111
        }
      ]
    },
    {
      "cell_type": "code",
      "source": [
        "#  'pop',\n",
        "#  'remove',\n",
        "#  'reverse',\n",
        "#  'sort\n",
        "\n",
        "# pop\n",
        "\n",
        "# 마지막에서 빼는 것\n",
        "l = [10, 20, 30]\n",
        "print(l.pop())\n",
        "print(l)\n"
      ],
      "metadata": {
        "colab": {
          "base_uri": "https://localhost:8080/"
        },
        "id": "rv1MCr4wMfmv",
        "outputId": "0c452d17-5b9e-4bb6-c638-2dba822a8ed6"
      },
      "execution_count": null,
      "outputs": [
        {
          "output_type": "stream",
          "name": "stdout",
          "text": [
            "30\n",
            "[10, 20]\n"
          ]
        }
      ]
    },
    {
      "cell_type": "code",
      "source": [
        "# 첫번쨰에서 빼는 것\n",
        "l = [10, 20, 30]\n",
        "print(l.pop(0))\n",
        "print(l)"
      ],
      "metadata": {
        "colab": {
          "base_uri": "https://localhost:8080/"
        },
        "id": "6G28BZZGM45g",
        "outputId": "500ecf59-0dd1-47c0-b399-f8fb2751f7aa"
      },
      "execution_count": null,
      "outputs": [
        {
          "output_type": "stream",
          "name": "stdout",
          "text": [
            "10\n",
            "[20, 30]\n"
          ]
        }
      ]
    },
    {
      "cell_type": "code",
      "source": [
        "# 첫번쨰에서 빼는 것\n",
        "l = [10, 20, 30]\n",
        "result = l.pop(0)\n",
        "print(l, result)"
      ],
      "metadata": {
        "colab": {
          "base_uri": "https://localhost:8080/"
        },
        "id": "Viu7Fc6LNFTq",
        "outputId": "394a5cb6-14eb-49f7-b651-96f09616465f"
      },
      "execution_count": null,
      "outputs": [
        {
          "output_type": "stream",
          "name": "stdout",
          "text": [
            "[20, 30] 10\n"
          ]
        }
      ]
    },
    {
      "cell_type": "code",
      "source": [
        "l = [1, 2, 3, 4, 5]\n",
        "while l:\n",
        "    print(l.pop())"
      ],
      "metadata": {
        "colab": {
          "base_uri": "https://localhost:8080/"
        },
        "id": "V1Vi44WHNL4l",
        "outputId": "050e96d7-c33d-4bb8-9987-41d9a4bb8067"
      },
      "execution_count": null,
      "outputs": [
        {
          "output_type": "stream",
          "name": "stdout",
          "text": [
            "5\n",
            "4\n",
            "3\n",
            "2\n",
            "1\n"
          ]
        }
      ]
    },
    {
      "cell_type": "code",
      "source": [
        "l = [1, 2, 3, 4, 5]\n",
        "while l:\n",
        "    print(l.pop(0))"
      ],
      "metadata": {
        "colab": {
          "base_uri": "https://localhost:8080/"
        },
        "id": "iR8htgnKNXgP",
        "outputId": "daba0dc3-ebed-4b62-f7c4-5e3b43a4deb4"
      },
      "execution_count": null,
      "outputs": [
        {
          "output_type": "stream",
          "name": "stdout",
          "text": [
            "1\n",
            "2\n",
            "3\n",
            "4\n",
            "5\n"
          ]
        }
      ]
    },
    {
      "cell_type": "code",
      "source": [
        "#  'remove',\n",
        "#  'reverse',\n",
        "#  'sort\n",
        "\n",
        "# remove\n",
        "\n",
        "a = [1, 2, 3, 1, 2, 2, 2, 1, 2]\n",
        "a.remove(2)\n",
        "print(a)  # 출력: [1, 3, 1, 2, 2, 2, 1, 2]"
      ],
      "metadata": {
        "colab": {
          "base_uri": "https://localhost:8080/"
        },
        "id": "M3R_qsGmNBrJ",
        "outputId": "e228a2f0-79be-45c9-f946-fe418740d21d"
      },
      "execution_count": null,
      "outputs": [
        {
          "output_type": "stream",
          "name": "stdout",
          "text": [
            "[1, 3, 1, 2, 2, 2, 1, 2]\n"
          ]
        }
      ]
    },
    {
      "cell_type": "code",
      "source": [
        "l = [1, 2, 3, 1, 2, 2, 2, 1, 2]\n",
        "while l.count(2):\n",
        "    l.remove(2)\n",
        "\n",
        "l"
      ],
      "metadata": {
        "colab": {
          "base_uri": "https://localhost:8080/"
        },
        "id": "Rx7lY0tiORog",
        "outputId": "591c1ab1-cdfe-4f14-8431-9ee232287d2c"
      },
      "execution_count": null,
      "outputs": [
        {
          "output_type": "execute_result",
          "data": {
            "text/plain": [
              "[1, 3, 1, 1]"
            ]
          },
          "metadata": {},
          "execution_count": 133
        }
      ]
    },
    {
      "cell_type": "code",
      "source": [
        "l = [1, 2, 3, 1, 2, 2, 2, 1, 2]\n",
        "list(filter(lambda x: x != 2, l))"
      ],
      "metadata": {
        "colab": {
          "base_uri": "https://localhost:8080/"
        },
        "id": "JvU0UBLTN_bb",
        "outputId": "602b841c-1faa-4487-c6a9-82728c83f35b"
      },
      "execution_count": null,
      "outputs": [
        {
          "output_type": "execute_result",
          "data": {
            "text/plain": [
              "[1, 3, 1, 1]"
            ]
          },
          "metadata": {},
          "execution_count": 132
        }
      ]
    },
    {
      "cell_type": "code",
      "source": [
        "#  'reverse',\n",
        "#  'sort\n",
        "\n",
        "# reverse\n",
        "\n",
        "# reverse와 reversed 차이, sort와 sorted의 차이\n",
        "# 원본 수정이이냐? 원본수정이 아니냐.\n",
        "l = [1, 2, 10, 3, 4]\n",
        "print(list(reversed(l)))    # 출력 : [4, 3, 10, 2, 1]\n",
        "print(l)                    # 출력 : [1, 2, 10, 3, 4] # 원본은 그대로입니다."
      ],
      "metadata": {
        "colab": {
          "base_uri": "https://localhost:8080/"
        },
        "id": "nFSgph0hOY8b",
        "outputId": "b0e50352-4be3-42d0-8043-2a62d4169707"
      },
      "execution_count": null,
      "outputs": [
        {
          "output_type": "stream",
          "name": "stdout",
          "text": [
            "[4, 3, 10, 2, 1]\n",
            "[1, 2, 10, 3, 4]\n"
          ]
        }
      ]
    },
    {
      "cell_type": "code",
      "source": [
        "# reverse와 reversed 차이, sort와 sorted의 차이\n",
        "# 원본 수정이이냐? 원본수정이 아니냐.\n",
        "l = [1, 2, 10, 3, 4]\n",
        "print(l.reverse())  # 출력 : None\n",
        "print(l)            # 출력 : [4, 3, 10, 2, 1]"
      ],
      "metadata": {
        "colab": {
          "base_uri": "https://localhost:8080/"
        },
        "id": "ypKA03FyRt0P",
        "outputId": "09c421b0-4970-4be0-9f0d-7d82afdaea0e"
      },
      "execution_count": null,
      "outputs": [
        {
          "output_type": "stream",
          "name": "stdout",
          "text": [
            "None\n",
            "[4, 3, 10, 2, 1]\n"
          ]
        }
      ]
    },
    {
      "cell_type": "code",
      "source": [
        "#  sort\n",
        "\n",
        "# sort\n",
        "\n",
        "l = [1, 2, 10, 3, 4]\n",
        "print(list(sorted(l)))  # 출력 : [1, 2, 3, 4, 10]\n",
        "print(l)                # 출력 : [1, 2, 10, 3, 4] # 원본은 그대로입니다."
      ],
      "metadata": {
        "colab": {
          "base_uri": "https://localhost:8080/"
        },
        "id": "Zfv7ekJPSE9-",
        "outputId": "17427fe8-4b8f-44aa-e9d3-d9b72d9238cb"
      },
      "execution_count": null,
      "outputs": [
        {
          "output_type": "stream",
          "name": "stdout",
          "text": [
            "[1, 2, 3, 4, 10]\n",
            "[1, 2, 10, 3, 4]\n"
          ]
        }
      ]
    },
    {
      "cell_type": "code",
      "source": [
        "#  sort\n",
        "\n",
        "# sort\n",
        "\n",
        "l = [1, 2, 10, 3, 4]\n",
        "print(l.sort())     # 출력 : None\n",
        "print(l)            # 출력 : [1, 2, 3, 4, 10]"
      ],
      "metadata": {
        "colab": {
          "base_uri": "https://localhost:8080/"
        },
        "id": "qGIzCSq6STml",
        "outputId": "ec2b0ddf-b1ce-4edb-c361-7f27cae06504"
      },
      "execution_count": null,
      "outputs": [
        {
          "output_type": "stream",
          "name": "stdout",
          "text": [
            "None\n",
            "[1, 2, 3, 4, 10]\n"
          ]
        }
      ]
    },
    {
      "cell_type": "code",
      "source": [
        "# 게시판 = [게시물1, 게시물2, 게시물3, 게시물4]\n",
        "# 게시물1 : 오래된 게시물이 저장이 되어 있을겁니다.(append로 게시물 추가했다고 생각해볼게요.)\n",
        "# 그러면 그냥 게시판을 출력했을 때 최상단에 노출되는 게시물은 가장 오래된 게시물일겁니다.\n",
        "# 컴퓨터 입장에서는요.\n",
        "# 그래서 게시판.reverse()해서 출력합니다. 최신 게시물이 상단에 오게요.\n",
        "# 그러면 게시물5는 어디에 추가될까요? 원본을 수정했기 때문에 게시물1 다음에 게시물5가 추가됩니다.\n",
        "# 게시판[::-1], reversed(게시판)를 사용해서 역순으로 만들었어야 했습니다.\n",
        "# 보이는화면 = 게시판[::-1]\n",
        "# 보이는화면 = reversed(게시판)"
      ],
      "metadata": {
        "id": "ro8O03tpSkNc"
      },
      "execution_count": null,
      "outputs": []
    },
    {
      "cell_type": "markdown",
      "source": [
        "# 튜플"
      ],
      "metadata": {
        "id": "aeQCGcvxT3fx"
      }
    },
    {
      "cell_type": "code",
      "source": [
        "# 튜플은 안에 있는 값이 변경 가능한 자료형이 아닙니다.\n",
        "# 튜플은 참조 불변입니다.\n",
        "# 리스트에 비해 처리 속도가 조금 더 빠르기도 합니다.\n",
        "\n",
        "x = (1, 2, 3)\n",
        "# x[0] = 1000"
      ],
      "metadata": {
        "id": "0ZxQ6nU8ThCP"
      },
      "execution_count": null,
      "outputs": []
    },
    {
      "cell_type": "code",
      "source": [
        "x = [10, 20, 30]\n",
        "y = (1, 2, x)\n",
        "x[0] = 1000\n",
        "y # 출력: (1, 2, [1000, 20, 30])"
      ],
      "metadata": {
        "colab": {
          "base_uri": "https://localhost:8080/"
        },
        "id": "9z_OyT1AUTZ1",
        "outputId": "e36359f5-5677-4a6e-a7a6-d12b6ec658c8"
      },
      "execution_count": null,
      "outputs": [
        {
          "output_type": "execute_result",
          "data": {
            "text/plain": [
              "(1, 2, [1000, 20, 30])"
            ]
          },
          "metadata": {},
          "execution_count": 145
        }
      ]
    },
    {
      "cell_type": "code",
      "source": [
        "# 데이터의 변경이 민감한 곳\n",
        "# 참조의 갯수가 변하면 안되는 곳\n",
        "\n",
        "s = {'one':1, 'two':2}\n",
        "s.items()"
      ],
      "metadata": {
        "colab": {
          "base_uri": "https://localhost:8080/"
        },
        "id": "bqH3LD_GUVVP",
        "outputId": "065be9d0-cb5a-4a6b-c65b-cbc14901afe3"
      },
      "execution_count": null,
      "outputs": [
        {
          "output_type": "execute_result",
          "data": {
            "text/plain": [
              "dict_items([('one', 1), ('two', 2)])"
            ]
          },
          "metadata": {},
          "execution_count": 147
        }
      ]
    },
    {
      "cell_type": "code",
      "source": [
        "t = (1, 2, 3, 4, 5)\n",
        "print(t[1:4])  # 출력: (2, 3, 4)"
      ],
      "metadata": {
        "colab": {
          "base_uri": "https://localhost:8080/"
        },
        "id": "cDt8Bb57X3IU",
        "outputId": "42a3698d-241c-45ea-90c1-4dd1130ba806"
      },
      "execution_count": null,
      "outputs": [
        {
          "output_type": "stream",
          "name": "stdout",
          "text": [
            "(2, 3, 4)\n"
          ]
        }
      ]
    },
    {
      "cell_type": "code",
      "source": [
        "t = (1, 1, 1, 2, 3, 4)\n",
        "t.count(1)"
      ],
      "metadata": {
        "colab": {
          "base_uri": "https://localhost:8080/"
        },
        "id": "AeDQu-b-X6yw",
        "outputId": "a34c28e1-6cf9-46a3-e3fa-6bb8615bba23"
      },
      "execution_count": null,
      "outputs": [
        {
          "output_type": "execute_result",
          "data": {
            "text/plain": [
              "3"
            ]
          },
          "metadata": {},
          "execution_count": 149
        }
      ]
    },
    {
      "cell_type": "code",
      "source": [
        "t.index(3)"
      ],
      "metadata": {
        "id": "zMld9M3iYJdQ",
        "colab": {
          "base_uri": "https://localhost:8080/"
        },
        "outputId": "3d3b555f-9a04-42f5-df50-72190477d2bb"
      },
      "execution_count": null,
      "outputs": [
        {
          "output_type": "execute_result",
          "data": {
            "text/plain": [
              "4"
            ]
          },
          "metadata": {},
          "execution_count": 150
        }
      ]
    },
    {
      "cell_type": "markdown",
      "source": [
        "# 딕셔너리"
      ],
      "metadata": {
        "id": "AcFQJTdGYv9D"
      }
    },
    {
      "cell_type": "code",
      "source": [
        "# 파이썬 3.6 버전부터 삽입 순서가 보장\n",
        "# colab, colab에서 불과 1 ~ 2년 전만 하더라도 print로 출력한 것은 정렬 출력,\n",
        "# 맨 마지막 출력은 정렬하지 않고 출력했습니다."
      ],
      "metadata": {
        "id": "qWxKp122YvVn"
      },
      "execution_count": null,
      "outputs": []
    },
    {
      "cell_type": "code",
      "source": [
        "d = {'bb':100, 'hello':10, 'world':20, 'aa':30}\n",
        "print(d)\n",
        "d"
      ],
      "metadata": {
        "colab": {
          "base_uri": "https://localhost:8080/"
        },
        "id": "B41ziU2nZGIl",
        "outputId": "0ad4e6df-5933-4b3e-be76-d54206a2a1e0"
      },
      "execution_count": null,
      "outputs": [
        {
          "output_type": "stream",
          "name": "stdout",
          "text": [
            "{'bb': 100, 'hello': 10, 'world': 20, 'aa': 30}\n"
          ]
        },
        {
          "output_type": "execute_result",
          "data": {
            "text/plain": [
              "{'bb': 100, 'hello': 10, 'world': 20, 'aa': 30}"
            ]
          },
          "metadata": {},
          "execution_count": 154
        }
      ]
    },
    {
      "cell_type": "code",
      "source": [
        "d = dict([('one' , '하나'), ('two', '둘')])\n",
        "print(d)  # 출력: {'one' : '하나', 'two' : '둘'}"
      ],
      "metadata": {
        "colab": {
          "base_uri": "https://localhost:8080/"
        },
        "id": "X7gHrqHBZNOV",
        "outputId": "ec360c01-20cc-4be2-9ee7-f89e28915cc1"
      },
      "execution_count": null,
      "outputs": [
        {
          "output_type": "stream",
          "name": "stdout",
          "text": [
            "{'one': '하나', 'two': '둘'}\n"
          ]
        }
      ]
    },
    {
      "cell_type": "code",
      "source": [
        "d = dict([['one' , '하나'], ['two', '둘']])\n",
        "print(d)  # 출력: {'one' : '하나', 'two' : '둘'}"
      ],
      "metadata": {
        "colab": {
          "base_uri": "https://localhost:8080/"
        },
        "id": "xe6E2s27ZU8E",
        "outputId": "9df45566-1ae0-4064-8c79-78a44046044c"
      },
      "execution_count": null,
      "outputs": [
        {
          "output_type": "stream",
          "name": "stdout",
          "text": [
            "{'one': '하나', 'two': '둘'}\n"
          ]
        }
      ]
    },
    {
      "cell_type": "code",
      "source": [
        "# d = dict([['aa'], ['bb']])\n",
        "# print(d)  # error"
      ],
      "metadata": {
        "id": "lKqNZbIkZbAA"
      },
      "execution_count": null,
      "outputs": []
    },
    {
      "cell_type": "code",
      "source": [
        "d = dict(name='licat', age=10)\n",
        "print(d)  # 출력: {'name': 'licat', 'age': 10}"
      ],
      "metadata": {
        "colab": {
          "base_uri": "https://localhost:8080/"
        },
        "id": "775L-YatZli5",
        "outputId": "a048ab2c-bbbb-4434-c44a-1aa914ece457"
      },
      "execution_count": null,
      "outputs": [
        {
          "output_type": "stream",
          "name": "stdout",
          "text": [
            "{'name': 'licat', 'age': 10}\n"
          ]
        }
      ]
    },
    {
      "cell_type": "code",
      "source": [
        "complex_dict = {\n",
        "    \"numbers\": [1, 2, 3],\n",
        "    42: \"answer\",\n",
        "    (\"x\", \"y\"): [10, 20],\n",
        "    True : [100, 200]\n",
        "}\n",
        "print(complex_dict[\"numbers\"])  # 출력: [1, 2, 3]\n",
        "print(complex_dict[42])         # 출력: answer\n",
        "print(complex_dict[(\"x\", \"y\")]) # 출력: [10, 20]\n",
        "print(complex_dict[True]) # 출력: [100, 200]"
      ],
      "metadata": {
        "colab": {
          "base_uri": "https://localhost:8080/"
        },
        "id": "cFzUdoORZmzf",
        "outputId": "ed0e5e17-badc-4d04-f1bb-5b568e396856"
      },
      "execution_count": null,
      "outputs": [
        {
          "output_type": "stream",
          "name": "stdout",
          "text": [
            "[1, 2, 3]\n",
            "answer\n",
            "[10, 20]\n",
            "[100, 200]\n"
          ]
        }
      ]
    },
    {
      "cell_type": "code",
      "source": [
        "person = {'name': 'licat', 'city': 'Jeju'}\n",
        "person['name'] = 'mura'\n",
        "person['city'] = 'Seoul'\n",
        "\n",
        "print(person)"
      ],
      "metadata": {
        "colab": {
          "base_uri": "https://localhost:8080/"
        },
        "id": "LC2gwEHzZyxs",
        "outputId": "acfa06d2-663e-4a2c-eb8f-c51bb1240c53"
      },
      "execution_count": null,
      "outputs": [
        {
          "output_type": "stream",
          "name": "stdout",
          "text": [
            "{'name': 'mura', 'city': 'Seoul'}\n"
          ]
        }
      ]
    },
    {
      "cell_type": "code",
      "source": [
        "person['age'] = '10'\n",
        "print(person)"
      ],
      "metadata": {
        "colab": {
          "base_uri": "https://localhost:8080/"
        },
        "id": "brx1p8EjZ-xi",
        "outputId": "a840d9d6-07c8-48b7-db6f-048331f99356"
      },
      "execution_count": null,
      "outputs": [
        {
          "output_type": "stream",
          "name": "stdout",
          "text": [
            "{'name': 'mura', 'city': 'Seoul', 'age': '10'}\n"
          ]
        }
      ]
    },
    {
      "cell_type": "code",
      "source": [
        "keys = [\"name\", \"city\", \"job\"]\n",
        "values = [\"licat\", \"Jeju\", \"Developer\"]\n",
        "\n",
        "new_dict = dict(zip(keys, values))\n",
        "print(new_dict)"
      ],
      "metadata": {
        "colab": {
          "base_uri": "https://localhost:8080/"
        },
        "id": "OFgUk17ZaEJs",
        "outputId": "66a9ba5a-1aec-44a2-da35-67be15f48d59"
      },
      "execution_count": null,
      "outputs": [
        {
          "output_type": "stream",
          "name": "stdout",
          "text": [
            "{'name': 'licat', 'city': 'Jeju', 'job': 'Developer'}\n"
          ]
        }
      ]
    },
    {
      "cell_type": "code",
      "source": [
        "hero = {'name': 'licat', 'age': 10}\n",
        "dir(hero)"
      ],
      "metadata": {
        "colab": {
          "base_uri": "https://localhost:8080/"
        },
        "id": "LMCk5Z_eaNuS",
        "outputId": "31cbd1e4-63fd-48cc-b158-af1abe23b828"
      },
      "execution_count": null,
      "outputs": [
        {
          "output_type": "execute_result",
          "data": {
            "text/plain": [
              "['__class__',\n",
              " '__class_getitem__',\n",
              " '__contains__',\n",
              " '__delattr__',\n",
              " '__delitem__',\n",
              " '__dir__',\n",
              " '__doc__',\n",
              " '__eq__',\n",
              " '__format__',\n",
              " '__ge__',\n",
              " '__getattribute__',\n",
              " '__getitem__',\n",
              " '__gt__',\n",
              " '__hash__',\n",
              " '__init__',\n",
              " '__init_subclass__',\n",
              " '__ior__',\n",
              " '__iter__',\n",
              " '__le__',\n",
              " '__len__',\n",
              " '__lt__',\n",
              " '__ne__',\n",
              " '__new__',\n",
              " '__or__',\n",
              " '__reduce__',\n",
              " '__reduce_ex__',\n",
              " '__repr__',\n",
              " '__reversed__',\n",
              " '__ror__',\n",
              " '__setattr__',\n",
              " '__setitem__',\n",
              " '__sizeof__',\n",
              " '__str__',\n",
              " '__subclasshook__',\n",
              " 'clear',\n",
              " 'copy',\n",
              " 'fromkeys',\n",
              " 'get',\n",
              " 'items',\n",
              " 'keys',\n",
              " 'pop',\n",
              " 'popitem',\n",
              " 'setdefault',\n",
              " 'update',\n",
              " 'values']"
            ]
          },
          "metadata": {},
          "execution_count": 164
        }
      ]
    },
    {
      "cell_type": "code",
      "source": [
        "#  'items',\n",
        "#  'keys',\n",
        "#  'values'\n",
        "#  'fromkeys',\n",
        "#  'get',\n",
        "#  'pop',\n",
        "#  'popitem',\n",
        "#  'setdefault',\n",
        "#  'update',\n",
        "\n",
        "hero = {'name': 'licat', 'age': 10}\n",
        "\n",
        "hero2 = hero\n",
        "\n",
        "hero2['name'] = 'mura'\n",
        "\n",
        "print(hero, hero2)"
      ],
      "metadata": {
        "colab": {
          "base_uri": "https://localhost:8080/"
        },
        "id": "-R8gkd6kam6e",
        "outputId": "86936b20-792f-4ce9-971a-a6036d3f32ba"
      },
      "execution_count": null,
      "outputs": [
        {
          "output_type": "stream",
          "name": "stdout",
          "text": [
            "{'name': 'mura', 'age': 10} {'name': 'mura', 'age': 10}\n"
          ]
        }
      ]
    },
    {
      "cell_type": "code",
      "source": [
        "# 'items',\n",
        "# 'keys',\n",
        "# 'values'\n",
        "# 'fromkeys',\n",
        "# 'get',\n",
        "# 'pop',\n",
        "# 'popitem',\n",
        "# 'setdefault',\n",
        "# 'update',\n",
        "\n",
        "# items\n",
        "\n",
        "hero = {'name': 'licat', 'age': 10}\n",
        "print(hero2.items())\n",
        "# hero2.items()[0] # error\n",
        "list(hero2.items())[0] # 출력: ('name', 'mura')\n",
        "type(hero2.items())"
      ],
      "metadata": {
        "colab": {
          "base_uri": "https://localhost:8080/"
        },
        "id": "MlV4gnBSa_NS",
        "outputId": "eabf6300-2ac2-4e62-b001-911346bea411"
      },
      "execution_count": null,
      "outputs": [
        {
          "output_type": "stream",
          "name": "stdout",
          "text": [
            "dict_items([('name', 'mura'), ('age', 10)])\n"
          ]
        },
        {
          "output_type": "execute_result",
          "data": {
            "text/plain": [
              "dict_items"
            ]
          },
          "metadata": {},
          "execution_count": 174
        }
      ]
    },
    {
      "cell_type": "code",
      "source": [
        "# 'keys',\n",
        "# 'values'\n",
        "# 'fromkeys',\n",
        "# 'get',\n",
        "# 'pop',\n",
        "# 'popitem',\n",
        "# 'setdefault',\n",
        "# 'update',\n",
        "\n",
        "#keys\n",
        "\n",
        "hero = {'name': 'licat', 'age': 10}\n",
        "print(hero.keys())\n",
        "type(hero.keys())\n",
        "\n",
        "# 이렇게 많이 사용합니다.\n",
        "for i in hero2.keys():\n",
        "    print(i)"
      ],
      "metadata": {
        "colab": {
          "base_uri": "https://localhost:8080/"
        },
        "id": "swMpWDg4bQ3q",
        "outputId": "5c17c1f7-1d52-4bd7-aeeb-9637d77120ed"
      },
      "execution_count": null,
      "outputs": [
        {
          "output_type": "stream",
          "name": "stdout",
          "text": [
            "dict_keys(['name', 'age'])\n",
            "name\n",
            "age\n"
          ]
        }
      ]
    },
    {
      "cell_type": "code",
      "source": [
        "# 'values'\n",
        "# 'fromkeys',\n",
        "# 'get',\n",
        "# 'pop',\n",
        "# 'popitem',\n",
        "# 'setdefault',\n",
        "# 'update',\n",
        "\n",
        "# values\n",
        "\n",
        "hero = {'name': 'licat', 'age': 10}\n",
        "print(hero.values())\n",
        "type(hero.values())"
      ],
      "metadata": {
        "colab": {
          "base_uri": "https://localhost:8080/"
        },
        "id": "VJe49shyb-bh",
        "outputId": "0bd55855-df7a-48f7-831f-5eef5357944d"
      },
      "execution_count": null,
      "outputs": [
        {
          "output_type": "stream",
          "name": "stdout",
          "text": [
            "dict_values(['licat', 10])\n"
          ]
        },
        {
          "output_type": "execute_result",
          "data": {
            "text/plain": [
              "dict_values"
            ]
          },
          "metadata": {},
          "execution_count": 178
        }
      ]
    },
    {
      "cell_type": "code",
      "source": [
        "hero = {'name': 'licat', 'age': 10}\n",
        "\n",
        "# 'licat' in hero # 출력 : False\n",
        "# 'name' in hero # 출력 : True"
      ],
      "metadata": {
        "id": "Xq0UhoRbcOJX"
      },
      "execution_count": null,
      "outputs": []
    },
    {
      "cell_type": "code",
      "source": [
        "'licat' in hero.values()\n",
        "'licat' in hero.values()"
      ],
      "metadata": {
        "colab": {
          "base_uri": "https://localhost:8080/"
        },
        "id": "3BkHaORPcZgD",
        "outputId": "da5d03e2-086d-4689-beb9-8c8c017aa744"
      },
      "execution_count": null,
      "outputs": [
        {
          "output_type": "execute_result",
          "data": {
            "text/plain": [
              "True"
            ]
          },
          "metadata": {},
          "execution_count": 181
        }
      ]
    },
    {
      "cell_type": "code",
      "source": [
        "# 'fromkeys',\n",
        "# 'get',\n",
        "# 'pop',\n",
        "# 'popitem',\n",
        "# 'setdefault',\n",
        "# 'update'\n",
        "\n",
        "# fromkeys\n",
        "keys = ['name', 'city', 'job']\n",
        "values = ['licat', 'Jeju', 'Developer']\n",
        "print(dict.fromkeys(keys, values))"
      ],
      "metadata": {
        "colab": {
          "base_uri": "https://localhost:8080/"
        },
        "id": "z1tXkDsNzo9-",
        "outputId": "4008ddd9-f166-4d0d-f3de-c4d97e732c3e"
      },
      "execution_count": null,
      "outputs": [
        {
          "output_type": "stream",
          "name": "stdout",
          "text": [
            "{'name': ['licat', 'Jeju', 'Developer'], 'city': ['licat', 'Jeju', 'Developer'], 'job': ['licat', 'Jeju', 'Developer']}\n"
          ]
        }
      ]
    },
    {
      "cell_type": "code",
      "source": [
        "keys = ['name', 'city', 'job']\n",
        "value = None\n",
        "print(dict.fromkeys(keys, values))"
      ],
      "metadata": {
        "colab": {
          "base_uri": "https://localhost:8080/"
        },
        "id": "2UTXi3rfzwSo",
        "outputId": "57319006-8d99-495f-f267-8b7af3795102"
      },
      "execution_count": null,
      "outputs": [
        {
          "output_type": "stream",
          "name": "stdout",
          "text": [
            "{'name': ['licat', 'Jeju', 'Developer'], 'city': ['licat', 'Jeju', 'Developer'], 'job': ['licat', 'Jeju', 'Developer']}\n"
          ]
        }
      ]
    },
    {
      "cell_type": "code",
      "source": [
        "# 'get',\n",
        "# 'pop',\n",
        "# 'popitem',\n",
        "# 'setdefault',\n",
        "# 'update'\n",
        "\n",
        "# get\n",
        "d = {'name': 'licat', 'city':'jeju'}\n",
        "d['name']\n",
        "d.get('name') # 기억하고 있어야합니다"
      ],
      "metadata": {
        "colab": {
          "base_uri": "https://localhost:8080/",
          "height": 35
        },
        "id": "VITPHpm10Jc3",
        "outputId": "d73d8895-dd21-453e-8ee5-c1451b54d024"
      },
      "execution_count": null,
      "outputs": [
        {
          "output_type": "execute_result",
          "data": {
            "text/plain": [
              "'licat'"
            ],
            "application/vnd.google.colaboratory.intrinsic+json": {
              "type": "string"
            }
          },
          "metadata": {},
          "execution_count": 201
        }
      ]
    },
    {
      "cell_type": "code",
      "source": [
        "d = {'name': 'licat', 'city':'jeju'}\n",
        "# d['age] # error, 이거 가볍게 생각하면 안됩니다! 서비스 멈춥니다!\n",
        "d.get('age', '값 없음!')"
      ],
      "metadata": {
        "colab": {
          "base_uri": "https://localhost:8080/",
          "height": 35
        },
        "id": "ch_875a10fEI",
        "outputId": "d987d17e-b2e8-478b-ec58-85d6d164a397"
      },
      "execution_count": null,
      "outputs": [
        {
          "output_type": "execute_result",
          "data": {
            "text/plain": [
              "'값 없음!'"
            ],
            "application/vnd.google.colaboratory.intrinsic+json": {
              "type": "string"
            }
          },
          "metadata": {},
          "execution_count": 203
        }
      ]
    },
    {
      "cell_type": "code",
      "source": [
        "# 위험한 코드입니다!\n",
        "def 요일변경(n):\n",
        "    return {\n",
        "        1:'월요일',\n",
        "        2:'화요일',\n",
        "        3:'수요일',\n",
        "        4:'목요일',\n",
        "        5:'금요일',\n",
        "        6:'토요일',\n",
        "        7:'일요일'\n",
        "    }[n]\n",
        "\n",
        "요일변경(3)\n",
        "# 요일변경(8) error, 서비스 멈춥니다!"
      ],
      "metadata": {
        "colab": {
          "base_uri": "https://localhost:8080/",
          "height": 35
        },
        "id": "W4dNHYU10n7P",
        "outputId": "3ed1916f-b8ad-4b28-dc23-c4ca4e172fcc"
      },
      "execution_count": null,
      "outputs": [
        {
          "output_type": "execute_result",
          "data": {
            "text/plain": [
              "'수요일'"
            ],
            "application/vnd.google.colaboratory.intrinsic+json": {
              "type": "string"
            }
          },
          "metadata": {},
          "execution_count": 204
        }
      ]
    },
    {
      "cell_type": "code",
      "source": [
        "def f():\n",
        "    return '금금금요일'\n",
        "\n",
        "def 요일변경(w):\n",
        "    return {\n",
        "        '월':'월요일',\n",
        "        '화':'화요일',\n",
        "        '수':'수요일',\n",
        "        '목':'목요일',\n",
        "        '금':'금요일',\n",
        "        '토':'토요일',\n",
        "        '일':'일요일'\n",
        "    }.get(w, f())\n",
        "\n",
        "요일변경('잉')\n",
        "print(요일변경('잉'))"
      ],
      "metadata": {
        "colab": {
          "base_uri": "https://localhost:8080/"
        },
        "id": "Kqoe0C5v1RJ4",
        "outputId": "62c60174-75b9-447e-a2e2-08a607a8b054"
      },
      "execution_count": null,
      "outputs": [
        {
          "output_type": "stream",
          "name": "stdout",
          "text": [
            "금금금요일\n"
          ]
        }
      ]
    },
    {
      "cell_type": "code",
      "source": [
        "# 'pop',\n",
        "# 'popitem',\n",
        "# 'setdefault',\n",
        "# 'update'\n",
        "\n",
        "# pop\n",
        "numbers = {'one': '하나', 'two': '둘', 'three': '셋'}\n",
        "one_value = numbers.pop('one')\n"
      ],
      "metadata": {
        "id": "QQO-cily1qPC"
      },
      "execution_count": null,
      "outputs": []
    },
    {
      "cell_type": "code",
      "source": [
        "numbers = {'one': '하나', 'two': '둘', 'three': '셋'}\n",
        "# numbers.pop()\n",
        "numbers"
      ],
      "metadata": {
        "colab": {
          "base_uri": "https://localhost:8080/"
        },
        "id": "Yqeixy0Q3a7a",
        "outputId": "187c7ba5-25c0-4c6a-c464-36ea83131185"
      },
      "execution_count": null,
      "outputs": [
        {
          "output_type": "execute_result",
          "data": {
            "text/plain": [
              "{'one': '하나', 'two': '둘', 'three': '셋'}"
            ]
          },
          "metadata": {},
          "execution_count": 217
        }
      ]
    },
    {
      "cell_type": "code",
      "source": [
        "# 'popitem',\n",
        "# 'setdefault',\n",
        "# 'update'\n",
        "\n",
        "# popitem\n",
        "\n",
        "numbers = {'one': '하나', 'two': '둘', 'three': '셋'}\n",
        "item = numbers.popitem()\n",
        "print(item)\n",
        "print(numbers)"
      ],
      "metadata": {
        "colab": {
          "base_uri": "https://localhost:8080/"
        },
        "id": "XDOm4WLX3iqs",
        "outputId": "20cc7626-ab1e-4726-8e9e-0488293321e3"
      },
      "execution_count": null,
      "outputs": [
        {
          "output_type": "stream",
          "name": "stdout",
          "text": [
            "('three', '셋')\n",
            "{'one': '하나', 'two': '둘'}\n"
          ]
        }
      ]
    },
    {
      "cell_type": "code",
      "source": [
        "# 'setdefault',\n",
        "# 'update'\n",
        "\n",
        "# setdefault\n",
        "\n",
        "numbers = {'one': '하나', 'two': '둘', 'three': '셋'}\n",
        "four_value = numbers.setdefault(\"three\", \"3\")\n",
        "print(four_value)\n",
        "print(numbers)"
      ],
      "metadata": {
        "colab": {
          "base_uri": "https://localhost:8080/"
        },
        "id": "234WXwC83zO8",
        "outputId": "5e510df4-49b3-4104-dd0e-6fccc4bf41f3"
      },
      "execution_count": null,
      "outputs": [
        {
          "output_type": "stream",
          "name": "stdout",
          "text": [
            "셋\n",
            "{'one': '하나', 'two': '둘', 'three': '셋'}\n"
          ]
        }
      ]
    },
    {
      "cell_type": "code",
      "source": [
        "# 'update'\n",
        "\n",
        "#update\n",
        "\n",
        "numbers = {'one': '하나', 'two': '둘', 'three': '셋'}\n",
        "numbers.update({'three': '3', 'four': '4'})\n",
        "print(numbers)"
      ],
      "metadata": {
        "colab": {
          "base_uri": "https://localhost:8080/"
        },
        "id": "9keydSCI7HoX",
        "outputId": "269aa98e-8e9b-4a5e-afe6-6c4aabe7209f"
      },
      "execution_count": null,
      "outputs": [
        {
          "output_type": "stream",
          "name": "stdout",
          "text": [
            "{'one': '하나', 'two': '둘', 'three': '3', 'four': '4'}\n"
          ]
        }
      ]
    },
    {
      "cell_type": "markdown",
      "source": [
        "# 연습문제"
      ],
      "metadata": {
        "id": "Yiwonb-O7zRb"
      }
    },
    {
      "cell_type": "code",
      "source": [
        "국영수 = {'국어': 97, '영어': 38, '수학': 90}\n",
        "# 문제1 : 다음 국영수 dict에 점수에 평균을 구하시오.\n",
        "Average = sum(국영수.values()) / len(국영수)\n",
        "Average\n",
        "\n",
        "# 문제2 : {'사회':70, '과학': 85}가 추가되었습니다. dict에 평균을 구하는 코드를 작성하세요.\n",
        "국영수.update({'사회':70, '과학': 85})\n",
        "Average2 = sum(국영수.values()) / len(국영수)\n",
        "Average2\n",
        "\n",
        "# 문제3 : 영어와 수학점수가 각각 10점씩 올랐습니다. 점수를 10점 추가 해주세요.\n",
        "# 국영수.update({'영어':48, '수학': 100})\n",
        "# (국영수)\n",
        "국영수['영어'] += 10\n",
        "국영수['수학'] += 10\n",
        "국영수.update({'영어': 국영수.get('영어', 0) + 10})\n",
        "국영수.update({'수학': 국영수.get('수학', 0) + 10})\n",
        "\n",
        "# 문제4 : 최종 점수에서 가장 높은 점수를 출력하는 코드를 작성해주세요.\n",
        "국영수 = {'국어': 97, '영어': 48, '수학': 100, '사회': 70, '과학': 85}\n",
        "max(국영수.items(), key = lambda x: x[1])[0] # 강토님 코드\n",
        "\n",
        "max(국영수, key = 국영수.get) # 형섭님 코드 (강토님 코드에서 변형한)\n",
        "\n",
        "values = list(국영수.values()) # 병헌님 코드\n",
        "list(국영수.keys())[(values.index(max(values)))]\n",
        "\n",
        "list(sorted(국영수.items(), key = lambda x:x[1], reverse = True))[0][0] #찬양님 코드\n",
        "\n",
        "for key in 국영수:          # 종훈님 코\n",
        "    if(국영수.get(key) == max(국영수.values())):\n",
        "        print(key)\n",
        "\n",
        "[i for i, j in 국영수.items() if j == max(국영수.values())] # 진경님 코드"
      ],
      "metadata": {
        "colab": {
          "base_uri": "https://localhost:8080/"
        },
        "id": "pdYV5N3d70b1",
        "outputId": "4811ebc4-e722-49bb-a5c6-a59940edb475"
      },
      "execution_count": null,
      "outputs": [
        {
          "output_type": "stream",
          "name": "stdout",
          "text": [
            "수학\n"
          ]
        },
        {
          "output_type": "execute_result",
          "data": {
            "text/plain": [
              "['수학']"
            ]
          },
          "metadata": {},
          "execution_count": 280
        }
      ]
    },
    {
      "cell_type": "code",
      "source": [
        "# 여러개의 딕셔너리를 왔다갔다 하면서 key 값으로 value값을 비교할 때에도 사용합니다.\n",
        "local = {'제주': 100, '서울': 977, '부산': 500}\n",
        "강우량 = {'제주': 100, '서울': 97, '부산': 50}\n",
        "max(강우량, key = local.get)"
      ],
      "metadata": {
        "colab": {
          "base_uri": "https://localhost:8080/",
          "height": 35
        },
        "id": "UWcPaCpQEDJ8",
        "outputId": "9e86dfaf-fa5c-482b-ec78-67d7b80525cb"
      },
      "execution_count": null,
      "outputs": [
        {
          "output_type": "execute_result",
          "data": {
            "text/plain": [
              "'서울'"
            ],
            "application/vnd.google.colaboratory.intrinsic+json": {
              "type": "string"
            }
          },
          "metadata": {},
          "execution_count": 283
        }
      ]
    },
    {
      "cell_type": "code",
      "source": [
        "d = {'a': 10, 'bb': 9, 'c':  5, 'd': 6}\n",
        "max(d) # 유니코드가 가장 큰 key값을 출력하겠다"
      ],
      "metadata": {
        "colab": {
          "base_uri": "https://localhost:8080/",
          "height": 35
        },
        "id": "5FyvtKtFIWT6",
        "outputId": "7430acf7-37c0-4570-edb3-0cb8762429de"
      },
      "execution_count": null,
      "outputs": [
        {
          "output_type": "execute_result",
          "data": {
            "text/plain": [
              "'d'"
            ],
            "application/vnd.google.colaboratory.intrinsic+json": {
              "type": "string"
            }
          },
          "metadata": {},
          "execution_count": 285
        }
      ]
    },
    {
      "cell_type": "code",
      "source": [
        "d = {'a': 10, 'bb': 9, 'c':  5, 'd': 6}\n",
        "max(d, key = len) # 길이가 가장 긴 key값을 출력하겠다."
      ],
      "metadata": {
        "colab": {
          "base_uri": "https://localhost:8080/",
          "height": 35
        },
        "id": "TKVP0_NiIkAT",
        "outputId": "d9e16c3e-5b53-48d8-e1c2-4a4b48d25508"
      },
      "execution_count": null,
      "outputs": [
        {
          "output_type": "execute_result",
          "data": {
            "text/plain": [
              "'bb'"
            ],
            "application/vnd.google.colaboratory.intrinsic+json": {
              "type": "string"
            }
          },
          "metadata": {},
          "execution_count": 287
        }
      ]
    },
    {
      "cell_type": "code",
      "source": [
        "d = {'a': 10, 'bb': 9, 'c':  5, 'd': 6}\n",
        "max(d, key = d.get) # d.get에서 반환된 가장 큰값의 key값을 출력하겠다."
      ],
      "metadata": {
        "colab": {
          "base_uri": "https://localhost:8080/",
          "height": 35
        },
        "id": "MYwCTD0ZI2a2",
        "outputId": "d0a1b42f-c80c-467e-80bf-25e5b8ef3d67"
      },
      "execution_count": null,
      "outputs": [
        {
          "output_type": "execute_result",
          "data": {
            "text/plain": [
              "'a'"
            ],
            "application/vnd.google.colaboratory.intrinsic+json": {
              "type": "string"
            }
          },
          "metadata": {},
          "execution_count": 291
        }
      ]
    },
    {
      "cell_type": "markdown",
      "source": [
        "# 얕은 복사와 깊은 복사"
      ],
      "metadata": {
        "id": "HjIxqzgnvZL3"
      }
    },
    {
      "cell_type": "code",
      "source": [
        "l = [1, 2, 3]\n",
        "ll = l.copy()\n",
        "l, ll"
      ],
      "metadata": {
        "colab": {
          "base_uri": "https://localhost:8080/"
        },
        "id": "7bWsBs_lva0o",
        "outputId": "13f327ed-fe78-41ec-a46a-9c8cb2f115be"
      },
      "execution_count": null,
      "outputs": [
        {
          "output_type": "execute_result",
          "data": {
            "text/plain": [
              "([1, 2, 3], [1, 2, 3])"
            ]
          },
          "metadata": {},
          "execution_count": 183
        }
      ]
    },
    {
      "cell_type": "code",
      "source": [
        "import copy\n",
        "\n",
        "a = [1, 2]\n",
        "b = [3, 4]\n",
        "\n",
        "aa = [10, 20, a]\n",
        "bb = [30, 40, b]\n",
        "\n",
        "aaa = [100, 200, aa]\n",
        "bbb = [300, 400, bb]\n",
        "\n",
        "l = [aaa, bbb]\n",
        "ll = copy.deepcopy(l) # 깊은 복사\n",
        "\n",
        "a[0] = 99\n",
        "print(l)\n",
        "print(ll)\n"
      ],
      "metadata": {
        "colab": {
          "base_uri": "https://localhost:8080/"
        },
        "id": "V7wo-uVovkp1",
        "outputId": "6fc0fd4a-7c97-44f1-db6b-36748a76784a"
      },
      "execution_count": null,
      "outputs": [
        {
          "output_type": "stream",
          "name": "stdout",
          "text": [
            "[[100, 200, [10, 20, [99, 2]]], [300, 400, [30, 40, [3, 4]]]]\n",
            "[[100, 200, [10, 20, [1, 2]]], [300, 400, [30, 40, [3, 4]]]]\n"
          ]
        }
      ]
    },
    {
      "cell_type": "code",
      "source": [
        "l = [[1, 2, 3], [4, 5, 6]]\n",
        "ll = [i for i in l]\n",
        "ll[0][0] = 1000\n",
        "l"
      ],
      "metadata": {
        "colab": {
          "base_uri": "https://localhost:8080/"
        },
        "id": "et7LZENCwJnK",
        "outputId": "3b947d3b-3dd4-49cb-80bd-a3e99a29199a"
      },
      "execution_count": null,
      "outputs": [
        {
          "output_type": "execute_result",
          "data": {
            "text/plain": [
              "[[1000, 2, 3], [4, 5, 6]]"
            ]
          },
          "metadata": {},
          "execution_count": 186
        }
      ]
    },
    {
      "cell_type": "code",
      "source": [
        "# 리스트 컴프리헨션으로 깊은 복사 구현(완전하진 않습니다.)\n",
        "l = [[1, 2, 3], [4, 5, 6]]\n",
        "ll = [i[:] for i in l]\n",
        "ll[0][0] = 1000\n",
        "print(l)\n",
        "print(ll)"
      ],
      "metadata": {
        "colab": {
          "base_uri": "https://localhost:8080/"
        },
        "id": "eeUy7Si2wXzO",
        "outputId": "65367194-91c6-4034-dc42-08c99d906bd9"
      },
      "execution_count": null,
      "outputs": [
        {
          "output_type": "stream",
          "name": "stdout",
          "text": [
            "[[1, 2, 3], [4, 5, 6]]\n",
            "[[1000, 2, 3], [4, 5, 6]]\n"
          ]
        }
      ]
    },
    {
      "cell_type": "code",
      "source": [
        "# 위와 같은 방식으로 했을 때 완전하지 않은 코드\n",
        "a = [9, 99]\n",
        "\n",
        "l = [[1, 2, a], [4, 5, 6]]\n",
        "ll = [i[:] for i in l]\n",
        "a[0] = 10000\n",
        "print(l)\n",
        "print(ll)"
      ],
      "metadata": {
        "colab": {
          "base_uri": "https://localhost:8080/"
        },
        "id": "JhENDo4wxgEL",
        "outputId": "62034e35-f225-41ee-fb86-20c5df74bd2b"
      },
      "execution_count": null,
      "outputs": [
        {
          "output_type": "stream",
          "name": "stdout",
          "text": [
            "[[1, 2, [10000, 99]], [4, 5, 6]]\n",
            "[[1, 2, [10000, 99]], [4, 5, 6]]\n"
          ]
        }
      ]
    },
    {
      "cell_type": "code",
      "source": [
        "a = [1, 2, 3]\n",
        "b = [4, 5, 6]\n",
        "\n",
        "l = [a, b]\n",
        "ll = [a, b]\n",
        "lll = [[1, 2, 3], [4, 5, 6]]\n",
        "\n",
        "print(id(l), id(ll))\n",
        "print(id(l[0]), id(ll[0]))\n",
        "print(id(l[0]), id(lll[0]))"
      ],
      "metadata": {
        "colab": {
          "base_uri": "https://localhost:8080/"
        },
        "id": "kiocihKNy2CI",
        "outputId": "1b1d7266-8735-4546-f8b2-5a6b2ab6b4f8"
      },
      "execution_count": null,
      "outputs": [
        {
          "output_type": "stream",
          "name": "stdout",
          "text": [
            "133036834643456 133035992626304\n",
            "133035989929856 133035989929856\n",
            "133035989929856 133035991896640\n"
          ]
        }
      ]
    },
    {
      "cell_type": "code",
      "source": [
        "a = [9999, 9999, 9999]\n",
        "b = copy.deepcopy(a)\n",
        "c = copy.deepcopy(b)\n",
        "print(a, b, c)\n",
        "\n",
        "print(id(a[0]), id(b[0]), id(c[0]))"
      ],
      "metadata": {
        "colab": {
          "base_uri": "https://localhost:8080/"
        },
        "id": "qumTJHm2xghE",
        "outputId": "31b7db05-9d9b-41cd-e194-b059b83e924d"
      },
      "execution_count": null,
      "outputs": [
        {
          "output_type": "stream",
          "name": "stdout",
          "text": [
            "[9999, 9999, 9999] [9999, 9999, 9999] [9999, 9999, 9999]\n",
            "133035989775920 133035989775920 133035989775920\n"
          ]
        }
      ]
    },
    {
      "cell_type": "code",
      "source": [
        "c = [9999, 9999, 9999]\n",
        "id(c[0]), id(c[1]), id(c[2])\n",
        "c[0] is c[1]"
      ],
      "metadata": {
        "colab": {
          "base_uri": "https://localhost:8080/"
        },
        "id": "SuK6G651xuMU",
        "outputId": "b77d60c3-4a52-4083-af66-1cb43a61115c"
      },
      "execution_count": null,
      "outputs": [
        {
          "output_type": "execute_result",
          "data": {
            "text/plain": [
              "True"
            ]
          },
          "metadata": {},
          "execution_count": 190
        }
      ]
    },
    {
      "cell_type": "code",
      "source": [
        "test = [9999, 9998, 9999]\n",
        "id(test[0]), id(test[1]), id(test[2])\n",
        "#같은 컨벤션 내에 지정된 숫자는 동일한 메모리에 저장"
      ],
      "metadata": {
        "colab": {
          "base_uri": "https://localhost:8080/"
        },
        "id": "h49_mY5wyAmG",
        "outputId": "00b51803-f128-47d4-92cf-ad58ff0f1719"
      },
      "execution_count": null,
      "outputs": [
        {
          "output_type": "execute_result",
          "data": {
            "text/plain": [
              "(133035989772688, 133035989774736, 133035989772688)"
            ]
          },
          "metadata": {},
          "execution_count": 191
        }
      ]
    },
    {
      "cell_type": "code",
      "source": [
        "test = {'one':9999, 'two':9998, 'three':9999}\n",
        "id(test['one']), id(test['two']), id(test['three'])\n",
        "#같은 컨벤션 내에 지정된 숫자는 동일한 메모리에 저장"
      ],
      "metadata": {
        "colab": {
          "base_uri": "https://localhost:8080/"
        },
        "id": "aSDUV09EyqDU",
        "outputId": "fdf96272-93fc-4d29-ca2d-d8118437252f"
      },
      "execution_count": null,
      "outputs": [
        {
          "output_type": "execute_result",
          "data": {
            "text/plain": [
              "(133035989777552, 133035989770512, 133035989777552)"
            ]
          },
          "metadata": {},
          "execution_count": 195
        }
      ]
    },
    {
      "cell_type": "markdown",
      "source": [
        "# Set(집합)"
      ],
      "metadata": {
        "id": "_zQQhwu-JWrf"
      }
    },
    {
      "cell_type": "code",
      "source": [
        "# 1. 중복이 되지 않습니다.\n",
        "# 2. 순서가 없습니다.\n",
        "# 3. 교집합, 차집합, 합집합 등이 있습니다."
      ],
      "metadata": {
        "id": "eXUCfe5HzK9u"
      },
      "execution_count": null,
      "outputs": []
    },
    {
      "cell_type": "code",
      "source": [
        "set('hello')\n",
        "s = {'licat', 'licat', 'licat', 'mura', 'binky'} # 게시물에 글쓴사람은 몇 사람이죠?\n",
        "len(s)"
      ],
      "metadata": {
        "colab": {
          "base_uri": "https://localhost:8080/"
        },
        "id": "GErB-rY1J0tD",
        "outputId": "ce46b952-338d-49bb-89cd-c4cd3dd32137"
      },
      "execution_count": null,
      "outputs": [
        {
          "output_type": "execute_result",
          "data": {
            "text/plain": [
              "3"
            ]
          },
          "metadata": {},
          "execution_count": 294
        }
      ]
    },
    {
      "cell_type": "code",
      "source": [
        "# 주의\n",
        "t = {} # dict\n",
        "t = () # tuple\n",
        "t = (0) # int\n",
        "t = (0,) # tuple\n",
        "t = set() # set\n",
        "type(t)\n",
        "# t = tuple()\n",
        "# type(t)"
      ],
      "metadata": {
        "colab": {
          "base_uri": "https://localhost:8080/"
        },
        "id": "-ZzBIiNRKRps",
        "outputId": "3f283e91-13f8-4e23-c817-944feec2e784"
      },
      "execution_count": null,
      "outputs": [
        {
          "output_type": "execute_result",
          "data": {
            "text/plain": [
              "set"
            ]
          },
          "metadata": {},
          "execution_count": 300
        }
      ]
    },
    {
      "cell_type": "code",
      "source": [
        "# 합집합\n",
        "s = {1, 1, 1, 2, 3, 4, 4, 4}\n",
        "ss = {4, 5, 6}\n",
        "s | ss"
      ],
      "metadata": {
        "colab": {
          "base_uri": "https://localhost:8080/"
        },
        "id": "1yToDmAzK7U7",
        "outputId": "dd23e181-77f9-4a1c-e3e9-652dcc7f8534"
      },
      "execution_count": null,
      "outputs": [
        {
          "output_type": "execute_result",
          "data": {
            "text/plain": [
              "{1, 2, 3, 4, 5, 6}"
            ]
          },
          "metadata": {},
          "execution_count": 306
        }
      ]
    },
    {
      "cell_type": "code",
      "source": [
        "# 교집합\n",
        "s = {1, 1, 1, 2, 3, 4, 4, 4}\n",
        "ss = {4, 5, 6}\n",
        "\n",
        "s & ss"
      ],
      "metadata": {
        "colab": {
          "base_uri": "https://localhost:8080/"
        },
        "id": "WO9gCJWcLRgN",
        "outputId": "9ae79de6-ae1c-43fd-bbd6-b0ac57d3f1f3"
      },
      "execution_count": null,
      "outputs": [
        {
          "output_type": "execute_result",
          "data": {
            "text/plain": [
              "{4}"
            ]
          },
          "metadata": {},
          "execution_count": 307
        }
      ]
    },
    {
      "cell_type": "code",
      "source": [
        "# 차집합\n",
        "s = {1, 1, 1, 2, 3, 4, 4, 4}\n",
        "ss = {4, 5, 6}\n",
        "\n",
        "s - ss"
      ],
      "metadata": {
        "colab": {
          "base_uri": "https://localhost:8080/"
        },
        "id": "i2SJMuXJLSeK",
        "outputId": "4bcc9e92-5a00-431a-d1a8-ff0f0909b96d"
      },
      "execution_count": null,
      "outputs": [
        {
          "output_type": "execute_result",
          "data": {
            "text/plain": [
              "{1, 2, 3}"
            ]
          },
          "metadata": {},
          "execution_count": 308
        }
      ]
    },
    {
      "cell_type": "code",
      "source": [
        "#불만인 것\n",
        "s + ss\n",
        "# 이게 왜 합집합이 아닌가??"
      ],
      "metadata": {
        "id": "RyYvUzeGMQiv"
      },
      "execution_count": null,
      "outputs": []
    },
    {
      "cell_type": "code",
      "source": [
        "s.add(100)\n",
        "s"
      ],
      "metadata": {
        "colab": {
          "base_uri": "https://localhost:8080/"
        },
        "id": "1SsMe4ZdMyVv",
        "outputId": "08851648-af02-4c53-bcc3-21af7221cc5c"
      },
      "execution_count": null,
      "outputs": [
        {
          "output_type": "execute_result",
          "data": {
            "text/plain": [
              "{1, 2, 3, 4, 100}"
            ]
          },
          "metadata": {},
          "execution_count": 313
        }
      ]
    },
    {
      "cell_type": "code",
      "source": [
        "# s.reomove(1000) # error 있는 값만 해야 합니다.\n",
        "s.discard(15400) # 에러가 나지 않는다.\n",
        "s"
      ],
      "metadata": {
        "colab": {
          "base_uri": "https://localhost:8080/"
        },
        "id": "JEY2IYDRM-jf",
        "outputId": "802817b6-37c9-4216-8064-42756fba5a5b"
      },
      "execution_count": null,
      "outputs": [
        {
          "output_type": "execute_result",
          "data": {
            "text/plain": [
              "{1, 2, 3, 4}"
            ]
          },
          "metadata": {},
          "execution_count": 318
        }
      ]
    },
    {
      "cell_type": "code",
      "source": [
        "자유게시판 = {'licat', 'licat', 'licat', 'mura', 'binky'}\n",
        "게시판 = {'licat', 'licat', 'licat'}\n",
        "set(게시판)"
      ],
      "metadata": {
        "colab": {
          "base_uri": "https://localhost:8080/"
        },
        "id": "Q5do_WcdNfeg",
        "outputId": "6b54beee-b576-4012-82c2-18e7409b789c"
      },
      "execution_count": null,
      "outputs": [
        {
          "output_type": "execute_result",
          "data": {
            "text/plain": [
              "{'licat'}"
            ]
          },
          "metadata": {},
          "execution_count": 320
        }
      ]
    },
    {
      "cell_type": "markdown",
      "source": [
        "# 리스트 컴프리헨션"
      ],
      "metadata": {
        "id": "GwBggX66OMuY"
      }
    },
    {
      "cell_type": "code",
      "source": [
        "# 전통적인 방법\n",
        "l = []\n",
        "for i in range(10):\n",
        "    l.append(i)\n",
        "l"
      ],
      "metadata": {
        "colab": {
          "base_uri": "https://localhost:8080/"
        },
        "id": "PaX1xn6aOCn_",
        "outputId": "fb7b52f1-a845-4e39-da3b-72227e8ac559"
      },
      "execution_count": null,
      "outputs": [
        {
          "output_type": "execute_result",
          "data": {
            "text/plain": [
              "[0, 1, 2, 3, 4, 5, 6, 7, 8, 9]"
            ]
          },
          "metadata": {},
          "execution_count": 327
        }
      ]
    },
    {
      "cell_type": "code",
      "source": [
        "l = [i for i in range(10)]\n",
        "l"
      ],
      "metadata": {
        "colab": {
          "base_uri": "https://localhost:8080/"
        },
        "id": "Xssyb_6mOY-g",
        "outputId": "bc2a4bd6-a716-4654-bb02-e70fc7aadef4"
      },
      "execution_count": null,
      "outputs": [
        {
          "output_type": "execute_result",
          "data": {
            "text/plain": [
              "[0, 1, 2, 3, 4, 5, 6, 7, 8, 9]"
            ]
          },
          "metadata": {},
          "execution_count": 324
        }
      ]
    },
    {
      "cell_type": "code",
      "source": [
        "l = []\n",
        "for i in range(10):\n",
        "    l.append(f'{i}입니다!')\n",
        "l"
      ],
      "metadata": {
        "colab": {
          "base_uri": "https://localhost:8080/"
        },
        "id": "PRihAlVqOwZ8",
        "outputId": "6ec5ed29-6d30-4122-d26c-fe775bdef108"
      },
      "execution_count": null,
      "outputs": [
        {
          "output_type": "execute_result",
          "data": {
            "text/plain": [
              "['0입니다!',\n",
              " '1입니다!',\n",
              " '2입니다!',\n",
              " '3입니다!',\n",
              " '4입니다!',\n",
              " '5입니다!',\n",
              " '6입니다!',\n",
              " '7입니다!',\n",
              " '8입니다!',\n",
              " '9입니다!']"
            ]
          },
          "metadata": {},
          "execution_count": 328
        }
      ]
    },
    {
      "cell_type": "code",
      "source": [
        "l = [f'{i}입니다!' for i in range(10)]\n",
        "l"
      ],
      "metadata": {
        "colab": {
          "base_uri": "https://localhost:8080/"
        },
        "id": "r8QI2bJ3O35M",
        "outputId": "f9d347c4-833d-4a89-a11d-cd7f2b02ee0a"
      },
      "execution_count": null,
      "outputs": [
        {
          "output_type": "execute_result",
          "data": {
            "text/plain": [
              "['0입니다!',\n",
              " '1입니다!',\n",
              " '2입니다!',\n",
              " '3입니다!',\n",
              " '4입니다!',\n",
              " '5입니다!',\n",
              " '6입니다!',\n",
              " '7입니다!',\n",
              " '8입니다!',\n",
              " '9입니다!']"
            ]
          },
          "metadata": {},
          "execution_count": 330
        }
      ]
    },
    {
      "cell_type": "code",
      "source": [
        "l = []\n",
        "for i in range(2, 10):\n",
        "    for j in range(1, 10):\n",
        "       l.append(f'{i} X {j} = {i * j}')\n",
        "l"
      ],
      "metadata": {
        "id": "koCWWfk3PVTp"
      },
      "execution_count": null,
      "outputs": []
    },
    {
      "cell_type": "code",
      "source": [
        "l = [f'{i} X {j} = {i*j}' for i in range(2, 10) for j in range(1, 10)]"
      ],
      "metadata": {
        "id": "AXTj_nbaPmpw"
      },
      "execution_count": null,
      "outputs": []
    },
    {
      "cell_type": "code",
      "source": [
        "l = []\n",
        "for i in range(10):\n",
        "    if i % 2 == 0:\n",
        "        l.append(i)\n",
        "l"
      ],
      "metadata": {
        "colab": {
          "base_uri": "https://localhost:8080/"
        },
        "id": "Q3WKY7EiP4G9",
        "outputId": "a5ad58cd-104e-48b0-9e63-db25108f3c48"
      },
      "execution_count": null,
      "outputs": [
        {
          "output_type": "execute_result",
          "data": {
            "text/plain": [
              "[0, 2, 4, 6, 8]"
            ]
          },
          "metadata": {},
          "execution_count": 337
        }
      ]
    },
    {
      "cell_type": "code",
      "source": [
        "l = [i for i in range(10)if i % 2 == 0]\n",
        "l"
      ],
      "metadata": {
        "colab": {
          "base_uri": "https://localhost:8080/"
        },
        "id": "RXVvdNXEQCRy",
        "outputId": "eff34540-9bf8-4b21-a626-6f45725dfc8a"
      },
      "execution_count": null,
      "outputs": [
        {
          "output_type": "execute_result",
          "data": {
            "text/plain": [
              "[0, 2, 4, 6, 8]"
            ]
          },
          "metadata": {},
          "execution_count": 339
        }
      ]
    },
    {
      "cell_type": "code",
      "source": [
        "l = []\n",
        "for i in range(10):\n",
        "    if i % 2 == 0:\n",
        "        l.append(i)\n",
        "    else:\n",
        "        l.append(None)\n",
        "l"
      ],
      "metadata": {
        "colab": {
          "base_uri": "https://localhost:8080/"
        },
        "id": "6oX-eKpKQHkD",
        "outputId": "e213e637-2430-42f1-fa4c-792e47629f06"
      },
      "execution_count": null,
      "outputs": [
        {
          "output_type": "execute_result",
          "data": {
            "text/plain": [
              "[0, None, 2, None, 4, None, 6, None, 8, None]"
            ]
          },
          "metadata": {},
          "execution_count": 340
        }
      ]
    },
    {
      "cell_type": "code",
      "source": [
        "# error가 나는 코드\n",
        "# l = [i for i in range(10)if i % 2 == 0 else None]\n",
        "# l"
      ],
      "metadata": {
        "id": "O0Z5UKzjQPLC"
      },
      "execution_count": null,
      "outputs": []
    },
    {
      "cell_type": "code",
      "source": [
        "l = [i if i % 2 == 0 else None for i in range(10)]\n",
        "l"
      ],
      "metadata": {
        "colab": {
          "base_uri": "https://localhost:8080/"
        },
        "id": "okrRjG2TQk8D",
        "outputId": "5ba0f1ba-4f54-491c-91c9-f4cf2e1021d2"
      },
      "execution_count": null,
      "outputs": [
        {
          "output_type": "execute_result",
          "data": {
            "text/plain": [
              "[0, None, 2, None, 4, None, 6, None, 8, None]"
            ]
          },
          "metadata": {},
          "execution_count": 344
        }
      ]
    }
  ]
}