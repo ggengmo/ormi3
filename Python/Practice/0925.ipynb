{
 "cells": [
  {
   "cell_type": "code",
   "execution_count": 4,
   "metadata": {},
   "outputs": [
    {
     "data": {
      "text/plain": [
       "'jpeg'"
      ]
     },
     "execution_count": 4,
     "metadata": {},
     "output_type": "execute_result"
    }
   ],
   "source": [
    "s = 'licat.jpeg'\n",
    "s = 'li.cat.jpeg'\n",
    "s.split('.')[-1]"
   ]
  },
  {
   "cell_type": "code",
   "execution_count": 12,
   "metadata": {},
   "outputs": [
    {
     "data": {
      "text/plain": [
       "-5"
      ]
     },
     "execution_count": 12,
     "metadata": {},
     "output_type": "execute_result"
    }
   ],
   "source": [
    "# a 와 b 를 더한 값과 a 와 b 를 뺀 값을 곱하는 함수를 만들어주세요.\n",
    "a = 2\n",
    "b = 3\n",
    "\n",
    "def mul(a, b):\n",
    "    return a * b\n",
    "\n",
    "def plus(a, b):\n",
    "    return a + b\n",
    "\n",
    "def minus(a, b):\n",
    "    return a - b\n",
    "\n",
    "mul(plus(a, b), minus(a, b))"
   ]
  },
  {
   "cell_type": "code",
   "execution_count": 13,
   "metadata": {},
   "outputs": [],
   "source": [
    "data = [\n",
    "    [2, 'hello world', 30],\n",
    "    [3, 'hworl', 33],\n",
    "    [5, 'hello wo', 35],\n",
    "    [4, 'hello w', 31],\n",
    "    [6, 'hello w', 39]\n",
    "]"
   ]
  },
  {
   "cell_type": "code",
   "execution_count": 17,
   "metadata": {},
   "outputs": [
    {
     "data": {
      "text/plain": [
       "[[2, 'hello world', 30],\n",
       " [3, 'hworl', 33],\n",
       " [4, 'hello w', 31],\n",
       " [5, 'hello wo', 35],\n",
       " [6, 'hello w', 39]]"
      ]
     },
     "execution_count": 17,
     "metadata": {},
     "output_type": "execute_result"
    }
   ],
   "source": [
    "# 1번쨰 문제 : 첫번째 요소의 값을 정렬하세요.\n",
    "sorted(data)"
   ]
  },
  {
   "cell_type": "code",
   "execution_count": 21,
   "metadata": {},
   "outputs": [
    {
     "data": {
      "text/plain": [
       "[[3, 'hworl', 33],\n",
       " [4, 'hello w', 31],\n",
       " [6, 'hello w', 39],\n",
       " [5, 'hello wo', 35],\n",
       " [2, 'hello world', 30]]"
      ]
     },
     "execution_count": 21,
     "metadata": {},
     "output_type": "execute_result"
    }
   ],
   "source": [
    "# 2번째 문제 : 두번째 요소의 문자열 길이를 기준으로 정렬하세요.\n",
    "sorted(data, key=lambda x: len(x[1]))"
   ]
  },
  {
   "cell_type": "code",
   "execution_count": 24,
   "metadata": {},
   "outputs": [
    {
     "data": {
      "text/plain": [
       "[[2, 'hello world', 30],\n",
       " [4, 'hello w', 31],\n",
       " [3, 'hworl', 33],\n",
       " [5, 'hello wo', 35],\n",
       " [6, 'hello w', 39]]"
      ]
     },
     "execution_count": 24,
     "metadata": {},
     "output_type": "execute_result"
    }
   ],
   "source": [
    "# 3번째 문제 : 세번째 요소 기준으로 정렬하세요.\n",
    "sorted(data, key=lambda x: x[2])"
   ]
  },
  {
   "cell_type": "code",
   "execution_count": 26,
   "metadata": {},
   "outputs": [
    {
     "data": {
      "text/plain": [
       "[[6, 'hello w', 39],\n",
       " [3, 'hworl', 33],\n",
       " [5, 'hello wo', 35],\n",
       " [2, 'hello world', 30],\n",
       " [4, 'hello w', 31]]"
      ]
     },
     "execution_count": 26,
     "metadata": {},
     "output_type": "execute_result"
    }
   ],
   "source": [
    "# 4번째 문제 : 첫번째 요소와 세번째 요소의 차카 큰 순으로 출력해주세요.\n",
    "sorted(data, key=lambda x: x[2] - x[0], reverse = True)"
   ]
  },
  {
   "cell_type": "code",
   "execution_count": 41,
   "metadata": {},
   "outputs": [
    {
     "data": {
      "text/plain": [
       "[10, 20, 25, 30, 40, 50]"
      ]
     },
     "execution_count": 41,
     "metadata": {},
     "output_type": "execute_result"
    }
   ],
   "source": [
    "# [10, 20, 40, 50, 30]와 같은 리스트에서 20과 30 중간에 25라는 값을 삽입하고 싶습니다.\n",
    "# 현재 리스트는 정렬되어 있지 않은데 이 리스트를 정렬하고 20과 30에 값을 index 메서드로 찾아\n",
    "# insert로 중간에 값을 삽입해주세요.\n",
    "l = sorted([10, 20, 40, 50, 30])\n",
    "l.insert(l.index(30), 25)\n",
    "l"
   ]
  },
  {
   "cell_type": "code",
   "execution_count": 46,
   "metadata": {},
   "outputs": [
    {
     "data": {
      "text/plain": [
       "75.0"
      ]
     },
     "execution_count": 46,
     "metadata": {},
     "output_type": "execute_result"
    }
   ],
   "source": [
    "국영수 = {'국어': 97, '영어': 38, '수학': 90}\n",
    "# 문제1 : 다음 국영수 dict에 점수에 평균을 구하시오.\n",
    "sum(국영수.values()) / len(국영수)"
   ]
  },
  {
   "cell_type": "code",
   "execution_count": 51,
   "metadata": {},
   "outputs": [
    {
     "data": {
      "text/plain": [
       "76.0"
      ]
     },
     "execution_count": 51,
     "metadata": {},
     "output_type": "execute_result"
    }
   ],
   "source": [
    "# 문제2 : {'사회':70, '과학': 85}가 추가되었습니다. dict에 평균을 구하는 코드를 작성하세요.\n",
    "국영수.update({'사회': 70, '과학': 85})\n",
    "국영수\n",
    "sum(국영수.values()) / len(국영수)"
   ]
  },
  {
   "cell_type": "code",
   "execution_count": 52,
   "metadata": {},
   "outputs": [
    {
     "data": {
      "text/plain": [
       "{'국어': 97, '영어': 48, '수학': 100, '사회': 70, '과학': 85}"
      ]
     },
     "execution_count": 52,
     "metadata": {},
     "output_type": "execute_result"
    }
   ],
   "source": [
    "# 문제3 : 영어와 수학점수가 각각 10점씩 올랐습니다. 점수를 10점 추가 해주세요.\n",
    "국영수['영어'] += 10\n",
    "국영수['수학'] += 10\n",
    "국영수"
   ]
  },
  {
   "cell_type": "code",
   "execution_count": 66,
   "metadata": {},
   "outputs": [
    {
     "data": {
      "text/plain": [
       "100"
      ]
     },
     "execution_count": 66,
     "metadata": {},
     "output_type": "execute_result"
    }
   ],
   "source": [
    "# 문제4 : 최종 점수에서 가장 높은 점수를 출력하는 코드를 작성해주세요.\n",
    "max(국영수.items(), key=lambda x: x[1])[1]"
   ]
  },
  {
   "cell_type": "code",
   "execution_count": 67,
   "metadata": {},
   "outputs": [],
   "source": [
    "data = [\n",
    "    {\n",
    "    \"_id\": \"fd7e9a0f-e77b-436a-B781-119b66033d49\",\n",
    "    \"index\": \"1\",\n",
    "    \"name\": \"나주헌\",\n",
    "    \"email\": \"user-tzctc1q@suspendisse.org\",\n",
    "    \"phone\": \"010-5547-5841\",\n",
    "    \"country\": \"과테말라\",\n",
    "    \"address\": \"광나루로 99-2\",\n",
    "    \"job\": \"유치원교사\",\n",
    "    \"gender\": \"여성\",\n",
    "    \"age\": \"43\"\n",
    "    },\n",
    "    {\n",
    "    \"_id\": \"8ec6eabb-160a-41e4-A3de-cd33aff0b281\",\n",
    "    \"index\": \"2\",\n",
    "    \"name\": \"엄루다\",\n",
    "    \"email\": \"user-1rz7xby@mi.org\",\n",
    "    \"phone\": \"010-3963-9373\",\n",
    "    \"country\": \"엘살바도르\",\n",
    "    \"address\": \"석촌호수로 37-1\",\n",
    "    \"job\": \"프로게이머\",\n",
    "    \"gender\": \"남성\",\n",
    "    \"age\": \"22\"\n",
    "    },\n",
    "    {\n",
    "    \"_id\": \"bcf804f7-0452-4c31-B9d1-20cc2d38490b\",\n",
    "    \"index\": \"3\",\n",
    "    \"name\": \"형유환\",\n",
    "    \"email\": \"user-ym96wth@have.net\",\n",
    "    \"phone\": \"010-6389-9499\",\n",
    "    \"country\": \"벨리즈\",\n",
    "    \"address\": \"잠실로 33-3\",\n",
    "    \"job\": \"아나운서\",\n",
    "    \"gender\": \"남성\",\n",
    "    \"age\": \"31\"\n",
    "    },\n",
    "    {\n",
    "    \"_id\": \"11006f0d-e88d-41fc-A288-caa2e67927e7\",\n",
    "    \"index\": \"4\",\n",
    "    \"name\": \"위도현\",\n",
    "    \"email\": \"user-tkxj6f5@diam.org\",\n",
    "    \"phone\": \"010-4246-4752\",\n",
    "    \"country\": \"바레인\",\n",
    "    \"address\": \"종로 99-8\",\n",
    "    \"job\": \"작곡가\",\n",
    "    \"gender\": \"여성\",\n",
    "    \"age\": \"42\"\n",
    "    },\n",
    "    {\n",
    "    \"_id\": \"b7421487-da52-4410-B696-17bab958a5d8\",\n",
    "    \"index\": \"5\",\n",
    "    \"name\": \"유성재\",\n",
    "    \"email\": \"user-bgxih63@Sed.net\",\n",
    "    \"phone\": \"010-6359-7592\",\n",
    "    \"country\": \"피지\",\n",
    "    \"address\": \"방학로 71-3\",\n",
    "    \"job\": \"연기자\",\n",
    "    \"gender\": \"여성\",\n",
    "    \"age\": \"48\"\n",
    "    }\n",
    "]"
   ]
  },
  {
   "cell_type": "code",
   "execution_count": 81,
   "metadata": {},
   "outputs": [
    {
     "data": {
      "text/plain": [
       "37.2"
      ]
     },
     "execution_count": 81,
     "metadata": {},
     "output_type": "execute_result"
    }
   ],
   "source": [
    "# 문제 1번: 평균 나이를 출력해주세요.\n",
    "ages = map(lambda x:x['age'], data)\n",
    "ages = list(map(int, ages))\n",
    "average = sum(ages) / len(ages)\n",
    "average"
   ]
  },
  {
   "cell_type": "code",
   "execution_count": 82,
   "metadata": {},
   "outputs": [
    {
     "name": "stdout",
     "output_type": "stream",
     "text": [
      "2 : 3\n"
     ]
    }
   ],
   "source": [
    "# 문제 2번: 남녀 성비를 출력해주세요.\n",
    "male = 0\n",
    "female = 0\n",
    "for i in range(len(data)):\n",
    "    if data[i]['gender'] == '남성':\n",
    "        male += 1\n",
    "    else:\n",
    "        female += 1\n",
    "\n",
    "print(f'{male} : {female}')\n"
   ]
  }
 ],
 "metadata": {
  "kernelspec": {
   "display_name": "main",
   "language": "python",
   "name": "python3"
  },
  "language_info": {
   "codemirror_mode": {
    "name": "ipython",
    "version": 3
   },
   "file_extension": ".py",
   "mimetype": "text/x-python",
   "name": "python",
   "nbconvert_exporter": "python",
   "pygments_lexer": "ipython3",
   "version": "3.11.5"
  },
  "orig_nbformat": 4
 },
 "nbformat": 4,
 "nbformat_minor": 2
}
