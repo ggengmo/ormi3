{
 "cells": [
  {
   "cell_type": "code",
   "execution_count": 1,
   "metadata": {},
   "outputs": [
    {
     "name": "stdout",
     "output_type": "stream",
     "text": [
      "1등은 python\n",
      "2등은 java\n",
      "3등은 javascript\n",
      "4등은 ruby\n"
     ]
    }
   ],
   "source": [
    "language_list = ['python', 'java', 'javascript', 'ruby']\n",
    "for i in range(len(language_list)):\n",
    "    language = language_list[i]\n",
    "    print(f'{i + 1}등은 {language}')"
   ]
  },
  {
   "cell_type": "code",
   "execution_count": 3,
   "metadata": {},
   "outputs": [
    {
     "name": "stdout",
     "output_type": "stream",
     "text": [
      "1등은 python\n",
      "2등은 java\n",
      "3등은 javascript\n",
      "4등은 ruby\n"
     ]
    }
   ],
   "source": [
    "for i, language in enumerate(language_list):\n",
    "    print(f'{i + 1}등은 {language}')"
   ]
  },
  {
   "cell_type": "code",
   "execution_count": 22,
   "metadata": {},
   "outputs": [
    {
     "name": "stdout",
     "output_type": "stream",
     "text": [
      "물고기 평균 무게: 2.50 kg\n"
     ]
    }
   ],
   "source": [
    "class Fish:\n",
    "\n",
    "    @classmethod\n",
    "    def average_weight(cls, fish_weight):\n",
    "        return sum(fish_weight) / len(fish_weight)\n",
    "\n",
    "fish_weight = [2.5, 3.1, 1.7, 2.8, 2.4]\n",
    "average = Fish.average_weight(fish_weight)\n",
    "print(f'물고기 평균 무게: {average:.2f} kg')"
   ]
  },
  {
   "cell_type": "code",
   "execution_count": 37,
   "metadata": {},
   "outputs": [
    {
     "name": "stdout",
     "output_type": "stream",
     "text": [
      "HWILP\n",
      "이오1여반\n",
      "복세편살\n"
     ]
    }
   ],
   "source": [
    "def get_first_letters(s):\n",
    "    word = s.split(' ')\n",
    "    first = [i[0] for i in word]\n",
    "    return ''.join(first)\n",
    "\n",
    "print(get_first_letters(\"Hello World! I Love Python\"))\n",
    "print(get_first_letters(\"이스트소프트 오르미 1기 여러분 반가워요!\"))   \n",
    "print(get_first_letters(\"복잡한 세상 편하게 살자\")) "
   ]
  },
  {
   "cell_type": "code",
   "execution_count": 60,
   "metadata": {},
   "outputs": [
    {
     "name": "stdout",
     "output_type": "stream",
     "text": [
      "HWILP\n",
      "이오1여반\n",
      "복세편살\n"
     ]
    }
   ],
   "source": [
    "def get_first_letters(s):\n",
    "    word = s.split()\n",
    "    letter = []\n",
    "    for i in word:\n",
    "        letter.append(i[0])\n",
    "    return ''.join(letter)\n",
    "\n",
    "print(get_first_letters(\"Hello World! I Love Python\"))\n",
    "print(get_first_letters(\"이스트소프트 오르미 1기 여러분 반가워요!\"))   \n",
    "print(get_first_letters(\"복잡한 세상 편하게 살자\")) "
   ]
  },
  {
   "cell_type": "code",
   "execution_count": 62,
   "metadata": {},
   "outputs": [
    {
     "name": "stdout",
     "output_type": "stream",
     "text": [
      "[4, 5]\n",
      "['ormi']\n",
      "[]\n"
     ]
    }
   ],
   "source": [
    "def common_elements(list1, list2):\n",
    "    return list(set(list1) & set(list2))\n",
    "\n",
    "print(common_elements([1, 2, 3, 4, 5], [4, 5, 6, 7, 8]))\n",
    "print(common_elements(['est', 'weniv', 'ormi'], ['licat', 'ormi']))\n",
    "print(common_elements([1, 2, 3], [4, 5, 6])  )"
   ]
  },
  {
   "cell_type": "code",
   "execution_count": 64,
   "metadata": {},
   "outputs": [
    {
     "name": "stdout",
     "output_type": "stream",
     "text": [
      "[4, 5]\n",
      "['ormi']\n",
      "[]\n"
     ]
    }
   ],
   "source": [
    "def common_elements(list1, list2):\n",
    "    common = []\n",
    "    for i in list1:\n",
    "        if i in list2:\n",
    "            common.append(i)\n",
    "    return common\n",
    "\n",
    "print(common_elements([1, 2, 3, 4, 5], [4, 5, 6, 7, 8]))\n",
    "print(common_elements(['est', 'weniv', 'ormi'], ['licat', 'ormi']))\n",
    "print(common_elements([1, 2, 3], [4, 5, 6])  )"
   ]
  },
  {
   "cell_type": "markdown",
   "metadata": {},
   "source": []
  }
 ],
 "metadata": {
  "kernelspec": {
   "display_name": "main",
   "language": "python",
   "name": "python3"
  },
  "language_info": {
   "codemirror_mode": {
    "name": "ipython",
    "version": 3
   },
   "file_extension": ".py",
   "mimetype": "text/x-python",
   "name": "python",
   "nbconvert_exporter": "python",
   "pygments_lexer": "ipython3",
   "version": "3.12.0"
  },
  "orig_nbformat": 4
 },
 "nbformat": 4,
 "nbformat_minor": 2
}
