{
 "cells": [
  {
   "cell_type": "code",
   "execution_count": 80,
   "metadata": {},
   "outputs": [
    {
     "data": {
      "text/plain": [
       "'철수'"
      ]
     },
     "execution_count": 80,
     "metadata": {},
     "output_type": "execute_result"
    }
   ],
   "source": [
    "# 1번 : 주어진 리스트 data = [{\"name\": \"길동\", \"수학\": 3, , \"과학\": 93}, {\"name\": \"춘향\", \"수학\": 33, \"수학\": 11}, {\"name\": \"철수\", \"수학\": 94, \"과학\": 67}]에서 평균점수가 가장 높은 학생에 이름을 출력하세요.\n",
    "data = [{\"name\": \"길동\", \"수학\": 3, \"과학\": 93}, {\"name\": \"춘향\", \"수학\": 33, \"과학\": 11}, {\"name\": \"철수\", \"수학\": 94, \"과학\": 67}]\n",
    "\n",
    "max(data, key = lambda x:x['수학'] + x['과학'] / 2)['name']"
   ]
  },
  {
   "cell_type": "code",
   "execution_count": null,
   "metadata": {},
   "outputs": [],
   "source": [
    "data = [\n",
    "    {\"이름\": \"길동\", \"수학\": 3, \"과학\": 93}, \n",
    "    {\"이름\": \"춘향\", \"수학\": 33, \"과학\": 11}, \n",
    "    {\"이름\": \"철수\", \"수학\": 94, \"과학\": 67}\n",
    "]\n",
    "max_entry = max(data, key=lambda x: x[\"수학\"]+x[\"과학\"])\n",
    "print(max_entry)\n",
    "print(max_entry[\"이름\"])"
   ]
  },
  {
   "cell_type": "code",
   "execution_count": 156,
   "metadata": {},
   "outputs": [
    {
     "data": {
      "text/plain": [
       "{'Tom': 92, 'Jerry': 100, 'Mickey': 75}"
      ]
     },
     "execution_count": 156,
     "metadata": {},
     "output_type": "execute_result"
    }
   ],
   "source": [
    "# 2번 : 주어진 사전 grades = {\"Tom\": 87, \"Jerry\": 95, \"Mickey\": 70}의 모든 값을 5점씩 증가시키고 결과를 출력하세요.\n",
    "grades = {\"Tom\": 87, \"Jerry\": 95, \"Mickey\": 70}\n",
    "\n",
    "b = {name: score + 5 for name, score in grades.items()}\n",
    "\n",
    "# for i in grades:\n",
    "#   grades[i] += 5\n",
    "\n",
    "grades\n",
    "b"
   ]
  },
  {
   "cell_type": "code",
   "execution_count": null,
   "metadata": {},
   "outputs": [],
   "source": [
    "grades = {\"Tom\": 87, \"Jerry\": 95, \"Mickey\": 70}\n",
    "# grades.update({'Tom': grades.get('Tom', 0) + 5})\n",
    "# grades.update({'Jerry': grades.get('Jerry', 0) + 5})\n",
    "# grades.update({'Mickey': grades.get('Mickey', 0) + 5})\n",
    "updated_grades = {name: score + 5 for name, score in grades.items()}\n",
    "print(updated_grades)"
   ]
  },
  {
   "cell_type": "code",
   "execution_count": 154,
   "metadata": {},
   "outputs": [
    {
     "data": {
      "text/plain": [
       "'apple'"
      ]
     },
     "execution_count": 154,
     "metadata": {},
     "output_type": "execute_result"
    }
   ],
   "source": [
    "# 3번 : 주어진 문자열 s = \"apple banana apple cherry banana cherry apple\"에서 가장 자주 등장하는 단어를 출력하세요.\n",
    "s = \"apple banana apple cherry banana cherry apple\"\n",
    "\n",
    "a = s.split(' ')\n",
    "max(a, key = a.count)\n"
   ]
  },
  {
   "cell_type": "code",
   "execution_count": 157,
   "metadata": {},
   "outputs": [
    {
     "name": "stdout",
     "output_type": "stream",
     "text": [
      "apple\n"
     ]
    }
   ],
   "source": [
    "s = \"apple banana apple cherry banana cherry apple\"\n",
    "words = s.split()\n",
    "most_frequent_word = max(set(words), key=words.count)\n",
    "print(most_frequent_word)"
   ]
  },
  {
   "cell_type": "code",
   "execution_count": 161,
   "metadata": {},
   "outputs": [
    {
     "data": {
      "text/plain": [
       "Counter({'apple': 3, 'banana': 2, 'cherry': 2})"
      ]
     },
     "execution_count": 161,
     "metadata": {},
     "output_type": "execute_result"
    }
   ],
   "source": [
    "from collections import Counter\n",
    "\n",
    "s = \"apple banana apple cherry banana cherry apple\"\n",
    "Counter(s.split())\n"
   ]
  },
  {
   "cell_type": "code",
   "execution_count": 169,
   "metadata": {},
   "outputs": [],
   "source": [
    "let = [1, 2, 99]\n",
    "for i in range(1, 10):\n",
    "  if i % 2 == 0:\n",
    "    let.append(i)\n",
    "let\n",
    "\n",
    "\n",
    "l =[i for i in range(1, 10)if i % 2 == 0]\n"
   ]
  },
  {
   "cell_type": "code",
   "execution_count": 174,
   "metadata": {},
   "outputs": [],
   "source": [
    "def sumthingFunction(i):\n",
    "    if i % 100 ==0:\n",
    "        return i\n",
    "    else:\n",
    "        return \n",
    "\n",
    "기존리스트= [100,200,300,101,202,303]"
   ]
  },
  {
   "cell_type": "code",
   "execution_count": 176,
   "metadata": {},
   "outputs": [],
   "source": [
    "sumthingFunction(301)"
   ]
  },
  {
   "cell_type": "code",
   "execution_count": 178,
   "metadata": {},
   "outputs": [
    {
     "name": "stdout",
     "output_type": "stream",
     "text": [
      "고기잡이 100\n",
      "고기팔기 120\n",
      "낚시 5\n",
      "통발 5\n",
      "큰그물 5\n"
     ]
    }
   ],
   "source": [
    "skill = [\n",
    "        ('고기잡이', 100),\n",
    "        ('고기팔기', 120),\n",
    "        ('낚시', 5),\n",
    "        ('통발', 5),\n",
    "        ('큰그물', 5)\n",
    "]\n",
    "\n",
    "for i,j in skill:\n",
    "    print(i,j)"
   ]
  },
  {
   "cell_type": "code",
   "execution_count": null,
   "metadata": {},
   "outputs": [],
   "source": []
  },
  {
   "cell_type": "code",
   "execution_count": 4,
   "metadata": {},
   "outputs": [
    {
     "data": {
      "text/plain": [
       "[11, 12, 13]"
      ]
     },
     "execution_count": 4,
     "metadata": {},
     "output_type": "execute_result"
    }
   ],
   "source": [
    "list(filter(lambda x : x>10, [1, 2, 3, 11, 12, 13]))"
   ]
  },
  {
   "cell_type": "code",
   "execution_count": 11,
   "metadata": {},
   "outputs": [
    {
     "data": {
      "text/plain": [
       "13"
      ]
     },
     "execution_count": 11,
     "metadata": {},
     "output_type": "execute_result"
    }
   ],
   "source": [
    "data = [1, 2, 3, 11, 12, 13]\n",
    "\n",
    "def date(x, y):\n",
    "  result = []\n",
    "  for i in data:\n",
    "    if x > 10:\n",
    "      result = []\n",
    "  return y\n",
    "  \n",
    "date(1, 13)"
   ]
  }
 ],
 "metadata": {
  "kernelspec": {
   "display_name": "Python 3",
   "language": "python",
   "name": "python3"
  },
  "language_info": {
   "codemirror_mode": {
    "name": "ipython",
    "version": 3
   },
   "file_extension": ".py",
   "mimetype": "text/x-python",
   "name": "python",
   "nbconvert_exporter": "python",
   "pygments_lexer": "ipython3",
   "version": "3.11.5"
  },
  "orig_nbformat": 4
 },
 "nbformat": 4,
 "nbformat_minor": 2
}
