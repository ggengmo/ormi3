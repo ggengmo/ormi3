{
 "cells": [
  {
   "cell_type": "code",
   "execution_count": 1,
   "metadata": {},
   "outputs": [
    {
     "name": "stdout",
     "output_type": "stream",
     "text": [
      "b는 0이 될 수 없습니다!\n"
     ]
    }
   ],
   "source": [
    "# 문제1(라운지 쓰레드)\n",
    "# 두 수를 나누는 함수 div(a, b)가 있었을 때 \n",
    "# b에 0이 입력되면 예외처리를 하여 정상작동이 되는 함수로 작성을 해주세요.\n",
    "\n",
    "\n",
    "# 문제3(class 쓰레드)\n",
    "# 사용자로부터 인덱스 값을 입력 받아서 리스트 [\"apple\", \"banana\", \"cherry\"]에서 \n",
    "# 해당 인덱스의 값을 출력하는 함수를 작성하세요.\n",
    "# 사용자가 범위를 벗어난 인덱스를 입력하면 \"리스트의 범위를 벗어났습니다.\"라는 메시지를 출력하세요.\n",
    "\n",
    "\n",
    "\n",
    "def div(a, b):\n",
    "  try:\n",
    "    return a / b\n",
    "  except:\n",
    "    print('b는 0이 될 수 없습니다!')\n",
    "\n",
    "div(3, 0)\n",
    "\n",
    "def div(a, b):\n",
    "  try:\n",
    "    return a / b\n",
    "  except ZeroDivisionError:\n",
    "    print('ZeroDivisionError')\n",
    "  except:\n",
    "    print('b는 0이 될 수 없습니다!')"
   ]
  },
  {
   "cell_type": "code",
   "execution_count": 34,
   "metadata": {},
   "outputs": [
    {
     "ename": "NegativeNumberError",
     "evalue": "음수의 제곱근은 계산할 수 없습니다.",
     "output_type": "error",
     "traceback": [
      "\u001b[1;31m---------------------------------------------------------------------------\u001b[0m",
      "\u001b[1;31mNegativeNumberError\u001b[0m                       Traceback (most recent call last)",
      "\u001b[1;32mc:\\Users\\rudah\\Desktop\\EST Soft\\TEST\\Python\\Practice\\0919Task.ipynb 셀 2\u001b[0m line \u001b[0;36m1\n\u001b[0;32m     <a href='vscode-notebook-cell:/c%3A/Users/rudah/Desktop/EST%20Soft/TEST/Python/Practice/0919Task.ipynb#W1sZmlsZQ%3D%3D?line=15'>16</a>\u001b[0m     \u001b[39mreturn\u001b[39;00m num \u001b[39m*\u001b[39m\u001b[39m*\u001b[39m \u001b[39m0.5\u001b[39m\n\u001b[0;32m     <a href='vscode-notebook-cell:/c%3A/Users/rudah/Desktop/EST%20Soft/TEST/Python/Practice/0919Task.ipynb#W1sZmlsZQ%3D%3D?line=17'>18</a>\u001b[0m sqrt_number(\u001b[39m9\u001b[39m)\n\u001b[1;32m---> <a href='vscode-notebook-cell:/c%3A/Users/rudah/Desktop/EST%20Soft/TEST/Python/Practice/0919Task.ipynb#W1sZmlsZQ%3D%3D?line=18'>19</a>\u001b[0m sqrt_number(\u001b[39m-\u001b[39;49m\u001b[39m9\u001b[39;49m)\n",
      "\u001b[1;32mc:\\Users\\rudah\\Desktop\\EST Soft\\TEST\\Python\\Practice\\0919Task.ipynb 셀 2\u001b[0m line \u001b[0;36m1\n\u001b[0;32m     <a href='vscode-notebook-cell:/c%3A/Users/rudah/Desktop/EST%20Soft/TEST/Python/Practice/0919Task.ipynb#W1sZmlsZQ%3D%3D?line=11'>12</a>\u001b[0m \u001b[39mdef\u001b[39;00m \u001b[39msqrt_number\u001b[39m(num):\n\u001b[0;32m     <a href='vscode-notebook-cell:/c%3A/Users/rudah/Desktop/EST%20Soft/TEST/Python/Practice/0919Task.ipynb#W1sZmlsZQ%3D%3D?line=12'>13</a>\u001b[0m   \u001b[39mif\u001b[39;00m num \u001b[39m<\u001b[39m \u001b[39m0\u001b[39m:\n\u001b[1;32m---> <a href='vscode-notebook-cell:/c%3A/Users/rudah/Desktop/EST%20Soft/TEST/Python/Practice/0919Task.ipynb#W1sZmlsZQ%3D%3D?line=13'>14</a>\u001b[0m     \u001b[39mraise\u001b[39;00m NegativeNumberError\n\u001b[0;32m     <a href='vscode-notebook-cell:/c%3A/Users/rudah/Desktop/EST%20Soft/TEST/Python/Practice/0919Task.ipynb#W1sZmlsZQ%3D%3D?line=14'>15</a>\u001b[0m   \u001b[39melse\u001b[39;00m:\n\u001b[0;32m     <a href='vscode-notebook-cell:/c%3A/Users/rudah/Desktop/EST%20Soft/TEST/Python/Practice/0919Task.ipynb#W1sZmlsZQ%3D%3D?line=15'>16</a>\u001b[0m     \u001b[39mreturn\u001b[39;00m num \u001b[39m*\u001b[39m\u001b[39m*\u001b[39m \u001b[39m0.5\u001b[39m\n",
      "\u001b[1;31mNegativeNumberError\u001b[0m: 음수의 제곱근은 계산할 수 없습니다."
     ]
    }
   ],
   "source": [
    "# 문제2(class 쓰레드)\n",
    "# 하나의 숫자에 제곱근을 구하는 함수 sqrt_number(num)이 있었을 때\n",
    "# 자체 예외 NegativeNumberError를 정의하세요. 이 예외는 음수가 입력될 때 발생하도록 합니다.\n",
    "# 사용자로부터 숫자를 입력 받아 그 숫자의 제곱근을 반환하는 함수를 작성하세요.\n",
    "# 입력된 숫자가 음수이면 NegativeNumberError를 발생시키고 \n",
    "# \"음수의 제곱근은 계산할 수 없습니다.\"라는 메시지를 출력하세요.\n",
    "\n",
    "class NegativeNumberError(Exception):\n",
    "\n",
    "  def __init__(self):\n",
    "    super().__init__('음수의 제곱근은 계산할 수 없습니다.')\n",
    "\n",
    "def sqrt_number(num):\n",
    "  \n",
    "  if num < 0:\n",
    "    raise NegativeNumberError\n",
    "  else:\n",
    "    return num ** 0.5\n",
    "\n",
    "sqrt_number(9)\n",
    "sqrt_number(-9)"
   ]
  },
  {
   "cell_type": "code",
   "execution_count": 1,
   "metadata": {},
   "outputs": [
    {
     "ename": "ValueError",
     "evalue": "invalid literal for int() with base 10: 'apple'",
     "output_type": "error",
     "traceback": [
      "\u001b[1;31m---------------------------------------------------------------------------\u001b[0m",
      "\u001b[1;31mValueError\u001b[0m                                Traceback (most recent call last)",
      "\u001b[1;32mc:\\Users\\rudah\\Desktop\\EST Soft\\TEST\\Python\\Practice\\0919Task.ipynb 셀 3\u001b[0m line \u001b[0;36m7\n\u001b[0;32m      <a href='vscode-notebook-cell:/c%3A/Users/rudah/Desktop/EST%20Soft/TEST/Python/Practice/0919Task.ipynb#W2sZmlsZQ%3D%3D?line=0'>1</a>\u001b[0m \u001b[39m# 문제3(class 쓰레드)\u001b[39;00m\n\u001b[0;32m      <a href='vscode-notebook-cell:/c%3A/Users/rudah/Desktop/EST%20Soft/TEST/Python/Practice/0919Task.ipynb#W2sZmlsZQ%3D%3D?line=1'>2</a>\u001b[0m \u001b[39m# 사용자로부터 인덱스 값을 입력 받아서 리스트 [\"apple\", \"banana\", \"cherry\"]에서 \u001b[39;00m\n\u001b[0;32m      <a href='vscode-notebook-cell:/c%3A/Users/rudah/Desktop/EST%20Soft/TEST/Python/Practice/0919Task.ipynb#W2sZmlsZQ%3D%3D?line=2'>3</a>\u001b[0m \u001b[39m# 해당 인덱스의 값을 출력하는 함수를 작성하세요.\u001b[39;00m\n\u001b[0;32m      <a href='vscode-notebook-cell:/c%3A/Users/rudah/Desktop/EST%20Soft/TEST/Python/Practice/0919Task.ipynb#W2sZmlsZQ%3D%3D?line=3'>4</a>\u001b[0m \u001b[39m# 사용자가 범위를 벗어난 인덱스를 입력하면 \"리스트의 범위를 벗어났습니다.\"라는 메시지를 출력하세요.\u001b[39;00m\n\u001b[0;32m      <a href='vscode-notebook-cell:/c%3A/Users/rudah/Desktop/EST%20Soft/TEST/Python/Practice/0919Task.ipynb#W2sZmlsZQ%3D%3D?line=5'>6</a>\u001b[0m fruit \u001b[39m=\u001b[39m [\u001b[39m'\u001b[39m\u001b[39mapple\u001b[39m\u001b[39m'\u001b[39m, \u001b[39m'\u001b[39m\u001b[39mbanana\u001b[39m\u001b[39m'\u001b[39m, \u001b[39m'\u001b[39m\u001b[39mcherry\u001b[39m\u001b[39m'\u001b[39m]\n\u001b[1;32m----> <a href='vscode-notebook-cell:/c%3A/Users/rudah/Desktop/EST%20Soft/TEST/Python/Practice/0919Task.ipynb#W2sZmlsZQ%3D%3D?line=6'>7</a>\u001b[0m index \u001b[39m=\u001b[39m \u001b[39mint\u001b[39;49m(\u001b[39minput\u001b[39;49m(\u001b[39m'\u001b[39;49m\u001b[39m인덱스 값을 입력하세요!: \u001b[39;49m\u001b[39m'\u001b[39;49m))\n\u001b[0;32m      <a href='vscode-notebook-cell:/c%3A/Users/rudah/Desktop/EST%20Soft/TEST/Python/Practice/0919Task.ipynb#W2sZmlsZQ%3D%3D?line=7'>8</a>\u001b[0m \u001b[39mtry\u001b[39;00m:\n\u001b[0;32m      <a href='vscode-notebook-cell:/c%3A/Users/rudah/Desktop/EST%20Soft/TEST/Python/Practice/0919Task.ipynb#W2sZmlsZQ%3D%3D?line=8'>9</a>\u001b[0m   \u001b[39mprint\u001b[39m(fruit[index])\n",
      "\u001b[1;31mValueError\u001b[0m: invalid literal for int() with base 10: 'apple'"
     ]
    }
   ],
   "source": [
    "# 문제3(class 쓰레드)\n",
    "# 사용자로부터 인덱스 값을 입력 받아서 리스트 [\"apple\", \"banana\", \"cherry\"]에서 \n",
    "# 해당 인덱스의 값을 출력하는 함수를 작성하세요.\n",
    "# 사용자가 범위를 벗어난 인덱스를 입력하면 \"리스트의 범위를 벗어났습니다.\"라는 메시지를 출력하세요.\n",
    "\n",
    "fruit = ['apple', 'banana', 'cherry']\n",
    "index = int(input('인덱스 값을 입력하세요!: '))\n",
    "try:\n",
    "  print(fruit[index])\n",
    "except:\n",
    "  print('리스트의 범위를 벗어났습니다.')"
   ]
  }
 ],
 "metadata": {
  "kernelspec": {
   "display_name": "Python 3",
   "language": "python",
   "name": "python3"
  },
  "language_info": {
   "codemirror_mode": {
    "name": "ipython",
    "version": 3
   },
   "file_extension": ".py",
   "mimetype": "text/x-python",
   "name": "python",
   "nbconvert_exporter": "python",
   "pygments_lexer": "ipython3",
   "version": "3.11.5"
  },
  "orig_nbformat": 4
 },
 "nbformat": 4,
 "nbformat_minor": 2
}
