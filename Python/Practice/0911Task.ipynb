{
 "cells": [
  {
   "cell_type": "code",
   "execution_count": 1,
   "metadata": {},
   "outputs": [
    {
     "data": {
      "text/plain": [
       "True"
      ]
     },
     "execution_count": 1,
     "metadata": {},
     "output_type": "execute_result"
    }
   ],
   "source": [
    "x = 3\n",
    "y = 5\n",
    "result = (isinstance(x, int) and isinstance(y, int)) # 여기에 논리연산자를 더 붙여 두 수를 더하는 코드를 만들어보세요.\n",
    "result # 8이 출력되어야 합니다."
   ]
  },
  {
   "cell_type": "code",
   "execution_count": 74,
   "metadata": {},
   "outputs": [
    {
     "name": "stdout",
     "output_type": "stream",
     "text": [
      "8\n"
     ]
    }
   ],
   "source": [
    "x = 3\n",
    "y = 5\n",
    "result = ((isinstance(x, int) or isinstance(y, int)) and x + y)\n",
    "print(result)"
   ]
  },
  {
   "cell_type": "code",
   "execution_count": 6,
   "metadata": {},
   "outputs": [
    {
     "name": "stdout",
     "output_type": "stream",
     "text": [
      "False\n",
      "False\n",
      "False\n"
     ]
    }
   ],
   "source": [
    "print('hello' < 'hell o') #False 'hell o'가  [0] 부터 차례대록 비교하면서  False\n",
    "print([10, 20, 30] < [10, 19, 100]) # False [0] 부터 비교하면서 [1]에서 20 > 19 이기 때문에 False이다.\n",
    "print(10 % 3.3 == 0.1) #10을 3.3으로 나눈 나머지를 계산하면 부동소수점 문제로 0.1이 아니라 미세한 다른 값이 나올 수 있어서 False이다."
   ]
  },
  {
   "cell_type": "code",
   "execution_count": 75,
   "metadata": {},
   "outputs": [
    {
     "name": "stdout",
     "output_type": "stream",
     "text": [
      "gmail\n",
      "naver\n",
      "weniv\n",
      "weniv\n"
     ]
    }
   ],
   "source": [
    "email2 = 'abc@gmail.com' # gmail\n",
    "email3 = 'abc@naver.com' # naver\n",
    "email4 = 'abc@weniv.co.kr' # weniv\n",
    "email5 = 'li.cat@weniv.co.kr' # weniv\n",
    "\n",
    "print(email2.split('@')[1].split('.')[0])\n",
    "print(email3.split('@')[1].split('.')[0])\n",
    "print(email4.split('@')[1].split('.')[0])\n",
    "print(email5.split('@')[1].split('.')[0])"
   ]
  },
  {
   "cell_type": "code",
   "execution_count": 2,
   "metadata": {},
   "outputs": [],
   "source": [
    "email2 = 'abc@gmail.com' # gmail\n",
    "email3 = 'abc@naver.com' # naver\n",
    "email4 = 'abc@weniv.co.kr' # weniv\n",
    "email5 = 'li.cat@weniv.co.kr' # weniv"
   ]
  },
  {
   "cell_type": "code",
   "execution_count": 14,
   "metadata": {},
   "outputs": [
    {
     "data": {
      "text/plain": [
       "'weniv'"
      ]
     },
     "execution_count": 14,
     "metadata": {},
     "output_type": "execute_result"
    }
   ],
   "source": [
    "email2[0:].split('@')[1].split('.')[0]\n",
    "email3[0:].split('@')[1].split('.')[0]\n",
    "email4[0:].split('@')[1].split('.')[0]\n",
    "email5[0:].split('@')[1].split('.')[0]"
   ]
  }
 ],
 "metadata": {
  "kernelspec": {
   "display_name": "Python 3",
   "language": "python",
   "name": "python3"
  },
  "language_info": {
   "codemirror_mode": {
    "name": "ipython",
    "version": 3
   },
   "file_extension": ".py",
   "mimetype": "text/x-python",
   "name": "python",
   "nbconvert_exporter": "python",
   "pygments_lexer": "ipython3",
   "version": "3.11.5"
  },
  "orig_nbformat": 4
 },
 "nbformat": 4,
 "nbformat_minor": 2
}
