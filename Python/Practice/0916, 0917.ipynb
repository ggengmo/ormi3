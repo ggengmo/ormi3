{
 "cells": [
  {
   "cell_type": "code",
   "execution_count": 4,
   "metadata": {},
   "outputs": [
    {
     "data": {
      "text/plain": [
       "-5"
      ]
     },
     "execution_count": 4,
     "metadata": {},
     "output_type": "execute_result"
    }
   ],
   "source": [
    "# a 와 b 를 더한 값과 a 와 b 를 뺀 값을 곱하는 함수를 만들어주세요.\n",
    "a = 2\n",
    "b = 3\n",
    "\n",
    "def plus(a, b):\n",
    "  return a + b\n",
    "\n",
    "def minus(a, b):\n",
    "  return a - b\n",
    "\n",
    "def multiple(a, b):\n",
    "  return plus(a, b) * minus(a, b)\n",
    "\n",
    "multiple(a, b)"
   ]
  },
  {
   "cell_type": "code",
   "execution_count": 7,
   "metadata": {},
   "outputs": [
    {
     "name": "stdout",
     "output_type": "stream",
     "text": [
      "100\n"
     ]
    }
   ],
   "source": [
    "x = 100\n",
    "def f():\n",
    "    x = 200\n",
    "    return x\n",
    "\n",
    "f()\n",
    "print(x)"
   ]
  },
  {
   "cell_type": "code",
   "execution_count": 8,
   "metadata": {},
   "outputs": [
    {
     "name": "stdout",
     "output_type": "stream",
     "text": [
      "100\n",
      "1000\n",
      "10000\n",
      "10\n"
     ]
    }
   ],
   "source": [
    "a = 10\n",
    "def f():\n",
    "  \n",
    "    a = 100\n",
    "    print(a)\n",
    "    def ff():\n",
    "        a = 1000\n",
    "        print(a)\n",
    "        def fff():\n",
    "            a = 10000\n",
    "            print(a)\n",
    "        fff()\n",
    "    ff()\n",
    "f()           # a = 100 1000 10000\n",
    "print(a)"
   ]
  },
  {
   "cell_type": "code",
   "execution_count": 9,
   "metadata": {},
   "outputs": [
    {
     "data": {
      "text/plain": [
       "120"
      ]
     },
     "execution_count": 9,
     "metadata": {},
     "output_type": "execute_result"
    }
   ],
   "source": [
    "n = 5\n",
    "result = 1\n",
    "for i in range(1, n+1):\n",
    "    result *= i\n",
    "result"
   ]
  },
  {
   "cell_type": "code",
   "execution_count": 10,
   "metadata": {},
   "outputs": [
    {
     "name": "stdout",
     "output_type": "stream",
     "text": [
      "I\n",
      "love\n",
      "python\n"
     ]
    }
   ],
   "source": [
    "a = 'python'\n",
    "\n",
    "def 함수1():\n",
    "    def 함수2():\n",
    "        print('love')\n",
    "        \n",
    "    print('I')\n",
    "    함수2()\n",
    "    return \"python\"\n",
    "\t\n",
    "\n",
    "a = 함수1()\n",
    "print(a)"
   ]
  },
  {
   "cell_type": "code",
   "execution_count": 11,
   "metadata": {},
   "outputs": [
    {
     "name": "stdout",
     "output_type": "stream",
     "text": [
      "plus : 15\n",
      "minus : 5\n",
      "multiply : 50\n",
      "divide : 2.0\n"
     ]
    }
   ],
   "source": [
    "def plus(num1, num2):\n",
    "\treturn num1 + num2\n",
    "\n",
    "def minus(num1, num2):\n",
    "\treturn num1 - num2\n",
    "\n",
    "def multiply(num1, num2):\n",
    "\treturn num1 * num2\n",
    "\n",
    "def divide(num1, num2):\n",
    "\treturn num1 / num2\n",
    "\n",
    "print(f'plus : {plus(10, 5)}')\n",
    "print(f'minus : {minus(10, 5)}')\n",
    "print(f'multiply : {multiply(10, 5)}')\n",
    "print(f'divide : {divide(10, 5)}')"
   ]
  },
  {
   "cell_type": "code",
   "execution_count": 24,
   "metadata": {},
   "outputs": [
    {
     "name": "stdout",
     "output_type": "stream",
     "text": [
      "(a + b) * (a - b) = -5\n"
     ]
    }
   ],
   "source": [
    "a = 2\n",
    "b = 3\n",
    "def plus(a, b):\n",
    "  return a + b\n",
    "\n",
    "def minus(a, b):\n",
    "  return a - b\n",
    "\n",
    "def multiple(a, b):\n",
    "  return plus(a, b) * minus(a, b)\n",
    "\n",
    "print('(a + b) * (a - b) =', multiple(a, b))\n"
   ]
  },
  {
   "cell_type": "code",
   "execution_count": 34,
   "metadata": {},
   "outputs": [
    {
     "data": {
      "text/plain": [
       "'licat'"
      ]
     },
     "execution_count": 34,
     "metadata": {},
     "output_type": "execute_result"
    }
   ],
   "source": [
    "data = [['weniv CTO binky', 2], ['weniv CEO licat', 1], ['weniv COO mura', 2]]\n",
    "sorted(data)[0][0].split()[2]"
   ]
  },
  {
   "cell_type": "code",
   "execution_count": 42,
   "metadata": {},
   "outputs": [
    {
     "data": {
      "text/plain": [
       "[3, 5, 7, 9]"
      ]
     },
     "execution_count": 42,
     "metadata": {},
     "output_type": "execute_result"
    }
   ],
   "source": [
    "numbers = [2, 3, 4, 5, 6, 7, 8, 9, 10]\n",
    "list(filter(lambda x: x % 2 != 0, numbers)) # 결과: [3, 5, 7, 9]"
   ]
  },
  {
   "cell_type": "code",
   "execution_count": 49,
   "metadata": {},
   "outputs": [
    {
     "data": {
      "text/plain": [
       "1"
      ]
     },
     "execution_count": 49,
     "metadata": {},
     "output_type": "execute_result"
    }
   ],
   "source": [
    "range(10)[1]"
   ]
  },
  {
   "cell_type": "code",
   "execution_count": 84,
   "metadata": {},
   "outputs": [
    {
     "data": {
      "text/plain": [
       "'licat'"
      ]
     },
     "execution_count": 84,
     "metadata": {},
     "output_type": "execute_result"
    }
   ],
   "source": [
    "data = [['weniv CTO binky', 2], ['weniv CEO licat', 1], ['weniv COO mura', 2]]\n",
    "a = sorted(data, key = lambda x: x[1])[0][0]\n",
    "a[a.find('licat'):]"
   ]
  },
  {
   "cell_type": "code",
   "execution_count": 90,
   "metadata": {},
   "outputs": [
    {
     "data": {
      "text/plain": [
       "2070"
      ]
     },
     "execution_count": 90,
     "metadata": {},
     "output_type": "execute_result"
    }
   ],
   "source": [
    "sum(list(range(101)))\n",
    "# 문제 1: 짝수를 모두 더해주세요.\n",
    "sum(list(range(101)[::2]))\n",
    "# 문제 2: 3의 배수와 5의 배수를 모두 더해주세요.\n",
    "sum(list(range(101)[::3])) + sum(list(range(101)[::5])) - sum(list(range(101)[::15]))\n",
    "# (슬라이싱 2개 사용) 난이도가 있는 보너스 문제: 1부터 90까지의 짝수를 모두 더해주세요.\n",
    "sum(list(range(101)[:91])[::2])"
   ]
  },
  {
   "cell_type": "code",
   "execution_count": 74,
   "metadata": {},
   "outputs": [
    {
     "data": {
      "text/plain": [
       "402"
      ]
     },
     "execution_count": 74,
     "metadata": {},
     "output_type": "execute_result"
    }
   ],
   "source": [
    "student_score = {\n",
    "\t\t'홍의': 97,\n",
    "\t\t'원희': 60,\n",
    "\t\t'동해': 77,\n",
    "\t\t'변수': 79,\n",
    "\t\t'창현': 89,\n",
    "}\n",
    "sum(student_score.values())"
   ]
  },
  {
   "cell_type": "code",
   "execution_count": 76,
   "metadata": {},
   "outputs": [
    {
     "data": {
      "text/plain": [
       "80.4"
      ]
     },
     "execution_count": 76,
     "metadata": {},
     "output_type": "execute_result"
    }
   ],
   "source": [
    "sum(student_score.values()) / len(student_score.values())"
   ]
  },
  {
   "cell_type": "code",
   "execution_count": 91,
   "metadata": {},
   "outputs": [
    {
     "data": {
      "text/plain": [
       "'홍의'"
      ]
     },
     "execution_count": 91,
     "metadata": {},
     "output_type": "execute_result"
    }
   ],
   "source": [
    "max(student_score, key=student_score.get)"
   ]
  },
  {
   "cell_type": "code",
   "execution_count": 98,
   "metadata": {},
   "outputs": [
    {
     "name": "stdout",
     "output_type": "stream",
     "text": [
      "['볶음밥', '라면', '치킨', '짜장면']\n"
     ]
    }
   ],
   "source": [
    "like = ['볶음밥', '라면', '국수', '파스타', '치킨', '짜장면', '국밥']\n",
    "dislike = ['국밥', '짬뽕', '찜닭', '파스타', '국수', '카레', '덮밥']\n",
    "\n",
    "s = []\n",
    "\n",
    "for i in like:\n",
    "  if i not in dislike:\n",
    "    s.append(i)\n",
    "\n",
    "print(s)"
   ]
  },
  {
   "cell_type": "code",
   "execution_count": 106,
   "metadata": {},
   "outputs": [
    {
     "data": {
      "text/plain": [
       "'철수'"
      ]
     },
     "execution_count": 106,
     "metadata": {},
     "output_type": "execute_result"
    }
   ],
   "source": [
    "data = [{\"이름\": \"길동\", \"수학\": 3, \"과학\": 93}, {\"이름\": \"춘향\", \"수학\": 33, \"과학\": 11}, {\"이름\": \"철수\", \"수학\": 94, \"과학\": 67}]\n",
    "max(data, key=lambda x: x['수학'] + x['과학'])['이름']"
   ]
  },
  {
   "cell_type": "code",
   "execution_count": 110,
   "metadata": {},
   "outputs": [
    {
     "data": {
      "text/plain": [
       "{'Tom': 92, 'Jerry': 95, 'Mickey': 70}"
      ]
     },
     "execution_count": 110,
     "metadata": {},
     "output_type": "execute_result"
    }
   ],
   "source": [
    "grades = {\"Tom\": 87, \"Jerry\": 95, \"Mickey\": 70}\n",
    "grades.update({'Tom': 92})\n",
    "grades"
   ]
  },
  {
   "cell_type": "code",
   "execution_count": 121,
   "metadata": {},
   "outputs": [
    {
     "data": {
      "text/plain": [
       "'apple'"
      ]
     },
     "execution_count": 121,
     "metadata": {},
     "output_type": "execute_result"
    }
   ],
   "source": [
    "s = \"apple banana apple cherry banana cherry apple\"\n",
    "max(set(s.split()), key=s.count)"
   ]
  },
  {
   "cell_type": "code",
   "execution_count": 124,
   "metadata": {},
   "outputs": [
    {
     "name": "stdout",
     "output_type": "stream",
     "text": [
      "고등어  5  개 남았습니다.\n",
      "고등어  4  개 남았습니다.\n",
      "고등어  3  개 남았습니다.\n",
      "고등어  2  개 남았습니다.\n",
      "고등어  1  개 남았습니다.\n",
      "고등어 다 팔렸습니다.\n"
     ]
    }
   ],
   "source": [
    "for i in range(5, 0, -1):\n",
    "    print('고등어 ', i, ' 개 남았습니다.')\n",
    "else:\n",
    "    print('고등어 다 팔렸습니다.')"
   ]
  },
  {
   "cell_type": "code",
   "execution_count": 128,
   "metadata": {},
   "outputs": [
    {
     "data": {
      "text/plain": [
       "2418"
      ]
     },
     "execution_count": 128,
     "metadata": {},
     "output_type": "execute_result"
    }
   ],
   "source": [
    "# list(range(101))와 슬라이싱을 사용해 아래 문제를 풀어주세요.\n",
    "\n",
    "# 문제 1: 짝수를 모두 더해주세요\n",
    "# 문제 2: 3의 배수와 5의 배수를 모두 더해주세요.\n",
    "\n",
    "sum(list(range(101)[::2]))\n",
    "sum(list(range(101)[::3])) + sum(list(range(101)[::5])) - sum(list(range(101)[::15]))"
   ]
  },
  {
   "cell_type": "code",
   "execution_count": 131,
   "metadata": {},
   "outputs": [
    {
     "name": "stdout",
     "output_type": "stream",
     "text": [
      "[4, 3, 10, 2, 1]\n",
      "[1, 2, 10, 3, 4]\n"
     ]
    }
   ],
   "source": [
    "l = [1, 2, 10, 3, 4]\n",
    "print(list(reversed(l)))\n",
    "print(l)"
   ]
  },
  {
   "cell_type": "code",
   "execution_count": 132,
   "metadata": {},
   "outputs": [],
   "source": [
    "data = [\n",
    "  {\n",
    "    \"_id\": \"fd7e9a0f-e77b-436a-B781-119b66033d49\",\n",
    "    \"index\": \"1\",\n",
    "    \"name\": \"나주헌\",\n",
    "    \"email\": \"user-tzctc1q@suspendisse.org\",\n",
    "    \"phone\": \"010-5547-5841\",\n",
    "    \"country\": \"과테말라\",\n",
    "    \"address\": \"광나루로 99-2\",\n",
    "    \"job\": \"유치원교사\",\n",
    "    \"gender\": \"여성\",\n",
    "    \"age\": \"43\"\n",
    "  },\n",
    "  {\n",
    "    \"_id\": \"8ec6eabb-160a-41e4-A3de-cd33aff0b281\",\n",
    "    \"index\": \"2\",\n",
    "    \"name\": \"엄루다\",\n",
    "    \"email\": \"user-1rz7xby@mi.org\",\n",
    "    \"phone\": \"010-3963-9373\",\n",
    "    \"country\": \"엘살바도르\",\n",
    "    \"address\": \"석촌호수로 37-1\",\n",
    "    \"job\": \"프로게이머\",\n",
    "    \"gender\": \"남성\",\n",
    "    \"age\": \"22\"\n",
    "  },\n",
    "  {\n",
    "    \"_id\": \"bcf804f7-0452-4c31-B9d1-20cc2d38490b\",\n",
    "    \"index\": \"3\",\n",
    "    \"name\": \"형유환\",\n",
    "    \"email\": \"user-ym96wth@have.net\",\n",
    "    \"phone\": \"010-6389-9499\",\n",
    "    \"country\": \"벨리즈\",\n",
    "    \"address\": \"잠실로 33-3\",\n",
    "    \"job\": \"아나운서\",\n",
    "    \"gender\": \"남성\",\n",
    "    \"age\": \"31\"\n",
    "  },\n",
    "  {\n",
    "    \"_id\": \"11006f0d-e88d-41fc-A288-caa2e67927e7\",\n",
    "    \"index\": \"4\",\n",
    "    \"name\": \"위도현\",\n",
    "    \"email\": \"user-tkxj6f5@diam.org\",\n",
    "    \"phone\": \"010-4246-4752\",\n",
    "    \"country\": \"바레인\",\n",
    "    \"address\": \"종로 99-8\",\n",
    "    \"job\": \"작곡가\",\n",
    "    \"gender\": \"여성\",\n",
    "    \"age\": \"42\"\n",
    "  },\n",
    "  {\n",
    "    \"_id\": \"b7421487-da52-4410-B696-17bab958a5d8\",\n",
    "    \"index\": \"5\",\n",
    "    \"name\": \"유성재\",\n",
    "    \"email\": \"user-bgxih63@Sed.net\",\n",
    "    \"phone\": \"010-6359-7592\",\n",
    "    \"country\": \"피지\",\n",
    "    \"address\": \"방학로 71-3\",\n",
    "    \"job\": \"연기자\",\n",
    "    \"gender\": \"여성\",\n",
    "    \"age\": \"48\"\n",
    "  }\n",
    "]\n",
    "# 문제 1번: 평균 나이를 출력해주세요.\n",
    "# 문제 2번: 남녀 성비를 출력해주세요."
   ]
  },
  {
   "cell_type": "code",
   "execution_count": 149,
   "metadata": {},
   "outputs": [
    {
     "data": {
      "text/plain": [
       "37.2"
      ]
     },
     "execution_count": 149,
     "metadata": {},
     "output_type": "execute_result"
    }
   ],
   "source": [
    "s = list(map(lambda x: x['age'], data))\n",
    "s = map(int, s)\n",
    "s = list(s)\n",
    "sum(s) / len(s)"
   ]
  },
  {
   "cell_type": "code",
   "execution_count": 154,
   "metadata": {},
   "outputs": [
    {
     "name": "stdout",
     "output_type": "stream",
     "text": [
      "2:3\n"
     ]
    }
   ],
   "source": [
    "male = 0\n",
    "female = 0\n",
    "\n",
    "for i in range(len(data)):\n",
    "  if (data[i]['gender']) == '남성':\n",
    "    male += 1\n",
    "  else:\n",
    "    female += 1\n",
    "\n",
    "print(f'{male}:{female}')"
   ]
  }
 ],
 "metadata": {
  "kernelspec": {
   "display_name": "Python 3",
   "language": "python",
   "name": "python3"
  },
  "language_info": {
   "codemirror_mode": {
    "name": "ipython",
    "version": 3
   },
   "file_extension": ".py",
   "mimetype": "text/x-python",
   "name": "python",
   "nbconvert_exporter": "python",
   "pygments_lexer": "ipython3",
   "version": "3.11.5"
  },
  "orig_nbformat": 4
 },
 "nbformat": 4,
 "nbformat_minor": 2
}
