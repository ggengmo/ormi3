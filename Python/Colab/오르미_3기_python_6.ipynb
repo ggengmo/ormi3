{
  "nbformat": 4,
  "nbformat_minor": 0,
  "metadata": {
    "colab": {
      "provenance": []
    },
    "kernelspec": {
      "name": "python3",
      "display_name": "Python 3"
    },
    "language_info": {
      "name": "python"
    }
  },
  "cells": [
    {
      "cell_type": "markdown",
      "source": [
        "# 일급함수와 고차함수"
      ],
      "metadata": {
        "id": "TposlEPS81YV"
      }
    },
    {
      "cell_type": "code",
      "execution_count": null,
      "metadata": {
        "colab": {
          "base_uri": "https://localhost:8080/"
        },
        "id": "WkNAuud25ZiM",
        "outputId": "e61edd94-5367-4af0-8394-4875e56e3d2d"
      },
      "outputs": [
        {
          "output_type": "stream",
          "name": "stdout",
          "text": [
            "냐옹\n"
          ]
        }
      ],
      "source": [
        "class Cat:\n",
        "    def sound(self):\n",
        "        print('냐옹')\n",
        "\n",
        "licat = Cat()\n",
        "licat_sound = licat.sound\n",
        "licat_sound() #licat.sound"
      ]
    },
    {
      "cell_type": "code",
      "source": [
        "l = [10, 20, 30]\n",
        "la = l.append\n",
        "la(40)\n",
        "l"
      ],
      "metadata": {
        "colab": {
          "base_uri": "https://localhost:8080/"
        },
        "id": "fOW-YMHq7PTQ",
        "outputId": "aea8346c-4187-4e5e-a504-e962181d9a6e"
      },
      "execution_count": null,
      "outputs": [
        {
          "output_type": "execute_result",
          "data": {
            "text/plain": [
              "[10, 20, 30, 40]"
            ]
          },
          "metadata": {},
          "execution_count": 4
        }
      ]
    },
    {
      "cell_type": "code",
      "source": [
        "def add(x, y):\n",
        "    return x + y\n",
        "\n",
        "def subtract(x, y):\n",
        "    return x - y\n",
        "\n",
        "funcs = [add, subtract]\n",
        "print(funcs[0](2, 3))  # 출력: 5"
      ],
      "metadata": {
        "colab": {
          "base_uri": "https://localhost:8080/"
        },
        "id": "d5zR0HMn7WLI",
        "outputId": "731d63e0-7df5-4113-8367-b927dbf50cfe"
      },
      "execution_count": null,
      "outputs": [
        {
          "output_type": "stream",
          "name": "stdout",
          "text": [
            "5\n"
          ]
        }
      ]
    },
    {
      "cell_type": "code",
      "source": [
        "class Operator:\n",
        "    def add(self, x, y):\n",
        "        return x + y\n",
        "\n",
        "    def sub(self, x, y):\n",
        "        return x - y\n",
        "\n",
        "    def mul(self, x, y):\n",
        "        return x * y\n",
        "\n",
        "    def div(self, x, y):\n",
        "        return x / y\n",
        "\n",
        "    def _and(self, x, y):\n",
        "        pass\n",
        "\n",
        "    def _or(self, x, y):\n",
        "        pass\n",
        "\n",
        "op = Operator()\n",
        "logical_op = {\n",
        "    'add': op.add,\n",
        "    'sub': op.sub,\n",
        "    'mul': op.mul,\n",
        "    'div': op.div,\n",
        "}\n",
        "arithmetic_op = {\n",
        "    '_and': op._and,\n",
        "    '_or': op._or,\n",
        "}\n",
        "\n",
        "print(logical_op['add'](2, 3)) # 출력: 5\n",
        "print(op.add(2, 3)) # 출력: 5\n",
        "\n",
        "for _, f in logical_op.items():\n",
        "    print(f(2, 3))"
      ],
      "metadata": {
        "colab": {
          "base_uri": "https://localhost:8080/"
        },
        "id": "pACXiZCz8uiy",
        "outputId": "4d23b016-9eee-4641-cd15-2bc97dde8f23"
      },
      "execution_count": null,
      "outputs": [
        {
          "output_type": "stream",
          "name": "stdout",
          "text": [
            "5\n",
            "5\n",
            "5\n",
            "-1\n",
            "6\n",
            "0.6666666666666666\n"
          ]
        }
      ]
    },
    {
      "cell_type": "code",
      "source": [
        "# JavaScript\n",
        "# l = [10, 20, 30]\n",
        "# l.map((v) => v ** 2) // [100, 400, 900]"
      ],
      "metadata": {
        "id": "Ll-xElgt-kEp"
      },
      "execution_count": null,
      "outputs": []
    },
    {
      "cell_type": "code",
      "source": [
        "# 함수를 인자로 전\n",
        "def licat_sound(p):\n",
        "    # 함수의 기능 10줄이 들어간다.\n",
        "    x = 10\n",
        "    y = 10\n",
        "    z = 10\n",
        "    p('냐옹')\n",
        "\n",
        "licat_sound(print) # licat_sound안에 built-in function인 print를 넣었습니다."
      ],
      "metadata": {
        "colab": {
          "base_uri": "https://localhost:8080/"
        },
        "id": "OgmLBKoQ_Taz",
        "outputId": "9d6bfd2b-7ead-48ef-c05d-befb18e7cbb2"
      },
      "execution_count": null,
      "outputs": [
        {
          "output_type": "stream",
          "name": "stdout",
          "text": [
            "냐옹\n"
          ]
        }
      ]
    },
    {
      "cell_type": "code",
      "source": [
        "def square(x):\n",
        "    return x ** 2\n",
        "\n",
        "def width_circle(r, s):\n",
        "    return s(r) * 3.14\n",
        "\n",
        "width_circle(10, square)"
      ],
      "metadata": {
        "colab": {
          "base_uri": "https://localhost:8080/"
        },
        "id": "DXSZ5qe6_syk",
        "outputId": "f8e5e29f-f86f-42d1-f957-178b73d90c43"
      },
      "execution_count": null,
      "outputs": [
        {
          "output_type": "execute_result",
          "data": {
            "text/plain": [
              "314.0"
            ]
          },
          "metadata": {},
          "execution_count": 18
        }
      ]
    },
    {
      "cell_type": "code",
      "source": [
        "# 함수를 결과로 반환!\n",
        "def create_adder(x):\n",
        "    def adder(y):\n",
        "        return x + y\n",
        "    return adder\n",
        "\n",
        "add_5 = create_adder(5)\n",
        "print(add_5(10))  # 출력: 15"
      ],
      "metadata": {
        "colab": {
          "base_uri": "https://localhost:8080/"
        },
        "id": "sx8-LuhlDdYH",
        "outputId": "0ae5998b-56ee-4261-d711-a56417776e4c"
      },
      "execution_count": null,
      "outputs": [
        {
          "output_type": "stream",
          "name": "stdout",
          "text": [
            "15\n"
          ]
        }
      ]
    },
    {
      "cell_type": "code",
      "source": [
        "def create_exponent(x):\n",
        "    def exponent(y):\n",
        "        return y ** x\n",
        "    return exponent\n",
        "\n",
        "exponent_2 = create_exponent(2) # exponent\n",
        "exponent_3 = create_exponent(3) # exponent\n",
        "print(exponent_2(10))\n",
        "# 출력: 100 # print(exponent(10)) => return y ** 2(이 숫자는 상수 취급되어 변경시킬 수 없게 됩니다.)\n",
        "print(exponent_3(10))\n",
        "# 출력: 1000 # print(exponent(10)) => return y ** 3(이 숫자는 상수 취급되어 변경시킬 수 없게 됩니다.)"
      ],
      "metadata": {
        "colab": {
          "base_uri": "https://localhost:8080/"
        },
        "id": "Tb4aDmVVDe3q",
        "outputId": "91ba4790-d80c-49b4-fbd8-22cbd444cda0"
      },
      "execution_count": null,
      "outputs": [
        {
          "output_type": "stream",
          "name": "stdout",
          "text": [
            "100\n",
            "1000\n"
          ]
        }
      ]
    },
    {
      "cell_type": "code",
      "source": [
        "def f():\n",
        "    l = [10, 20, 30]\n",
        "    print(id(l))\n",
        "    return l\n",
        "\n",
        "sample = f()\n",
        "id(sample)"
      ],
      "metadata": {
        "colab": {
          "base_uri": "https://localhost:8080/"
        },
        "id": "kk5nmj2tEB13",
        "outputId": "06d8898f-020b-457c-b1ce-1678370d6726"
      },
      "execution_count": null,
      "outputs": [
        {
          "output_type": "stream",
          "name": "stdout",
          "text": [
            "133466892171456\n"
          ]
        },
        {
          "output_type": "execute_result",
          "data": {
            "text/plain": [
              "133466892171456"
            ]
          },
          "metadata": {},
          "execution_count": 32
        }
      ]
    },
    {
      "cell_type": "code",
      "source": [
        "import sys\n",
        "\n",
        "def ff():\n",
        "    l = [10, 20, 30]\n",
        "    return l\n",
        "\n",
        "sample_ = ff()\n",
        "sys.getrefcount(sample_) # window, mac, linux의 출력값이 달라요.\n",
        "# 중요한 포인트는 getrefcount의 작동 원리가 아니라\n",
        "# 함수가 종료되어도 참조하는 변수가 있다면\n",
        "# 값이 사라지지 않는다는 것이 포인트입니다!"
      ],
      "metadata": {
        "colab": {
          "base_uri": "https://localhost:8080/"
        },
        "id": "p6bjem19I3qW",
        "outputId": "4c6f9c3b-f000-441e-9ca9-545468a2f519"
      },
      "execution_count": null,
      "outputs": [
        {
          "output_type": "execute_result",
          "data": {
            "text/plain": [
              "2"
            ]
          },
          "metadata": {},
          "execution_count": 50
        }
      ]
    },
    {
      "cell_type": "code",
      "source": [
        "import sys\n",
        "\n",
        "sys.getrefcount(sample_)"
      ],
      "metadata": {
        "colab": {
          "base_uri": "https://localhost:8080/"
        },
        "id": "WOK7V-ToJWRP",
        "outputId": "29944804-da34-48d0-fa8e-27e6701b05f8"
      },
      "execution_count": null,
      "outputs": [
        {
          "output_type": "execute_result",
          "data": {
            "text/plain": [
              "3"
            ]
          },
          "metadata": {},
          "execution_count": 35
        }
      ]
    },
    {
      "cell_type": "code",
      "source": [
        "# 일급 함수: 함수를 일급객체(값, 주소)로 취급\n",
        "# 고차 함수: 함수를 아규먼트로 받거나 return 값으로 반환할 수 있는 함수"
      ],
      "metadata": {
        "id": "DQPJsQ14Kq8h"
      },
      "execution_count": null,
      "outputs": []
    },
    {
      "cell_type": "markdown",
      "source": [
        "# 클로저"
      ],
      "metadata": {
        "id": "X-zIkRqqK_zT"
      }
    },
    {
      "cell_type": "code",
      "source": [
        "# 클로저 : 휘발되었어야 하는 메모리 영역에 접근하여 함수나 데이터를 활용하는 일"
      ],
      "metadata": {
        "id": "d770Pi-ZLIYQ"
      },
      "execution_count": null,
      "outputs": []
    },
    {
      "cell_type": "code",
      "source": [
        "# 클로저가 아닌경우\n",
        "#  보통 클로저가 아닌 경\n",
        "def outer_function():\n",
        "    def inner_function():\n",
        "        return 100+100\n",
        "    return inner_function\n",
        "\n",
        "# 클로저인 경우\n",
        "def outer_function(x):\n",
        "    def inner_function(y):\n",
        "        return x + y\n",
        "    return inner_function\n",
        "inner = outer_function(100)\n",
        "'''\n",
        "def inner_function(y):\n",
        "    return 100 + y\n",
        "inner(200)\n",
        "'''\n",
        "inner(200) # inner 입장에서 100을 변경할 수 있는 방법이 없습니다."
      ],
      "metadata": {
        "colab": {
          "base_uri": "https://localhost:8080/"
        },
        "id": "aoRTIptELAmN",
        "outputId": "ac5598ea-d795-4bb8-e4b5-2926bc44b695"
      },
      "execution_count": null,
      "outputs": [
        {
          "output_type": "execute_result",
          "data": {
            "text/plain": [
              "300"
            ]
          },
          "metadata": {},
          "execution_count": 37
        }
      ]
    },
    {
      "cell_type": "markdown",
      "source": [
        "# 데코레이터"
      ],
      "metadata": {
        "id": "DKmPD5JyNae_"
      }
    },
    {
      "cell_type": "code",
      "source": [
        "# 이런 식으로 우린 사용합니다.\n",
        "# login한 사용자만 게시판 읽도록\n",
        "# Django와 같은 프레임웤은 필요한 데코레이터는 미리 구현되어 있습니다.\n",
        "# 걱정하지 않으셔도 됩니다.\n",
        "def login(arg):\n",
        "    pass\n",
        "\n",
        "@login\n",
        "def 게시판읽기():\n",
        "    pass"
      ],
      "metadata": {
        "id": "ivuwxAFdZSdh"
      },
      "execution_count": null,
      "outputs": []
    },
    {
      "cell_type": "code",
      "source": [
        "def simple_decorator(function):\n",
        "    def wrapper():\n",
        "        print(\"Before the function call\")\n",
        "        function()\n",
        "        print(\"After the function call\")\n",
        "    return wrapper\n",
        "\n",
        "@simple_decorator\n",
        "def hello():\n",
        "    print(\"Hello, World!\")\n",
        "\n",
        "hello() # 데코레이터가 없는 상태에서는 simple_decorator(hello)() 와 같습니다."
      ],
      "metadata": {
        "colab": {
          "base_uri": "https://localhost:8080/"
        },
        "id": "6c2d5JMkNbOp",
        "outputId": "c7df72d5-70b4-4245-b745-e533810d3b65"
      },
      "execution_count": null,
      "outputs": [
        {
          "output_type": "stream",
          "name": "stdout",
          "text": [
            "Before the function call\n",
            "Hello, World!\n",
            "After the function call\n"
          ]
        }
      ]
    },
    {
      "cell_type": "code",
      "source": [
        "def simple_decorator(function):\n",
        "    def wrapper():\n",
        "        print(\"Before the function call\")\n",
        "        function()\n",
        "        print(\"After the function call\")\n",
        "    return wrapper\n",
        "\n",
        "def hello():\n",
        "    print(\"Hello, World!\")\n",
        "\n",
        "simple_decorator(hello)()\n",
        "# simple_decorator(hello) => wrapper\n",
        "# simple_decorator(hello)() => wrapper()"
      ],
      "metadata": {
        "colab": {
          "base_uri": "https://localhost:8080/"
        },
        "id": "_Emu41o1OX1o",
        "outputId": "e48c8845-fa96-41b1-dc99-c1caff74ce3c"
      },
      "execution_count": null,
      "outputs": [
        {
          "output_type": "stream",
          "name": "stdout",
          "text": [
            "Before the function call\n",
            "Hello, World!\n",
            "After the function call\n"
          ]
        }
      ]
    },
    {
      "cell_type": "code",
      "source": [
        "def simple_decorator(function):\n",
        "    def wrapper():\n",
        "        print(\"Before the function call\")\n",
        "        function()\n",
        "        print(\"After the function call\")\n",
        "    return wrapper\n",
        "\n",
        "@simple_decorator\n",
        "def hello():\n",
        "    print(\"Hello, World!\")\n",
        "\n",
        "hello() # 이렇게만 하면 simple_decorator에 hello를 아규먼트로 넣어주고 실행하겠다!"
      ],
      "metadata": {
        "colab": {
          "base_uri": "https://localhost:8080/"
        },
        "id": "zTwL-CI7PMDH",
        "outputId": "ec191eb5-0134-456e-aad0-12f97d3d6931"
      },
      "execution_count": null,
      "outputs": [
        {
          "output_type": "stream",
          "name": "stdout",
          "text": [
            "Before the function call\n",
            "Hello, World!\n",
            "After the function call\n"
          ]
        }
      ]
    },
    {
      "cell_type": "code",
      "source": [
        "# step 1\n",
        "def data_Preprocessing(function):\n",
        "    def wrapper():\n",
        "        pass\n",
        "    return wrapper\n",
        "\n",
        "@data_Preprocessing\n",
        "def mean(data):\n",
        "    return sum(data)/len(data)\n",
        "\n",
        "mean([1, 2, '3', 4, '5']) # TypeError 발생"
      ],
      "metadata": {
        "id": "GwmkMSKTQFEF"
      },
      "execution_count": null,
      "outputs": []
    },
    {
      "cell_type": "code",
      "source": [
        "# step 2\n",
        "def data_Preprocessing(function):\n",
        "    def wrapper(data):\n",
        "        print(data)\n",
        "    return wrapper\n",
        "\n",
        "@data_Preprocessing\n",
        "def mean(data):\n",
        "    return sum(data)/len(data)\n",
        "\n",
        "mean([1, 2, '3', 4, '5']) # 데이터만 출력하고 함수는 None을 반환"
      ],
      "metadata": {
        "colab": {
          "base_uri": "https://localhost:8080/"
        },
        "id": "O-ECoCgaQOhP",
        "outputId": "88928a41-552e-47d6-bc19-0193adc0258d"
      },
      "execution_count": null,
      "outputs": [
        {
          "output_type": "stream",
          "name": "stdout",
          "text": [
            "[1, 2, '3', 4, '5']\n"
          ]
        }
      ]
    },
    {
      "cell_type": "code",
      "source": [
        "# step 3\n",
        "def data_Preprocessing(function):\n",
        "    def wrapper(data):\n",
        "        return function(list(map(int, data)))\n",
        "    return wrapper\n",
        "\n",
        "@data_Preprocessing\n",
        "def mean(data):\n",
        "    return sum(data)/len(data)\n",
        "\n",
        "mean([1, 2, '3', 4, '5']) # 출력: 3.0 (정상 작동) # 데코레이터가 붙으면 mean을 실행하는 것이 아닙니다!\n",
        "\n",
        "# data_Preprocessing(mean) => wrapper\n",
        "# data_Preprocessing(mean)([1, 2, '3', 4, '5']) => wrapper([1, 2, '3', 4, '5'])"
      ],
      "metadata": {
        "colab": {
          "base_uri": "https://localhost:8080/"
        },
        "id": "t7wo9Y-RQo-A",
        "outputId": "4833679f-0559-499e-84a9-0efea604cf1c"
      },
      "execution_count": null,
      "outputs": [
        {
          "output_type": "execute_result",
          "data": {
            "text/plain": [
              "3.0"
            ]
          },
          "metadata": {},
          "execution_count": 44
        }
      ]
    },
    {
      "cell_type": "code",
      "source": [
        "# step 3\n",
        "def data_Preprocessing(function):\n",
        "    def wrapper(a, b, c):\n",
        "        print(a, b, c)\n",
        "        # print(function([a, b, c]))\n",
        "    return wrapper\n",
        "\n",
        "@data_Preprocessing\n",
        "def mean(data):\n",
        "    return sum(data)/len(data)\n",
        "\n",
        "mean(10, 20 ,30) # 왜 오류가 없을까요? data 인자가 하나고 10, 20, 30 인자가 3개인데요??"
      ],
      "metadata": {
        "colab": {
          "base_uri": "https://localhost:8080/"
        },
        "id": "3LLLgXVxRXi5",
        "outputId": "344bb865-5658-4198-d20e-d90f8e5be358"
      },
      "execution_count": null,
      "outputs": [
        {
          "output_type": "stream",
          "name": "stdout",
          "text": [
            "10 20 30\n"
          ]
        }
      ]
    },
    {
      "cell_type": "code",
      "source": [
        "#### 여기까지 이해하시면 됩니다. ####"
      ],
      "metadata": {
        "id": "5keEltAxdXCf"
      },
      "execution_count": null,
      "outputs": []
    },
    {
      "cell_type": "code",
      "source": [
        "# b를 실행시키고 싶은데 어떻게 해야 할까요?\n",
        "def outer(function):\n",
        "    def wrapper():\n",
        "        return 'hello'\n",
        "    return wrapper\n",
        "\n",
        "@outer\n",
        "def a():\n",
        "    def b():\n",
        "        pass\n",
        "        return b\n",
        "\n",
        "print(a())"
      ],
      "metadata": {
        "colab": {
          "base_uri": "https://localhost:8080/"
        },
        "id": "1loRIR44Uy0x",
        "outputId": "a0801f95-09dd-4161-b793-69b272d02caa"
      },
      "execution_count": null,
      "outputs": [
        {
          "output_type": "stream",
          "name": "stdout",
          "text": [
            "hello\n"
          ]
        }
      ]
    },
    {
      "cell_type": "code",
      "source": [
        "def outer(function):\n",
        "    def wrapper():\n",
        "        function()\n",
        "        return 'hello'\n",
        "    return wrapper\n",
        "\n",
        "@outer\n",
        "def a():\n",
        "    def b():\n",
        "        pass\n",
        "        return b\n",
        "\n",
        "print(a())"
      ],
      "metadata": {
        "colab": {
          "base_uri": "https://localhost:8080/"
        },
        "id": "uvPCUFQGX1q5",
        "outputId": "53f5ea3e-43b1-488f-ce0a-936d61b706f8"
      },
      "execution_count": null,
      "outputs": [
        {
          "output_type": "stream",
          "name": "stdout",
          "text": [
            "hello\n"
          ]
        }
      ]
    },
    {
      "cell_type": "code",
      "source": [
        "def outer(function):\n",
        "    def wrapper():\n",
        "        function()\n",
        "        return 'hello'\n",
        "    return wrapper\n",
        "\n",
        "@outer\n",
        "def a():\n",
        "    def b():\n",
        "        print('hello b')\n",
        "    return b\n",
        "\n",
        "print(a())"
      ],
      "metadata": {
        "colab": {
          "base_uri": "https://localhost:8080/"
        },
        "id": "A_V74oE6YFvU",
        "outputId": "30d179cc-7559-4778-8870-fafa10204084"
      },
      "execution_count": null,
      "outputs": [
        {
          "output_type": "stream",
          "name": "stdout",
          "text": [
            "hello\n"
          ]
        }
      ]
    },
    {
      "cell_type": "code",
      "source": [
        "def outer(function):\n",
        "    def wrapper():\n",
        "        function()()\n",
        "        return 'hello'\n",
        "    return wrapper\n",
        "\n",
        "@outer\n",
        "def a():\n",
        "    def b():\n",
        "        print('hello b')\n",
        "    return b\n",
        "\n",
        "print(a())"
      ],
      "metadata": {
        "colab": {
          "base_uri": "https://localhost:8080/"
        },
        "id": "fwJP4OrYYRPw",
        "outputId": "32a58262-3191-4d13-c7ae-ba0fced5572d"
      },
      "execution_count": null,
      "outputs": [
        {
          "output_type": "stream",
          "name": "stdout",
          "text": [
            "hello b\n",
            "hello\n"
          ]
        }
      ]
    },
    {
      "cell_type": "code",
      "source": [
        "# 여기서부터는 실무에서 보실일이 없을겁니다.\n",
        "def add_exclamation(function):\n",
        "    def wrapper(text):\n",
        "        print(f'add_exclamation 데코레이터 시작')\n",
        "        result = function(text) + \"!\"\n",
        "        print(f'add_exclamation 데코레이터 종료')\n",
        "        return result\n",
        "    return wrapper\n",
        "\n",
        "def add_question_mark(function):\n",
        "    def wrapper(text):\n",
        "        print(f'add_question_mark 데코레이터 시작')\n",
        "        result = function(text) + \"?\"\n",
        "        print(f'add_question_mark 데코레이터 종료')\n",
        "        return result\n",
        "    return wrapper\n",
        "\n",
        "def add_dot(function):\n",
        "    def wrapper(text):\n",
        "        print(f'add_dot 데코레이터 시작')\n",
        "        result = function(text) + \".\"\n",
        "        print(f'add_dot 데코레이터 종료')\n",
        "        return result\n",
        "    return wrapper\n",
        "\n",
        "@add_exclamation\n",
        "@add_question_mark\n",
        "@add_dot\n",
        "def greet(message):\n",
        "    print('함수실행!')\n",
        "    return message\n",
        "\n",
        "result = greet(\"Hello\")\n",
        "print(result)  # 출력: \"Hello.!?\""
      ],
      "metadata": {
        "colab": {
          "base_uri": "https://localhost:8080/"
        },
        "id": "L8Tumx7AZwoO",
        "outputId": "cb36cd82-46b0-4b7d-ffe8-c930fb980276"
      },
      "execution_count": null,
      "outputs": [
        {
          "output_type": "stream",
          "name": "stdout",
          "text": [
            "add_exclamation 데코레이터 시작\n",
            "add_question_mark 데코레이터 시작\n",
            "add_dot 데코레이터 시작\n",
            "함수실행!\n",
            "add_dot 데코레이터 종료\n",
            "add_question_mark 데코레이터 종료\n",
            "add_exclamation 데코레이터 종료\n",
            "Hello.?!\n"
          ]
        }
      ]
    },
    {
      "cell_type": "code",
      "source": [
        "def add(n): # 데코레이터를 감싸는 하나의 함수를 더 만들어서 아규먼트를 받는 방법입니다.\n",
        "    def decorator(function):\n",
        "        def new_function(a, b):\n",
        "            print(f'plus 함수가 {n}만큼 증가시키는 데코레이터가 시작됩니다.')\n",
        "            result = function(a, b)\n",
        "            print(f'plus 함수가 {n}만큼 증가시키는 데코레이터가 종료됩니다.')\n",
        "            return result + n\n",
        "        return new_function\n",
        "    return decorator\n",
        "\n",
        "@add(1000)\n",
        "def plus(a, b):\n",
        "    print('plus 함수가 호출되었습니다.')\n",
        "    return a + b\n",
        "\n",
        "result = plus(10, 20)\n",
        "print(f'result : {result}')"
      ],
      "metadata": {
        "colab": {
          "base_uri": "https://localhost:8080/"
        },
        "id": "EgN0iyy-bIsM",
        "outputId": "3d3f89c9-3259-4db3-a98d-f7dd25b43080"
      },
      "execution_count": null,
      "outputs": [
        {
          "output_type": "stream",
          "name": "stdout",
          "text": [
            "plus 함수가 1000만큼 증가시키는 데코레이터가 시작됩니다.\n",
            "plus 함수가 호출되었습니다.\n",
            "plus 함수가 1000만큼 증가시키는 데코레이터가 종료됩니다.\n",
            "result : 1030\n"
          ]
        }
      ]
    },
    {
      "cell_type": "code",
      "source": [
        "# plus(10, 20) ==  add(n)(plus)(10, 20)\n",
        "def plus(a, b):\n",
        "    print('plus 함수가 호출되었습니다.')\n",
        "    return a + b\n",
        "\n",
        "def add(n):\n",
        "    def decorator(f):\n",
        "        def new_function(a, b):\n",
        "            print(f'plus 함수가 {n}만큼 증가시키는 데코레이터가 시작됩니다.')\n",
        "            result = function(a, b)\n",
        "            print(f'plus 함수가 {n}만큼 증가시키는 데코레이터가 종료됩니다.')\n",
        "            return result + n\n",
        "        return new_function\n",
        "    return decorator\n",
        "\n",
        "# add(n)(plus)(10, 20), add(1000) == decorator\n",
        "# decorator(plus)(10, 20), decorator(plus) == wrapper\n",
        "# wrapper(10, 20)"
      ],
      "metadata": {
        "id": "2qXBlF1bcGdF"
      },
      "execution_count": null,
      "outputs": []
    },
    {
      "cell_type": "code",
      "source": [
        "# plus(10, 20) == add(n)(plus)(10,20)\n",
        "\n",
        "def plus(a, b):\n",
        "    print('plus 함수가 호출되었습니다.')\n",
        "    return a + b\n",
        "\n",
        "def add(n):\n",
        "    def decorator(f):\n",
        "        def wrapper(a, b):\n",
        "            print(f'plus 함수가 {n}만큼 증가시키는 데코레이터가 시작됩니다.')\n",
        "            result = f(a, b)\n",
        "            print(result)\n",
        "            print(f'plus 함수가 {n}만큼 증가시키는 데코레이터가 종료됩니다.')\n",
        "            return result + n\n",
        "        return wrapper\n",
        "    return decorator\n",
        "\n",
        "# add(n)(plus)(10,20), add(1000) == decorator\n",
        "# decorator(plus)(10,20), decorator(plus) == wrapper\n",
        "# wrapper(10, 20)\n",
        "\n",
        "# decorator(plus(10, 20))() (X)\n",
        "# add(1000)(plus)(10, 20)() (X)\n",
        "# add(1000)(plus)(10, 20)"
      ],
      "metadata": {
        "id": "lNaQji7bxItr"
      },
      "execution_count": null,
      "outputs": []
    },
    {
      "cell_type": "code",
      "source": [
        "def plus(a, b):\n",
        "    print('plus 함수가 호출되었습니다.')\n",
        "    return a + b\n",
        "\n",
        "def add(n):\n",
        "    def decorator(f):\n",
        "        def wrapper(a, b):\n",
        "            print(f'plus 함수가 {n}만큼 증가시키는 데코레이터가 시작됩니다.')\n",
        "            result = f(a, b)\n",
        "            print(result)\n",
        "            print(f'plus 함수가 {n}만큼 증가시키는 데코레이터가 종료됩니다.')\n",
        "            return result + n\n",
        "        return wrapper\n",
        "    return decorator\n",
        "\n",
        "# d = add(1000)\n",
        "# w = d(plus)\n",
        "# w(10, 20)\n",
        "\n",
        "add(1000)(plus)(10, 20)"
      ],
      "metadata": {
        "colab": {
          "base_uri": "https://localhost:8080/"
        },
        "id": "e-nAKkYlwoOv",
        "outputId": "e82744f8-6d2a-4c8f-be6b-199992cf651a"
      },
      "execution_count": null,
      "outputs": [
        {
          "output_type": "stream",
          "name": "stdout",
          "text": [
            "plus 함수가 1000만큼 증가시키는 데코레이터가 시작됩니다.\n",
            "plus 함수가 호출되었습니다.\n",
            "30\n",
            "plus 함수가 1000만큼 증가시키는 데코레이터가 종료됩니다.\n"
          ]
        },
        {
          "output_type": "execute_result",
          "data": {
            "text/plain": [
              "1030"
            ]
          },
          "metadata": {},
          "execution_count": 82
        }
      ]
    },
    {
      "cell_type": "markdown",
      "source": [
        "# 연습문제"
      ],
      "metadata": {
        "id": "UdIbpgSbZvV0"
      }
    },
    {
      "cell_type": "markdown",
      "source": [
        "![image.png](data:image/png;base64,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)"
      ],
      "metadata": {
        "id": "iIzuA01MBQGV"
      }
    },
    {
      "cell_type": "code",
      "source": [
        "def length(a, b, s, r):\n",
        "    return r(s(a) + s(b))\n",
        "\n",
        "def square(x):\n",
        "    return x ** 2\n",
        "\n",
        "def root(x):\n",
        "    return x ** 0.5\n",
        "\n",
        "length(3, 4, square, root)"
      ],
      "metadata": {
        "colab": {
          "base_uri": "https://localhost:8080/"
        },
        "id": "U72wYiExAoqK",
        "outputId": "650504e5-f0cd-4055-e3ef-316d8626c3a0"
      },
      "execution_count": null,
      "outputs": [
        {
          "output_type": "execute_result",
          "data": {
            "text/plain": [
              "5.0"
            ]
          },
          "metadata": {},
          "execution_count": 20
        }
      ]
    },
    {
      "cell_type": "markdown",
      "source": [
        "# lambda"
      ],
      "metadata": {
        "id": "B9RtIZXudsbh"
      }
    },
    {
      "cell_type": "code",
      "source": [
        "square = lambda x: x * x\n",
        "print(square(5))  # 출력: 25"
      ],
      "metadata": {
        "colab": {
          "base_uri": "https://localhost:8080/"
        },
        "id": "3_LsU6GJducc",
        "outputId": "8f5dff72-7229-44a8-ffa7-de7809b7f007"
      },
      "execution_count": null,
      "outputs": [
        {
          "output_type": "stream",
          "name": "stdout",
          "text": [
            "25\n"
          ]
        }
      ]
    },
    {
      "cell_type": "code",
      "source": [
        "# 재사용되는 코드\n",
        "def 제곱(x):\n",
        "    return x ** 2\n",
        "\n",
        "list(map(제곱, [1, 2, 3])) + list(map(제곱, [4, 5, 6]))"
      ],
      "metadata": {
        "colab": {
          "base_uri": "https://localhost:8080/"
        },
        "id": "GmX5X45Qd1_-",
        "outputId": "8c4bfca2-d173-4068-f287-f6144e3dc6f5"
      },
      "execution_count": null,
      "outputs": [
        {
          "output_type": "execute_result",
          "data": {
            "text/plain": [
              "[1, 4, 9]"
            ]
          },
          "metadata": {},
          "execution_count": 74
        }
      ]
    },
    {
      "cell_type": "code",
      "source": [
        "# 재사용되는 코드\n",
        "list(map(lambda x: x ** 2, [1, 2, 3]))"
      ],
      "metadata": {
        "colab": {
          "base_uri": "https://localhost:8080/"
        },
        "id": "XxSQ-IUneWmB",
        "outputId": "ba0e6ee4-5533-437e-cec7-d9426c4ecb61"
      },
      "execution_count": null,
      "outputs": [
        {
          "output_type": "execute_result",
          "data": {
            "text/plain": [
              "[1, 4, 9]"
            ]
          },
          "metadata": {},
          "execution_count": 76
        }
      ]
    },
    {
      "cell_type": "code",
      "source": [
        "# 이런 형태는 오늘 보고 끝입니다.\n",
        "# result = lambda x: x ** 2\n",
        "# print(result(3))\n",
        "\n",
        "result = (lambda x: x ** 2)(3)\n",
        "print(result)"
      ],
      "metadata": {
        "colab": {
          "base_uri": "https://localhost:8080/"
        },
        "id": "Eu_Kg6VMebCU",
        "outputId": "0010a6a8-7720-4b5b-dd80-3cdbffef7226"
      },
      "execution_count": null,
      "outputs": [
        {
          "output_type": "stream",
          "name": "stdout",
          "text": [
            "9\n"
          ]
        }
      ]
    },
    {
      "cell_type": "markdown",
      "source": [
        "# args, kargs"
      ],
      "metadata": {
        "id": "c8-pVuG7xvML"
      }
    },
    {
      "cell_type": "code",
      "source": [
        "a, b, * c = 10, 20, 30, 40, 50\n",
        "c"
      ],
      "metadata": {
        "colab": {
          "base_uri": "https://localhost:8080/"
        },
        "id": "ff3bG5r1xvDB",
        "outputId": "0ae0e104-3c9f-4243-8600-e796ad94ff19"
      },
      "execution_count": null,
      "outputs": [
        {
          "output_type": "execute_result",
          "data": {
            "text/plain": [
              "[30, 40, 50]"
            ]
          },
          "metadata": {},
          "execution_count": 86
        }
      ]
    },
    {
      "cell_type": "code",
      "source": [
        "def print_args(a, b, *args):\n",
        "    print(args)\n",
        "    for x in args:\n",
        "        print(x)\n",
        "\n",
        "print_args(100, True, 'Licat', 'hello', 10)"
      ],
      "metadata": {
        "colab": {
          "base_uri": "https://localhost:8080/"
        },
        "id": "_PwvGVDuyGXo",
        "outputId": "6459d1d3-d572-4ae7-9cd3-f3ed9c4af115"
      },
      "execution_count": null,
      "outputs": [
        {
          "output_type": "stream",
          "name": "stdout",
          "text": [
            "('Licat', 'hello', 10)\n",
            "Licat\n",
            "hello\n",
            "10\n"
          ]
        }
      ]
    },
    {
      "cell_type": "code",
      "source": [
        "def print_args(a, b, *args, c): # *args뒤에 일반 변수를 선언하지 못합니다.\n",
        "    print(args)\n",
        "    for x in args:\n",
        "        print(x)\n",
        "\n",
        "print_args(100, True, 'Licat', 'hello', 10)"
      ],
      "metadata": {
        "id": "cqGBkGJsygGs"
      },
      "execution_count": null,
      "outputs": []
    },
    {
      "cell_type": "code",
      "source": [
        "def print_args(a, b, *args, *c): # *args뒤에 또 다른 가변 아큐먼트를 선언하지 못합니다.\n",
        "    print(args)\n",
        "    for x in args:\n",
        "        print(x)\n",
        "\n",
        "print_args(100, True, 'Licat', 'hello', 10)"
      ],
      "metadata": {
        "id": "e5idHvsrykvz"
      },
      "execution_count": null,
      "outputs": []
    },
    {
      "cell_type": "code",
      "source": [
        "def print_kwargs(a, **kwargs):\n",
        "    print(a)\n",
        "    # 1000줄\n",
        "\n",
        "    print(kwargs)\n",
        "    for i in kwargs:\n",
        "        print(i)\n",
        "\n",
        "print_kwargs(100, name='Licat', age='10')"
      ],
      "metadata": {
        "colab": {
          "base_uri": "https://localhost:8080/"
        },
        "id": "XGpiRJlly0mx",
        "outputId": "3a7d0fad-20b6-4457-8c3b-effb993acf5b"
      },
      "execution_count": null,
      "outputs": [
        {
          "output_type": "stream",
          "name": "stdout",
          "text": [
            "100\n",
            "{'name': 'Licat', 'age': '10'}\n",
            "name\n",
            "age\n"
          ]
        }
      ]
    },
    {
      "cell_type": "code",
      "source": [
        "# 눈속임입니다.\n",
        "# 이렇게 사용하면 관습에 어긋납니다.\n",
        "def print_kwargs(*kwargs):\n",
        "    print(kwargs)\n",
        "    for i in kwargs:\n",
        "        print(i)\n",
        "\n",
        "value = {'one':10, 'two':20}\n",
        "print_kwargs(*value)"
      ],
      "metadata": {
        "colab": {
          "base_uri": "https://localhost:8080/"
        },
        "id": "sdp1_31YzWS_",
        "outputId": "53122d34-c31c-4257-a8f0-cfda38793eb6"
      },
      "execution_count": null,
      "outputs": [
        {
          "output_type": "stream",
          "name": "stdout",
          "text": [
            "('one', 'two')\n",
            "one\n",
            "two\n"
          ]
        }
      ]
    },
    {
      "cell_type": "code",
      "source": [
        "def print_kwargs(*args):\n",
        "    print(args)\n",
        "    for i in args:\n",
        "        print(i)\n",
        "\n",
        "value = {'one':10, 'two':20}\n",
        "print_kwargs(*value)"
      ],
      "metadata": {
        "colab": {
          "base_uri": "https://localhost:8080/"
        },
        "id": "l9n874zAzlr4",
        "outputId": "ea0f7b1a-ec29-4a7e-8367-8720e1f75a21"
      },
      "execution_count": null,
      "outputs": [
        {
          "output_type": "stream",
          "name": "stdout",
          "text": [
            "('one', 'two')\n",
            "one\n",
            "two\n"
          ]
        }
      ]
    },
    {
      "cell_type": "code",
      "source": [
        "def print_kwargs(**kwargs):\n",
        "    print(kwargs)\n",
        "    for i in kwargs:\n",
        "        print(i)\n",
        "\n",
        "value = {'one':10, 'two':20}\n",
        "print_kwargs(**value)"
      ],
      "metadata": {
        "colab": {
          "base_uri": "https://localhost:8080/"
        },
        "id": "zKTHm5Mmz3tG",
        "outputId": "75bb9361-9ef3-410b-ccc5-c5ad3bb6e944"
      },
      "execution_count": null,
      "outputs": [
        {
          "output_type": "stream",
          "name": "stdout",
          "text": [
            "{'one': 10, 'two': 20}\n",
            "one\n",
            "two\n"
          ]
        }
      ]
    },
    {
      "cell_type": "code",
      "source": [
        "def func(a, b, *, c, d):\n",
        "    print(a, b, c, d)\n",
        "\n",
        "# func(1, 2, c = 3, d = 4)  # 올바른 예시\n",
        "# func(1, 2, 3, d = 4)  # 잘못된 예시\n",
        "# func(1, 2, 3, 4)    # 잘못된 예시"
      ],
      "metadata": {
        "id": "csEpDwLj2sTj"
      },
      "execution_count": null,
      "outputs": []
    },
    {
      "cell_type": "code",
      "source": [
        "def func(a, b, c):\n",
        "    print(a, b, c)\n",
        "\n",
        "args = (1, 2, 3)\n",
        "func(*args)\n",
        "print(args, *args)\n",
        "\n",
        "kwargs = {'a': 1, 'b': 2, 'c': 3}\n",
        "func(**kwargs)\n",
        "# print(kwargs, **kwargs) # error"
      ],
      "metadata": {
        "colab": {
          "base_uri": "https://localhost:8080/",
          "height": 273
        },
        "id": "sYOWS1sj2tFh",
        "outputId": "3437990f-d1d8-41ee-d0a1-9c3539ff695f"
      },
      "execution_count": null,
      "outputs": [
        {
          "output_type": "stream",
          "name": "stdout",
          "text": [
            "1 2 3\n",
            "(1, 2, 3) 1 2 3\n",
            "1 2 3\n"
          ]
        },
        {
          "output_type": "error",
          "ename": "TypeError",
          "evalue": "ignored",
          "traceback": [
            "\u001b[0;31m---------------------------------------------------------------------------\u001b[0m",
            "\u001b[0;31mTypeError\u001b[0m                                 Traceback (most recent call last)",
            "\u001b[0;32m<ipython-input-101-5cf0380f5000>\u001b[0m in \u001b[0;36m<cell line: 10>\u001b[0;34m()\u001b[0m\n\u001b[1;32m      8\u001b[0m \u001b[0mkwargs\u001b[0m \u001b[0;34m=\u001b[0m \u001b[0;34m{\u001b[0m\u001b[0;34m'a'\u001b[0m\u001b[0;34m:\u001b[0m \u001b[0;36m1\u001b[0m\u001b[0;34m,\u001b[0m \u001b[0;34m'b'\u001b[0m\u001b[0;34m:\u001b[0m \u001b[0;36m2\u001b[0m\u001b[0;34m,\u001b[0m \u001b[0;34m'c'\u001b[0m\u001b[0;34m:\u001b[0m \u001b[0;36m3\u001b[0m\u001b[0;34m}\u001b[0m\u001b[0;34m\u001b[0m\u001b[0;34m\u001b[0m\u001b[0m\n\u001b[1;32m      9\u001b[0m \u001b[0mfunc\u001b[0m\u001b[0;34m(\u001b[0m\u001b[0;34m**\u001b[0m\u001b[0mkwargs\u001b[0m\u001b[0;34m)\u001b[0m\u001b[0;34m\u001b[0m\u001b[0;34m\u001b[0m\u001b[0m\n\u001b[0;32m---> 10\u001b[0;31m \u001b[0mprint\u001b[0m\u001b[0;34m(\u001b[0m\u001b[0mkwargs\u001b[0m\u001b[0;34m,\u001b[0m \u001b[0;34m**\u001b[0m\u001b[0mkwargs\u001b[0m\u001b[0;34m)\u001b[0m \u001b[0;31m# error\u001b[0m\u001b[0;34m\u001b[0m\u001b[0;34m\u001b[0m\u001b[0m\n\u001b[0m",
            "\u001b[0;31mTypeError\u001b[0m: 'a' is an invalid keyword argument for print()"
          ]
        }
      ]
    },
    {
      "cell_type": "code",
      "source": [
        "kwargs = {'a': 1, 'b': 2, 'c': 3}\n",
        "print(kwargs, *kwargs)\n",
        "# print(kwargs, **kwargs) # 왜 *가 2개일 때 error가 날까요?\n",
        "# print(kwargs, a = 1, b = 2, c = 3) #이 코드가 바로 위의 코드와 같습니다."
      ],
      "metadata": {
        "colab": {
          "base_uri": "https://localhost:8080/"
        },
        "id": "SenH-MtU2tsa",
        "outputId": "25d60816-c60f-488b-c73e-2a5eef1f1cf8"
      },
      "execution_count": null,
      "outputs": [
        {
          "output_type": "stream",
          "name": "stdout",
          "text": [
            "{'a': 1, 'b': 2, 'c': 3} a b c\n"
          ]
        }
      ]
    },
    {
      "cell_type": "code",
      "source": [
        "def func(d = 100, c = 200, b = 300, a = 400):\n",
        "    print(d, c, b, a)\n",
        "\n",
        "kwargs = {'a': 1, 'b': 2, 'c': 3}\n",
        "func(**kwargs)\n",
        "# func(kwargs, a = 1, b = 2, c = 3) 입력이 되었다는 것을 확인 할 수 있습니다.\n",
        "# {'a': 1, 'b': 2, 'c': 3} => a = 1, b = 2, c = 3"
      ],
      "metadata": {
        "colab": {
          "base_uri": "https://localhost:8080/"
        },
        "id": "ZLyxZkMq3gdc",
        "outputId": "6caf96c3-d36b-412f-ede5-410d29136d25"
      },
      "execution_count": null,
      "outputs": [
        {
          "output_type": "stream",
          "name": "stdout",
          "text": [
            "100 3 2 1\n"
          ]
        }
      ]
    },
    {
      "cell_type": "code",
      "source": [
        "# a = 1, b = 2, c = 3 => **kargs =>  {'a': 1, 'b': 2, 'c': 3}\n",
        "def func(a = 100, **kargs):\n",
        "    print(a, kargs)\n",
        "\n",
        "func(1000, i = 1, j = 2, k = 3)"
      ],
      "metadata": {
        "colab": {
          "base_uri": "https://localhost:8080/"
        },
        "id": "fvNoSJyu4HqQ",
        "outputId": "743d479a-4d51-49f5-b449-1fafe2f8230e"
      },
      "execution_count": null,
      "outputs": [
        {
          "output_type": "stream",
          "name": "stdout",
          "text": [
            "1000 {'i': 1, 'j': 2, 'k': 3}\n"
          ]
        }
      ]
    },
    {
      "cell_type": "code",
      "source": [
        "def func(*args):\n",
        "    print(args)\n",
        "\n",
        "func(10, 20, 30)\n",
        "# func(kwargs, a = 1, b = 2, c = 3) 입력이 되었다는 것을 확인 할 수 있습니다.\n",
        "# 10, 20, 30 => *args => (10, 20, 30)"
      ],
      "metadata": {
        "colab": {
          "base_uri": "https://localhost:8080/"
        },
        "id": "zFNAFPfx4XFI",
        "outputId": "e2c8b3d2-983d-40f0-d6c6-16d11055158d"
      },
      "execution_count": null,
      "outputs": [
        {
          "output_type": "stream",
          "name": "stdout",
          "text": [
            "(10, 20, 30)\n"
          ]
        }
      ]
    },
    {
      "cell_type": "code",
      "source": [
        "def func(a, b, c):\n",
        "    print(a, b, c)\n",
        "\n",
        "args = (10, 20, 30)\n",
        "func(*args)\n",
        "# func(kwargs, a = 1, b = 2, c = 3) 입력이 되었다는 것을 확인 할 수 있습니다.\n",
        "# (10, 20, 30)=> *args => (10, 20, 30)"
      ],
      "metadata": {
        "colab": {
          "base_uri": "https://localhost:8080/"
        },
        "id": "ysG4q62949RU",
        "outputId": "ef801faa-18bd-467f-cc5a-911bb8d71e5f"
      },
      "execution_count": null,
      "outputs": [
        {
          "output_type": "stream",
          "name": "stdout",
          "text": [
            "10 20 30\n"
          ]
        }
      ]
    },
    {
      "cell_type": "code",
      "source": [
        "a, b, c = range(3)\n",
        "a"
      ],
      "metadata": {
        "colab": {
          "base_uri": "https://localhost:8080/"
        },
        "id": "ADKh6zUN5gnc",
        "outputId": "c79106b6-321c-4875-e085-8272bec9c674"
      },
      "execution_count": null,
      "outputs": [
        {
          "output_type": "execute_result",
          "data": {
            "text/plain": [
              "0"
            ]
          },
          "metadata": {},
          "execution_count": 112
        }
      ]
    },
    {
      "cell_type": "code",
      "source": [
        "a, b, c = range(10, 31, 10) # 언팩이 된다는 얘기는 순회를 돌았다는 얘기입니다.\n",
        "a"
      ],
      "metadata": {
        "colab": {
          "base_uri": "https://localhost:8080/"
        },
        "id": "mNXM180i5knD",
        "outputId": "0e9d4733-f966-4a5b-b6f1-3b512b2271b7"
      },
      "execution_count": null,
      "outputs": [
        {
          "output_type": "execute_result",
          "data": {
            "text/plain": [
              "10"
            ]
          },
          "metadata": {},
          "execution_count": 115
        }
      ]
    },
    {
      "cell_type": "markdown",
      "source": [
        "# 이터레이터"
      ],
      "metadata": {
        "id": "ZOPKFsMC6Sc7"
      }
    },
    {
      "cell_type": "code",
      "source": [
        "class MyIterator:\n",
        "    def __init__(self, stop):\n",
        "        self.current_value = 0  # 현재 값\n",
        "        self.stop = stop  # 순회를 멈출 값\n",
        "\n",
        "    def __iter__(self):\n",
        "        return self\n",
        "\n",
        "    def __next__(self):\n",
        "        if self.current_value >= self.stop: # 0 >= 5\n",
        "            raise StopIteration\n",
        "        result = self.current_value # 0\n",
        "        self.current_value += 1 # 1\n",
        "        return result # 0\n",
        "\n",
        "my_iterator = MyIterator(5)\n",
        "\n",
        "for i in my_iterator:\n",
        "    print(i)\n",
        "\n",
        "'''\n",
        "for를 만나면 __iter__가 실행되고 반복이 시장되면 __next_를 호출합니다.\n",
        "'''"
      ],
      "metadata": {
        "colab": {
          "base_uri": "https://localhost:8080/",
          "height": 126
        },
        "id": "cLRJzcmO511d",
        "outputId": "b7fb8808-7db8-4169-f251-450ff85d5385"
      },
      "execution_count": null,
      "outputs": [
        {
          "output_type": "stream",
          "name": "stdout",
          "text": [
            "0\n",
            "1\n",
            "2\n",
            "3\n",
            "4\n"
          ]
        },
        {
          "output_type": "execute_result",
          "data": {
            "text/plain": [
              "'\\nfor를 만나면 __iter__가 실행되고 반복이 시장되면 __next_를 호출합니다.\\n'"
            ],
            "application/vnd.google.colaboratory.intrinsic+json": {
              "type": "string"
            }
          },
          "metadata": {},
          "execution_count": 116
        }
      ]
    },
    {
      "cell_type": "code",
      "source": [
        "class MyIterator:\n",
        "    def __init__(self, stop):\n",
        "        self.current_value = 0  # 현재 값\n",
        "        self.stop = stop  # 순회를 멈출 값\n",
        "\n",
        "    def __iter__(self):\n",
        "        return self\n",
        "\n",
        "    def __next__(self):\n",
        "        if self.current_value >= self.stop: # 0 >= 5\n",
        "            raise StopIteration\n",
        "        result = self.current_value # 0\n",
        "        self.current_value += 1 # 1\n",
        "        return result # 0\n",
        "\n",
        "my_iterator = MyIterator(5)\n",
        "\n",
        "for i in my_iterator:\n",
        "    print(i)\n",
        "\n",
        "for i in my_iterator:\n",
        "    print(i)"
      ],
      "metadata": {
        "colab": {
          "base_uri": "https://localhost:8080/"
        },
        "id": "O7XUDS0867My",
        "outputId": "fadd7269-04a0-4709-f598-466cda12d876"
      },
      "execution_count": null,
      "outputs": [
        {
          "output_type": "stream",
          "name": "stdout",
          "text": [
            "0\n",
            "1\n",
            "2\n",
            "3\n",
            "4\n"
          ]
        }
      ]
    },
    {
      "cell_type": "code",
      "source": [
        "class MyIterator:\n",
        "    def __init__(self, stop):\n",
        "        self.stop = stop  # 순회를 멈출 값\n",
        "\n",
        "    def __iter__(self):\n",
        "        self.current_value = 0  # 현재 값\n",
        "        return self\n",
        "\n",
        "    def __next__(self):\n",
        "        if self.current_value >= self.stop:\n",
        "            raise StopIteration\n",
        "        result = self.current_value\n",
        "        self.current_value += 1\n",
        "        return result\n",
        "\n",
        "my_iterator = MyIterator(5)\n",
        "\n",
        "for i in my_iterator:\n",
        "    print(i)\n",
        "\n",
        "for i in my_iterator:\n",
        "    print(i)"
      ],
      "metadata": {
        "colab": {
          "base_uri": "https://localhost:8080/"
        },
        "id": "G2FoyMSq91y5",
        "outputId": "5c5a05e7-4f8d-45da-d80a-10fe4e3061c7"
      },
      "execution_count": null,
      "outputs": [
        {
          "output_type": "stream",
          "name": "stdout",
          "text": [
            "0\n",
            "1\n",
            "2\n",
            "3\n",
            "4\n",
            "0\n",
            "1\n",
            "2\n",
            "3\n",
            "4\n"
          ]
        }
      ]
    },
    {
      "cell_type": "code",
      "source": [
        "class MyIterator:\n",
        "    def __init__(self, stop):\n",
        "        self.stop = stop  # 순회를 멈출 값\n",
        "\n",
        "    def __iter__(self):\n",
        "        self.current_value = 0  # 현재 값\n",
        "        return self\n",
        "\n",
        "    def __next__(self):\n",
        "        if self.current_value >= self.stop:\n",
        "            raise StopIteration\n",
        "        result = self.current_value\n",
        "        self.current_value += 1\n",
        "        return result\n",
        "\n",
        "my_iterator = MyIterator(5)\n",
        "i = iter(my_iterator) # 여기서부터\n",
        "print(next(i))\n",
        "print(next(i))\n",
        "print(next(i))\n",
        "print(next(i))\n",
        "print(next(i))\n",
        "print(next(i)) # 여기까지가 for에 작동 원리 입니다."
      ],
      "metadata": {
        "colab": {
          "base_uri": "https://localhost:8080/"
        },
        "id": "T32e-RJs-t4b",
        "outputId": "401db404-ddaa-4dc3-d386-af14d0519094"
      },
      "execution_count": null,
      "outputs": [
        {
          "output_type": "stream",
          "name": "stdout",
          "text": [
            "0\n",
            "1\n",
            "2\n",
            "3\n",
            "4\n"
          ]
        }
      ]
    },
    {
      "cell_type": "code",
      "source": [
        "class MyIterator:\n",
        "    def __init__(self, stop):\n",
        "        self.stop = stop  # 순회를 멈출 값\n",
        "\n",
        "    def __iter__(self):\n",
        "        self.current_value = 0  # 현재 값\n",
        "        return [10, 20, 30] error\n",
        "\n",
        "    def __next__(self):\n",
        "        if self.current_value >= self.stop:\n",
        "            raise StopIteration\n",
        "        result = self.current_value\n",
        "        self.current_value += 1\n",
        "        return result\n",
        "\n",
        "my_iterator = MyIterator(5)\n",
        "\n",
        "for i in my_iterator:\n",
        "    print(i)"
      ],
      "metadata": {
        "colab": {
          "base_uri": "https://localhost:8080/"
        },
        "id": "Z9rGcI7XAo9c",
        "outputId": "ca7851a4-0650-43ba-95fc-6992d141b923"
      },
      "execution_count": null,
      "outputs": [
        {
          "output_type": "stream",
          "name": "stdout",
          "text": [
            "0\n",
            "1\n",
            "2\n",
            "3\n",
            "4\n"
          ]
        }
      ]
    },
    {
      "cell_type": "markdown",
      "source": [
        "# 제너레이터"
      ],
      "metadata": {
        "id": "WLiVKYKiBFRi"
      }
    },
    {
      "cell_type": "code",
      "source": [
        "def my_generator(data):\n",
        "    for i in data:\n",
        "        yield i\n",
        "\n",
        "my_list = [1, 2, 3, 4, 5]\n",
        "my_iterator = my_generator(my_list)\n",
        "\n",
        "for i in my_iterator: #my_iterator는 함수의 return값이어야 하는데?\n",
        "    print(i)"
      ],
      "metadata": {
        "colab": {
          "base_uri": "https://localhost:8080/"
        },
        "id": "JpNndWkgA6M6",
        "outputId": "fdd3d9bc-c96c-498a-af74-b3e04254bcf4"
      },
      "execution_count": null,
      "outputs": [
        {
          "output_type": "stream",
          "name": "stdout",
          "text": [
            "1\n",
            "2\n",
            "3\n",
            "4\n",
            "5\n"
          ]
        }
      ]
    },
    {
      "cell_type": "code",
      "source": [
        "def my_generator(data):\n",
        "    for i in data:\n",
        "        yield i * 10\n",
        "\n",
        "for i in my_generator([1, 2, 3]):\n",
        "    print(i)"
      ],
      "metadata": {
        "colab": {
          "base_uri": "https://localhost:8080/"
        },
        "id": "4JMIdTn2CFtZ",
        "outputId": "14f2592c-2e64-48e6-dd1b-8308f46c4206"
      },
      "execution_count": null,
      "outputs": [
        {
          "output_type": "stream",
          "name": "stdout",
          "text": [
            "10\n",
            "20\n",
            "30\n"
          ]
        }
      ]
    },
    {
      "cell_type": "code",
      "source": [
        "def my_generator():\n",
        "    x = 10\n",
        "    yield x\n",
        "    x = 20\n",
        "    yield x\n",
        "    x = 30\n",
        "    yield x\n",
        "    return\n",
        "    x = 40\n",
        "    return\n",
        "\n",
        "for i in my_generator():\n",
        "    print(i)"
      ],
      "metadata": {
        "colab": {
          "base_uri": "https://localhost:8080/"
        },
        "id": "zVfX8-0ECq8f",
        "outputId": "f28500b1-45da-48f5-debf-dda18d15cd90"
      },
      "execution_count": null,
      "outputs": [
        {
          "output_type": "stream",
          "name": "stdout",
          "text": [
            "10\n",
            "20\n",
            "30\n"
          ]
        }
      ]
    },
    {
      "cell_type": "code",
      "source": [
        "# 이럴때 많이 사용합니다.\n",
        "def my_generator():\n",
        "    l = ['짝', '홀']\n",
        "    t = False\n",
        "    while True:\n",
        "        yield l[t]\n",
        "        t = True\n",
        "        yield l[t]\n",
        "        t = False\n",
        "\n",
        "list(zip([0, 1, 2, 3, 4, 5, 6], my_generator()))"
      ],
      "metadata": {
        "colab": {
          "base_uri": "https://localhost:8080/"
        },
        "id": "QIQp6qpuDBps",
        "outputId": "92f305eb-5d01-4798-aa33-dca71bbcc27f"
      },
      "execution_count": null,
      "outputs": [
        {
          "output_type": "execute_result",
          "data": {
            "text/plain": [
              "[(0, '짝'), (1, '홀'), (2, '짝'), (3, '홀'), (4, '짝'), (5, '홀'), (6, '짝')]"
            ]
          },
          "metadata": {},
          "execution_count": 131
        }
      ]
    },
    {
      "cell_type": "code",
      "source": [
        "# 이럴때 많이 사용합니다.\n",
        "def my_generator():\n",
        "    l = ['짝', '홀']\n",
        "    t = False\n",
        "    while True:\n",
        "        yield l[t := False]\n",
        "        yield l[t := True]\n",
        "\n",
        "\n",
        "list(zip([0, 1, 2, 3, 4, 5, 6], my_generator()))"
      ],
      "metadata": {
        "colab": {
          "base_uri": "https://localhost:8080/"
        },
        "id": "TMy_wVqZEZ7K",
        "outputId": "80aa613a-da97-4c99-a94b-893ff4844aa9"
      },
      "execution_count": null,
      "outputs": [
        {
          "output_type": "execute_result",
          "data": {
            "text/plain": [
              "[(0, '짝'), (1, '홀'), (2, '짝'), (3, '홀'), (4, '짝'), (5, '홀'), (6, '짝')]"
            ]
          },
          "metadata": {},
          "execution_count": 132
        }
      ]
    },
    {
      "cell_type": "code",
      "source": [
        "def my_generator():\n",
        "    count = 1\n",
        "    while True:\n",
        "        yield count\n",
        "        count += 1\n",
        "\n",
        "list(zip(['A', 'B', 'C'], my_generator()))"
      ],
      "metadata": {
        "colab": {
          "base_uri": "https://localhost:8080/"
        },
        "id": "JSDUf9FREj53",
        "outputId": "6596d008-3ce2-44c2-cac0-49c42564d859"
      },
      "execution_count": null,
      "outputs": [
        {
          "output_type": "execute_result",
          "data": {
            "text/plain": [
              "[('A', 1), ('B', 2), ('C', 3)]"
            ]
          },
          "metadata": {},
          "execution_count": 136
        }
      ]
    },
    {
      "cell_type": "code",
      "source": [
        "def my_generator():\n",
        "    count = 0\n",
        "    while True:\n",
        "        yield count\n",
        "        count += 2\n",
        "\n",
        "list(zip(['A', 'B', 'C'], my_generator()))"
      ],
      "metadata": {
        "colab": {
          "base_uri": "https://localhost:8080/"
        },
        "id": "Lh4X7LbeE_wO",
        "outputId": "bfb82720-cd22-4800-8912-763a6d6071ee"
      },
      "execution_count": null,
      "outputs": [
        {
          "output_type": "execute_result",
          "data": {
            "text/plain": [
              "[('A', 0), ('B', 2), ('C', 4)]"
            ]
          },
          "metadata": {},
          "execution_count": 138
        }
      ]
    },
    {
      "cell_type": "code",
      "source": [
        "def my_generator():\n",
        "    count = 0\n",
        "    while True:\n",
        "        yield count\n",
        "        count += 2\n",
        "\n",
        "list(zip([1, 2, 3, 4, 5, 6, 7, 8, 9], 'hello world', my_generator()))"
      ],
      "metadata": {
        "colab": {
          "base_uri": "https://localhost:8080/"
        },
        "id": "1qVJas_9FEKD",
        "outputId": "914eb981-640c-4747-ba8c-6b127d1f1b78"
      },
      "execution_count": null,
      "outputs": [
        {
          "output_type": "execute_result",
          "data": {
            "text/plain": [
              "[(1, 'h', 0),\n",
              " (2, 'e', 2),\n",
              " (3, 'l', 4),\n",
              " (4, 'l', 6),\n",
              " (5, 'o', 8),\n",
              " (6, ' ', 10),\n",
              " (7, 'w', 12),\n",
              " (8, 'o', 14),\n",
              " (9, 'r', 16)]"
            ]
          },
          "metadata": {},
          "execution_count": 141
        }
      ]
    },
    {
      "cell_type": "code",
      "source": [
        "def my_generator():\n",
        "    count = 0\n",
        "    while True:\n",
        "        yield count\n",
        "        count += 2\n",
        "\n",
        "print(list(zip(['A', 'B', 'C'], my_generator())))\n",
        "print(list(zip(['A', 'B', 'C'], my_generator())))\n",
        "# 여기서는 6을 호출해야 하지 않을까요? 왜 다시 초기화가 되었죠? 새로운 함수를 선언한것이여서"
      ],
      "metadata": {
        "colab": {
          "base_uri": "https://localhost:8080/"
        },
        "id": "1R2xNHn5FQ1V",
        "outputId": "b34f76ce-23ad-4c69-ebd8-dc8e26484251"
      },
      "execution_count": null,
      "outputs": [
        {
          "output_type": "stream",
          "name": "stdout",
          "text": [
            "[('A', 0), ('B', 2), ('C', 4)]\n",
            "[('A', 0), ('B', 2), ('C', 4)]\n"
          ]
        }
      ]
    },
    {
      "cell_type": "code",
      "source": [
        "gen = (i for i in range(2, 11, 2))\n",
        "for i in gen:\n",
        "    print(i)"
      ],
      "metadata": {
        "colab": {
          "base_uri": "https://localhost:8080/"
        },
        "id": "R8dM57KQF9JV",
        "outputId": "fe795586-8bc2-47b2-81e4-e78f59c4bb37"
      },
      "execution_count": null,
      "outputs": [
        {
          "output_type": "stream",
          "name": "stdout",
          "text": [
            "2\n",
            "4\n",
            "6\n",
            "8\n",
            "10\n"
          ]
        }
      ]
    },
    {
      "cell_type": "markdown",
      "source": [
        "# 연습문제"
      ],
      "metadata": {
        "id": "Ad4EA7yWHTvi"
      }
    },
    {
      "cell_type": "code",
      "source": [
        "# 회전초밥집에 들어갔습니다. 초밥은 아래와 같은 양식으로 나옵니다.\n",
        "# [['광어초밥', 1000], ['연어초밥', 2000], ['계란초밥', 3000]]\n",
        "# * 각 초밥은 몇 개 나올지 알 수 없습니다.\n",
        "# * 각 초밥은 1000원씩 비싸집니다.\n",
        "# * 초밥에 '어'가 나오는 초밥만 먹습니다.\n",
        "# 내가 먹은 초밥의 비용을 계산하는 코드를 작성해 주세요.\n",
        "# 12000\n",
        "\n",
        "def gen(data):\n",
        "    for name, price in data:\n",
        "        if '어' in name:\n",
        "            yield price\n",
        "\n",
        "def solution(data):\n",
        "    return sum(gen(data))\n",
        "\n",
        "solution([['광어초밥', 1000], ['연어초밥', 2000], ['계란초밥', 3000], ['문어초밥', 4000], ['장어초밥', 5000]])"
      ],
      "metadata": {
        "colab": {
          "base_uri": "https://localhost:8080/"
        },
        "id": "MDUsL38JGiwl",
        "outputId": "d8440f2b-3657-4662-dd19-e0727aa3eff1"
      },
      "execution_count": null,
      "outputs": [
        {
          "output_type": "execute_result",
          "data": {
            "text/plain": [
              "12000"
            ]
          },
          "metadata": {},
          "execution_count": 18
        }
      ]
    },
    {
      "cell_type": "markdown",
      "source": [
        "nonlocal"
      ],
      "metadata": {
        "id": "_GN4fEdIRtu6"
      }
    },
    {
      "cell_type": "code",
      "source": [
        "x = 100\n",
        "def outer():\n",
        "    x = 1\n",
        "    def inner():\n",
        "        nonlocal x\n",
        "        x += 1\n",
        "        print(x)# 출력: 2\n",
        "    inner()\n",
        "    print(x) # 출력: 2\n",
        "\n",
        "outer()\n",
        "print(x) # 출력: 100"
      ],
      "metadata": {
        "colab": {
          "base_uri": "https://localhost:8080/"
        },
        "id": "XNN4xuNNOwoi",
        "outputId": "0c4a4b38-4f96-4c24-ec83-301e5430c5e3"
      },
      "execution_count": null,
      "outputs": [
        {
          "output_type": "stream",
          "name": "stdout",
          "text": [
            "2\n",
            "2\n",
            "100\n"
          ]
        }
      ]
    },
    {
      "cell_type": "code",
      "source": [
        "x = 100\n",
        "def outer():\n",
        "    x = 1\n",
        "    def inner():\n",
        "        global x\n",
        "        x += 1\n",
        "        print(x) # 출력: 101\n",
        "    inner()\n",
        "    print(x)# 출력: 1\n",
        "\n",
        "outer()\n",
        "print(x) # 출력: 101"
      ],
      "metadata": {
        "colab": {
          "base_uri": "https://localhost:8080/"
        },
        "id": "kwCAkV35R2TF",
        "outputId": "1e02405b-49f3-48f3-c64c-51e9fcf47944"
      },
      "execution_count": null,
      "outputs": [
        {
          "output_type": "stream",
          "name": "stdout",
          "text": [
            "101\n",
            "1\n",
            "101\n"
          ]
        }
      ]
    },
    {
      "cell_type": "code",
      "source": [
        "x = 100\n",
        "def outer():\n",
        "    x = 1\n",
        "    def inner():\n",
        "        x += 1 #error 밖에 있는 x를 못 가져오기 때문\n",
        "        print(x)# 출력: 2\n",
        "    inner()\n",
        "    print(x) # 출력: 2\n",
        "\n",
        "outer()\n",
        "print(x) # 출력: 100"
      ],
      "metadata": {
        "id": "ZEoPWpVdSexL"
      },
      "execution_count": null,
      "outputs": []
    },
    {
      "cell_type": "code",
      "source": [
        "a = [1, 2, 3]\n",
        "b = ['a', 'b', 'c']\n",
        "\n",
        "z = zip(a, b)\n",
        "print(list(z)) # [(1, 'a'), (2, 'b'), (3, 'c')]\n",
        "\n",
        "# zip 객체는 한 번 사용되었으므로 빈 리스트가 반환됩니다.\n",
        "print(list(z)) # []\n"
      ],
      "metadata": {
        "colab": {
          "base_uri": "https://localhost:8080/"
        },
        "id": "y4h1v8H_SqUL",
        "outputId": "86868c5d-2565-4c83-9c80-f8195f252401"
      },
      "execution_count": null,
      "outputs": [
        {
          "output_type": "stream",
          "name": "stdout",
          "text": [
            "[(1, 'a'), (2, 'b'), (3, 'c')]\n",
            "[]\n"
          ]
        }
      ]
    },
    {
      "cell_type": "code",
      "source": [
        "# iter에서 왜 초기화 해주지 않았을까요?"
      ],
      "metadata": {
        "id": "KHVNbUtJTVve"
      },
      "execution_count": null,
      "outputs": []
    },
    {
      "cell_type": "code",
      "source": [
        "x = [1, 2, 3]\n",
        "\n",
        "y = sorted(x)\n",
        "\n",
        "for i in y:\n",
        "    print(i)\n",
        "\n",
        "for i in y:\n",
        "    print(i)\n",
        "\n",
        "y # 심지어 리스트로 나옵니다! zip, map 너무 차별하는 것 아닐까요?"
      ],
      "metadata": {
        "colab": {
          "base_uri": "https://localhost:8080/"
        },
        "id": "afsmQBqATlcZ",
        "outputId": "f785b541-8b3a-421f-94d4-638c4418d264"
      },
      "execution_count": null,
      "outputs": [
        {
          "output_type": "stream",
          "name": "stdout",
          "text": [
            "1\n",
            "2\n",
            "3\n",
            "1\n",
            "2\n",
            "3\n"
          ]
        },
        {
          "output_type": "execute_result",
          "data": {
            "text/plain": [
              "[1, 2, 3]"
            ]
          },
          "metadata": {},
          "execution_count": 29
        }
      ]
    },
    {
      "cell_type": "code",
      "source": [
        "x = [1, 2, 3]\n",
        "\n",
        "y = reversed(x)\n",
        "\n",
        "for i in y:\n",
        "    print(i)\n",
        "\n",
        "for i in y:\n",
        "    print(i)\n",
        "\n",
        "y # sorted와 다르게 reversed는 한번만 실행이 되었고\n",
        "# 반환되는 값도 리스트로 주지 않았습니다."
      ],
      "metadata": {
        "colab": {
          "base_uri": "https://localhost:8080/"
        },
        "id": "RD6w8Lf8UCAT",
        "outputId": "95fbe130-aa0d-4f7b-e625-90636a35152e"
      },
      "execution_count": null,
      "outputs": [
        {
          "output_type": "stream",
          "name": "stdout",
          "text": [
            "3\n",
            "2\n",
            "1\n"
          ]
        },
        {
          "output_type": "execute_result",
          "data": {
            "text/plain": [
              "<list_reverseiterator at 0x7a3edd208760>"
            ]
          },
          "metadata": {},
          "execution_count": 31
        }
      ]
    },
    {
      "cell_type": "code",
      "source": [
        "sorted(range(20)) # 메모리 부하가 큰 작업입니다."
      ],
      "metadata": {
        "colab": {
          "base_uri": "https://localhost:8080/"
        },
        "id": "Ck4zImLHUzG4",
        "outputId": "3d1d0792-0929-4b02-a9c1-da1318480817"
      },
      "execution_count": null,
      "outputs": [
        {
          "output_type": "execute_result",
          "data": {
            "text/plain": [
              "[0, 1, 2, 3, 4, 5, 6, 7, 8, 9, 10, 11, 12, 13, 14, 15, 16, 17, 18, 19]"
            ]
          },
          "metadata": {},
          "execution_count": 32
        }
      ]
    },
    {
      "cell_type": "code",
      "source": [
        "range(2000000)"
      ],
      "metadata": {
        "colab": {
          "base_uri": "https://localhost:8080/"
        },
        "id": "f5iMnNpTU3e7",
        "outputId": "68ef48b3-e50c-4211-f40a-8fc7f43429a2"
      },
      "execution_count": null,
      "outputs": [
        {
          "output_type": "execute_result",
          "data": {
            "text/plain": [
              "range(0, 2000000)"
            ]
          },
          "metadata": {},
          "execution_count": 33
        }
      ]
    },
    {
      "cell_type": "code",
      "source": [
        "reversed(range(2000000))"
      ],
      "metadata": {
        "id": "xXkYnT0fVHqJ",
        "outputId": "59662194-e0fa-4076-b71e-e0eb4a8b83c3",
        "colab": {
          "base_uri": "https://localhost:8080/"
        }
      },
      "execution_count": null,
      "outputs": [
        {
          "output_type": "execute_result",
          "data": {
            "text/plain": [
              "<range_iterator at 0x7a3edd0ef570>"
            ]
          },
          "metadata": {},
          "execution_count": 34
        }
      ]
    },
    {
      "cell_type": "code",
      "source": [
        "[1, 2, 3] == [1, 2, 3]"
      ],
      "metadata": {
        "colab": {
          "base_uri": "https://localhost:8080/"
        },
        "id": "PfXZVUXNTrCd",
        "outputId": "0719474c-ad28-4f91-f025-0f7be67b9187"
      },
      "execution_count": null,
      "outputs": [
        {
          "output_type": "execute_result",
          "data": {
            "text/plain": [
              "True"
            ]
          },
          "metadata": {},
          "execution_count": 26
        }
      ]
    },
    {
      "cell_type": "markdown",
      "source": [
        "# 파이썬 버전별 문법"
      ],
      "metadata": {
        "id": "esWQJXdLHXWK"
      }
    },
    {
      "cell_type": "code",
      "source": [
        "# 3.6\n",
        "def greet(name: str) -> str:\n",
        "    return f\"Hello, {name}\"\n",
        "\n",
        "greet(10)"
      ],
      "metadata": {
        "colab": {
          "base_uri": "https://localhost:8080/",
          "height": 35
        },
        "id": "pAx4os_XHZSW",
        "outputId": "cfd92adc-4005-4b03-d1ac-84695f911add"
      },
      "execution_count": null,
      "outputs": [
        {
          "output_type": "execute_result",
          "data": {
            "text/plain": [
              "'Hello, 10'"
            ],
            "application/vnd.google.colaboratory.intrinsic+json": {
              "type": "string"
            }
          },
          "metadata": {},
          "execution_count": 5
        }
      ]
    },
    {
      "cell_type": "code",
      "source": [
        "# 3.6\n",
        "def greet(name):\n",
        "    '''\n",
        "    인사를 하는 함수입니다.\n",
        "\n",
        "    이 함수는 name 인자로 받아 name과 함께 인사를 하는 함수입니다~~\n",
        "\n",
        "    Args:\n",
        "        a(str): 블라블라\n",
        "        b(int): 블라블라\n",
        "\n",
        "    Returns:\n",
        "        리턴은 이런식입니다.\n",
        "        example: [1, 2, 3]\n",
        "\n",
        "    Raises:\n",
        "        IOError: 애러 블라블라\n",
        "    '''\n",
        "    return f'Hello, {name}'\n",
        "\n",
        "greet(10)"
      ],
      "metadata": {
        "colab": {
          "base_uri": "https://localhost:8080/",
          "height": 35
        },
        "id": "fs7j69MJH1T6",
        "outputId": "0b70833e-9735-4b82-e962-8e3f8ee525f2"
      },
      "execution_count": null,
      "outputs": [
        {
          "output_type": "execute_result",
          "data": {
            "text/plain": [
              "'Hello, 10'"
            ],
            "application/vnd.google.colaboratory.intrinsic+json": {
              "type": "string"
            }
          },
          "metadata": {},
          "execution_count": 13
        }
      ]
    },
    {
      "cell_type": "code",
      "source": [
        "greet.__doc__"
      ],
      "metadata": {
        "colab": {
          "base_uri": "https://localhost:8080/",
          "height": 72
        },
        "id": "3BMXb576Imm-",
        "outputId": "cbb957dd-2250-4aa2-e43d-ce052b7f8619"
      },
      "execution_count": null,
      "outputs": [
        {
          "output_type": "execute_result",
          "data": {
            "text/plain": [
              "'\\n    인사를 하는 함수입니다.\\n\\n    Args:\\n        a: ~~\\n        b: ~~\\n       \\n    Returns:\\n        리턴은 이런식\\n        example: 123\\n\\n    Raises:\\n        IOError: 에러\\n    '"
            ],
            "application/vnd.google.colaboratory.intrinsic+json": {
              "type": "string"
            }
          },
          "metadata": {},
          "execution_count": 9
        }
      ]
    },
    {
      "cell_type": "code",
      "source": [
        "# 3.6\n",
        "# 블라블라\n",
        "def greet(name):\n",
        "\n",
        "    return f\"Hello, {name}\"\n",
        "\n",
        "greet.__doc__\n",
        "greet(10)"
      ],
      "metadata": {
        "colab": {
          "base_uri": "https://localhost:8080/",
          "height": 35
        },
        "id": "VMSQZkMtIt7D",
        "outputId": "2c68d20a-ada7-455b-9200-0e3ad5988221"
      },
      "execution_count": null,
      "outputs": [
        {
          "output_type": "execute_result",
          "data": {
            "text/plain": [
              "'Hello, 10'"
            ],
            "application/vnd.google.colaboratory.intrinsic+json": {
              "type": "string"
            }
          },
          "metadata": {},
          "execution_count": 12
        }
      ]
    },
    {
      "cell_type": "code",
      "source": [
        "# 3.6\n",
        "name = \"Alice\"\n",
        "print(f\"Hello, {name}\")"
      ],
      "metadata": {
        "id": "bRZpDX4EHpOv"
      },
      "execution_count": null,
      "outputs": []
    },
    {
      "cell_type": "code",
      "source": [
        "# 3.7\n",
        "from dataclasses import dataclass\n",
        "\n",
        "@dataclass\n",
        "class User:\n",
        "    id: int\n",
        "    name: str\n",
        "    email : str\n",
        "\n",
        "user = User(123, 'hojun', 'hojun@gmail')\n",
        "user"
      ],
      "metadata": {
        "colab": {
          "base_uri": "https://localhost:8080/"
        },
        "id": "DxePfTNVHb8T",
        "outputId": "f5e0be05-fa22-4a61-ab47-6a11dd7c71ab"
      },
      "execution_count": null,
      "outputs": [
        {
          "output_type": "execute_result",
          "data": {
            "text/plain": [
              "User(id=123, name='hojun', email='hojun@gmail')"
            ]
          },
          "metadata": {},
          "execution_count": 14
        }
      ]
    },
    {
      "cell_type": "code",
      "source": [
        "# 3.8\n",
        "(x := 10) * 3"
      ],
      "metadata": {
        "colab": {
          "base_uri": "https://localhost:8080/"
        },
        "id": "7QoDgD_YKFWT",
        "outputId": "42d68d4f-23f7-4c40-ef9a-a5e282148c51"
      },
      "execution_count": null,
      "outputs": [
        {
          "output_type": "execute_result",
          "data": {
            "text/plain": [
              "30"
            ]
          },
          "metadata": {},
          "execution_count": 15
        }
      ]
    },
    {
      "cell_type": "code",
      "source": [
        "x"
      ],
      "metadata": {
        "colab": {
          "base_uri": "https://localhost:8080/"
        },
        "id": "vVxcMZizKJxY",
        "outputId": "0d9cd50f-8294-4787-a3a1-988b42c4f4fe"
      },
      "execution_count": null,
      "outputs": [
        {
          "output_type": "execute_result",
          "data": {
            "text/plain": [
              "10"
            ]
          },
          "metadata": {},
          "execution_count": 17
        }
      ]
    },
    {
      "cell_type": "code",
      "source": [
        "# 3.9\n",
        "x = {\"key1\": \"value1\"}\n",
        "y = {\"key2\": \"value2\"}\n",
        "z = x | y\n",
        "z"
      ],
      "metadata": {
        "colab": {
          "base_uri": "https://localhost:8080/"
        },
        "id": "XoNZ-MTkKZhn",
        "outputId": "2ea58cb8-75d6-4772-bd33-c3e8718acc0d"
      },
      "execution_count": null,
      "outputs": [
        {
          "output_type": "execute_result",
          "data": {
            "text/plain": [
              "{'key1': 'value1', 'key2': 'value2'}"
            ]
          },
          "metadata": {},
          "execution_count": 18
        }
      ]
    },
    {
      "cell_type": "code",
      "source": [
        "# {\"key1\": \"value1\"} + {\"key2\": \"value2\"}\n",
        "# {\"key1\": \"value1\"}.append({\"key2\": \"value2\"})\n",
        "x = {\"key1\": \"value1\"}\n",
        "x.update({\"key2\": \"value2\"})\n",
        "x"
      ],
      "metadata": {
        "colab": {
          "base_uri": "https://localhost:8080/"
        },
        "id": "j2puwbq1KjvD",
        "outputId": "92d9b91a-20dd-4f0e-916b-a177064470c0"
      },
      "execution_count": null,
      "outputs": [
        {
          "output_type": "execute_result",
          "data": {
            "text/plain": [
              "{'key1': 'value1', 'key2': 'value2'}"
            ]
          },
          "metadata": {},
          "execution_count": 21
        }
      ]
    },
    {
      "cell_type": "code",
      "source": [
        "# 3.5\n",
        "x = {\"key1\": \"value1\"}\n",
        "y = {\"key2\": \"value2\"}\n",
        "z = {**x, **y}\n",
        "z"
      ],
      "metadata": {
        "colab": {
          "base_uri": "https://localhost:8080/"
        },
        "id": "0K64vy8UK3YO",
        "outputId": "af047c20-6471-45da-d176-d13c1cdf23c0"
      },
      "execution_count": null,
      "outputs": [
        {
          "output_type": "execute_result",
          "data": {
            "text/plain": [
              "{'key1': 'value1', 'key2': 'value2'}"
            ]
          },
          "metadata": {},
          "execution_count": 22
        }
      ]
    },
    {
      "cell_type": "code",
      "source": [
        "!python --version"
      ],
      "metadata": {
        "colab": {
          "base_uri": "https://localhost:8080/"
        },
        "id": "2THe6w3QLKES",
        "outputId": "18262a53-cfbb-4757-b6e8-257ed701e898"
      },
      "execution_count": null,
      "outputs": [
        {
          "output_type": "stream",
          "name": "stdout",
          "text": [
            "Python 3.10.12\n"
          ]
        }
      ]
    },
    {
      "cell_type": "code",
      "source": [
        "# 3.10\n",
        "# 간단한 버전\n",
        "str_test = \"good\"\n",
        "\n",
        "match str_test:\n",
        "    case \"happy\":\n",
        "        print(\"happy\")\n",
        "\n",
        "    case \"good\":\n",
        "        print(\"good\")\n"
      ],
      "metadata": {
        "colab": {
          "base_uri": "https://localhost:8080/"
        },
        "id": "TeYpkTGyLvFU",
        "outputId": "6151fb38-4fef-4a6d-95f4-7ef107846f02"
      },
      "execution_count": null,
      "outputs": [
        {
          "output_type": "stream",
          "name": "stdout",
          "text": [
            "good\n"
          ]
        }
      ]
    },
    {
      "cell_type": "markdown",
      "source": [
        "# 파일 입출력"
      ],
      "metadata": {
        "id": "aDmGydC4NCby"
      }
    },
    {
      "cell_type": "code",
      "source": [
        "# open(파일이름, 파일모드)\n",
        "f = open('python.txt', 'w')\n",
        "# 파일모드 :\n",
        "# r(읽기모드)\n",
        "# w(쓰기모드, 파일이 없으면 생성합니다, 내용이 있어도 w모드면 덮어씁니다.)\n",
        "# a(추가모드)\n",
        "f.close()"
      ],
      "metadata": {
        "id": "5aFQLzfQLypH"
      },
      "execution_count": null,
      "outputs": []
    },
    {
      "cell_type": "code",
      "source": [
        "f = open('python.txt', 'w')\n",
        "s = ''\n",
        "for i in range(1, 6):\n",
        "\ts += f'{i}명 참여 중입니다. \\n'\n",
        "f.write(s)\n",
        "f.close()"
      ],
      "metadata": {
        "id": "BBgb7HWGNgbQ"
      },
      "execution_count": null,
      "outputs": []
    },
    {
      "cell_type": "code",
      "source": [
        "f = open('python.txt', 'r')\n",
        "while True:\n",
        "\tline = f.readline()\n",
        "\tif not line:\n",
        "\t\tbreak\n",
        "\tprint(line)\n",
        "f.close()"
      ],
      "metadata": {
        "colab": {
          "base_uri": "https://localhost:8080/"
        },
        "id": "uCUWixxQNtWL",
        "outputId": "2ff58229-0af1-41b2-ac00-8e28935b171f"
      },
      "execution_count": null,
      "outputs": [
        {
          "output_type": "stream",
          "name": "stdout",
          "text": [
            "1명 참여 중입니다. \n",
            "\n",
            "2명 참여 중입니다. \n",
            "\n",
            "3명 참여 중입니다. \n",
            "\n",
            "4명 참여 중입니다. \n",
            "\n",
            "5명 참여 중입니다. \n",
            "\n"
          ]
        }
      ]
    },
    {
      "cell_type": "code",
      "source": [
        "f = open('python.txt', 'r')\n",
        "lines = f.readlines()\n",
        "# for line in lines:\n",
        "# \tprint(line)\n",
        "print(lines)\n",
        "f.close()"
      ],
      "metadata": {
        "colab": {
          "base_uri": "https://localhost:8080/"
        },
        "id": "o-tJBGLARaEt",
        "outputId": "04addd31-cf68-492d-c6af-e2b908824c16"
      },
      "execution_count": null,
      "outputs": [
        {
          "output_type": "stream",
          "name": "stdout",
          "text": [
            "['1명 참여 중입니다. \\n', '2명 참여 중입니다. \\n', '3명 참여 중입니다. \\n', '4명 참여 중입니다. \\n', '5명 참여 중입니다. \\n']\n"
          ]
        }
      ]
    },
    {
      "cell_type": "code",
      "source": [
        "f = open('python.txt', 'r')\n",
        "data = f.read()\n",
        "print(data)\n",
        "f.close()"
      ],
      "metadata": {
        "colab": {
          "base_uri": "https://localhost:8080/"
        },
        "id": "hfSi7UmlRrV6",
        "outputId": "902ce259-52ae-4ae8-d669-50618e03060d"
      },
      "execution_count": null,
      "outputs": [
        {
          "output_type": "stream",
          "name": "stdout",
          "text": [
            "1명 참여 중입니다. \n",
            "2명 참여 중입니다. \n",
            "3명 참여 중입니다. \n",
            "4명 참여 중입니다. \n",
            "5명 참여 중입니다. \n",
            "\n"
          ]
        }
      ]
    },
    {
      "cell_type": "code",
      "source": [
        "data"
      ],
      "metadata": {
        "colab": {
          "base_uri": "https://localhost:8080/",
          "height": 54
        },
        "id": "zpPtlbGhSgzv",
        "outputId": "90f61b0f-8e2d-4d2a-eab6-16f49b9a61c7"
      },
      "execution_count": null,
      "outputs": [
        {
          "output_type": "execute_result",
          "data": {
            "text/plain": [
              "'1명 참여 중입니다. \\n2명 참여 중입니다. \\n3명 참여 중입니다. \\n4명 참여 중입니다. \\n5명 참여 중입니다. \\n'"
            ],
            "application/vnd.google.colaboratory.intrinsic+json": {
              "type": "string"
            }
          },
          "metadata": {},
          "execution_count": 36
        }
      ]
    },
    {
      "cell_type": "code",
      "source": [
        "f = open('python.txt', 'r')\n",
        "lines = f.readlines()\n",
        "for line in lines:\n",
        "\tprint(line, end='')\n",
        "f.close()"
      ],
      "metadata": {
        "colab": {
          "base_uri": "https://localhost:8080/"
        },
        "id": "zW2M2xYFSY6X",
        "outputId": "4f37947d-1a04-4143-930b-4d7547a627e5"
      },
      "execution_count": null,
      "outputs": [
        {
          "output_type": "stream",
          "name": "stdout",
          "text": [
            "1명 참여 중입니다. \n",
            "2명 참여 중입니다. \n",
            "3명 참여 중입니다. \n",
            "4명 참여 중입니다. \n",
            "5명 참여 중입니다. \n"
          ]
        }
      ]
    },
    {
      "cell_type": "code",
      "source": [
        "# 쉬운 예제\n",
        "f = open('python.html', 'w')\n",
        "s = '''<html>\n",
        "<head>\n",
        "</head>\n",
        "<body>\n",
        "<h1>hello world</h1>\n",
        "</body>\n",
        "</html>\n",
        "'''\n",
        "f.write(s)\n",
        "f.close()"
      ],
      "metadata": {
        "id": "JWehJO81SqHu"
      },
      "execution_count": null,
      "outputs": []
    },
    {
      "cell_type": "code",
      "source": [
        "# 쉬운 예제\n",
        "f = open('python.csv', 'w',)\n",
        "s = '''제목, 평점, 이미지, 줄거리\n",
        "무빙, 5.0, img, 줄거리\n",
        "무빙, 5.0, img, 줄거리\n",
        "무빙, 5.0, img, 줄거리\n",
        "'''\n",
        "f.write(s)\n",
        "f.close()"
      ],
      "metadata": {
        "id": "lPMHDviDTSLf"
      },
      "execution_count": null,
      "outputs": []
    },
    {
      "cell_type": "code",
      "source": [
        "from google.colab import drive\n",
        "drive.mount('/content/drive')"
      ],
      "metadata": {
        "id": "EOfMmXUSyfvi"
      },
      "execution_count": null,
      "outputs": []
    },
    {
      "cell_type": "code",
      "source": [
        "# 쉬운 예제\n",
        "# colab에서는 잘 열리지만 , 대신 window 엑셀에서 깨집니다.\n",
        "f = open('python.csv', 'w', encoding = 'utf-8')\n",
        "s = '''제목, 평점, 이미지, 줄거리\n",
        "무빙, 5.0, img, 줄거리\n",
        "무빙, 5.0, img, 줄거리\n",
        "무빙, 5.0, img, 줄거리\n",
        "'''\n",
        "f.write(s)\n",
        "f.close()"
      ],
      "metadata": {
        "id": "9uZTn57veox2"
      },
      "execution_count": null,
      "outputs": []
    },
    {
      "cell_type": "code",
      "source": [
        "# 쉬운 예제\n",
        "# window 대신 window에서는 잘 열리지만 , 대신 colab에서 깨집니다.\n",
        "f = open('python.csv', 'w', encoding = 'cp949')\n",
        "s = '''제목, 평점, 이미지, 줄거리\n",
        "무빙, 5.0, img, 줄거리\n",
        "무빙, 5.0, img, 줄거리\n",
        "무빙, 5.0, img, 줄거리\n",
        "'''\n",
        "f.write(s)\n",
        "f.close()"
      ],
      "metadata": {
        "id": "BVvzpAyjeqVz"
      },
      "execution_count": null,
      "outputs": []
    },
    {
      "cell_type": "code",
      "source": [
        "# 어려운 예제\n",
        "# django의 동작원리와도 관련이 있습니다.\n",
        "import requests\n",
        "from bs4 import BeautifulSoup\n",
        "\n",
        "paullab_url = 'http://paullab.co.kr/bookservice/'\n",
        "response = requests.get(paullab_url)\n",
        "response.encoding = 'utf-8'\n",
        "html = response.text\n",
        "\n",
        "soup = BeautifulSoup(html, 'html.parser')\n",
        "\n",
        "bookservices = soup.select('.col-lg-6 > h2')     # col-lg-6 클래스 안의 h2 태그 탐색\n",
        "for no, book in enumerate(bookservices, 1):\n",
        "    print(no, book.text)\n",
        "\n",
        "\n",
        "# 이미지 양식: https://paullab.co.kr/bookservice/img/notion.jpg\n",
        "f = open('python.html', 'w')\n",
        "s = '''<html>\n",
        "<head>\n",
        "</head>\n",
        "<body>\n",
        "<section>\n",
        "<h2>제목</h2>\n",
        "<img src=''>\n",
        "</section>\n",
        "</body>\n",
        "</html>\n",
        "'''\n",
        "f.write(s)\n",
        "f.close()"
      ],
      "metadata": {
        "colab": {
          "base_uri": "https://localhost:8080/"
        },
        "id": "vwlhe31fUiv4",
        "outputId": "31d97965-f150-4087-fde6-ebdfdc058bc0"
      },
      "execution_count": null,
      "outputs": [
        {
          "output_type": "stream",
          "name": "stdout",
          "text": [
            "1 메모혁신 Notion(노션) 활용 가이드\n",
            "2 제주코딩베이스캠프 Code Festival: Python 100제 1부\n",
            "3 튜토리얼로 배우는 HTML&CSS\n",
            "4 코딩도장 튜토리얼로 배우는 Python 1편 object\n",
            "5 코딩도장 튜토리얼로 배우는 python 2편 제어문\n",
            "6 코딩도장 튜토리얼로 배우는 Python 문제풀이\n",
            "7 타노스의 건틀릿 알고리즘 With Python\n",
            "8 xlsxwriter 튜토리얼로 배우는 Python 엑셀 프로그래밍\n",
            "9 러플 튜토리얼로 배우는 Python\n",
            "10 인공지능을 활용한 업무자동화 With Google Developers Group JEJU\n",
            "11 2017 제주 코딩 해커톤 Django 트랙 상편 1권\n"
          ]
        }
      ]
    },
    {
      "cell_type": "code",
      "source": [
        "# 어려운 예제\n",
        "# django의 동작원리와도 관련이 있습니다.\n",
        "import requests\n",
        "from bs4 import BeautifulSoup\n",
        "\n",
        "paullab_url = 'http://paullab.co.kr/bookservice/'\n",
        "response = requests.get(paullab_url)\n",
        "response.encoding = 'utf-8'\n",
        "html = response.text\n",
        "\n",
        "soup = BeautifulSoup(html, 'html.parser')\n",
        "\n",
        "bookservices = soup.select('.col-lg-6 > h2')     # col-lg-6 클래스 안의 h2 태그 탐색\n",
        "contents = ''\n",
        "\n",
        "for no, (book, img) in enumerate(zip(bookservices, soup.select('img')[2:]), 1):\n",
        "    contents += f'''\n",
        "                <section>\n",
        "                <h2>{no}. {book.text}</h2>\n",
        "                <img src='https://paullab.co.kr/bookservice/{img[\"src\"]}'>\n",
        "                </section>\n",
        "                '''\n",
        "\n",
        "# 이미지 양식: https://paullab.co.kr/bookservice/img/notion.jpg\n",
        "f = open('python.html', 'w')\n",
        "s = f'''<html>\n",
        "<head>\n",
        "</head>\n",
        "<body>\n",
        "{contents}\n",
        "</body>\n",
        "</html>\n",
        "'''\n",
        "f.write(s)\n",
        "f.close()"
      ],
      "metadata": {
        "id": "tTENP7fCViQI"
      },
      "execution_count": null,
      "outputs": []
    },
    {
      "cell_type": "code",
      "source": [
        "for i in soup.select('img')[2:]:\n",
        "    print(i['src'])"
      ],
      "metadata": {
        "colab": {
          "base_uri": "https://localhost:8080/"
        },
        "id": "4QmYZBelXV78",
        "outputId": "0f14598e-947f-4af1-ab57-e9e350b22dcd"
      },
      "execution_count": null,
      "outputs": [
        {
          "output_type": "stream",
          "name": "stdout",
          "text": [
            "img/notion.jpg\n",
            "img/cofe.jpg\n",
            "img/HTMLCSS.jpg\n",
            "img/python1.jpg\n",
            "img/python2.jpg\n",
            "img/python3.jpg\n",
            "img/tanos.jpg\n",
            "img/xlsx.jpg\n",
            "img/ruple.jpg\n",
            "img/auto.jpg\n",
            "img/django.jpg\n"
          ]
        }
      ]
    },
    {
      "cell_type": "code",
      "source": [
        "## 파일 입출력은 이 위까지만 공부하시면 됩니다."
      ],
      "metadata": {
        "id": "yAfyqR3hJce8"
      },
      "execution_count": null,
      "outputs": []
    },
    {
      "cell_type": "code",
      "source": [
        "with open('python.txt', 'w') as f:\n",
        "    f.write('Life is too short, you need python')"
      ],
      "metadata": {
        "id": "MFwFhNZQYfV1"
      },
      "execution_count": null,
      "outputs": []
    },
    {
      "cell_type": "code",
      "source": [
        "f = open('python.txt', 'r+') # 읽기 쓰기(기존에 있던 내용을 읽을 수 있고, 최종적으로는 덮어씀)\n",
        "# f.seek(0)  # 파일의 시작 위치로 이동, r모드는 포인터가 맨 앞으로 가 있습니다.\n",
        "print(f.read())\n",
        "f.write('\\nr+모드입니다!\\n')\n",
        "#f.seek(0)  # 파일의 시작 위치로 이동, 주석처리 해보세요.\n",
        "print('-------')\n",
        "print(f.read())\n",
        "f.close()"
      ],
      "metadata": {
        "colab": {
          "base_uri": "https://localhost:8080/"
        },
        "id": "KeabZfuXI7TF",
        "outputId": "7f07c15d-415e-42ca-e89a-eb12be4c08d5"
      },
      "execution_count": null,
      "outputs": [
        {
          "output_type": "stream",
          "name": "stdout",
          "text": [
            "Life is too short, you need python\n",
            "w+모드입니다!\n",
            "\n",
            "w+모드입니다!\n",
            "\n",
            "w+모드입니다!\n",
            "\n",
            "-------\n",
            "\n"
          ]
        }
      ]
    },
    {
      "cell_type": "code",
      "source": [
        "f = open('python.txt', 'w+') # 읽기 쓰기(기존에 있던 내용은 덮어쓰기)\n",
        "f.seek(0) # 커서를 앞으로 보냈음에도 기존에 텍스트를 읽지 못합니다.\n",
        "print(f.read())\n",
        "f.write('\\nw+모드입니다!') # 그냥 덮어 써버림\n",
        "f.seek(0) # 쓴 내용을 읽을 수는 있음!\n",
        "print(f.read())\n",
        "f.close()\n",
        "# 차이:\n",
        "# r+ 모드는 파일을 열 때 기존의 내용을 보존\n",
        "# w+ 모드는 파일을 열 때 기존의 내용을 삭제"
      ],
      "metadata": {
        "colab": {
          "base_uri": "https://localhost:8080/"
        },
        "id": "LP59icM2KHSA",
        "outputId": "75d54c96-4e34-481d-920a-5c8f172e69a8"
      },
      "execution_count": null,
      "outputs": [
        {
          "output_type": "stream",
          "name": "stdout",
          "text": [
            "\n",
            "\n",
            "w+모드입니다!\n"
          ]
        }
      ]
    },
    {
      "cell_type": "code",
      "source": [
        "f = open('python.txt', 'a+') # 읽기, 없으면 파일추가\n",
        "f.seek(0) # 커서를 이렇게 이동해주지 않으면 기존 내용을 못 읽습니다.\n",
        "print(f.read())\n",
        "f.write('\\na+모드 입니다!') # 그냥 덮어 써버림\n",
        "f.seek(0)\n",
        "print(f.read())\n",
        "f.close()\n",
        "# r+모드와 차이: 파일 포인터가 r+는 파일의 시작 부분, a+는 끝 부분"
      ],
      "metadata": {
        "colab": {
          "base_uri": "https://localhost:8080/"
        },
        "id": "nnsMUtx7KjaM",
        "outputId": "316b05fa-7644-461a-8a87-0a1e7a748fa5"
      },
      "execution_count": null,
      "outputs": [
        {
          "output_type": "stream",
          "name": "stdout",
          "text": [
            "\n",
            "w+모드입니다!hello world5\n",
            "hello world5\n",
            "\n",
            "a+모드 입니다!\n",
            "\n",
            "w+모드입니다!hello world5\n",
            "hello world5\n",
            "\n",
            "a+모드 입니다!\n",
            "a+모드 입니다!\n"
          ]
        }
      ]
    },
    {
      "cell_type": "code",
      "source": [
        "f = open('python.txt', 'r+') # 포인터가 처음\n",
        "print(f.read())\n",
        "f.close()"
      ],
      "metadata": {
        "colab": {
          "base_uri": "https://localhost:8080/"
        },
        "id": "6GKXzgkYKwyx",
        "outputId": "509bf3e1-600e-41da-842f-759479fc9212"
      },
      "execution_count": null,
      "outputs": [
        {
          "output_type": "stream",
          "name": "stdout",
          "text": [
            "\n",
            "w+모드입니다!hello world5\n",
            "hello world5\n",
            "\n",
            "a+모드 입니다!\n",
            "a+모드 입니다!\n"
          ]
        }
      ]
    },
    {
      "cell_type": "code",
      "source": [
        "f = open('python.txt', 'a+') # 포인터가 끝\n",
        "print(f.read())\n",
        "f.close()"
      ],
      "metadata": {
        "colab": {
          "base_uri": "https://localhost:8080/"
        },
        "id": "EsRMBII1K2oK",
        "outputId": "3b8a50d5-8f4b-4dd7-d6af-7b4b7c29f14a"
      },
      "execution_count": null,
      "outputs": [
        {
          "output_type": "stream",
          "name": "stdout",
          "text": [
            "\n"
          ]
        }
      ]
    },
    {
      "cell_type": "markdown",
      "source": [
        "# 비트연산"
      ],
      "metadata": {
        "id": "pdPD44aebM0T"
      }
    },
    {
      "cell_type": "code",
      "source": [
        "5 & 12 # bit and 연산\n",
        "\n",
        "# 00000101 == 5\n",
        "# 00001100 == 12\n",
        "# --------\n",
        "# 00000100"
      ],
      "metadata": {
        "colab": {
          "base_uri": "https://localhost:8080/"
        },
        "id": "d3rtrnRVbBx8",
        "outputId": "827b596d-4ccd-4a0e-bb09-3a98fc231ab9"
      },
      "execution_count": null,
      "outputs": [
        {
          "output_type": "execute_result",
          "data": {
            "text/plain": [
              "4"
            ]
          },
          "metadata": {},
          "execution_count": 57
        }
      ]
    },
    {
      "cell_type": "code",
      "source": [
        "5 | 12 # bit ㅐㄱ 연산\n",
        "\n",
        "# 00000101 == 5\n",
        "# 00001100 == 12\n",
        "# --------\n",
        "# 00001101 == 13"
      ],
      "metadata": {
        "colab": {
          "base_uri": "https://localhost:8080/"
        },
        "id": "V9G8rqdzf-mP",
        "outputId": "af489d33-beee-4ccc-943a-d51da7e22314"
      },
      "execution_count": null,
      "outputs": [
        {
          "output_type": "execute_result",
          "data": {
            "text/plain": [
              "13"
            ]
          },
          "metadata": {},
          "execution_count": 59
        }
      ]
    },
    {
      "cell_type": "code",
      "source": [
        "# 10 => 2\n",
        "# 11 => 3\n",
        "# 1000 => 8"
      ],
      "metadata": {
        "id": "R0QDZxaXgOZY"
      },
      "execution_count": null,
      "outputs": []
    },
    {
      "cell_type": "code",
      "source": [
        "7 << 2\n",
        "# 00000111\n",
        "# 00011100 (16 + 8 + 4)"
      ],
      "metadata": {
        "colab": {
          "base_uri": "https://localhost:8080/"
        },
        "id": "UIIi-YJBgblq",
        "outputId": "3f7054bb-e07c-4f6e-bcc3-eb9e0543df50"
      },
      "execution_count": null,
      "outputs": [
        {
          "output_type": "execute_result",
          "data": {
            "text/plain": [
              "28"
            ]
          },
          "metadata": {},
          "execution_count": 61
        }
      ]
    },
    {
      "cell_type": "code",
      "source": [
        "16 >> 2\n",
        "# 00010000\n",
        "# 00000100 (4)"
      ],
      "metadata": {
        "colab": {
          "base_uri": "https://localhost:8080/"
        },
        "id": "lCH7ze0OgwKP",
        "outputId": "77a13da4-50ad-4cbf-a375-f35dec0bcc76"
      },
      "execution_count": null,
      "outputs": [
        {
          "output_type": "execute_result",
          "data": {
            "text/plain": [
              "4"
            ]
          },
          "metadata": {},
          "execution_count": 63
        }
      ]
    },
    {
      "cell_type": "code",
      "source": [
        "~0 # 2의 보수(보수를 취하려는 숫자에서 +1 음수를 취하면 됩니다.)"
      ],
      "metadata": {
        "colab": {
          "base_uri": "https://localhost:8080/"
        },
        "id": "TEdYvbPag_F7",
        "outputId": "848ee8b1-f696-4ce7-917a-5f68361fc831"
      },
      "execution_count": null,
      "outputs": [
        {
          "output_type": "execute_result",
          "data": {
            "text/plain": [
              "-1"
            ]
          },
          "metadata": {},
          "execution_count": 64
        }
      ]
    },
    {
      "cell_type": "code",
      "source": [
        "~5"
      ],
      "metadata": {
        "colab": {
          "base_uri": "https://localhost:8080/"
        },
        "id": "Bk0EeMDjhPMC",
        "outputId": "0383d4e2-4109-4726-fa9b-dbf54e5ce063"
      },
      "execution_count": null,
      "outputs": [
        {
          "output_type": "execute_result",
          "data": {
            "text/plain": [
              "-6"
            ]
          },
          "metadata": {},
          "execution_count": 68
        }
      ]
    },
    {
      "cell_type": "code",
      "source": [
        "~~5 #-(-6) => -(-6 + 1) => 5"
      ],
      "metadata": {
        "colab": {
          "base_uri": "https://localhost:8080/"
        },
        "id": "enyNEQaki4wB",
        "outputId": "4f29a3fe-ed1f-4663-d17c-0ed22c885e34"
      },
      "execution_count": null,
      "outputs": [
        {
          "output_type": "execute_result",
          "data": {
            "text/plain": [
              "5"
            ]
          },
          "metadata": {},
          "execution_count": 69
        }
      ]
    },
    {
      "cell_type": "markdown",
      "source": [
        "# f-strting 문법"
      ],
      "metadata": {
        "id": "IUtj953pj-P6"
      }
    },
    {
      "cell_type": "code",
      "source": [
        "value = 'hello'\n",
        "print(f'{value}')\n",
        "print(f'{{value}}')\n",
        "print(f'{{{value}}}')\n",
        "print(f'{{{{value}}}}')\n",
        "print(f'{{{{{value}}}}}')\n",
        "print(f'{{{{{{value}}}}}}')"
      ],
      "metadata": {
        "colab": {
          "base_uri": "https://localhost:8080/"
        },
        "id": "9MtIqYYJkmIe",
        "outputId": "dc414ed7-dfad-4c3c-b9df-f3bf32961dac"
      },
      "execution_count": null,
      "outputs": [
        {
          "output_type": "stream",
          "name": "stdout",
          "text": [
            "hello\n",
            "{value}\n",
            "{hello}\n",
            "{{value}}\n",
            "{{hello}}\n",
            "{{{value}}}\n"
          ]
        }
      ]
    },
    {
      "cell_type": "code",
      "source": [
        "value = 'hello'\n",
        "print(f'{10 + 10}') # 중괄호 안에서 연산을 하는 것을 저는 권하지 않습니다.\n",
        "# print(f'{value + 'world'}') # error\n",
        "print(f'{value + \"world\"}')\n",
        "print(f\"{value + 'world'}\")"
      ],
      "metadata": {
        "colab": {
          "base_uri": "https://localhost:8080/"
        },
        "id": "kWPk8hrRlbD0",
        "outputId": "00be6b0c-82a8-406f-9a7e-98582ecee0f4"
      },
      "execution_count": null,
      "outputs": [
        {
          "output_type": "stream",
          "name": "stdout",
          "text": [
            "20\n",
            "helloworld\n",
            "helloworld\n"
          ]
        }
      ]
    },
    {
      "cell_type": "code",
      "source": [
        "a = 10\n",
        "b = 20\n",
        "\n",
        "# case1\n",
        "two_numbers_mul = a * b # 굳이 변수 1개를 더 생성할 필요가 있을까?\n",
        "print(f'{two_numbers_mul}')\n",
        "\n",
        "# case2\n",
        "print(f'{a * b}')\n",
        "# 코드가 복잡해지면 가독성에서 차이가 납니다."
      ],
      "metadata": {
        "colab": {
          "base_uri": "https://localhost:8080/"
        },
        "id": "eksk7LuFmCPe",
        "outputId": "988487aa-d86c-4d45-fdfa-9499b542c555"
      },
      "execution_count": null,
      "outputs": [
        {
          "output_type": "stream",
          "name": "stdout",
          "text": [
            "200\n",
            "200\n"
          ]
        }
      ]
    },
    {
      "cell_type": "code",
      "source": [
        "a = 10\n",
        "b = 20\n",
        "\n",
        "# case1\n",
        "two_numbers_mul = a * b # 굳이 변수 1개를 더 생성할 필요가 있을까?\n",
        "two_numbers_add = a + b\n",
        "two_numbers_mul_add = two_numbers_mul * two_numbers_add\n",
        "print(f'{two_numbers_mul_add}')\n",
        "\n",
        "# case2\n",
        "print(f'{(a * b) * (a + b)}') # 이 값이  무엇을 의미하는지 모릅니다.\n",
        "# 코드가 복잡해지면 가독성에서 차이가 납니다."
      ],
      "metadata": {
        "colab": {
          "base_uri": "https://localhost:8080/"
        },
        "id": "4skW2CRcmkwx",
        "outputId": "5bb512fc-ddb4-4266-d134-e03fd0749e83"
      },
      "execution_count": null,
      "outputs": [
        {
          "output_type": "stream",
          "name": "stdout",
          "text": [
            "6000\n",
            "6000\n"
          ]
        }
      ]
    },
    {
      "cell_type": "code",
      "source": [
        "# 포멧팅 지정자는 {변수이름: 포멧팅_양식}\n",
        "num = 3.14159\n",
        "print(f\"{num:.2f}\")  # 출력: 3.14\n",
        "\n",
        "name = \"Alice\"\n",
        "print(f\"{name:>10}\")  # 출력:      Alice # 포멧팅 지정자, format 용법과 동일"
      ],
      "metadata": {
        "id": "fOJJQ0z0kBI5"
      },
      "execution_count": null,
      "outputs": []
    },
    {
      "cell_type": "code",
      "source": [
        "# 파이썬(Python) 3 포맷팅 방식\n",
        "print('나의 이름은 {}입니다'.format('한사람'))\n",
        "print('나의 이름은 {0}입니다. 나이는 {1}세이고 성별은 {2}입니다.'.format('한사람',33,'남성'))\n",
        "print('나이는 {1}세이고 성별은 {2}입니다. 나의 이름은 {0}입니다. '.format('한사람',33,'남성'))\n",
        "print('나이는 {age}세이고 성별은 {gender}입니다. 나의 이름은 {name}입니다. '.format(name='한사람',age=33,gender='남성'))\n",
        "print('만세삼창 :  {0}!!! {0}!!! {0}!!! '.format('만세'))\n",
        "print('삼삼칠 박수 :  {0}!!! {0}!!! {1}!!! '.format('짝'*3,'짝'*7))\n",
        "print('-' * 40)\n",
        "\n",
        "print('나의 이름은 {0: .2f}입니다'.format(3.141592))\n",
        "print('나의 이름은 {0:>20}입니다'.format(3.141592))"
      ],
      "metadata": {
        "colab": {
          "base_uri": "https://localhost:8080/"
        },
        "id": "PavMlpq3nSQw",
        "outputId": "94c1f793-26d8-48cd-a139-edeb27ce7a39"
      },
      "execution_count": null,
      "outputs": [
        {
          "output_type": "stream",
          "name": "stdout",
          "text": [
            "나의 이름은 한사람입니다\n",
            "나의 이름은 한사람입니다. 나이는 33세이고 성별은 남성입니다.\n",
            "나이는 33세이고 성별은 남성입니다. 나의 이름은 한사람입니다. \n",
            "나이는 33세이고 성별은 남성입니다. 나의 이름은 한사람입니다. \n",
            "만세삼창 :  만세!!! 만세!!! 만세!!! \n",
            "삼삼칠 박수 :  짝짝짝!!! 짝짝짝!!! 짝짝짝짝짝짝짝!!! \n",
            "----------------------------------------\n",
            "나의 이름은  3.14입니다\n",
            "나의 이름은             3.141592입니다\n"
          ]
        }
      ]
    },
    {
      "cell_type": "code",
      "source": [
        "# 파이썬(Python) 3.6 f-string 방식\n",
        "something = '볼펜'\n",
        "EA = 2\n",
        "one_length = 5.343\n",
        "scale = 'cm'\n",
        "\n",
        "print(f'{something} {EA}개의 길이는 {one_length*EA}{scale} 입니다.')\n",
        "print(f'{something} {EA}개의 길이는 {one_length*EA:.1f}{scale} 입니다.')"
      ],
      "metadata": {
        "id": "nQU1Jy9pnyEp"
      },
      "execution_count": null,
      "outputs": []
    },
    {
      "cell_type": "code",
      "source": [
        "print('Python is [{:15}]'.format('good')) # 양식같음, 자료형만 다름\n",
        "print('Python is [{:<15}]'.format('good'))\n",
        "print('Python is [{:>15}]'.format('good'))\n",
        "print('Python is [{:-^15}]'.format('good'))\n",
        "print('당신의 나이는 [{:15}]세'.format(22)) # 양식같음, 자료형만 다\n",
        "print('당신의 나이는 [{:<15}]세'.format(22))\n",
        "print('당신의 나이는 [{:>15}]세'.format(22))\n",
        "print('당신의 나이는 [{:^15}]세'.format(22))\n",
        "print('-' * 40)"
      ],
      "metadata": {
        "colab": {
          "base_uri": "https://localhost:8080/"
        },
        "id": "lvIUgp1_o5bq",
        "outputId": "10034a76-6c4e-4466-c399-62dde907a06a"
      },
      "execution_count": null,
      "outputs": [
        {
          "output_type": "stream",
          "name": "stdout",
          "text": [
            "Python is [good           ]\n",
            "Python is [good           ]\n",
            "Python is [           good]\n",
            "Python is [-----good------]\n",
            "당신의 나이는 [             22]세\n",
            "당신의 나이는 [22             ]세\n",
            "당신의 나이는 [             22]세\n",
            "당신의 나이는 [      22       ]세\n",
            "----------------------------------------\n"
          ]
        }
      ]
    },
    {
      "cell_type": "code",
      "source": [
        "print('[{:15}]'.format('10')) # 양식 같음, 자료형만 다름\n",
        "print('[{:15}]'.format(10)) # 양식 같음, 자료형만 다름"
      ],
      "metadata": {
        "colab": {
          "base_uri": "https://localhost:8080/"
        },
        "id": "2e1L-UiR5l45",
        "outputId": "ea862956-82e8-437d-c87d-2e001f507049"
      },
      "execution_count": null,
      "outputs": [
        {
          "output_type": "stream",
          "name": "stdout",
          "text": [
            "[10             ]\n",
            "[             10]\n"
          ]
        }
      ]
    },
    {
      "cell_type": "code",
      "source": [
        "char_a = '5'\n",
        "int_a = 5\n",
        "sample = 1234567890\n",
        "\n",
        "'''기본적으로 {} 포맷팅의 특성을 그대로 가짐'''\n",
        "print(1234567890)\n",
        "print(f'{sample:>5}') # >는 오른쪽정렬\n",
        "print(f'{char_a:<5}') # <는 왼쪽정렬\n",
        "print(f'{char_a:^5}') # ^는 가운데정렬\n",
        "print(f'{int_a:0<5}')# <는 왼쪽정렬, 빈자리를 0으로 채울수도 있음\n",
        "print(f'{int_a:^10.2f}') # ^ 가운데 정렬하면서 float 타입지정"
      ],
      "metadata": {
        "colab": {
          "base_uri": "https://localhost:8080/"
        },
        "id": "LzVqH3Gt8fqH",
        "outputId": "17cae759-9684-4ecf-eb4e-5f0098470095"
      },
      "execution_count": null,
      "outputs": [
        {
          "output_type": "stream",
          "name": "stdout",
          "text": [
            "1234567890\n",
            "1234567890\n",
            "5    \n",
            "  5  \n",
            "50000\n",
            "   5.00   \n"
          ]
        }
      ]
    },
    {
      "cell_type": "code",
      "source": [
        "int_a = 5\n",
        "print(f'{int_a:0<5}')# <는 왼쪽정렬, 빈자리를 0으로 채울수도 있음\n",
        "print(f'{int_a:0>5}')# <는 왼쪽정렬, 빈자리를 0으로 채울수도 있음\n",
        "'12345'.zfill(10)"
      ],
      "metadata": {
        "colab": {
          "base_uri": "https://localhost:8080/",
          "height": 72
        },
        "id": "bEa8YowQ9OZW",
        "outputId": "b07127b0-1057-4887-86b2-2e4864cbad20"
      },
      "execution_count": null,
      "outputs": [
        {
          "output_type": "stream",
          "name": "stdout",
          "text": [
            "50000\n",
            "00005\n"
          ]
        },
        {
          "output_type": "execute_result",
          "data": {
            "text/plain": [
              "'0000012345'"
            ],
            "application/vnd.google.colaboratory.intrinsic+json": {
              "type": "string"
            }
          },
          "metadata": {},
          "execution_count": 99
        }
      ]
    },
    {
      "cell_type": "markdown",
      "source": [
        "# 연습문제"
      ],
      "metadata": {
        "id": "NViaJg4eEC22"
      }
    },
    {
      "cell_type": "code",
      "source": [
        "# 문제 1.  1 ~ 9 까지 더하는 프로그램을 만드시오.\n",
        "sum(list(range(10)))\n",
        "sum([i for i in range(1, 10)])\n",
        "sum(range(1, 10))\n",
        "(9 * (1 + 9)) / 2\n"
      ],
      "metadata": {
        "colab": {
          "base_uri": "https://localhost:8080/"
        },
        "id": "5YuT3_TK--yl",
        "outputId": "db4f5ba3-1947-4397-cc08-e75b3fca87ae"
      },
      "execution_count": null,
      "outputs": [
        {
          "output_type": "execute_result",
          "data": {
            "text/plain": [
              "45.0"
            ]
          },
          "metadata": {},
          "execution_count": 101
        }
      ]
    },
    {
      "cell_type": "code",
      "source": [
        "# 문제 2.  1 ~ 9 까지 홀수의 합\n",
        "sum([i for i in range(1, 10, 2)])\n",
        "sum(filter(lambda x: x % 2 == 1, range(10)))\n",
        "sum(range(1, 10, 2))"
      ],
      "metadata": {
        "colab": {
          "base_uri": "https://localhost:8080/"
        },
        "id": "C2AWzy0SE0LI",
        "outputId": "9e724567-4d5d-4232-9339-9045edfa5b05"
      },
      "execution_count": null,
      "outputs": [
        {
          "output_type": "execute_result",
          "data": {
            "text/plain": [
              "25"
            ]
          },
          "metadata": {},
          "execution_count": 103
        }
      ]
    },
    {
      "cell_type": "code",
      "source": [
        "# 문제 3.  1000 미만의 자연수에서 3의 배수와 5의 배수의 총합\n",
        "sum(range(0, 1000, 3)) + sum(range(0, 1000, 5)) - sum(range(0, 1000, 15))"
      ],
      "metadata": {
        "colab": {
          "base_uri": "https://localhost:8080/"
        },
        "id": "_53nbhmLHiNY",
        "outputId": "5ad980fd-394f-4da1-d84e-8ae86514f6b4"
      },
      "execution_count": null,
      "outputs": [
        {
          "output_type": "execute_result",
          "data": {
            "text/plain": [
              "233168"
            ]
          },
          "metadata": {},
          "execution_count": 127
        }
      ]
    },
    {
      "cell_type": "code",
      "source": [
        "# 문제 4: 아래 메트릭스를 모두 더해주세요.\n",
        "m = [[1, 2, 3], [4, 5, 6], [7, 8, 9]]\n",
        "# sum(m)\n",
        "sum(sum(m, []))"
      ],
      "metadata": {
        "colab": {
          "base_uri": "https://localhost:8080/"
        },
        "id": "5s0fUJ8dLDdO",
        "outputId": "87450360-7f3b-4d8e-a95f-14a54cc4fbd3"
      },
      "execution_count": null,
      "outputs": [
        {
          "output_type": "execute_result",
          "data": {
            "text/plain": [
              "45"
            ]
          },
          "metadata": {},
          "execution_count": 129
        }
      ]
    },
    {
      "cell_type": "code",
      "source": [
        "# sum([1, 2, 3], 100)\n",
        "# sum([[1, 2, 3], [4, 5, 6], [7, 8, 9]], [])\n",
        "# [1, 2, 3] + [] == [1, 2, 3]\n",
        "# [1, 2, 3] + [4, 5, 6] == [4, 5, 6, 1, 2, 3]\n",
        "# [4, 5, 6, 1, 2, 3] + [7, 8, 9] == [7, 8, 9, 4, 5, 6, 1, 2, 3]"
      ],
      "metadata": {
        "id": "kRO2LSH-Lde3"
      },
      "execution_count": null,
      "outputs": []
    },
    {
      "cell_type": "code",
      "source": [
        "import numpy as np\n",
        "# 수학 수식에 막강한 성능을 자랑합니다.\n",
        "# 수학 수식 관련해서 파이썬 보다 속도도 훨~~~~씬 빠르고 기능도 많아요.\n",
        "np.sum([[1, 2, 3], [4, 5, 6], [7, 8, 9]])"
      ],
      "metadata": {
        "colab": {
          "base_uri": "https://localhost:8080/"
        },
        "id": "Tr0jXibkMGNn",
        "outputId": "cc07bbb0-e1d2-4402-aa03-0c0c10ad1f05"
      },
      "execution_count": null,
      "outputs": [
        {
          "output_type": "execute_result",
          "data": {
            "text/plain": [
              "45"
            ]
          },
          "metadata": {},
          "execution_count": 134
        }
      ]
    },
    {
      "cell_type": "code",
      "source": [
        "# 문제 5: 자주 나오는 알파벳과 알파벳 갯수를 많이 나오는 순서대로 출력하세요.\n",
        "import collections\n",
        "\n",
        "s = \"Hello, World! This is a sample string for testing purposes.\"\n",
        "# 방법1\n",
        "# s = s.replace(',', '').replace('!', '').replace('.', '').replace(' ', '')\n",
        "\n",
        "# 방법2\n",
        "# table = str.maketrans(',!.', '   ')\n",
        "# s = s.translate(table).replace(' ', '')\n",
        "\n",
        "# 방법3\n",
        "table = str.maketrans('', '', ',!. ')\n",
        "s = s.translate(table)\n",
        "\n",
        "c = collections.Counter(s)\n",
        "c.most_common"
      ],
      "metadata": {
        "colab": {
          "base_uri": "https://localhost:8080/"
        },
        "id": "H48Woo8hMn51",
        "outputId": "6535cfa7-16bb-439c-a6c8-5e29d7f810fe"
      },
      "execution_count": null,
      "outputs": [
        {
          "output_type": "execute_result",
          "data": {
            "text/plain": [
              "<bound method Counter.most_common of Counter({'s': 7, 'e': 4, 'l': 4, 'o': 4, 'r': 4, 'i': 4, 'p': 3, 't': 3, 'a': 2, 'n': 2, 'g': 2, 'H': 1, 'W': 1, 'd': 1, 'T': 1, 'h': 1, 'm': 1, 'f': 1, 'u': 1})>"
            ]
          },
          "metadata": {},
          "execution_count": 143
        }
      ]
    },
    {
      "cell_type": "code",
      "source": [
        "d = {}\n",
        "s = \"Hello, World! This is a sample string for testing purposes.\"\n",
        "s = s.replace(',', '').replace('!', '').replace('.', '').replace(' ', '')\n",
        "\n",
        "# 풀이1, 순회를 돌면서 dict에 있으면 += 1, 없으면 =1 대입하면서 푼다\n",
        "for i in s:\n",
        "    if i in d:\n",
        "        d[i] += 1\n",
        "    else:\n",
        "        d[i] = 1\n",
        "d\n",
        "\n",
        "# 풀이2, set으로 만들어서 count를 한다.\n",
        "s = \"Hello, World! This is a sample string for testing purposes.\"\n",
        "for i in set(s):\n",
        "    d[i] = s.count(i)\n",
        "d"
      ],
      "metadata": {
        "colab": {
          "base_uri": "https://localhost:8080/"
        },
        "id": "nqodaBMdOW14",
        "outputId": "c0cc2b59-5d7c-4814-ccbb-0aad4e207c31"
      },
      "execution_count": null,
      "outputs": [
        {
          "output_type": "execute_result",
          "data": {
            "text/plain": [
              "{'H': 1,\n",
              " 'e': 4,\n",
              " 'l': 4,\n",
              " 'o': 4,\n",
              " 'W': 1,\n",
              " 'r': 4,\n",
              " 'd': 1,\n",
              " 'T': 1,\n",
              " 'h': 1,\n",
              " 'i': 4,\n",
              " 's': 7,\n",
              " 'a': 2,\n",
              " 'm': 1,\n",
              " 'p': 3,\n",
              " 't': 3,\n",
              " 'n': 2,\n",
              " 'g': 2,\n",
              " 'f': 1,\n",
              " 'u': 1,\n",
              " '!': 1,\n",
              " ' ': 9,\n",
              " '.': 1,\n",
              " ',': 1}"
            ]
          },
          "metadata": {},
          "execution_count": 151
        }
      ]
    },
    {
      "cell_type": "code",
      "source": [
        "# 문제6. 트리 만들기\n",
        "for i in range(1, 10):\n",
        "    print('*' * (2 * i - 1))"
      ],
      "metadata": {
        "colab": {
          "base_uri": "https://localhost:8080/"
        },
        "id": "7gEbY_SKQk1s",
        "outputId": "eead809a-13a6-4616-e13b-8a2520b9a968"
      },
      "execution_count": null,
      "outputs": [
        {
          "output_type": "stream",
          "name": "stdout",
          "text": [
            "*\n",
            "***\n",
            "*****\n",
            "*******\n",
            "*********\n",
            "***********\n",
            "*************\n",
            "***************\n",
            "*****************\n"
          ]
        }
      ]
    },
    {
      "cell_type": "code",
      "source": [
        "# 문제6. 트리 만들기\n",
        "for i in range(1, 10):\n",
        "    print((' '* (10 - i + 1)) + ('*' * (2 * i - 1)))"
      ],
      "metadata": {
        "colab": {
          "base_uri": "https://localhost:8080/"
        },
        "id": "qa9UzkrIRUPq",
        "outputId": "128a6e04-f625-4144-8766-b6961c486bee"
      },
      "execution_count": null,
      "outputs": [
        {
          "output_type": "stream",
          "name": "stdout",
          "text": [
            "          *\n",
            "         ***\n",
            "        *****\n",
            "       *******\n",
            "      *********\n",
            "     ***********\n",
            "    *************\n",
            "   ***************\n",
            "  *****************\n"
          ]
        }
      ]
    },
    {
      "cell_type": "code",
      "source": [
        "for i in range(1, 10):\n",
        "    print(f\"{'*' * ((2 * i) - 1):^18}\")"
      ],
      "metadata": {
        "colab": {
          "base_uri": "https://localhost:8080/"
        },
        "id": "vYUEfdGfR35r",
        "outputId": "f9ec7d52-fc7c-40fd-909d-2de57296f746"
      },
      "execution_count": null,
      "outputs": [
        {
          "output_type": "stream",
          "name": "stdout",
          "text": [
            "        *         \n",
            "       ***        \n",
            "      *****       \n",
            "     *******      \n",
            "    *********     \n",
            "   ***********    \n",
            "  *************   \n",
            " ***************  \n",
            "***************** \n"
          ]
        }
      ]
    },
    {
      "cell_type": "code",
      "source": [],
      "metadata": {
        "id": "jZ10WRiZSChH"
      },
      "execution_count": null,
      "outputs": []
    }
  ]
}