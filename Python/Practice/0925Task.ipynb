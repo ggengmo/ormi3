{
 "cells": [
  {
   "cell_type": "code",
   "execution_count": 10,
   "metadata": {},
   "outputs": [
    {
     "name": "stdout",
     "output_type": "stream",
     "text": [
      "1\n",
      "1\n"
     ]
    }
   ],
   "source": [
    "def solution(data):\n",
    "    sandwich = []\n",
    "    cnt = 0\n",
    "\n",
    "    for i in data:\n",
    "        sandwich.append(i)\n",
    "        if sandwich[-5:] == [1, 2, 3, 4, 1]:\n",
    "            del sandwich[-5:]\n",
    "            cnt += 1\n",
    "    return cnt\n",
    "print(solution([1, 2, 3, 4, 1]))\n",
    "print(solution([1, 2, 3, 4, 1, 2, 3, 4, 1]))"
   ]
  }
 ],
 "metadata": {
  "kernelspec": {
   "display_name": "main",
   "language": "python",
   "name": "python3"
  },
  "language_info": {
   "codemirror_mode": {
    "name": "ipython",
    "version": 3
   },
   "file_extension": ".py",
   "mimetype": "text/x-python",
   "name": "python",
   "nbconvert_exporter": "python",
   "pygments_lexer": "ipython3",
   "version": "3.11.5"
  },
  "orig_nbformat": 4
 },
 "nbformat": 4,
 "nbformat_minor": 2
}
