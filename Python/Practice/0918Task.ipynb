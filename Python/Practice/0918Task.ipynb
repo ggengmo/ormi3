{
 "cells": [
  {
   "cell_type": "code",
   "execution_count": 1,
   "metadata": {},
   "outputs": [],
   "source": [
    "# 문제 1:\n",
    "# 동물 클래스 Animal을 만들어주세요. Dog와 Cat 클래스를 각각 정의하십시오. \n",
    "\n",
    "# Animal 클래스는 name 속성을 가집니다. 이 클래스는 make_sound 메서드를 갖고 있습니다.\n",
    "\n",
    "# Dog와 Cat 클래스는 Animal 클래스를 상속받는 클래스입니다.Dog 클래스의 make_sound 메서드는 \"멍멍!\"을, Cat 클래스의 make_sound 메서드는 \"야옹!\"을 출력하도록 재정의하세요.\n",
    "\n",
    "# * 더 완성도 높은 클래스를 만들어보세요. 추가 속성이나 메서드 작성 가능합니다.\n",
    "\n",
    "# 문제 2:\n",
    "# Person이라는 기본 클래스를 만들어주세요. Person 클래스는 `이름`과 `나이`라는 두 개의 속성과 `소개하기`라는 메서드를 가지며, 이 메서드는 \"Hello World!, 제 이름은 [이름]이고 제 나이는 [나이]살 입니다.\"라는 메시지를 출력합니다.\n",
    "\n",
    "# Person 클래스를 상속받는 Student 클래스를 정의하십시오. Student 클래스는 추가적으로 `학년` 속성을 가집니다. Student 클래스에서 `소개하기` 메서드를 오버라이드하여 \"Hello World!, 제 이름은 [이름]이고 제 나이는 [나이]살 입니다. 그리고 저는 [학년]학년입니다. \"라는 메시지를 출력하도록 만드세요."
   ]
  },
  {
   "cell_type": "code",
   "execution_count": 11,
   "metadata": {},
   "outputs": [
    {
     "name": "stdout",
     "output_type": "stream",
     "text": [
      "장팔이\n",
      "코코\n"
     ]
    },
    {
     "data": {
      "text/plain": [
       "'야옹!'"
      ]
     },
     "execution_count": 11,
     "metadata": {},
     "output_type": "execute_result"
    }
   ],
   "source": [
    "class Animal:\n",
    "\n",
    "  def __init__(self, name):\n",
    "    self.name = name\n",
    "\n",
    "class Dog(Animal):\n",
    "\n",
    "  def make_sound(self):\n",
    "    return '멍멍!'\n",
    "  \n",
    "class Cat(Animal):\n",
    "\n",
    "  def make_sound(self):\n",
    "    return '야옹!'\n",
    "  \n",
    "dog = Dog('장팔이')\n",
    "print(dog.name)\n",
    "dog.make_sound()\n",
    "\n",
    "cat = Cat('코코')\n",
    "print(cat.name)\n",
    "cat.make_sound()\n",
    "\n"
   ]
  },
  {
   "cell_type": "code",
   "execution_count": 24,
   "metadata": {},
   "outputs": [
    {
     "name": "stdout",
     "output_type": "stream",
     "text": [
      "Hello World!, 제 이름은 Mike이고 제 나이는 19살 입니다. 그리고 저는 3학년 입니다.\n"
     ]
    }
   ],
   "source": [
    "# 문제 2:\n",
    "# Person이라는 기본 클래스를 만들어주세요. Person 클래스는 `이름`과 `나이`라는 두 개의 속성과 `소개하기`라는 메서드를 가지며, 이 메서드는 \"Hello World!, 제 이름은 [이름]이고 제 나이는 [나이]살 입니다.\"라는 메시지를 출력합니다.\n",
    "\n",
    "# Person 클래스를 상속받는 Student 클래스를 정의하십시오. Student 클래스는 추가적으로 `학년` 속성을 가집니다. Student 클래스에서 `소개하기` 메서드를 오버라이드하여 \"Hello World!, 제 이름은 [이름]이고 제 나이는 [나이]살 입니다. 그리고 저는 [학년]학년입니다. \"라는 메시지를 출력하도록 만드세요.\n",
    "class Person:\n",
    "\n",
    "  def __init__(self, name, age):\n",
    "    self.name = name\n",
    "    self.age = age\n",
    "  \n",
    "  def introduce(self):\n",
    "    print(f'Hello World!, 제 이름은 {self.name}이고 제 나이는 {self.age}살 입니다.')\n",
    "\n",
    "class Student(Person):\n",
    "  def __init__(self, name, age, grade):\n",
    "        super().__init__(name, age)\n",
    "        self.grade = grade\n",
    "\n",
    "  def introduce(self):\n",
    "    print(f'Hello World!, 제 이름은 {self.name}이고 제 나이는 {self.age}살 입니다. 그리고 저는 {self.grade}학년 입니다.')\n",
    "\n",
    "person = Student('Mike', 19, 3)\n",
    "person.introduce()\n"
   ]
  }
 ],
 "metadata": {
  "kernelspec": {
   "display_name": "Python 3",
   "language": "python",
   "name": "python3"
  },
  "language_info": {
   "codemirror_mode": {
    "name": "ipython",
    "version": 3
   },
   "file_extension": ".py",
   "mimetype": "text/x-python",
   "name": "python",
   "nbconvert_exporter": "python",
   "pygments_lexer": "ipython3",
   "version": "3.11.5"
  },
  "orig_nbformat": 4
 },
 "nbformat": 4,
 "nbformat_minor": 2
}
