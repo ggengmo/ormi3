{
 "cells": [
  {
   "cell_type": "code",
   "execution_count": 1,
   "metadata": {},
   "outputs": [],
   "source": [
    "def solution(a, b, c, d):\n",
    "    answer = 0\n",
    "    if a==b==c==d:\n",
    "        answer=1111*a\n",
    "    elif a==b==c:\n",
    "        answer=(10*a+d)**2\n",
    "    elif a==b==d:\n",
    "        answer=(10*a+c)**2\n",
    "    elif a==c==d: \n",
    "        answer=(10*a+b)**2\n",
    "    elif b==c==d:\n",
    "        answer=(10*d+a)**2\n",
    "    elif a==b and c==d:\n",
    "        answer=(a+c)*abs(a-c)\n",
    "    elif a==c and b==d:\n",
    "        answer=(a+b)*abs(a-b)\n",
    "    elif a==d and b==c:\n",
    "        answer=(a+b)*abs(a-b)\n",
    "    elif a==b:\n",
    "        answer=c*d\n",
    "    elif a==c:\n",
    "        answer=b*d\n",
    "    elif a==d:\n",
    "        answer=b*c\n",
    "    elif b==c:\n",
    "        answer=a*d\n",
    "    elif b==d:\n",
    "        answer=a*c\n",
    "    elif c==d:\n",
    "        answer=a*b\n",
    "    else:\n",
    "        answer=min(a,b,c,d)\n",
    "\n",
    "    return answer"
   ]
  },
  {
   "cell_type": "code",
   "execution_count": 3,
   "metadata": {},
   "outputs": [],
   "source": [
    "def solution(a, b, c, d):\n",
    "    l = [a,b,c,d]\n",
    "    c = [l.count(x) for x in l]\n",
    "    if max(c) == 4:\n",
    "        return 1111*a\n",
    "    elif max(c) == 3:\n",
    "        return (10*l[c.index(3)]+l[c.index(1)])**2\n",
    "    elif max(c) == 2:\n",
    "        if min(c) == 1:\n",
    "            return eval('*'.join([str(l[i]) for i, x in enumerate(c) if x == 1]))\n",
    "        else:\n",
    "            return (max(l) + min(l)) * abs(max(l) - min(l))\n",
    "    else:\n",
    "        return min(l)"
   ]
  },
  {
   "cell_type": "code",
   "execution_count": 10,
   "metadata": {},
   "outputs": [
    {
     "data": {
      "text/plain": [
       "6"
      ]
     },
     "execution_count": 10,
     "metadata": {},
     "output_type": "execute_result"
    }
   ],
   "source": [
    "def solution(number):\n",
    "    add = sum([int(s) for s in number])\n",
    "    return add % 9\n",
    "\n",
    "solution('123')"
   ]
  },
  {
   "cell_type": "code",
   "execution_count": 11,
   "metadata": {},
   "outputs": [
    {
     "data": {
      "text/plain": [
       "'ProgrammerS1'"
      ]
     },
     "execution_count": 11,
     "metadata": {},
     "output_type": "execute_result"
    }
   ],
   "source": [
    "def solution(my_string, n):\n",
    "    return my_string[:n + 1]\n",
    "\n",
    "solution(\"ProgrammerS123\", 11)"
   ]
  }
 ],
 "metadata": {
  "kernelspec": {
   "display_name": "main",
   "language": "python",
   "name": "python3"
  },
  "language_info": {
   "codemirror_mode": {
    "name": "ipython",
    "version": 3
   },
   "file_extension": ".py",
   "mimetype": "text/x-python",
   "name": "python",
   "nbconvert_exporter": "python",
   "pygments_lexer": "ipython3",
   "version": "3.11.5"
  },
  "orig_nbformat": 4
 },
 "nbformat": 4,
 "nbformat_minor": 2
}
