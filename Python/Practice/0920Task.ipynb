{
 "cells": [
  {
   "cell_type": "code",
   "execution_count": 25,
   "metadata": {},
   "outputs": [
    {
     "name": "stdout",
     "output_type": "stream",
     "text": [
      "1\n",
      "1\n",
      "2\n",
      "3\n",
      "5\n"
     ]
    }
   ],
   "source": [
    "# 문제1\n",
    "# 다음과 같이 동작하는 제너레이터 함수 fibonacci(n)를 완성하세요. \n",
    "# 주어진 숫자 n까지의 피보나치 수열을 반환합니다.\n",
    "# 인터넷에서 피보나치 순열 Python 코드를 검색해보셔도 좋습니다.\n",
    "\n",
    "def fib(n):\n",
    "  a, b = 1, 1\n",
    "  for i in range(n):\n",
    "    yield a\n",
    "    a, b = b, a + b\n",
    "  return a\n",
    "\n",
    "for i in fib(5):\n",
    "  print(i)"
   ]
  },
  {
   "cell_type": "code",
   "execution_count": 18,
   "metadata": {},
   "outputs": [
    {
     "name": "stdout",
     "output_type": "stream",
     "text": [
      "1\n",
      "1\n",
      "2\n",
      "3\n",
      "5\n",
      "시간:  0.00000000000000000000 초\n"
     ]
    }
   ],
   "source": [
    "# 문제2\n",
    "# 주어진 함수의 실행 시간을 측정하여 출력하는 데코레이터 time_it를 작성하세요. \n",
    "# (힌트: time 모듈의 time() 함수를 사용하세요.)\n",
    "import time\n",
    "\n",
    "def time_it(function):\n",
    "  def wrapper(n):\n",
    "    start_time = time.time()\n",
    "    function(n)\n",
    "    end_time = time.time()\n",
    "    total_time = end_time - start_time\n",
    "    print(f'시간: {total_time: .20f} 초')\n",
    "  return wrapper\n",
    "\n",
    "def fib(n):\n",
    "  a, b = 1, 1\n",
    "  for i in range(n):\n",
    "    yield a\n",
    "    a, b = b, a + b\n",
    "\n",
    "@time_it\n",
    "def reuslt(n):\n",
    "  for i in fib(n):\n",
    "    print(i)\n",
    "\n",
    "reuslt(5)"
   ]
  }
 ],
 "metadata": {
  "kernelspec": {
   "display_name": "Python 3",
   "language": "python",
   "name": "python3"
  },
  "language_info": {
   "codemirror_mode": {
    "name": "ipython",
    "version": 3
   },
   "file_extension": ".py",
   "mimetype": "text/x-python",
   "name": "python",
   "nbconvert_exporter": "python",
   "pygments_lexer": "ipython3",
   "version": "3.11.5"
  },
  "orig_nbformat": 4
 },
 "nbformat": 4,
 "nbformat_minor": 2
}
