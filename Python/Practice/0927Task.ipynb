{
 "cells": [
  {
   "cell_type": "code",
   "execution_count": 1,
   "metadata": {},
   "outputs": [],
   "source": [
    "# \"aya\", \"ye\", \"woo\", \"ma\"\n",
    "# [\"aya\", \"yee\", \"u\", \"maa\", \"wyeoo\"] 1\n",
    "# [\"ayaye\", \"uuuma\", \"ye\", \"yemawoo\", \"ayaa\"] 3\n",
    "# \"aya\", \"ye\"\n",
    "# 'ye'\n",
    "# 'yemawoo'"
   ]
  },
  {
   "cell_type": "code",
   "execution_count": 67,
   "metadata": {},
   "outputs": [
    {
     "name": "stdout",
     "output_type": "stream",
     "text": [
      "------------\n",
      "aya\n",
      " \n",
      " \n",
      " \n",
      " \n",
      "------------\n",
      "yee\n",
      "yee\n",
      " e\n",
      " e\n",
      " e\n",
      "------------\n",
      "aya\n",
      " \n",
      " \n",
      " \n",
      " \n"
     ]
    },
    {
     "data": {
      "text/plain": [
       "2"
      ]
     },
     "execution_count": 67,
     "metadata": {},
     "output_type": "execute_result"
    }
   ],
   "source": [
    "def solution(babbling):\n",
    "    answer = 0\n",
    "    word = ['aya', 'ye', 'woo', 'ma']\n",
    "    for i in babbling:\n",
    "        print('------------')\n",
    "        print(i)\n",
    "        for s in word:\n",
    "            i = i.replace(s, ' ')\n",
    "            print(i)\n",
    "        i = i.replace(' ', '')\n",
    "        if len(i) == 0:\n",
    "            answer += 1\n",
    "    return answer\n",
    "\n",
    "solution([\"aya\", \"yee\", 'aya'])\n"
   ]
  },
  {
   "cell_type": "code",
   "execution_count": null,
   "metadata": {},
   "outputs": [],
   "source": [
    "# 강사님 코드: https://school.programmers.co.kr/learn/courses/30/lessons/120956\n",
    "import re\n",
    "\n",
    "def solution(babbling):\n",
    "    count = 0\n",
    "    p = [\"aya\", \"ye\", \"woo\", \"ma\"]\n",
    "    for i in babbling:\n",
    "        print('------------')\n",
    "        print(i)\n",
    "        for pattern in p:\n",
    "            i = re.sub(pattern, ' ', i)\n",
    "            print(i)\n",
    "        if i.replace(' ', '') == '':\n",
    "            count += 1\n",
    "    return count\n",
    "\n",
    "solution([\"ayaye\", \"uuuma\", \"ye\", \"yemawoo\", \"ayaa\"])"
   ]
  },
  {
   "cell_type": "code",
   "execution_count": 68,
   "metadata": {},
   "outputs": [
    {
     "data": {
      "text/plain": [
       "[3, 1, 2]"
      ]
     },
     "execution_count": 68,
     "metadata": {},
     "output_type": "execute_result"
    }
   ],
   "source": [
    "def solution(emergency):\n",
    "    answer = []\n",
    "    for i in emergency:\n",
    "        rank = 1\n",
    "        for s in emergency:\n",
    "            if i != s and i < s:\n",
    "                rank += 1\n",
    "        answer.append(rank)\n",
    "        \n",
    "    return answer\n",
    "\n",
    "solution([3, 76, 24])"
   ]
  },
  {
   "cell_type": "code",
   "execution_count": 70,
   "metadata": {},
   "outputs": [
    {
     "data": {
      "text/plain": [
       "[3, 1, 2]"
      ]
     },
     "execution_count": 70,
     "metadata": {},
     "output_type": "execute_result"
    }
   ],
   "source": [
    "# https://school.programmers.co.kr/learn/courses/30/lessons/120835\n",
    "\n",
    "def solution(emergency):\n",
    "    응급순서 = sorted(emergency, reverse=True)\n",
    "    return [응급순서.index(응급도) + 1 for 응급도 in emergency]\n",
    "\n",
    "solution([3, 76, 24])"
   ]
  }
 ],
 "metadata": {
  "kernelspec": {
   "display_name": "main",
   "language": "python",
   "name": "python3"
  },
  "language_info": {
   "codemirror_mode": {
    "name": "ipython",
    "version": 3
   },
   "file_extension": ".py",
   "mimetype": "text/x-python",
   "name": "python",
   "nbconvert_exporter": "python",
   "pygments_lexer": "ipython3",
   "version": "3.11.5"
  },
  "orig_nbformat": 4
 },
 "nbformat": 4,
 "nbformat_minor": 2
}
