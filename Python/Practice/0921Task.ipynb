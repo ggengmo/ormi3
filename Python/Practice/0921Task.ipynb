{
 "cells": [
  {
   "cell_type": "code",
   "execution_count": 1,
   "metadata": {},
   "outputs": [],
   "source": [
    "# 문제 1.  1 ~ 9 까지 더하는 프로그램을 만드시오.\n",
    "# 문제 2.  1 ~ 9 까지 홀수의 합\n",
    "# 문제 3.  1000 미만의 자연수에서 3의 배수와 5의 배수의 총합을 구하는 프로그램을 작성하시오"
   ]
  },
  {
   "cell_type": "code",
   "execution_count": 7,
   "metadata": {},
   "outputs": [
    {
     "name": "stdout",
     "output_type": "stream",
     "text": [
      "45\n"
     ]
    }
   ],
   "source": [
    "# 문제 1.  1 ~ 9 까지 더하는 프로그램을 만드시오.\n",
    "summary = 0\n",
    "for i in range(1, 10):\n",
    "  summary += i\n",
    "print(summary)"
   ]
  },
  {
   "cell_type": "code",
   "execution_count": 8,
   "metadata": {},
   "outputs": [
    {
     "data": {
      "text/plain": [
       "25"
      ]
     },
     "execution_count": 8,
     "metadata": {},
     "output_type": "execute_result"
    }
   ],
   "source": [
    "# 문제 2.  1 ~ 9 까지 홀수의 합\n",
    "i = 1\n",
    "summary = 0\n",
    "\n",
    "while i <= 9:\n",
    "  if i % 2 != 0:\n",
    "    summary += i\n",
    "  i += 1\n",
    "summary"
   ]
  },
  {
   "cell_type": "code",
   "execution_count": 23,
   "metadata": {},
   "outputs": [
    {
     "data": {
      "text/plain": [
       "233168"
      ]
     },
     "execution_count": 23,
     "metadata": {},
     "output_type": "execute_result"
    }
   ],
   "source": [
    "# 문제 3.  1000 미만의 자연수에서 3의 배수와 5의 배수의 총합\n",
    "result = 0\n",
    "for i in range(1, 1000):\n",
    "  if i % 3 == 0 or i % 5 == 0:\n",
    "    result += i\n",
    "\n",
    "result"
   ]
  },
  {
   "cell_type": "code",
   "execution_count": 27,
   "metadata": {},
   "outputs": [
    {
     "data": {
      "text/plain": [
       "45"
      ]
     },
     "execution_count": 27,
     "metadata": {},
     "output_type": "execute_result"
    }
   ],
   "source": [
    "# 문제 4: 아래 메트릭스를 모두 더해주세요.\n",
    "m = [[1, 2, 3], [4, 5, 6], [7, 8, 9]]\n",
    "# sum(m)\n",
    "sum(sum(m, []))\n",
    "\n",
    "# sum([1, 2, 3], 100)\n",
    "# sum([[1, 2, 3], [4, 5, 6], [7, 8, 9]], [])\n",
    "# [1, 2, 3] + [] == [1, 2, 3]\n",
    "# [1, 2, 3] + [4, 5, 6] == [4, 5, 6, 1, 2, 3]\n",
    "# [4, 5, 6, 1, 2, 3] + [7, 8, 9] == [7, 8, 9, 4, 5, 6, 1, 2, 3]"
   ]
  },
  {
   "cell_type": "code",
   "execution_count": 28,
   "metadata": {},
   "outputs": [
    {
     "data": {
      "text/plain": [
       "<bound method Counter.most_common of Counter({'s': 7, 'e': 4, 'l': 4, 'o': 4, 'r': 4, 'i': 4, 'p': 3, 't': 3, 'a': 2, 'n': 2, 'g': 2, 'H': 1, 'W': 1, 'd': 1, 'T': 1, 'h': 1, 'm': 1, 'f': 1, 'u': 1})>"
      ]
     },
     "execution_count": 28,
     "metadata": {},
     "output_type": "execute_result"
    }
   ],
   "source": [
    "# 문제 5: 자주 나오는 알파벳과 알파벳 갯수를 많이 나오는 순서대로 출력하세요.\n",
    "import collections\n",
    "\n",
    "s = \"Hello, World! This is a sample string for testing purposes.\"\n",
    "# 방법1\n",
    "# s = s.replace(',', '').replace('!', '').replace('.', '').replace(' ', '')\n",
    "\n",
    "# 방법2\n",
    "# table = str.maketrans(',!.', '   ')\n",
    "# s = s.translate(table).replace(' ', '')\n",
    "\n",
    "# 방법3\n",
    "table = str.maketrans('', '', ',!. ')\n",
    "s = s.translate(table)\n",
    "\n",
    "c = collections.Counter(s)\n",
    "c.most_common"
   ]
  },
  {
   "cell_type": "code",
   "execution_count": 30,
   "metadata": {},
   "outputs": [
    {
     "data": {
      "text/plain": [
       "{'H': 1,\n",
       " 'e': 4,\n",
       " 'l': 4,\n",
       " 'o': 4,\n",
       " 'W': 1,\n",
       " 'r': 4,\n",
       " 'd': 1,\n",
       " 'T': 1,\n",
       " 'h': 1,\n",
       " 'i': 4,\n",
       " 's': 7,\n",
       " 'a': 2,\n",
       " 'm': 1,\n",
       " 'p': 3,\n",
       " 't': 3,\n",
       " 'n': 2,\n",
       " 'g': 2,\n",
       " 'f': 1,\n",
       " 'u': 1,\n",
       " '.': 1,\n",
       " ',': 1,\n",
       " ' ': 9,\n",
       " '!': 1}"
      ]
     },
     "execution_count": 30,
     "metadata": {},
     "output_type": "execute_result"
    }
   ],
   "source": [
    "d = {}\n",
    "s = \"Hello, World! This is a sample string for testing purposes.\"\n",
    "s = s.replace(',', '').replace('!', '').replace('.', '').replace(' ', '')\n",
    "\n",
    "# 풀이1, 순회를 돌면서 dict에 있으면 += 1, 없으면 =1 대입하면서 푼다\n",
    "for i in s:\n",
    "    if i in d:\n",
    "        d[i] += 1\n",
    "    else:\n",
    "        d[i] = 1\n",
    "d\n",
    "\n",
    "# 풀이2, set으로 만들어서 count를 한다.\n",
    "s = \"Hello, World! This is a sample string for testing purposes.\"\n",
    "for i in set(s):\n",
    "    d[i] = s.count(i)\n",
    "d"
   ]
  },
  {
   "cell_type": "code",
   "execution_count": 31,
   "metadata": {},
   "outputs": [
    {
     "name": "stdout",
     "output_type": "stream",
     "text": [
      "*\n",
      "***\n",
      "*****\n",
      "*******\n",
      "*********\n",
      "***********\n",
      "*************\n",
      "***************\n",
      "*****************\n"
     ]
    }
   ],
   "source": [
    "# 문제6. 트리 만들기\n",
    "for i in range(1, 10):\n",
    "  print('*' * (2 * i - 1))"
   ]
  },
  {
   "cell_type": "code",
   "execution_count": 33,
   "metadata": {},
   "outputs": [
    {
     "name": "stdout",
     "output_type": "stream",
     "text": [
      "          *\n",
      "         ***\n",
      "        *****\n",
      "       *******\n",
      "      *********\n",
      "     ***********\n",
      "    *************\n",
      "   ***************\n",
      "  *****************\n"
     ]
    }
   ],
   "source": [
    "# 문제6. 트리 만들기\n",
    "for i in range(1, 10):\n",
    "    print(f\"{' ' * (10 - i + 1)}{'*' * ((2 * i) - 1)}\")"
   ]
  },
  {
   "cell_type": "code",
   "execution_count": 34,
   "metadata": {},
   "outputs": [
    {
     "name": "stdout",
     "output_type": "stream",
     "text": [
      "        *         \n",
      "       ***        \n",
      "      *****       \n",
      "     *******      \n",
      "    *********     \n",
      "   ***********    \n",
      "  *************   \n",
      " ***************  \n",
      "***************** \n"
     ]
    }
   ],
   "source": [
    "data = 18\n",
    "for i in range(1, 10):\n",
    "    print(f\"{'*' * ((2 * i) - 1):^{data}}\")"
   ]
  },
  {
   "cell_type": "code",
   "execution_count": 102,
   "metadata": {},
   "outputs": [],
   "source": [
    "# 문제7. 다음 자료구조 클래스를 만들어주세요.\n",
    "# 데이터는 <1, 2, 3, 4> 형식으로 숫자만 저장됩니다.\n",
    "# print()를 하면 <1, 2, 3, 4>와 같이 출력이 되어야 합니다.\n",
    "# 메서드는 append, remove가 있습니다.\n",
    "# 아래 연산은 길이가 다르면 error가 납니다.\n",
    "# <1, 2, 3, 4> + <1, 2, 3, 4> == <2, 4, 6, 8>와 같이 같은 순서에 요소를 더합니다.\n",
    "# <1, 2, 3, 4> - <1, 2, 1, 2> == <0, 0, 2, 2>와 같이 같은 순서에 요소를 더합니다.\n",
    "# <1, 2, 3, 4> * 3 == <3, 6, 9, 12>과 같습니다.\n",
    "# 나누기는 지원하지 않습니다.\n",
    "\n",
    "class OperList:\n",
    "    pass\n",
    "\n",
    "l = OperList(1, 2, 3, 4)\n",
    "l.append(5)\n",
    "# print(l + l) # 출력: <2, 4, 6, 8, 10>"
   ]
  },
  {
   "cell_type": "code",
   "execution_count": 124,
   "metadata": {},
   "outputs": [
    {
     "name": "stdout",
     "output_type": "stream",
     "text": [
      "[5, 10, 15, 20, 25]\n"
     ]
    }
   ],
   "source": [
    "class OperList:\n",
    "    def __init__(self, *args):\n",
    "        self.__operlist = list(args)\n",
    "\n",
    "    def append(self, data):\n",
    "        self.__operlist.append(data)\n",
    "\n",
    "    def remove(self, data):\n",
    "        self.__operlist.remove(data)\n",
    "\n",
    "    def __str__(self):\n",
    "        return f'<{str(self.__oper)[1:-1]}>'\n",
    "    \n",
    "    def __add__(self, other):\n",
    "        if len(self.__operlist) != len(other.__operlist):\n",
    "            raise\n",
    "        for i in range(len(self.__operlist)):\n",
    "            self.__operlist[i] += self.__operlist[i]\n",
    "        return self.__operlist\n",
    "    \n",
    "    def __sub__(self, other):\n",
    "        if len(self.__operlist) != len(other.__operlist):\n",
    "            raise\n",
    "        for i in range(len(self.__operlist)):\n",
    "            self.__operlist[i] -= self.__operlist[i]\n",
    "        return self.__operlist\n",
    "    \n",
    "    def __mul__(self, other):\n",
    "        if not isinstance(other, int):\n",
    "            raise\n",
    "        for i in range(len(self.__operlist)):\n",
    "            self.__operlist[i] *= other\n",
    "        return self.__operlist\n",
    "\n",
    "l = OperList(1, 2, 3, 4)\n",
    "l.append(5)\n",
    "ll = OperList(1, 2, 3, 4)\n",
    "print(l * 5)"
   ]
  },
  {
   "cell_type": "code",
   "execution_count": 88,
   "metadata": {},
   "outputs": [
    {
     "name": "stdout",
     "output_type": "stream",
     "text": [
      "[2, 4, 6, 8, 10]\n"
     ]
    }
   ],
   "source": [
    "class OperList:\n",
    "    def __init__(self, *args):\n",
    "        self.__oper = list(args)\n",
    "\n",
    "    def __str__(self):\n",
    "        return f'<{str(self.__oper)[1:-1]}>'\n",
    "    \n",
    "    def __repr__(self):\n",
    "        return f'<{str(self.__oper)[1:-1]}>'\n",
    "\n",
    "    def append(self, data):\n",
    "        self.__oper.append(data)\n",
    "    \n",
    "    def remove(self, data):\n",
    "        self.__oper.remove(data)\n",
    "\n",
    "    def __add__(self, other):\n",
    "        if len(self.__oper) != len(other.__oper):\n",
    "            raise ValueError('두개의 리스트 길이가 다릅니다!')\n",
    "        for i in range(len(self.__oper)):\n",
    "            self.__oper[i] += self.__oper[i]\n",
    "        return self.__oper\n",
    "\n",
    "    \n",
    "    def __sub__(self, other):\n",
    "        if len(self.__oper) != len(other.__oper):\n",
    "            raise ValueError('두개의 리스트 길이가 다릅니다!')\n",
    "        for i in range(len(self.__oper)):\n",
    "            self.__oper[i] -= self.__oper[i]\n",
    "        return self.__oper\n",
    "    \n",
    "    def __mul__(self, other):\n",
    "        if not isinstance(other, int):\n",
    "            raise\n",
    "        for i in range(len(self.__oper)):\n",
    "            self.__oper[i] *= other\n",
    "        return self.__oper\n",
    "    \n",
    "\n",
    "\n",
    "l = OperList(1, 2, 3, 4)\n",
    "ll = OperList(1, 2, 3, 4)\n",
    "l.append(5)\n",
    "print(l + l)"
   ]
  },
  {
   "cell_type": "code",
   "execution_count": 87,
   "metadata": {},
   "outputs": [
    {
     "data": {
      "text/plain": [
       "[2, 4, 6, 8]"
      ]
     },
     "execution_count": 87,
     "metadata": {},
     "output_type": "execute_result"
    }
   ],
   "source": [
    "class OperList:\n",
    "    def __init__(self, *args):\n",
    "        self.__operlist = list(args)\n",
    "\n",
    "    def __str__(self):\n",
    "        return f'<{str(self.__operlist)[1:-1]}>'\n",
    "\n",
    "    def __repr__(self):\n",
    "        return f'<{str(self.__operlist)[1:-1]}>'\n",
    "\n",
    "    def __len__(self):\n",
    "        return self.__operlist.__len__()\n",
    "\n",
    "    def __add__(self, other):\n",
    "        if len(self.__operlist) != len(other.__operlist):\n",
    "            raise\n",
    "        for i in range(len(self.__operlist)):\n",
    "            self.__operlist[i] += other.__operlist[i]\n",
    "        return self.__operlist\n",
    "\n",
    "    def __sub__(self, other):\n",
    "        if len(self.__operlist) != len(other.__operlist):\n",
    "            raise\n",
    "        for i in range(len(self.__operlist)):\n",
    "            self.__operlist[i] -= other.__operlist[i]\n",
    "        return self.__operlist\n",
    "\n",
    "    def __mul__(self, other):\n",
    "        if not isinstance(other, int):\n",
    "            raise\n",
    "        for i in range(len(self.__operlist)):\n",
    "            self.__operlist[i] *= other\n",
    "        return self.__operlist\n",
    "\n",
    "    def append(self, data):\n",
    "        self.__operlist.append(data)\n",
    "\n",
    "    def remove(self, data):\n",
    "        self.__operlist.remove(data)\n",
    "\n",
    "\n",
    "l = OperList(1, 2, 3, 4)\n",
    "ll = OperList(3, 4, 6, 7)\n",
    "# l + ll\n",
    "l + l"
   ]
  },
  {
   "cell_type": "code",
   "execution_count": 89,
   "metadata": {},
   "outputs": [],
   "source": [
    "# 과제2:\n",
    "# student.csv에는 아래와 같은 텍스트가 담겨있습니다.\n",
    "# '''\n",
    "# 학년,반,번,이름,국어,영어,수학,사회\n",
    "# 3,3,1,licat,90,80,30,40\n",
    "# 3,3,2,mura,80,70,60,30\n",
    "# 3,3,3,binky,30,80,70,30\n",
    "# '''\n",
    "# 학생들의 평균을 구해 아래와 같이 student.csv출력되게 해주세요.(xx이라 표기된 곳에 평균 값이 들어가야 합니다.)\n",
    "# '''\n",
    "# 학년,반,번,이름,국어,영어,수학,사회,평균\n",
    "# 3,3,1,licat,90,80,30,40,xx\n",
    "# 3,3,2,mura,80,70,60,30,xx\n",
    "# 3,3,3,binky,30,80,70,30,xx\n",
    "# '''"
   ]
  },
  {
   "cell_type": "code",
   "execution_count": 100,
   "metadata": {},
   "outputs": [],
   "source": [
    "f = open('student.csv', 'w')\n",
    "data = '''학년,반,번,이름,국어,영어,수학,사회\n",
    "3,3,1,licat,90,80,30,40\n",
    "3,3,2,mura,80,70,60,30\n",
    "3,3,3,binky,30,80,70,30\n",
    "'''\n",
    "f.write(data)\n",
    "f.close\n",
    "\n",
    "s = ''\n",
    "with open('student.csv', 'r') as f:\n",
    "    lines = f.readlines()\n",
    "    s += lines[0][:-1] + ',평균'\n",
    "    for i in lines[1:]:\n",
    "        data = i.split(',')\n",
    "        s += f'\\n{i.strip()}, {sum(map(int, data[4:])) / 4}'\n",
    "\n",
    "with open('student.csv', 'w') as f:\n",
    "    f.write(s)"
   ]
  }
 ],
 "metadata": {
  "kernelspec": {
   "display_name": "main",
   "language": "python",
   "name": "python3"
  },
  "language_info": {
   "codemirror_mode": {
    "name": "ipython",
    "version": 3
   },
   "file_extension": ".py",
   "mimetype": "text/x-python",
   "name": "python",
   "nbconvert_exporter": "python",
   "pygments_lexer": "ipython3",
   "version": "3.11.5"
  },
  "orig_nbformat": 4
 },
 "nbformat": 4,
 "nbformat_minor": 2
}
