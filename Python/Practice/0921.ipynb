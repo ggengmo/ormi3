{
 "cells": [
  {
   "cell_type": "code",
   "execution_count": 3,
   "metadata": {},
   "outputs": [
    {
     "name": "stdout",
     "output_type": "stream",
     "text": [
      "가 나\n",
      "나 다\n",
      "다 라\n"
     ]
    }
   ],
   "source": [
    "my_list = [\"가\", \"나\", \"다\", \"라\"]\n",
    "for i in range(len(my_list) - 1):\n",
    "    print(my_list[i], my_list[i + 1])"
   ]
  },
  {
   "cell_type": "code",
   "execution_count": 6,
   "metadata": {},
   "outputs": [
    {
     "name": "stdout",
     "output_type": "stream",
     "text": [
      "가 나 다\n",
      "나 다 라\n",
      "다 라 마\n"
     ]
    }
   ],
   "source": [
    "my_list = [\"가\", \"나\", \"다\", \"라\", \"마\"]\n",
    "print(my_list[0], my_list[1], my_list[2])\n",
    "print(my_list[1], my_list[2], my_list[3])\n",
    "print(my_list[2], my_list[3], my_list[4])"
   ]
  },
  {
   "cell_type": "code",
   "execution_count": 8,
   "metadata": {},
   "outputs": [
    {
     "name": "stdout",
     "output_type": "stream",
     "text": [
      "가 나 다\n",
      "나 다 라\n",
      "다 라 마\n"
     ]
    }
   ],
   "source": [
    "for i in range(len(my_list) -2):\n",
    "    print(my_list[i], my_list[i + 1], my_list[i + 2])"
   ]
  },
  {
   "cell_type": "code",
   "execution_count": 10,
   "metadata": {},
   "outputs": [
    {
     "name": "stdout",
     "output_type": "stream",
     "text": [
      "라 다\n",
      "다 나\n",
      "나 가\n"
     ]
    }
   ],
   "source": [
    "my_list = [\"가\", \"나\", \"다\", \"라\"]\n",
    "\n",
    "print(my_list[3], my_list[2])\n",
    "print(my_list[2], my_list[1])\n",
    "print(my_list[1], my_list[0])"
   ]
  },
  {
   "cell_type": "code",
   "execution_count": 15,
   "metadata": {},
   "outputs": [
    {
     "name": "stdout",
     "output_type": "stream",
     "text": [
      "라 다\n",
      "다 나\n",
      "나 가\n"
     ]
    }
   ],
   "source": [
    "for i in range(len(my_list) -1):\n",
    "    print(my_list[len(my_list) - 1 - i], my_list[len(my_list) - 2 - i])"
   ]
  },
  {
   "cell_type": "code",
   "execution_count": 19,
   "metadata": {},
   "outputs": [
    {
     "name": "stdout",
     "output_type": "stream",
     "text": [
      "100\n",
      "200\n",
      "400\n"
     ]
    }
   ],
   "source": [
    "my_list = [100, 200, 400, 800]\n",
    "\n",
    "for i in range(len(my_list) - 1):\n",
    "    if my_list[i] < my_list[i + 1]:\n",
    "        print(my_list[i + 1] - my_list[i])\n"
   ]
  },
  {
   "cell_type": "code",
   "execution_count": 33,
   "metadata": {},
   "outputs": [
    {
     "name": "stdout",
     "output_type": "stream",
     "text": [
      "233.33333333333334\n",
      "466.6666666666667\n",
      "733.3333333333334\n",
      "1033.3333333333333\n"
     ]
    }
   ],
   "source": [
    "my_list = [100, 200, 400, 800, 1000, 1300]\n",
    "\n",
    "for i in range(len(my_list) - 2):\n",
    "    s = my_list[i] + my_list[i + 1] + my_list[i + 2]\n",
    "    print(s / 3)"
   ]
  },
  {
   "cell_type": "code",
   "execution_count": 48,
   "metadata": {},
   "outputs": [
    {
     "name": "stdout",
     "output_type": "stream",
     "text": [
      "[50, 100, 30, 80]\n"
     ]
    }
   ],
   "source": [
    "low_prices  = [100, 200, 400, 800, 1000]\n",
    "high_prices = [150, 300, 430, 880, 1000]\n",
    "\n",
    "list = []\n",
    "for i in range(len(low_prices) - 1):\n",
    "    list.append(high_prices[i] - low_prices[i])\n",
    "    \n",
    "print(list)"
   ]
  }
 ],
 "metadata": {
  "kernelspec": {
   "display_name": "main",
   "language": "python",
   "name": "python3"
  },
  "language_info": {
   "codemirror_mode": {
    "name": "ipython",
    "version": 3
   },
   "file_extension": ".py",
   "mimetype": "text/x-python",
   "name": "python",
   "nbconvert_exporter": "python",
   "pygments_lexer": "ipython3",
   "version": "3.11.5"
  },
  "orig_nbformat": 4
 },
 "nbformat": 4,
 "nbformat_minor": 2
}
