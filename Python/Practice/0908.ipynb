{
 "cells": [
  {
   "cell_type": "code",
   "execution_count": 280,
   "metadata": {},
   "outputs": [],
   "source": [
    "# 주석"
   ]
  },
  {
   "cell_type": "code",
   "execution_count": 7,
   "metadata": {},
   "outputs": [
    {
     "name": "stdout",
     "output_type": "stream",
     "text": [
      "hello world\n",
      "hi world\n"
     ]
    }
   ],
   "source": [
    "# 이것은 주석임\n",
    "print('hello world') # 이것도 주석임.\n",
    "print('hi world')"
   ]
  },
  {
   "cell_type": "code",
   "execution_count": 8,
   "metadata": {},
   "outputs": [
    {
     "name": "stdout",
     "output_type": "stream",
     "text": [
      "hello world\n"
     ]
    }
   ],
   "source": [
    "'''\n",
    "이것도 주석임\n",
    "이렇게 여러줄 주석을 넣을 수 있음.\n",
    "'''\n",
    "print(\"hello world\")"
   ]
  },
  {
   "cell_type": "code",
   "execution_count": 9,
   "metadata": {},
   "outputs": [
    {
     "name": "stdout",
     "output_type": "stream",
     "text": [
      "hello world\n"
     ]
    }
   ],
   "source": [
    "\"\"\"\n",
    "이것도 주석임.\n",
    "이렇게 여러줄 주석을 넣을 수 있음.\n",
    "\"\"\"\n",
    "print(\"hello world\")"
   ]
  },
  {
   "cell_type": "code",
   "execution_count": 11,
   "metadata": {},
   "outputs": [],
   "source": [
    "# 입력과 출력"
   ]
  },
  {
   "cell_type": "code",
   "execution_count": 14,
   "metadata": {},
   "outputs": [],
   "source": [
    "'''x = input('입력해 주세요') 문자열로 받는다'''\n",
    "x = 'hello'"
   ]
  },
  {
   "cell_type": "code",
   "execution_count": 16,
   "metadata": {},
   "outputs": [
    {
     "name": "stdout",
     "output_type": "stream",
     "text": [
      "hello\n"
     ]
    }
   ],
   "source": [
    "print(x)"
   ]
  },
  {
   "cell_type": "code",
   "execution_count": 21,
   "metadata": {},
   "outputs": [
    {
     "name": "stdout",
     "output_type": "stream",
     "text": [
      "hellohello\n"
     ]
    }
   ],
   "source": [
    "print(x, x, sep='')"
   ]
  },
  {
   "cell_type": "code",
   "execution_count": 28,
   "metadata": {},
   "outputs": [
    {
     "name": "stdout",
     "output_type": "stream",
     "text": [
      "010!1234!5678\n"
     ]
    }
   ],
   "source": [
    "print('010', '1234', '5678', sep='!')"
   ]
  },
  {
   "cell_type": "code",
   "execution_count": 65,
   "metadata": {},
   "outputs": [
    {
     "name": "stdout",
     "output_type": "stream",
     "text": [
      "hello world\n",
      "hello world\n",
      "\n"
     ]
    }
   ],
   "source": [
    "print('hello', 'world', end='! \\n')\n",
    "print('hello world', end='~ ')"
   ]
  },
  {
   "cell_type": "code",
   "execution_count": 42,
   "metadata": {},
   "outputs": [
    {
     "data": {
      "text/plain": [
       "'변수'"
      ]
     },
     "execution_count": 42,
     "metadata": {},
     "output_type": "execute_result"
    }
   ],
   "source": [
    "'변수'"
   ]
  },
  {
   "cell_type": "code",
   "execution_count": 46,
   "metadata": {},
   "outputs": [
    {
     "name": "stdout",
     "output_type": "stream",
     "text": [
      "140735830877256 140735830877256 140735830877256\n"
     ]
    }
   ],
   "source": [
    "x = 10\n",
    "y = x\n",
    "z = y \n",
    "\n",
    "'''정답\n",
    "x -> 10\n",
    "y -> 10\n",
    "z -> 10   y = x, z = y가 x랑 값이 같다고 같은것이 아니라 10이라는 값을 가리키는게 똑같다.\n",
    "'''\n",
    "print(id(x), id(y), id(z))"
   ]
  },
  {
   "cell_type": "code",
   "execution_count": 48,
   "metadata": {},
   "outputs": [
    {
     "name": "stdout",
     "output_type": "stream",
     "text": [
      "140735830877256 140735830877576 140735830877256\n"
     ]
    }
   ],
   "source": [
    "x = 10\n",
    "y = x\n",
    "z = y\n",
    "y = 20\n",
    "\n",
    "'''정답\n",
    "z ┐\n",
    "x -> 10\n",
    "y -> 20     x, y, z가 10을 가리키다가 y가 값이 바뀌어도 z의 값은 그대로 10을 가리킨다.\n",
    "'''\n",
    "print(id(x), id(y), id(z))"
   ]
  },
  {
   "cell_type": "code",
   "execution_count": 62,
   "metadata": {},
   "outputs": [
    {
     "name": "stdout",
     "output_type": "stream",
     "text": [
      "hello\n",
      "hello\n",
      "hello\n",
      "hello\n",
      "hello\n"
     ]
    }
   ],
   "source": [
    "'''코드\n",
    "Python의 경우 보통 스네이크 표기법으로 변수를 만듬.'''\n",
    "col_sum = 10\n",
    "'''_는 사용하지 않는 변수에 할당함.'''\n",
    "for _ in range(5):   #코드의 가독성을 올려줌.\n",
    "    print('hello')"
   ]
  },
  {
   "cell_type": "code",
   "execution_count": 68,
   "metadata": {},
   "outputs": [
    {
     "name": "stdout",
     "output_type": "stream",
     "text": [
      "<class 'int'> <class 'str'>\n"
     ]
    }
   ],
   "source": [
    "x = 10\n",
    "y = '10'\n",
    "print(type(x), type(y))"
   ]
  },
  {
   "cell_type": "code",
   "execution_count": 71,
   "metadata": {},
   "outputs": [
    {
     "data": {
      "text/plain": [
       "'1010'"
      ]
     },
     "execution_count": 71,
     "metadata": {},
     "output_type": "execute_result"
    }
   ],
   "source": [
    "int(10) + int(10)\n",
    "str(10) + str(10)"
   ]
  },
  {
   "cell_type": "code",
   "execution_count": 73,
   "metadata": {},
   "outputs": [],
   "source": [
    "class str(str):\n",
    "  def __add__(self, other):\n",
    "    return 'hello'"
   ]
  },
  {
   "cell_type": "code",
   "execution_count": 74,
   "metadata": {},
   "outputs": [
    {
     "data": {
      "text/plain": [
       "'hello'"
      ]
     },
     "execution_count": 74,
     "metadata": {},
     "output_type": "execute_result"
    }
   ],
   "source": [
    "str(10) + str(20)"
   ]
  },
  {
   "cell_type": "code",
   "execution_count": 76,
   "metadata": {},
   "outputs": [
    {
     "data": {
      "text/plain": [
       "'정수 자료형(int)'"
      ]
     },
     "execution_count": 76,
     "metadata": {},
     "output_type": "execute_result"
    }
   ],
   "source": [
    "'''정수 자료형(int)'''\n",
    "\n",
    "'''정수는 int, 소수점은 float, '숫자'는 str'''"
   ]
  },
  {
   "cell_type": "code",
   "execution_count": 79,
   "metadata": {},
   "outputs": [
    {
     "name": "stdout",
     "output_type": "stream",
     "text": [
      "<class 'int'> <class 'int'> <class 'int'>\n"
     ]
    }
   ],
   "source": [
    "x = 10\n",
    "y = -5\n",
    "z = 0\n",
    "print(type(x), type(y), type(z))"
   ]
  },
  {
   "cell_type": "code",
   "execution_count": 80,
   "metadata": {},
   "outputs": [
    {
     "data": {
      "text/plain": [
       "' 진수: 수를 표현하는 방법\\n2진수: 0 1\\n8진수: 0 1 2 3 4 5 6 7\\n16진수: 0 1 2 3 4 5 6 7 8 9 a b c d e f\\n\\n10진수 711 = 7 * 10^2 + 3 * 10^1 + 1 * 10^0\\n2진수 110 = 1 * 2^2 + 1 * 2^1 + 0 * 2^0\\n10진수 15를 2진수로 표현하면?\\n\\n쉽게 계산하는 법\\n10진수 15를 2진수로 표현하면?\\n10000 - 1 == 1111'"
      ]
     },
     "execution_count": 80,
     "metadata": {},
     "output_type": "execute_result"
    }
   ],
   "source": [
    "''' 진수: 수를 표현하는 방법\n",
    "2진수: 0 1\n",
    "8진수: 0 1 2 3 4 5 6 7\n",
    "16진수: 0 1 2 3 4 5 6 7 8 9 a b c d e f\n",
    "\n",
    "10진수 711 = 7 * 10^2 + 3 * 10^1 + 1 * 10^0\n",
    "2진수 110 = 1 * 2^2 + 1 * 2^1 + 0 * 2^0\n",
    "10진수 15를 2진수로 표현하면?\n",
    "\n",
    "쉽게 계산하는 법\n",
    "10진수 15를 2진수로 표현하면?\n",
    "10000 - 1 == 1111'''"
   ]
  },
  {
   "cell_type": "code",
   "execution_count": 83,
   "metadata": {},
   "outputs": [
    {
     "name": "stdout",
     "output_type": "stream",
     "text": [
      "6\n",
      "<class 'int'>\n"
     ]
    }
   ],
   "source": [
    "'''2진수(binary)'''\n",
    "x = 0b110\n",
    "print(x)\n",
    "print(type(x))"
   ]
  },
  {
   "cell_type": "code",
   "execution_count": 84,
   "metadata": {},
   "outputs": [
    {
     "name": "stdout",
     "output_type": "stream",
     "text": [
      "72\n",
      "<class 'int'>\n"
     ]
    }
   ],
   "source": [
    "'''8진수(octal)'''\n",
    "x = 0o110\n",
    "print(x)\n",
    "print(type(x))"
   ]
  },
  {
   "cell_type": "code",
   "execution_count": 85,
   "metadata": {},
   "outputs": [
    {
     "name": "stdout",
     "output_type": "stream",
     "text": [
      "272\n",
      "<class 'int'>\n"
     ]
    }
   ],
   "source": [
    "'''16진수(hexadeciaml)'''\n",
    "x = 0x110\n",
    "print(x)\n",
    "print(type(x))"
   ]
  },
  {
   "cell_type": "code",
   "execution_count": 87,
   "metadata": {},
   "outputs": [
    {
     "data": {
      "text/plain": [
       "'0b101'"
      ]
     },
     "execution_count": 87,
     "metadata": {},
     "output_type": "execute_result"
    }
   ],
   "source": [
    "bin(5)"
   ]
  },
  {
   "cell_type": "code",
   "execution_count": 89,
   "metadata": {},
   "outputs": [
    {
     "data": {
      "text/plain": [
       "'0o17'"
      ]
     },
     "execution_count": 89,
     "metadata": {},
     "output_type": "execute_result"
    }
   ],
   "source": [
    "oct(15)"
   ]
  },
  {
   "cell_type": "code",
   "execution_count": 90,
   "metadata": {},
   "outputs": [
    {
     "data": {
      "text/plain": [
       "'0xf'"
      ]
     },
     "execution_count": 90,
     "metadata": {},
     "output_type": "execute_result"
    }
   ],
   "source": [
    "hex(15)"
   ]
  },
  {
   "cell_type": "code",
   "execution_count": 93,
   "metadata": {},
   "outputs": [
    {
     "name": "stdout",
     "output_type": "stream",
     "text": [
      "<class 'int'>\n",
      "['__abs__', '__add__', '__and__', '__bool__', '__ceil__', '__class__', '__delattr__', '__dir__', '__divmod__', '__doc__', '__eq__', '__float__', '__floor__', '__floordiv__', '__format__', '__ge__', '__getattribute__', '__getnewargs__', '__getstate__', '__gt__', '__hash__', '__index__', '__init__', '__init_subclass__', '__int__', '__invert__', '__le__', '__lshift__', '__lt__', '__mod__', '__mul__', '__ne__', '__neg__', '__new__', '__or__', '__pos__', '__pow__', '__radd__', '__rand__', '__rdivmod__', '__reduce__', '__reduce_ex__', '__repr__', '__rfloordiv__', '__rlshift__', '__rmod__', '__rmul__', '__ror__', '__round__', '__rpow__', '__rrshift__', '__rshift__', '__rsub__', '__rtruediv__', '__rxor__', '__setattr__', '__sizeof__', '__str__', '__sub__', '__subclasshook__', '__truediv__', '__trunc__', '__xor__', 'as_integer_ratio', 'bit_count', 'bit_length', 'conjugate', 'denominator', 'from_bytes', 'imag', 'numerator', 'real', 'to_bytes']\n"
     ]
    }
   ],
   "source": [
    "'''매우 중요! 새로운 자료형을 만났을 때 2개를 꼭 해보기!'''\n",
    "x = 10\n",
    "print(type(x)) # 검색 키워드\n",
    "print(dir(x)) # 대략적인 속성을 알 수 있음."
   ]
  },
  {
   "cell_type": "code",
   "execution_count": 95,
   "metadata": {},
   "outputs": [
    {
     "data": {
      "text/plain": [
       "\"메서드: 이 타입에서 변수를 다룰 수 있는 여러 기능을 제공합니다.\\n'as_integer_ratio',\\n'bit_count',\\n'bit_length',\\n'conjugate',\\n'denominator',\\n'from_bytes',\\n'imag',\\n'numerator',\\n'real',\\n'to_bytes\""
      ]
     },
     "execution_count": 95,
     "metadata": {},
     "output_type": "execute_result"
    }
   ],
   "source": [
    "'''메직 메서드: 이 타입에 속성을 정의함.'''\n",
    "abs(-5) # '__abs__'\n",
    "5 + 5   # '__add__'\n",
    "5 and 5 # '__and__'\n",
    "bool(5) # '__bool__'\n",
    "5 == 5  # '__eq__'\n",
    "\n",
    "'''메서드: 이 타입에서 변수를 다룰 수 있는 여러 기능을 제공합니다.\n",
    "'as_integer_ratio',\n",
    "'bit_count',\n",
    "'bit_length',\n",
    "'conjugate',\n",
    "'denominator',\n",
    "'from_bytes',\n",
    "'imag',\n",
    "'numerator',\n",
    "'real',\n",
    "'to_bytes'''"
   ]
  },
  {
   "cell_type": "code",
   "execution_count": 96,
   "metadata": {},
   "outputs": [
    {
     "data": {
      "text/plain": [
       "2"
      ]
     },
     "execution_count": 96,
     "metadata": {},
     "output_type": "execute_result"
    }
   ],
   "source": [
    "x = 5\n",
    "x.bit_count() # 잘 안사용함.\n",
    "# 10001, 2진수로 표현하면 1이 2개이다."
   ]
  },
  {
   "cell_type": "code",
   "execution_count": 97,
   "metadata": {},
   "outputs": [
    {
     "name": "stdout",
     "output_type": "stream",
     "text": [
      "140735830885128 140735830885128\n"
     ]
    }
   ],
   "source": [
    "'''정수의 메모리 미리 적재!\n",
    "-5 ~ 256'''\n",
    "x = 256\n",
    "y = 256\n",
    "\n",
    "print(id(x), id(y))"
   ]
  },
  {
   "cell_type": "code",
   "execution_count": 99,
   "metadata": {},
   "outputs": [
    {
     "name": "stdout",
     "output_type": "stream",
     "text": [
      "140735830885128 140735830885128 140735830885128\n"
     ]
    }
   ],
   "source": [
    "'''문제 1'''\n",
    "x = 256\n",
    "y = 256\n",
    "z = x\n",
    "\n",
    "'''정답\n",
    "x => 256\n",
    "z ┘\n",
    "y =>256\n",
    "'''\n",
    "\n",
    "print(id(x), id(y), id(z))"
   ]
  },
  {
   "cell_type": "code",
   "execution_count": 100,
   "metadata": {},
   "outputs": [
    {
     "data": {
      "text/plain": [
       "'실수 자료형'"
      ]
     },
     "execution_count": 100,
     "metadata": {},
     "output_type": "execute_result"
    }
   ],
   "source": [
    "'''실수 자료형'''"
   ]
  },
  {
   "cell_type": "code",
   "execution_count": 102,
   "metadata": {},
   "outputs": [
    {
     "name": "stdout",
     "output_type": "stream",
     "text": [
      "12.0\n",
      "<class 'float'>\n"
     ]
    }
   ],
   "source": [
    "'''산술연산'''\n",
    "x = 10.0\n",
    "y = 2\n",
    "result = x + y\n",
    "print(result)\n",
    "print(type(result))"
   ]
  },
  {
   "cell_type": "code",
   "execution_count": 107,
   "metadata": {},
   "outputs": [
    {
     "data": {
      "text/plain": [
       "True"
      ]
     },
     "execution_count": 107,
     "metadata": {},
     "output_type": "execute_result"
    }
   ],
   "source": [
    "'''float의 특수값\n",
    "이 특수값은 사용을 하니 기억 해야함!\n",
    "보통 정렬과 같은 파트에서 초깃값으로 사용을 많이 함!'''\n",
    "\n",
    "float('inf') > 9999999999999999999999999999999\n",
    "#float('inf') < -9999999999999999999999999999999"
   ]
  },
  {
   "cell_type": "code",
   "execution_count": 110,
   "metadata": {},
   "outputs": [
    {
     "name": "stdout",
     "output_type": "stream",
     "text": [
      "2000.0\n",
      "2000.0\n"
     ]
    },
    {
     "data": {
      "text/plain": [
       "2000"
      ]
     },
     "execution_count": 110,
     "metadata": {},
     "output_type": "execute_result"
    }
   ],
   "source": [
    "print(2e3) # 지수표현. float형\n",
    "print(2E3)\n",
    "\n",
    "2 * (10 ** 3) # int형"
   ]
  },
  {
   "cell_type": "code",
   "execution_count": 112,
   "metadata": {},
   "outputs": [
    {
     "name": "stdout",
     "output_type": "stream",
     "text": [
      "['__abs__', '__add__', '__bool__', '__ceil__', '__class__', '__delattr__', '__dir__', '__divmod__', '__doc__', '__eq__', '__float__', '__floor__', '__floordiv__', '__format__', '__ge__', '__getattribute__', '__getformat__', '__getnewargs__', '__getstate__', '__gt__', '__hash__', '__init__', '__init_subclass__', '__int__', '__le__', '__lt__', '__mod__', '__mul__', '__ne__', '__neg__', '__new__', '__pos__', '__pow__', '__radd__', '__rdivmod__', '__reduce__', '__reduce_ex__', '__repr__', '__rfloordiv__', '__rmod__', '__rmul__', '__round__', '__rpow__', '__rsub__', '__rtruediv__', '__setattr__', '__sizeof__', '__str__', '__sub__', '__subclasshook__', '__truediv__', '__trunc__', 'as_integer_ratio', 'conjugate', 'fromhex', 'hex', 'imag', 'is_integer', 'real']\n"
     ]
    }
   ],
   "source": [
    "x = 10.0\n",
    "print(dir(x))"
   ]
  },
  {
   "cell_type": "code",
   "execution_count": 113,
   "metadata": {},
   "outputs": [
    {
     "data": {
      "text/plain": [
       "\"메서드\\n'conjugate'\\n'fromhex'\\n'hex'\\n'imag'\\nis_integer'\\n'real' \""
      ]
     },
     "execution_count": 113,
     "metadata": {},
     "output_type": "execute_result"
    }
   ],
   "source": [
    "'''메서드\n",
    "'conjugate'\n",
    "'fromhex'\n",
    "'hex'\n",
    "'imag'\n",
    "is_integer'\n",
    "'real' '''"
   ]
  },
  {
   "cell_type": "code",
   "execution_count": 114,
   "metadata": {},
   "outputs": [
    {
     "data": {
      "text/plain": [
       "'문자열'"
      ]
     },
     "execution_count": 114,
     "metadata": {},
     "output_type": "execute_result"
    }
   ],
   "source": [
    "'''문자열'''"
   ]
  },
  {
   "cell_type": "code",
   "execution_count": 117,
   "metadata": {},
   "outputs": [
    {
     "name": "stdout",
     "output_type": "stream",
     "text": [
      "hello world hello world\n"
     ]
    }
   ],
   "source": [
    "x = 'hello world hello world'\n",
    "y = \"hello world\"\n",
    "z = '''hello world''' #여러줄 가능\n",
    "k = \"\"\"hello world\n",
    "hello world\"\"\" #여러줄 가능\n",
    "\n",
    "print(x)"
   ]
  },
  {
   "cell_type": "code",
   "execution_count": 118,
   "metadata": {},
   "outputs": [
    {
     "name": "stdout",
     "output_type": "stream",
     "text": [
      "hello \\n world\n"
     ]
    }
   ],
   "source": [
    "a = r'hello \\n world' # r은 raw 날것에 의미를 가지고 있음. 문자열을 그대로 보여줌!\n",
    "print(a)"
   ]
  },
  {
   "cell_type": "code",
   "execution_count": 126,
   "metadata": {},
   "outputs": [
    {
     "name": "stdout",
     "output_type": "stream",
     "text": [
      "안녕하세요.\n",
      "저는 강경모라고 합니다.\n",
      "파이썬 재미있어요!\n"
     ]
    }
   ],
   "source": [
    "i = '''안녕하세요.\n",
    "저는 강경모라고 합니다.\n",
    "파이썬 재미있어요!'''\n",
    "i # 이스케이프 문자가 처리안되어 출력 - 즉 줄바꿈 문자가 그대로 출력\n",
    "print(i) # 이스케이프 문자가 처리되어 출력 - 줄바꿈 문자는 안보이게 출력"
   ]
  },
  {
   "cell_type": "code",
   "execution_count": 130,
   "metadata": {},
   "outputs": [
    {
     "name": "stdout",
     "output_type": "stream",
     "text": [
      "hellokorea\n"
     ]
    }
   ],
   "source": [
    "'''문자열에 연산'''\n",
    "x = 'hello'\n",
    "y = 'korea'\n",
    "\n",
    "print(x + y)"
   ]
  },
  {
   "cell_type": "code",
   "execution_count": 131,
   "metadata": {},
   "outputs": [
    {
     "name": "stdout",
     "output_type": "stream",
     "text": [
      "hihihi\n"
     ]
    }
   ],
   "source": [
    "x = 'hi'\n",
    "print(x * 3)"
   ]
  },
  {
   "cell_type": "code",
   "execution_count": 132,
   "metadata": {},
   "outputs": [
    {
     "data": {
      "text/plain": [
       "[[100, 100, 100], [10, 10]]"
      ]
     },
     "execution_count": 132,
     "metadata": {},
     "output_type": "execute_result"
    }
   ],
   "source": [
    "'''이런 연산들은 문자열에서는 문제가 없지만\n",
    "다른 자료형들은 아래와 같은 문제가 생긴다.'''\n",
    "x = [[100] * 3, [10] * 2]\n",
    "x"
   ]
  },
  {
   "cell_type": "code",
   "execution_count": 133,
   "metadata": {},
   "outputs": [
    {
     "data": {
      "text/plain": [
       "[[1, 100, 100], [10, 10]]"
      ]
     },
     "execution_count": 133,
     "metadata": {},
     "output_type": "execute_result"
    }
   ],
   "source": [
    "x[0][0] = 1\n",
    "x"
   ]
  },
  {
   "cell_type": "code",
   "execution_count": 134,
   "metadata": {},
   "outputs": [],
   "source": [
    "x = [[[] * 2] * 3]"
   ]
  },
  {
   "cell_type": "code",
   "execution_count": null,
   "metadata": {},
   "outputs": [],
   "source": [
    "'''문자열 인덱싱'''"
   ]
  },
  {
   "cell_type": "code",
   "execution_count": 135,
   "metadata": {},
   "outputs": [
    {
     "data": {
      "text/plain": [
       "'h'"
      ]
     },
     "execution_count": 135,
     "metadata": {},
     "output_type": "execute_result"
    }
   ],
   "source": [
    "s = 'hello world'\n",
    "s[0]"
   ]
  },
  {
   "cell_type": "code",
   "execution_count": 136,
   "metadata": {},
   "outputs": [
    {
     "data": {
      "text/plain": [
       "'d'"
      ]
     },
     "execution_count": 136,
     "metadata": {},
     "output_type": "execute_result"
    }
   ],
   "source": [
    "s[-1]"
   ]
  },
  {
   "cell_type": "code",
   "execution_count": 137,
   "metadata": {},
   "outputs": [
    {
     "data": {
      "text/plain": [
       "'h'"
      ]
     },
     "execution_count": 137,
     "metadata": {},
     "output_type": "execute_result"
    }
   ],
   "source": [
    "s[-11]"
   ]
  },
  {
   "cell_type": "code",
   "execution_count": 138,
   "metadata": {},
   "outputs": [],
   "source": [
    "s = 'Python honey jam'\n",
    "# s[strat:stop:step]\n",
    "#':step'은 생략 가능\n",
    "#start와 stop은 숫자만 생략 가능\n",
    "# 중요 : slicing은 error를 발생시키지 않는다."
   ]
  },
  {
   "cell_type": "code",
   "execution_count": 151,
   "metadata": {},
   "outputs": [
    {
     "data": {
      "text/plain": [
       "'nohty'"
      ]
     },
     "execution_count": 151,
     "metadata": {},
     "output_type": "execute_result"
    }
   ],
   "source": [
    "s[0:5] #'Pytho' :step은 생략\n",
    "s[:5] # 숫자 0을 생략.\n",
    "s[6:] #' honey jam', stop, step 생략\n",
    "s[0:5:2] #'Pto'\n",
    "s[::-1] #-1을 하면 반대로.\n",
    "s[5:0:-1] #'nohty' 5부터 1까지이기 때문에 'nohty'로 나온다."
   ]
  },
  {
   "cell_type": "code",
   "execution_count": 158,
   "metadata": {},
   "outputs": [
    {
     "data": {
      "text/plain": [
       "'Python.'"
      ]
     },
     "execution_count": 158,
     "metadata": {},
     "output_type": "execute_result"
    }
   ],
   "source": [
    "s = 'Python.png'\n",
    "# 자주 쓰지만 헷갈리는것\n",
    "#문제1 : .png를 잘라내서 없애 주세요.\n",
    "s[:6] # s[:-4]\n",
    "#문제2 : png만 잘라내 주세요.\n",
    "s[:7] # s[-3]"
   ]
  },
  {
   "cell_type": "code",
   "execution_count": 163,
   "metadata": {},
   "outputs": [
    {
     "data": {
      "text/plain": [
       "'Hello'"
      ]
     },
     "execution_count": 163,
     "metadata": {},
     "output_type": "execute_result"
    }
   ],
   "source": [
    "s = 'HelloWorld'\n",
    "s[:-4]\n",
    "s[:5]"
   ]
  },
  {
   "cell_type": "code",
   "execution_count": 165,
   "metadata": {},
   "outputs": [
    {
     "data": {
      "text/plain": [
       "'leehojun.'"
      ]
     },
     "execution_count": 165,
     "metadata": {},
     "output_type": "execute_result"
    }
   ],
   "source": [
    "s = 'leehojun.png'\n",
    "s[:9]"
   ]
  },
  {
   "cell_type": "code",
   "execution_count": 167,
   "metadata": {},
   "outputs": [
    {
     "name": "stdout",
     "output_type": "stream",
     "text": [
      "2738347028480 2738347028480\n",
      "2738347029056 2738347020800\n"
     ]
    }
   ],
   "source": [
    "x = [10, 20, 30]\n",
    "y = x\n",
    "print(id(x), id(y))\n",
    "\n",
    "x = [10, 20, 30]\n",
    "y = x[:]\n",
    "print(id(x), id(y))"
   ]
  },
  {
   "cell_type": "code",
   "execution_count": null,
   "metadata": {},
   "outputs": [],
   "source": [
    "'''문자열에 메서드'''"
   ]
  },
  {
   "cell_type": "code",
   "execution_count": 168,
   "metadata": {},
   "outputs": [],
   "source": [
    "s = 'weniv CEO licat'"
   ]
  },
  {
   "cell_type": "code",
   "execution_count": 170,
   "metadata": {},
   "outputs": [
    {
     "data": {
      "text/plain": [
       "'WENIV CEO LICAT'"
      ]
     },
     "execution_count": 170,
     "metadata": {},
     "output_type": "execute_result"
    }
   ],
   "source": [
    "s.lower() # 문자열을 모두 소문자로\n",
    "s.upper() # 문자열을 모두 대문자로"
   ]
  },
  {
   "cell_type": "code",
   "execution_count": 177,
   "metadata": {},
   "outputs": [
    {
     "data": {
      "text/plain": [
       "6"
      ]
     },
     "execution_count": 177,
     "metadata": {},
     "output_type": "execute_result"
    }
   ],
   "source": [
    "s.find('CEO') # find는 오류를 발생 시키지 않고 -1로 나옴.\n",
    "s.index('CEO') # index는 오류를 나타내줌."
   ]
  },
  {
   "cell_type": "code",
   "execution_count": 181,
   "metadata": {},
   "outputs": [
    {
     "data": {
      "text/plain": [
       "2"
      ]
     },
     "execution_count": 181,
     "metadata": {},
     "output_type": "execute_result"
    }
   ],
   "source": [
    "s = 'weniv CEO licat'\n",
    "s.count('i') # 문자열이나 숫자를 셀 때 사용. 갯수를 알려줌"
   ]
  },
  {
   "cell_type": "code",
   "execution_count": 184,
   "metadata": {},
   "outputs": [
    {
     "name": "stdout",
     "output_type": "stream",
     "text": [
      "<class 'str'>\n"
     ]
    }
   ],
   "source": [
    "s = '3693693693691231236719'\n",
    "s.count('3') + s.count('6') + s.count('9')\n",
    "print(type(s))"
   ]
  },
  {
   "cell_type": "code",
   "execution_count": 185,
   "metadata": {},
   "outputs": [
    {
     "data": {
      "text/plain": [
       "'weniv CEO licat'"
      ]
     },
     "execution_count": 185,
     "metadata": {},
     "output_type": "execute_result"
    }
   ],
   "source": [
    "s = '    weniv CEO licat     '\n",
    "s.strip() #양쪽 공백을 제거하는 method"
   ]
  },
  {
   "cell_type": "code",
   "execution_count": 186,
   "metadata": {},
   "outputs": [
    {
     "data": {
      "text/plain": [
       "'hello world'"
      ]
     },
     "execution_count": 186,
     "metadata": {},
     "output_type": "execute_result"
    }
   ],
   "source": [
    "'    ,!!  hello world   '.strip(' ,!')\n",
    "#양쪽의 공백과 ',!'을 제거해주는 method"
   ]
  },
  {
   "cell_type": "code",
   "execution_count": 188,
   "metadata": {},
   "outputs": [
    {
     "data": {
      "text/plain": [
       "'Hello World'"
      ]
     },
     "execution_count": 188,
     "metadata": {},
     "output_type": "execute_result"
    }
   ],
   "source": [
    "s = 'Python World'\n",
    "s.replace('Python', 'Hello')"
   ]
  },
  {
   "cell_type": "code",
   "execution_count": 189,
   "metadata": {},
   "outputs": [
    {
     "data": {
      "text/plain": [
       "['Python', 'World', 'honey', 'jam']"
      ]
     },
     "execution_count": 189,
     "metadata": {},
     "output_type": "execute_result"
    }
   ],
   "source": [
    "'Python World honey jam'.split(' ')"
   ]
  },
  {
   "cell_type": "code",
   "execution_count": 192,
   "metadata": {},
   "outputs": [
    {
     "data": {
      "text/plain": [
       "['Python', 'World', 'honey', 'jam']"
      ]
     },
     "execution_count": 192,
     "metadata": {},
     "output_type": "execute_result"
    }
   ],
   "source": [
    "'Python-World-honey-jam'.split('-')"
   ]
  },
  {
   "cell_type": "code",
   "execution_count": 196,
   "metadata": {},
   "outputs": [
    {
     "data": {
      "text/plain": [
       "'Python-World-honey-jam'"
      ]
     },
     "execution_count": 196,
     "metadata": {},
     "output_type": "execute_result"
    }
   ],
   "source": [
    "s= ['Python', 'World', 'honey', 'jam']\n",
    "('-').join(s)"
   ]
  },
  {
   "cell_type": "code",
   "execution_count": 205,
   "metadata": {},
   "outputs": [
    {
     "data": {
      "text/plain": [
       "'010-1000-1000'"
      ]
     },
     "execution_count": 205,
     "metadata": {},
     "output_type": "execute_result"
    }
   ],
   "source": [
    "s = '010 1000 1000'\n",
    "'-'.join(s.split())"
   ]
  },
  {
   "cell_type": "code",
   "execution_count": 214,
   "metadata": {},
   "outputs": [
    {
     "name": "stdout",
     "output_type": "stream",
     "text": [
      "제 이름은 kanggyeongmo이고, 나이는 26 입니다.\n"
     ]
    }
   ],
   "source": [
    "name = 'kanggyeongmo'\n",
    "age = 26\n",
    "s = 90\n",
    "\n",
    "print('제 이름은 {}이고, 나이는 {} 입니다.'.format(name, age))"
   ]
  },
  {
   "cell_type": "code",
   "execution_count": 216,
   "metadata": {},
   "outputs": [
    {
     "name": "stdout",
     "output_type": "stream",
     "text": [
      "제 이름은 90이고, 나이는 kanggyeongmo 입니다.\n"
     ]
    }
   ],
   "source": [
    "name = 'kanggyeongmo'\n",
    "age = 26\n",
    "s = 90\n",
    "\n",
    "print('제 이름은 {2}이고, 나이는 {0} 입니다.'.format(name, age, s))\n"
   ]
  },
  {
   "cell_type": "code",
   "execution_count": 219,
   "metadata": {},
   "outputs": [
    {
     "name": "stdout",
     "output_type": "stream",
     "text": [
      "제이름은 kanggyeongmo이고, 나이는 26 입니다.\n"
     ]
    }
   ],
   "source": [
    "name = 'kanggyeongmo'\n",
    "age = 26\n",
    "\n",
    "print(f'제이름은 {name}이고, 나이는 {age} 입니다.')"
   ]
  },
  {
   "cell_type": "code",
   "execution_count": 220,
   "metadata": {},
   "outputs": [
    {
     "data": {
      "text/plain": [
       "True"
      ]
     },
     "execution_count": 220,
     "metadata": {},
     "output_type": "execute_result"
    }
   ],
   "source": [
    "'''여기서 al은 알파벳, num은 숫자인데 알파벳이 영어만 가르키는게 아니고 한글이나 일본어, 중국어 등도 True로 나타낸다.'''\n",
    "'abcd1234'.isalnum() # 출력: True\n",
    "'안녕하세요'.isalnum() # 출력: True\n",
    "'こんにちは'.isalnum() # 출력: True\n",
    "'你好'.isalnum() # 출력: True"
   ]
  },
  {
   "cell_type": "code",
   "execution_count": 222,
   "metadata": {},
   "outputs": [
    {
     "data": {
      "text/plain": [
       "True"
      ]
     },
     "execution_count": 222,
     "metadata": {},
     "output_type": "execute_result"
    }
   ],
   "source": [
    "'''digit는 숫자로 문자열에 숫자로만 이루어져 있는지 확인한다.'''\n",
    "s = '123'\n",
    "s.isdigit() # 문자열이 숫자로만 이루어져 있는지 확인하는 method"
   ]
  },
  {
   "cell_type": "code",
   "execution_count": 223,
   "metadata": {},
   "outputs": [
    {
     "name": "stdout",
     "output_type": "stream",
     "text": [
      "False\n",
      "True\n",
      "True\n",
      "True\n"
     ]
    }
   ],
   "source": [
    "'''문자열이 알파벳으로만 이루어져 있는지 확인하는데 위에 alnum과는 다르게 숫자가 있으면 False다. 그리고 한글이나 일본어, 중국어 등도 True로 나타낸다.'''\n",
    "print('abcd1234'.isalpha()) # 출력: False\n",
    "print('안녕하세요'.isalpha()) # 출력: True\n",
    "print('こんにちは'.isalpha()) # 출력: True\n",
    "print('你好'.isalpha()) # 출력: True"
   ]
  },
  {
   "cell_type": "code",
   "execution_count": 225,
   "metadata": {},
   "outputs": [
    {
     "name": "stdout",
     "output_type": "stream",
     "text": [
      "False\n",
      "True\n",
      "True\n",
      "True\n"
     ]
    }
   ],
   "source": [
    "'''아스키 코드로 이루어져있는지 확인'''\n",
    "print('안녕'.isascii()) # 출력: False\n",
    "print('!@ ()+'.isascii()) # 출력: True\n",
    "print('hello'.isascii()) # 출력: True\n",
    "print('hello world'.isascii()) # 출력: True"
   ]
  },
  {
   "cell_type": "code",
   "execution_count": 227,
   "metadata": {},
   "outputs": [
    {
     "data": {
      "text/plain": [
       "'Python----'"
      ]
     },
     "execution_count": 227,
     "metadata": {},
     "output_type": "execute_result"
    }
   ],
   "source": [
    "s = 'Python'\n",
    "s.ljust(10, '-') #문자열을 지정한 길이로 맞추고, 오른쪽을 '-'로 채우는 method"
   ]
  },
  {
   "cell_type": "code",
   "execution_count": 233,
   "metadata": {},
   "outputs": [
    {
     "data": {
      "text/plain": [
       "'--Python--'"
      ]
     },
     "execution_count": 233,
     "metadata": {},
     "output_type": "execute_result"
    }
   ],
   "source": [
    "'''문자열을 10글자로 하는데 10글자로 채울 때 s는 가운데에 배치시키고 나머지 10글자를 만들기위해 '-'를 출력한다.'''\n",
    "s.center(10,'-')"
   ]
  },
  {
   "cell_type": "code",
   "execution_count": 241,
   "metadata": {},
   "outputs": [
    {
     "data": {
      "text/plain": [
       "'0000Python'"
      ]
     },
     "execution_count": 241,
     "metadata": {},
     "output_type": "execute_result"
    }
   ],
   "source": [
    "s.zfill(10)"
   ]
  },
  {
   "cell_type": "code",
   "execution_count": 246,
   "metadata": {},
   "outputs": [
    {
     "name": "stdout",
     "output_type": "stream",
     "text": [
      "0000Python.png\n"
     ]
    }
   ],
   "source": [
    "result = 'Python'.zfill(10) + '.png'\n",
    "print(result)"
   ]
  },
  {
   "cell_type": "code",
   "execution_count": 277,
   "metadata": {},
   "outputs": [
    {
     "name": "stdout",
     "output_type": "stream",
     "text": [
      "23/9/10\n",
      "23/09/10\n"
     ]
    }
   ],
   "source": [
    "년 = '23'\n",
    "월 = '9'\n",
    "일 = '10'\n",
    "\n",
    "오늘날짜 = f'{년}/{월}/{일}'\n",
    "print(오늘날짜)\n",
    "오늘날짜 = f'{년}년/{월.zfill(2)}월/{일.zfill(2)}일'\n",
    "print(오늘날짜)"
   ]
  },
  {
   "cell_type": "code",
   "execution_count": 266,
   "metadata": {},
   "outputs": [
    {
     "data": {
      "text/plain": [
       "'HellH WHrld'"
      ]
     },
     "execution_count": 266,
     "metadata": {},
     "output_type": "execute_result"
    }
   ],
   "source": [
    "'''변경하는 문자와 변경할려는 문자의 길이가 같아아함!'''\n",
    "table = str.maketrans('o', 'H')\n",
    "'Hello World'.translate(table)"
   ]
  },
  {
   "cell_type": "code",
   "execution_count": 276,
   "metadata": {},
   "outputs": [
    {
     "data": {
      "text/plain": [
       "'wenivCEO111licat'"
      ]
     },
     "execution_count": 276,
     "metadata": {},
     "output_type": "execute_result"
    }
   ],
   "source": [
    "table = str.maketrans('\\t', '1','\\n')\n",
    "'weniv\\n\\n\\nCEO\\t\\t\\tlicat'.translate(table)"
   ]
  },
  {
   "cell_type": "code",
   "execution_count": 281,
   "metadata": {},
   "outputs": [
    {
     "data": {
      "text/plain": [
       "50447"
      ]
     },
     "execution_count": 281,
     "metadata": {},
     "output_type": "execute_result"
    }
   ],
   "source": [
    "s = str(list(range(36712)))\n",
    "s.count('3') + s.count('6') + s.count('9')"
   ]
  },
  {
   "cell_type": "code",
   "execution_count": 283,
   "metadata": {},
   "outputs": [
    {
     "name": "stdout",
     "output_type": "stream",
     "text": [
      "junnn\n"
     ]
    }
   ],
   "source": [
    "'''문제1 문자열 s에 마지막에 있는 문자열을 2번 더 붙이는 코드를 작성해주세요.\n",
    "예) s = 'jun'\n",
    "정답) s = 'junnn' '''\n",
    "s = 'jun'\n",
    "a = s[-1]\n",
    "print(s + a * 2)\n"
   ]
  },
  {
   "cell_type": "code",
   "execution_count": 284,
   "metadata": {},
   "outputs": [
    {
     "data": {
      "text/plain": [
       "'jun'"
      ]
     },
     "execution_count": 284,
     "metadata": {},
     "output_type": "execute_result"
    }
   ],
   "source": [
    "'''문제2 대문자는 소문자로 치환하는 코드를 작성해주세요.\n",
    "예)  s = 'Jun'\n",
    "정답) s = 'jun' '''\n",
    "s = 'Jun'\n",
    "s.lower()"
   ]
  },
  {
   "cell_type": "code",
   "execution_count": 288,
   "metadata": {},
   "outputs": [
    {
     "data": {
      "text/plain": [
       "'hlloworl'"
      ]
     },
     "execution_count": 288,
     "metadata": {},
     "output_type": "execute_result"
    }
   ],
   "source": [
    "'''문제3 'abcde', 숫자, 대쉬(-), 언더스코어(_)를 모두 제거해주세요.\n",
    "얘) s = 'hello_world123'\n",
    "정답 s = 'hlloworl' \n",
    "'''\n",
    "s = 'hello_world123'\n",
    "a = str.maketrans('', '', 'abcde1234567890-_')\n",
    "s.translate(a)"
   ]
  }
 ],
 "metadata": {
  "kernelspec": {
   "display_name": "Python 3",
   "language": "python",
   "name": "python3"
  },
  "language_info": {
   "codemirror_mode": {
    "name": "ipython",
    "version": 3
   },
   "file_extension": ".py",
   "mimetype": "text/x-python",
   "name": "python",
   "nbconvert_exporter": "python",
   "pygments_lexer": "ipython3",
   "version": "3.11.5"
  },
  "orig_nbformat": 4
 },
 "nbformat": 4,
 "nbformat_minor": 2
}
