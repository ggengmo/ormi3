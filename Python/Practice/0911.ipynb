{
 "cells": [
  {
   "cell_type": "code",
   "execution_count": 1,
   "metadata": {},
   "outputs": [
    {
     "data": {
      "text/plain": [
       "'메서드 채이닝(Method Chaining)'"
      ]
     },
     "execution_count": 1,
     "metadata": {},
     "output_type": "execute_result"
    }
   ],
   "source": [
    "'''메서드 채이닝(Method Chaining)'''"
   ]
  },
  {
   "cell_type": "code",
   "execution_count": 2,
   "metadata": {},
   "outputs": [
    {
     "name": "stdout",
     "output_type": "stream",
     "text": [
      "hello, python!\n"
     ]
    }
   ],
   "source": [
    "sentense = '  Hello, World!  '\n",
    "result = sentense.strip().lower().replace('world', 'python')\n",
    "# 1번스텝 : sentense.strip() == 'Hello, World!'\n",
    "# 2번스텝 : 'Hello, World!'.lower == 'hello, world!'\n",
    "# 3번스텝 : 'hello, world!'.replace('world', 'python') == 'hello, python!'\n",
    "print(result)"
   ]
  },
  {
   "cell_type": "code",
   "execution_count": 4,
   "metadata": {},
   "outputs": [
    {
     "data": {
      "text/plain": [
       "'helloworld'"
      ]
     },
     "execution_count": 4,
     "metadata": {},
     "output_type": "execute_result"
    }
   ],
   "source": [
    "'   ,!!  hello world   '.replace(' ', '').replace(',', '').replace('!', '')\n",
    "# 1번스텝 : '   ,!!  hello world   '.replace(' ', '') == ',!!helloworld'\n",
    "# 2번스텝 : ',!!helloworld'.replace(',', '') == '!!helloworld'\n",
    "# 3번스텝 : '!!helloworld'.replace('!', '') == 'helloworld'"
   ]
  },
  {
   "cell_type": "code",
   "execution_count": 6,
   "metadata": {},
   "outputs": [
    {
     "name": "stdout",
     "output_type": "stream",
     "text": [
      "hello, python!\n"
     ]
    }
   ],
   "source": [
    "'''백슬레쉬 (/)를 사용하여 개행을 할 수 있다.'''\n",
    "sentense = '  Hello, World!  '\n",
    "result = sentense\\\n",
    ".strip()\\\n",
    ".lower()\\\n",
    ".replace('world', 'python')\n",
    "print(result)\n",
    "\n",
    "# 개행을 사용하는 이유는 코드의 가독성?을 위해서다."
   ]
  },
  {
   "cell_type": "code",
   "execution_count": 8,
   "metadata": {},
   "outputs": [
    {
     "data": {
      "text/plain": [
       "'형변환'"
      ]
     },
     "execution_count": 8,
     "metadata": {},
     "output_type": "execute_result"
    }
   ],
   "source": [
    "'''형변환'''"
   ]
  },
  {
   "cell_type": "code",
   "execution_count": 9,
   "metadata": {},
   "outputs": [
    {
     "name": "stdout",
     "output_type": "stream",
     "text": [
      "12000000\n"
     ]
    }
   ],
   "source": [
    "월급 = input('월급을 입력하세요:')\n",
    "연봉 = int(월급) * 12 #str인 월급을 int로 변환하여 * 12 가 가능한것임!\n",
    "print(연봉)"
   ]
  },
  {
   "cell_type": "code",
   "execution_count": 17,
   "metadata": {},
   "outputs": [
    {
     "name": "stdout",
     "output_type": "stream",
     "text": [
      "<class 'str'>\n",
      "123 <class 'int'>\n"
     ]
    }
   ],
   "source": [
    "num = '123'\n",
    "print(int(num), type(int(num))) # str타입인 '123'을 int로 변환!"
   ]
  },
  {
   "cell_type": "code",
   "execution_count": 18,
   "metadata": {},
   "outputs": [
    {
     "name": "stdout",
     "output_type": "stream",
     "text": [
      "<class 'str'>\n",
      "<class 'str'>\n"
     ]
    }
   ],
   "source": [
    "s = 'hello'\n",
    "print(type(s))\n",
    "\n",
    "#s = int(s) # error 문자열은 int로 변환 X\n",
    "print(type(s))"
   ]
  },
  {
   "cell_type": "code",
   "execution_count": 20,
   "metadata": {},
   "outputs": [
    {
     "name": "stdout",
     "output_type": "stream",
     "text": [
      "3 <class 'int'>\n"
     ]
    }
   ],
   "source": [
    "f = 3.14159\n",
    "print(int(f), type(int(f)))  # float를 int로 변환!"
   ]
  },
  {
   "cell_type": "code",
   "execution_count": 21,
   "metadata": {},
   "outputs": [
    {
     "name": "stdout",
     "output_type": "stream",
     "text": [
      "1\n",
      "0\n"
     ]
    }
   ],
   "source": [
    "true_int = int(True)  # bool을 int로 변환하여 True == 1, False == 0 인것을 볼 수 있음!\n",
    "false_int = int(False)\n",
    "\n",
    "print(true_int)  # 출력: 1\n",
    "print(false_int)  # 출력: 0"
   ]
  },
  {
   "cell_type": "code",
   "execution_count": 22,
   "metadata": {},
   "outputs": [
    {
     "name": "stdout",
     "output_type": "stream",
     "text": [
      "<class 'int'>\n",
      "<class 'int'>\n",
      "<class 'str'>\n",
      "<class 'str'>\n"
     ]
    }
   ],
   "source": [
    "n = 123\n",
    "print(type(n))\n",
    "\n",
    "m = 123.4\n",
    "print(type(n))\n",
    "\n",
    "n = str(n)\n",
    "print(type(n))\n",
    "\n",
    "m = str(m)\n",
    "print(type(m))"
   ]
  },
  {
   "cell_type": "code",
   "execution_count": 23,
   "metadata": {},
   "outputs": [
    {
     "name": "stdout",
     "output_type": "stream",
     "text": [
      "bool('test'): True\n",
      "bool(' '): True\n",
      "bool(''): False\n",
      "bool(100): True\n",
      "bool(1): True\n",
      "bool(0): False\n",
      "bool(-1): True\n",
      "bool(None): False\n",
      "bool([]): False\n",
      "bool(tuple()): False\n",
      "bool({}): False\n",
      "bool(set()): False\n"
     ]
    }
   ],
   "source": [
    "'''bool형으로 형변환'''\n",
    "print(\"bool('test'):\", bool('test'))\n",
    "print(\"bool(' '):\", bool(' '))\n",
    "print(\"bool(''):\", bool(''))\n",
    "print(\"bool(100):\", bool(100))\n",
    "print(\"bool(1):\", bool(1))\n",
    "print(\"bool(0):\", bool(0))\n",
    "print(\"bool(-1):\", bool(-1))\n",
    "print(\"bool(None):\", bool(None))\n",
    "print(\"bool([]):\", bool([]))\n",
    "print(\"bool(tuple()):\", bool(tuple()))\n",
    "print(\"bool({}):\", bool({}))\n",
    "print(\"bool(set()):\", bool(set()))"
   ]
  },
  {
   "cell_type": "code",
   "execution_count": 25,
   "metadata": {},
   "outputs": [
    {
     "name": "stdout",
     "output_type": "stream",
     "text": [
      "10.0\n",
      "10.0\n",
      "<class 'str'>\n",
      "3.14\n"
     ]
    }
   ],
   "source": [
    "'''float형으로 형변환'''\n",
    "s = 10\n",
    "print(float(s))\n",
    "\n",
    "s = '10'\n",
    "print(float(s))\n",
    "\n",
    "s = '3.14'\n",
    "print(float(s))\n"
   ]
  },
  {
   "cell_type": "code",
   "execution_count": 26,
   "metadata": {},
   "outputs": [],
   "source": [
    "'''특수 float 형변환'''\n",
    "infinity = float('inf')\n",
    "neg_infinity = float('-inf')"
   ]
  },
  {
   "cell_type": "code",
   "execution_count": 31,
   "metadata": {},
   "outputs": [
    {
     "data": {
      "text/plain": [
       "10.0"
      ]
     },
     "execution_count": 31,
     "metadata": {},
     "output_type": "execute_result"
    }
   ],
   "source": [
    "10 / 1 # 정수와 실수의 나눗셈은 같은 경우 항상 float로 반환!"
   ]
  },
  {
   "cell_type": "code",
   "execution_count": 33,
   "metadata": {},
   "outputs": [
    {
     "name": "stdout",
     "output_type": "stream",
     "text": [
      "['1', '0']\n",
      "['l', 'i', 'c', 'a', 't']\n"
     ]
    }
   ],
   "source": [
    "'''list형으로 형변환'''\n",
    "s = '10'\n",
    "print(list(s))\n",
    "\n",
    "name = 'licat'\n",
    "print(list(name))\n",
    "# 정수형은 list로 변환 X!"
   ]
  },
  {
   "cell_type": "code",
   "execution_count": 34,
   "metadata": {},
   "outputs": [
    {
     "data": {
      "text/plain": [
       "{'name': 'licat', 'age': 10}"
      ]
     },
     "execution_count": 34,
     "metadata": {},
     "output_type": "execute_result"
    }
   ],
   "source": [
    "data = [('name','licat'),('age',10)]\n",
    "d = dict(data)\n",
    "d"
   ]
  },
  {
   "cell_type": "code",
   "execution_count": 36,
   "metadata": {},
   "outputs": [
    {
     "name": "stdout",
     "output_type": "stream",
     "text": [
      "{'O', 'w', 'E', 'c', 'v', 'l', 'e', 't', 'a', 'C', ' ', 'i', 'n'}\n",
      "13\n",
      "15\n"
     ]
    }
   ],
   "source": [
    "s = 'weniv CEO licat'\n",
    "print(set(s)) #중복을 허락하지 않고 순서가 없습니다.\n",
    "print(len(set(s))) #중복을 제거한 상태로의 길이를 알려줍니다.\n",
    "print(len(s))"
   ]
  },
  {
   "cell_type": "code",
   "execution_count": 37,
   "metadata": {},
   "outputs": [
    {
     "data": {
      "text/plain": [
       "'산술연산'"
      ]
     },
     "execution_count": 37,
     "metadata": {},
     "output_type": "execute_result"
    }
   ],
   "source": [
    "'''산술연산'''"
   ]
  },
  {
   "cell_type": "code",
   "execution_count": 39,
   "metadata": {},
   "outputs": [
    {
     "name": "stdout",
     "output_type": "stream",
     "text": [
      "8\n"
     ]
    }
   ],
   "source": [
    "result = 5 + 3\n",
    "print(result)"
   ]
  },
  {
   "cell_type": "code",
   "execution_count": 42,
   "metadata": {},
   "outputs": [
    {
     "name": "stdout",
     "output_type": "stream",
     "text": [
      "Hello World\n"
     ]
    }
   ],
   "source": [
    "s1 = \"Hello\"\n",
    "s2 = \"World\"\n",
    "result = s1 + \" \" + s2\n",
    "print(result)  # Hello World"
   ]
  },
  {
   "cell_type": "code",
   "execution_count": 44,
   "metadata": {},
   "outputs": [
    {
     "name": "stdout",
     "output_type": "stream",
     "text": [
      "[1, 2, 3, 1, 2, 3]\n"
     ]
    }
   ],
   "source": [
    "# 리스트의 곱셈\n",
    "result = [1, 2, 3] * 2\n",
    "print(result) # 출력: [1, 2, 3, 1, 2, 3]"
   ]
  },
  {
   "cell_type": "code",
   "execution_count": 50,
   "metadata": {},
   "outputs": [
    {
     "name": "stdout",
     "output_type": "stream",
     "text": [
      "5.0\n",
      "5\n"
     ]
    },
    {
     "data": {
      "text/plain": [
       "(float, int)"
      ]
     },
     "execution_count": 50,
     "metadata": {},
     "output_type": "execute_result"
    }
   ],
   "source": [
    "a = 10\n",
    "b = 2\n",
    "c = a / b\n",
    "d = a // b\n",
    "print(a / b) # 결과 5.0\n",
    "print(a // b) # 결과 5\n",
    "\n",
    "type(c), type(d)"
   ]
  },
  {
   "cell_type": "code",
   "execution_count": 52,
   "metadata": {},
   "outputs": [
    {
     "name": "stdout",
     "output_type": "stream",
     "text": [
      "-2.5\n",
      "-3\n"
     ]
    }
   ],
   "source": [
    "a = -5\n",
    "b = 2\n",
    "print(a / b) # 결과: -2.5\n",
    "print(a // b) # 결과: -3 # //는 반내림이라? 생각하면된다!"
   ]
  },
  {
   "cell_type": "code",
   "execution_count": 53,
   "metadata": {},
   "outputs": [
    {
     "name": "stdout",
     "output_type": "stream",
     "text": [
      "10 ÷ 3 = 3.33\n"
     ]
    }
   ],
   "source": [
    "# float 형으로 반환할 떄 아래처럼 소숫점 2번째 자리까지 출력하는 구문을 자주 사용!\n",
    "a = 10\n",
    "b = 3\n",
    "divide = a / b\n",
    "print(f'{a} ÷ {b} = {divide:.2f}')  # 결과: 10 ÷ 3 = 3.33   2f에서 2의 숫자를 바꾸면 소숫점이 늘어나거나 줄어든다!"
   ]
  },
  {
   "cell_type": "code",
   "execution_count": 56,
   "metadata": {},
   "outputs": [
    {
     "data": {
      "text/plain": [
       "True"
      ]
     },
     "execution_count": 56,
     "metadata": {},
     "output_type": "execute_result"
    }
   ],
   "source": [
    "10 % 2 == 0 # 홀수, 짝수 판별\n",
    "365 % 10 == 0 # 1의 자리 반환 # False\n",
    "365 % 10 == 5 # True"
   ]
  },
  {
   "cell_type": "code",
   "execution_count": 59,
   "metadata": {},
   "outputs": [
    {
     "data": {
      "text/plain": [
       "1"
      ]
     },
     "execution_count": 59,
     "metadata": {},
     "output_type": "execute_result"
    }
   ],
   "source": [
    "10 % 3.3 # 결과: 0.10000000000000053"
   ]
  },
  {
   "cell_type": "code",
   "execution_count": 61,
   "metadata": {},
   "outputs": [
    {
     "data": {
      "text/plain": [
       "0.07"
      ]
     },
     "execution_count": 61,
     "metadata": {},
     "output_type": "execute_result"
    }
   ],
   "source": [
    "(1000 % 331) / 100"
   ]
  },
  {
   "cell_type": "code",
   "execution_count": 63,
   "metadata": {},
   "outputs": [
    {
     "data": {
      "text/plain": [
       "'비교연산자'"
      ]
     },
     "execution_count": 63,
     "metadata": {},
     "output_type": "execute_result"
    }
   ],
   "source": [
    "'''비교연산자'''"
   ]
  },
  {
   "cell_type": "code",
   "execution_count": 64,
   "metadata": {},
   "outputs": [
    {
     "name": "stdout",
     "output_type": "stream",
     "text": [
      "True\n",
      "True\n",
      "True\n",
      "True\n",
      "True\n",
      "True\n"
     ]
    }
   ],
   "source": [
    "print(5 == 5) # 결과: True\n",
    "print(5 != 3) # 결과: True\n",
    "print(3 < 5) # 결과: True\n",
    "print(5 <= 5) # 결과: True\n",
    "print(6 > 5)  # 결과: True\n",
    "print(5 >= 5) # 결과: True"
   ]
  },
  {
   "cell_type": "code",
   "execution_count": 65,
   "metadata": {},
   "outputs": [
    {
     "name": "stdout",
     "output_type": "stream",
     "text": [
      "True\n"
     ]
    }
   ],
   "source": [
    "print('apple' < 'banana') # 결과: True, 맨 앞글자인 a 와 b 를 아스키코드로 비교한다."
   ]
  },
  {
   "cell_type": "code",
   "execution_count": 66,
   "metadata": {},
   "outputs": [
    {
     "name": "stdout",
     "output_type": "stream",
     "text": [
      "True\n"
     ]
    }
   ],
   "source": [
    "print('apple' < 'applee') # 결과: True, 앞 글자가 같으면 앞에서부터 그 뒤로 비교하면서 비교한다. 즉, 문자열이 더 길어서 True다."
   ]
  },
  {
   "cell_type": "code",
   "execution_count": 67,
   "metadata": {},
   "outputs": [
    {
     "name": "stdout",
     "output_type": "stream",
     "text": [
      "True\n",
      "False\n"
     ]
    }
   ],
   "source": [
    "print([10, 20, 30, 35] < [10, 20, 30, 40]) # True\n",
    "print([10, 20, 35] < [10, 20, 30, 40]) #False\n",
    "# 문자열이 더 길더라도 앞에서 부터 10, 20을 비교하다가 35와 30에서 35가 더크니 False"
   ]
  },
  {
   "cell_type": "code",
   "execution_count": 68,
   "metadata": {},
   "outputs": [
    {
     "name": "stdout",
     "output_type": "stream",
     "text": [
      "True\n"
     ]
    }
   ],
   "source": [
    "x = 10\n",
    "print(5 < x < 15) # 결과: True"
   ]
  },
  {
   "cell_type": "code",
   "execution_count": 69,
   "metadata": {},
   "outputs": [
    {
     "name": "stdout",
     "output_type": "stream",
     "text": [
      "False\n"
     ]
    }
   ],
   "source": [
    "x = 20\n",
    "print(5 < x < 11) # 결과: False"
   ]
  },
  {
   "cell_type": "code",
   "execution_count": 73,
   "metadata": {},
   "outputs": [
    {
     "name": "stdout",
     "output_type": "stream",
     "text": [
      "False\n",
      "True\n",
      "True\n",
      "True\n"
     ]
    }
   ],
   "source": [
    "'''논리연산자'''\n",
    "# and(곱), or(합), not(부정)\n",
    "x = True # 1\n",
    "y = False # 0\n",
    "\n",
    "print(True and False) # False\n",
    "print(True and True) # True\n",
    "print(True or False) # True\n",
    "print(True or True) # True"
   ]
  },
  {
   "cell_type": "code",
   "execution_count": 74,
   "metadata": {},
   "outputs": [
    {
     "name": "stdout",
     "output_type": "stream",
     "text": [
      "5\n",
      "10\n",
      "20\n",
      "25\n",
      "35\n",
      "40\n",
      "50\n",
      "55\n",
      "65\n",
      "70\n",
      "80\n",
      "85\n",
      "95\n",
      "100\n"
     ]
    }
   ],
   "source": [
    "for i in range(101):\n",
    "  if i % 3 and i % 5 == 0:\n",
    "    print(i)"
   ]
  },
  {
   "cell_type": "code",
   "execution_count": 75,
   "metadata": {},
   "outputs": [
    {
     "name": "stdout",
     "output_type": "stream",
     "text": [
      "0\n",
      "15\n",
      "30\n",
      "45\n",
      "60\n",
      "75\n",
      "90\n",
      "5\n",
      "10\n",
      "20\n",
      "25\n",
      "35\n",
      "40\n",
      "50\n",
      "55\n",
      "65\n",
      "70\n",
      "80\n",
      "85\n",
      "95\n",
      "100\n"
     ]
    }
   ],
   "source": [
    "for i in range(101):\n",
    "    if i % 3 == 0:\n",
    "        if i % 5 == 0:\n",
    "            print(i)\n",
    "\n",
    "for i in range(101):\n",
    "    if i % 3 and i % 5 == 0:\n",
    "        print(i)"
   ]
  },
  {
   "cell_type": "code",
   "execution_count": null,
   "metadata": {},
   "outputs": [],
   "source": []
  },
  {
   "cell_type": "code",
   "execution_count": 71,
   "metadata": {},
   "outputs": [
    {
     "name": "stdout",
     "output_type": "stream",
     "text": [
      "True\n",
      "True\n",
      "True\n",
      "False\n"
     ]
    }
   ],
   "source": [
    "print(True or True)   # 결과: True\n",
    "print(True or False)  # 결과: True\n",
    "print(False or True)  # 결과: True\n",
    "print(False or False) # 결과: False"
   ]
  },
  {
   "cell_type": "code",
   "execution_count": 72,
   "metadata": {},
   "outputs": [
    {
     "name": "stdout",
     "output_type": "stream",
     "text": [
      "False\n",
      "True\n"
     ]
    }
   ],
   "source": [
    "print(not True)  # 결과: False\n",
    "print(not False) # 결과: True"
   ]
  },
  {
   "cell_type": "code",
   "execution_count": 76,
   "metadata": {},
   "outputs": [
    {
     "data": {
      "text/plain": [
       "False"
      ]
     },
     "execution_count": 76,
     "metadata": {},
     "output_type": "execute_result"
    }
   ],
   "source": [
    "a = True\n",
    "b = False\n",
    "\n",
    "a and b and ccc and ddd   #이미 and b 에서 False가 나오니 그 뒤에 ccc, ddd 아무거나 와도 False다!"
   ]
  },
  {
   "cell_type": "code",
   "execution_count": 77,
   "metadata": {},
   "outputs": [
    {
     "data": {
      "text/plain": [
       "True"
      ]
     },
     "execution_count": 77,
     "metadata": {},
     "output_type": "execute_result"
    }
   ],
   "source": [
    "a = True\n",
    "b = False\n",
    "c = False\n",
    "\n",
    "a or b and c"
   ]
  },
  {
   "cell_type": "code",
   "execution_count": 78,
   "metadata": {},
   "outputs": [
    {
     "data": {
      "text/plain": [
       "False"
      ]
     },
     "execution_count": 78,
     "metadata": {},
     "output_type": "execute_result"
    }
   ],
   "source": [
    "a = True\n",
    "b = False\n",
    "c = False\n",
    "d = True\n",
    "\n",
    "a and b or c and d"
   ]
  },
  {
   "cell_type": "code",
   "execution_count": 79,
   "metadata": {},
   "outputs": [
    {
     "data": {
      "text/plain": [
       "True"
      ]
     },
     "execution_count": 79,
     "metadata": {},
     "output_type": "execute_result"
    }
   ],
   "source": [
    "a = True\n",
    "b = False\n",
    "c = False\n",
    "d = True\n",
    "\n",
    "a and not b or c and d # ((a and (not b)) or (c and d))"
   ]
  },
  {
   "cell_type": "code",
   "execution_count": 80,
   "metadata": {},
   "outputs": [
    {
     "data": {
      "text/plain": [
       "'hello'"
      ]
     },
     "execution_count": 80,
     "metadata": {},
     "output_type": "execute_result"
    }
   ],
   "source": [
    "a = 'hello'\n",
    "b = 'world'\n",
    "\n",
    "a or b"
   ]
  },
  {
   "cell_type": "code",
   "execution_count": 81,
   "metadata": {},
   "outputs": [
    {
     "data": {
      "text/plain": [
       "'world'"
      ]
     },
     "execution_count": 81,
     "metadata": {},
     "output_type": "execute_result"
    }
   ],
   "source": [
    "a = ''\n",
    "b = 'world'\n",
    "\n",
    "a or b"
   ]
  },
  {
   "cell_type": "code",
   "execution_count": 82,
   "metadata": {},
   "outputs": [
    {
     "data": {
      "text/plain": [
       "'이름을 정하지 않았습니다.'"
      ]
     },
     "execution_count": 82,
     "metadata": {},
     "output_type": "execute_result"
    }
   ],
   "source": [
    "username = ''\n",
    "\n",
    "username = username or '이름을 정하지 않았습니다.'\n",
    "username\n",
    "# ''과 이름을 정하지 않았습니다 라는 값이 있으니 이름을 정하지 않았습니다가 나온다."
   ]
  },
  {
   "cell_type": "code",
   "execution_count": 83,
   "metadata": {},
   "outputs": [
    {
     "data": {
      "text/plain": [
       "'licat'"
      ]
     },
     "execution_count": 83,
     "metadata": {},
     "output_type": "execute_result"
    }
   ],
   "source": [
    "username = 'licat'\n",
    "\n",
    "username = username or '이름을 정하지 않았습니다.'\n",
    "username\n",
    "# licat과 이름을 정하지 않았습니다 라는 값이 있지만 licat이 먼저 있으니 licat"
   ]
  },
  {
   "cell_type": "code",
   "execution_count": 84,
   "metadata": {},
   "outputs": [
    {
     "name": "stdout",
     "output_type": "stream",
     "text": [
      "numA: 30\n",
      "numB: 20\n"
     ]
    }
   ],
   "source": [
    "#'연산자' + '='\n",
    "numA = 10\n",
    "numB = 20\n",
    "\n",
    "numA += numB\n",
    "\n",
    "print(\"numA:\", numA) # numA와 numB가 더해져서 numA는 30이 됩니다.\n",
    "print(\"numB:\", numB) # numB는 변화가 없습니다."
   ]
  },
  {
   "cell_type": "code",
   "execution_count": 88,
   "metadata": {},
   "outputs": [
    {
     "data": {
      "text/plain": [
       "False"
      ]
     },
     "execution_count": 88,
     "metadata": {},
     "output_type": "execute_result"
    }
   ],
   "source": [
    "a = 10000\n",
    "b = 10000\n",
    "\n",
    "a is b # 메모리 값이 다르기 때문에 False, True로 할려면 is not"
   ]
  },
  {
   "cell_type": "code",
   "execution_count": 86,
   "metadata": {},
   "outputs": [
    {
     "data": {
      "text/plain": [
       "(2591967566096, 2591967566032)"
      ]
     },
     "execution_count": 86,
     "metadata": {},
     "output_type": "execute_result"
    }
   ],
   "source": [
    "id(a), id(b)"
   ]
  },
  {
   "cell_type": "code",
   "execution_count": 91,
   "metadata": {},
   "outputs": [
    {
     "data": {
      "text/plain": [
       "False"
      ]
     },
     "execution_count": 91,
     "metadata": {},
     "output_type": "execute_result"
    }
   ],
   "source": [
    "a = [1, 2, 3]\n",
    "b = [1, 2, 3]\n",
    "\n",
    "a is b\n",
    "\n",
    "#id(a), id(b)"
   ]
  },
  {
   "cell_type": "code",
   "execution_count": 92,
   "metadata": {},
   "outputs": [
    {
     "name": "stdout",
     "output_type": "stream",
     "text": [
      "a == b True\n",
      "a == c True\n",
      "a is b False\n",
      "a is c True\n"
     ]
    }
   ],
   "source": [
    "a = [1, 2, 3]\n",
    "b = [1, 2, 3]\n",
    "c = a\n",
    "\n",
    "print('a == b', a == b)\n",
    "print('a == c', a == c)\n",
    "print('a is b', a is b)\n",
    "print('a is c', a is c)"
   ]
  },
  {
   "cell_type": "code",
   "execution_count": 94,
   "metadata": {},
   "outputs": [
    {
     "data": {
      "text/plain": [
       "123"
      ]
     },
     "execution_count": 94,
     "metadata": {},
     "output_type": "execute_result"
    }
   ],
   "source": [
    "_ = 123\n",
    "_"
   ]
  },
  {
   "cell_type": "code",
   "execution_count": 96,
   "metadata": {},
   "outputs": [
    {
     "data": {
      "text/plain": [
       "'abcabc'"
      ]
     },
     "execution_count": 96,
     "metadata": {},
     "output_type": "execute_result"
    }
   ],
   "source": [
    "#문자를 사용자에게 입력받고, 그 문자를 2번 출력하는 프로그램을 만들어주세요. 예를 들어 ‘abc’를 입력받는다면 ‘abcabc’를 출력해야 합니다.\n",
    "user_input = input()\n",
    "user_input * 2\n"
   ]
  },
  {
   "cell_type": "code",
   "execution_count": 102,
   "metadata": {},
   "outputs": [
    {
     "name": "stdout",
     "output_type": "stream",
     "text": [
      "10\n"
     ]
    }
   ],
   "source": [
    "n = 1234567890123123123\n",
    "len(set(str(n)))\n",
    "\n",
    "print(len(set(str(n))))"
   ]
  },
  {
   "cell_type": "code",
   "execution_count": 104,
   "metadata": {},
   "outputs": [
    {
     "name": "stdout",
     "output_type": "stream",
     "text": [
      "junnn\n"
     ]
    }
   ],
   "source": [
    "s = 'jun'\n",
    "# 출력값: 'junnn'\n",
    "s = s + s[-1] * 2\n",
    "print(s)"
   ]
  },
  {
   "cell_type": "code",
   "execution_count": 107,
   "metadata": {},
   "outputs": [
    {
     "data": {
      "text/plain": [
       "'hlloworl'"
      ]
     },
     "execution_count": 107,
     "metadata": {},
     "output_type": "execute_result"
    }
   ],
   "source": [
    "# 'abcde', 숫자, 대쉬(-), 언더스코어(_)를 모두 제거해주세요. 문자열에 translate를 사용해주세요.\n",
    "s = 'hello_world123'\n",
    "# 출력값: 'hlloworl'\n",
    "table = str.maketrans('','', 'abcde123-_')\n",
    "s.translate(table)"
   ]
  },
  {
   "cell_type": "code",
   "execution_count": 123,
   "metadata": {},
   "outputs": [
    {
     "data": {
      "text/plain": [
       "'jpeg'"
      ]
     },
     "execution_count": 123,
     "metadata": {},
     "output_type": "execute_result"
    }
   ],
   "source": [
    "# 확장자를 출력해주는 코드를 작성해주세요. 확장자는 png, jpeg, mp4 등입니다.\n",
    "s = 'licat.jpeg'\n",
    "# 출력값: 'jpeg'\n",
    "s[::-1].split('.')[0][::-1]\n",
    "\n"
   ]
  },
  {
   "cell_type": "code",
   "execution_count": 127,
   "metadata": {},
   "outputs": [
    {
     "data": {
      "text/plain": [
       "'png'"
      ]
     },
     "execution_count": 127,
     "metadata": {},
     "output_type": "execute_result"
    }
   ],
   "source": [
    "s = 'li.cat.png'\n",
    "s[::-1].split('.')[0][::-1]\n",
    "# 출력값: 'png'"
   ]
  },
  {
   "cell_type": "code",
   "execution_count": null,
   "metadata": {},
   "outputs": [],
   "source": [
    "#1번\n",
    "a = 100\n",
    "(a > 100) and (a < 200) # False\n",
    "(a > 100) or (a < 200) # true\n",
    "(a >= 100) and (a <= 200) # true\n",
    "(a >= 100) or (a <= 200) # true"
   ]
  },
  {
   "cell_type": "code",
   "execution_count": 134,
   "metadata": {},
   "outputs": [
    {
     "data": {
      "text/plain": [
       "False"
      ]
     },
     "execution_count": 134,
     "metadata": {},
     "output_type": "execute_result"
    }
   ],
   "source": [
    "b = 25\n",
    "(b % 2 == 0) and (b % 5 == 0)\n",
    "# 1 and 0 == False"
   ]
  },
  {
   "cell_type": "code",
   "execution_count": 138,
   "metadata": {},
   "outputs": [
    {
     "name": "stdout",
     "output_type": "stream",
     "text": [
      "10\n"
     ]
    }
   ],
   "source": [
    "# 변수 c 안에 들어있는 가격을 100원짜리 몇개로 거슬러 줄 수 있는지 출력해주세요\n",
    "c = 1000\n",
    "# 결과값은 10입니다.\n",
    "print(c // 100)"
   ]
  },
  {
   "cell_type": "code",
   "execution_count": 143,
   "metadata": {},
   "outputs": [
    {
     "name": "stdout",
     "output_type": "stream",
     "text": [
      "1000원 지폐 개수: 5\n",
      "500원 동전 개수: 0\n",
      "100원 동전 개수: 0\n"
     ]
    }
   ],
   "source": [
    "#(심화문제) 입력한 금액을 5000원, 1000원, 500원, 100원으로 교환하는 프로그램을 만들어주세요.\n",
    "money = int(input())\n",
    "\n",
    "n_5000 = money // 5000\n",
    "money = money - n_5000 * 5000\n",
    "\n",
    "n_1000 = money // 1000\n",
    "money = money - n_1000 * 1000\n",
    "\n",
    "n_500 = money // 500\n",
    "money = money - n_500 * 500\n",
    "\n",
    "n_100 = money // 100\n",
    "money = money - n_100 * 100\n",
    "\n",
    "print('5000원 지폐 개수:', n_5000)\n",
    "print('1000원 지폐 개수:', n_1000)\n",
    "print('500원 동전 개수:', n_500)\n",
    "print('100원 지폐 개수:', n_100)"
   ]
  }
 ],
 "metadata": {
  "kernelspec": {
   "display_name": "Python 3",
   "language": "python",
   "name": "python3"
  },
  "language_info": {
   "codemirror_mode": {
    "name": "ipython",
    "version": 3
   },
   "file_extension": ".py",
   "mimetype": "text/x-python",
   "name": "python",
   "nbconvert_exporter": "python",
   "pygments_lexer": "ipython3",
   "version": "3.11.5"
  },
  "orig_nbformat": 4
 },
 "nbformat": 4,
 "nbformat_minor": 2
}
