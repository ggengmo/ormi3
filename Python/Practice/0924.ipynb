{
 "cells": [
  {
   "cell_type": "markdown",
   "metadata": {},
   "source": [
    "# 연산과 구문"
   ]
  },
  {
   "cell_type": "code",
   "execution_count": 77,
   "metadata": {},
   "outputs": [
    {
     "data": {
      "text/plain": [
       "True"
      ]
     },
     "execution_count": 77,
     "metadata": {},
     "output_type": "execute_result"
    }
   ],
   "source": [
    "#1번\n",
    "a = 100\n",
    "(a > 100) and (a < 200) # False\n",
    "(a > 100) or (a < 200) # Ture\n",
    "(a >= 100) and (a <= 200) # True\n",
    "(a >= 100) or (a <= 200) # True"
   ]
  },
  {
   "cell_type": "code",
   "execution_count": 78,
   "metadata": {},
   "outputs": [
    {
     "data": {
      "text/plain": [
       "False"
      ]
     },
     "execution_count": 78,
     "metadata": {},
     "output_type": "execute_result"
    }
   ],
   "source": [
    "b = 25\n",
    "(b % 2 == 0) and (b % 5 == 0) # False"
   ]
  },
  {
   "cell_type": "code",
   "execution_count": 82,
   "metadata": {},
   "outputs": [
    {
     "data": {
      "text/plain": [
       "10"
      ]
     },
     "execution_count": 82,
     "metadata": {},
     "output_type": "execute_result"
    }
   ],
   "source": [
    "c = 1000\n",
    "\n",
    "c // 100\n",
    "# 결과값은 10입니다."
   ]
  },
  {
   "cell_type": "code",
   "execution_count": 85,
   "metadata": {},
   "outputs": [
    {
     "name": "stdout",
     "output_type": "stream",
     "text": [
      "5000원 지폐 개수: 1\n",
      "1000원 지폐 개수: 0\n",
      "500원 동전 개수: 0\n",
      "100원 동전 개수: 0\n"
     ]
    }
   ],
   "source": [
    "# 입력한 금액을 5000원, 1000원, 500원, 100원으로 교환하는 프로그램을 만들어주세요.\n",
    "money = int(input())\n",
    "\n",
    "num_5000 = money // 5000\n",
    "money = money - num_5000 * 5000\n",
    "\n",
    "# 1000원 지폐 개수 계산\n",
    "num_1000 = money // 1000\n",
    "money = money - num_1000 * 1000\n",
    "\n",
    "# 500원 동전 개수 계산\n",
    "num_500 = money // 500\n",
    "money = money - num_500 * 500\n",
    "\n",
    "# 100원 동전 개수 계산\n",
    "num_100 = money // 100\n",
    "\n",
    "print(\"5000원 지폐 개수:\", num_5000)\n",
    "print(\"1000원 지폐 개수:\", num_1000)\n",
    "print(\"500원 동전 개수:\", num_500)\n",
    "print(\"100원 동전 개수:\", num_100)"
   ]
  },
  {
   "cell_type": "markdown",
   "metadata": {},
   "source": [
    "# 리스트, 튜플, 딕셔너리, 셋"
   ]
  },
  {
   "cell_type": "code",
   "execution_count": 1,
   "metadata": {},
   "outputs": [],
   "source": [
    "student_score = {\n",
    "\t\t'홍의': 97,\n",
    "\t\t'원희': 60,\n",
    "\t\t'동해': 77,\n",
    "\t\t'변수': 79,\n",
    "\t\t'창현': 89,\n",
    "}"
   ]
  },
  {
   "cell_type": "code",
   "execution_count": 5,
   "metadata": {},
   "outputs": [
    {
     "data": {
      "text/plain": [
       "402"
      ]
     },
     "execution_count": 5,
     "metadata": {},
     "output_type": "execute_result"
    }
   ],
   "source": [
    "sum(student_score.values())"
   ]
  },
  {
   "cell_type": "code",
   "execution_count": 10,
   "metadata": {},
   "outputs": [
    {
     "data": {
      "text/plain": [
       "80.4"
      ]
     },
     "execution_count": 10,
     "metadata": {},
     "output_type": "execute_result"
    }
   ],
   "source": [
    "sum(student_score.values()) / len(student_score.values())"
   ]
  },
  {
   "cell_type": "code",
   "execution_count": 16,
   "metadata": {},
   "outputs": [
    {
     "data": {
      "text/plain": [
       "('홍의', 97)"
      ]
     },
     "execution_count": 16,
     "metadata": {},
     "output_type": "execute_result"
    }
   ],
   "source": [
    "max(student_score.items())"
   ]
  },
  {
   "cell_type": "code",
   "execution_count": 18,
   "metadata": {},
   "outputs": [
    {
     "data": {
      "text/plain": [
       "('동해', 77)"
      ]
     },
     "execution_count": 18,
     "metadata": {},
     "output_type": "execute_result"
    }
   ],
   "source": [
    "min(student_score.items())"
   ]
  },
  {
   "cell_type": "code",
   "execution_count": 19,
   "metadata": {},
   "outputs": [],
   "source": [
    "like = ['볶음밥', '라면', '국수', '파스타', '치킨', '짜장면', '국밥']\n",
    "dislike = ['국밥', '짬뽕', '찜닭', '파스타', '국수', '카레', '덮밥']"
   ]
  },
  {
   "cell_type": "code",
   "execution_count": 21,
   "metadata": {},
   "outputs": [
    {
     "name": "stdout",
     "output_type": "stream",
     "text": [
      "['볶음밥', '라면', '치킨', '짜장면']\n"
     ]
    }
   ],
   "source": [
    "menu = []\n",
    "\n",
    "for i in like:\n",
    "    if i not in dislike:\n",
    "        menu.append(i)\n",
    "print(menu)"
   ]
  },
  {
   "cell_type": "code",
   "execution_count": 29,
   "metadata": {},
   "outputs": [
    {
     "data": {
      "text/plain": [
       "{'이름': '철수', '수학': 94, '과학': 67}"
      ]
     },
     "execution_count": 29,
     "metadata": {},
     "output_type": "execute_result"
    }
   ],
   "source": [
    "data = [{\"이름\": \"길동\", \"수학\": 3, \"과학\": 93}, {\"이름\": \"춘향\", \"수학\": 33, \"과학\": 11}, {\"이름\": \"철수\", \"수학\": 94, \"과학\": 67}]\n",
    "\n",
    "max(data, key= lambda x: x['수학'] + x['과학'])"
   ]
  },
  {
   "cell_type": "code",
   "execution_count": 32,
   "metadata": {},
   "outputs": [
    {
     "data": {
      "text/plain": [
       "{'Tom': 92, 'Jerry': 100, 'Mickey': 75}"
      ]
     },
     "execution_count": 32,
     "metadata": {},
     "output_type": "execute_result"
    }
   ],
   "source": [
    "grades = {\"Tom\": 87, \"Jerry\": 95, \"Mickey\": 70}\n",
    "{name : score + 5 for name, score in grades.items()}"
   ]
  },
  {
   "cell_type": "code",
   "execution_count": 38,
   "metadata": {},
   "outputs": [
    {
     "data": {
      "text/plain": [
       "'apple'"
      ]
     },
     "execution_count": 38,
     "metadata": {},
     "output_type": "execute_result"
    }
   ],
   "source": [
    "s = \"apple banana apple cherry banana cherry apple\"\n",
    "l = s.split()\n",
    "max(set(l), key= l.count)"
   ]
  },
  {
   "cell_type": "code",
   "execution_count": 65,
   "metadata": {},
   "outputs": [
    {
     "data": {
      "text/plain": [
       "75.0"
      ]
     },
     "execution_count": 65,
     "metadata": {},
     "output_type": "execute_result"
    }
   ],
   "source": [
    "국영수 = {'국어': 97, '영어': 38, '수학': 90}\n",
    "# 문제1: 다음 국영수 dict에 점수에 평균을 구하는 코드를 작성하시오.\n",
    "sum(국영수.values()) / len(국영수.values())"
   ]
  },
  {
   "cell_type": "code",
   "execution_count": 66,
   "metadata": {},
   "outputs": [
    {
     "data": {
      "text/plain": [
       "73.0"
      ]
     },
     "execution_count": 66,
     "metadata": {},
     "output_type": "execute_result"
    }
   ],
   "source": [
    "# 문제2: {'사회':70, '과학':85}가 추가되었습니다. dict에 평균을 구하는 코드를 작성하시오.\n",
    "국영수.update({'사회': 70})\n",
    "국영수.update({'과학': 70})\n",
    "sum(국영수.values()) / len(국영수.values())"
   ]
  },
  {
   "cell_type": "code",
   "execution_count": 69,
   "metadata": {},
   "outputs": [],
   "source": [
    "# 문제3: 영어와 수학점수가 각각 10점씩 올랐습니다. 점수를 10점 추가하는 코드를 작성하시오.\n",
    "국영수['영어'] += 10\n",
    "국영수['수학'] += 10"
   ]
  },
  {
   "cell_type": "code",
   "execution_count": 72,
   "metadata": {},
   "outputs": [
    {
     "data": {
      "text/plain": [
       "100"
      ]
     },
     "execution_count": 72,
     "metadata": {},
     "output_type": "execute_result"
    }
   ],
   "source": [
    "# 문제4: 최종 점수에서 가장 높은 점수를 출력하는 코드를 작성하시오.\n",
    "max(국영수.values())"
   ]
  },
  {
   "cell_type": "code",
   "execution_count": 76,
   "metadata": {},
   "outputs": [
    {
     "data": {
      "text/plain": [
       "'수학'"
      ]
     },
     "execution_count": 76,
     "metadata": {},
     "output_type": "execute_result"
    }
   ],
   "source": [
    "# 문제5: 가장 높은 점수에 과목을 출력해주세요.\n",
    "max(국영수, key=국영수.get)"
   ]
  },
  {
   "cell_type": "markdown",
   "metadata": {},
   "source": [
    "# 함수"
   ]
  },
  {
   "cell_type": "code",
   "execution_count": 86,
   "metadata": {},
   "outputs": [
    {
     "name": "stdout",
     "output_type": "stream",
     "text": [
      "I\n",
      "love\n",
      "python\n"
     ]
    }
   ],
   "source": [
    "a = 'pithon'\n",
    "\n",
    "def 함수1():\n",
    "    def 함수2():\n",
    "        print('love')\n",
    "        \n",
    "    print('I')\n",
    "    함수2()\n",
    "    return \"python\"\n",
    "\t\n",
    "\n",
    "a = 함수1()\n",
    "print(a)\n",
    "\n"
   ]
  },
  {
   "cell_type": "code",
   "execution_count": 87,
   "metadata": {},
   "outputs": [
    {
     "name": "stdout",
     "output_type": "stream",
     "text": [
      "plus : 15\n",
      "minus : 5\n",
      "multiply : 50\n",
      "divide : 2.0\n"
     ]
    }
   ],
   "source": [
    "def plus(num1, num2):\n",
    "    return num1 + num2\n",
    "\n",
    "def minus(num1, num2):\n",
    "\treturn num1 - num2\n",
    "\n",
    "def multiply(num1, num2):\n",
    "\treturn num1 * num2\n",
    "\n",
    "def divide(num1, num2):\n",
    "\treturn num1 / num2\n",
    "\n",
    "print(f'plus : {plus(10, 5)}')\n",
    "print(f'minus : {minus(10, 5)}')\n",
    "print(f'multiply : {multiply(10, 5)}')\n",
    "print(f'divide : {divide(10, 5)}')"
   ]
  },
  {
   "cell_type": "code",
   "execution_count": 112,
   "metadata": {},
   "outputs": [
    {
     "data": {
      "text/plain": [
       "-5"
      ]
     },
     "execution_count": 112,
     "metadata": {},
     "output_type": "execute_result"
    }
   ],
   "source": [
    "a = 2\n",
    "b = 3\n",
    "\n",
    "def multiple (x=0, y=0):\n",
    "    return x * y\n",
    "\n",
    "def plus (x=0, y=0):\n",
    "    return x + y\n",
    "\n",
    "def minus (x=0, y=0):\n",
    "    return x - y\n",
    "\n",
    "multiple(plus(a,b), minus(a,b))"
   ]
  },
  {
   "cell_type": "code",
   "execution_count": 116,
   "metadata": {},
   "outputs": [
    {
     "data": {
      "text/plain": [
       "25"
      ]
     },
     "execution_count": 116,
     "metadata": {},
     "output_type": "execute_result"
    }
   ],
   "source": [
    "#x의 n제곱을 구하는 함수를 만들어주세요. 재귀함수를 이용하여 만들어야하며, x은 0이 아닙니다. (x, n > 1)\n",
    "def power(x, n):\n",
    "    if n == 0:\n",
    "        return 1\n",
    "    else:\n",
    "        return x * power(x, n-1)\n",
    "    \n",
    "\n",
    "power(5, 2)\n"
   ]
  },
  {
   "cell_type": "code",
   "execution_count": 131,
   "metadata": {},
   "outputs": [
    {
     "data": {
      "text/plain": [
       "'licat'"
      ]
     },
     "execution_count": 131,
     "metadata": {},
     "output_type": "execute_result"
    }
   ],
   "source": [
    "data = [['weniv CTO binky', 2], ['weniv CEO licat', 1], ['weniv COO mura', 2]]\n",
    "s = sorted(data, key=lambda x: x[1])[0][0]\n",
    "s[s.find('licat'):]"
   ]
  },
  {
   "cell_type": "code",
   "execution_count": 134,
   "metadata": {},
   "outputs": [
    {
     "name": "stdout",
     "output_type": "stream",
     "text": [
      "[3, 5, 7, 9]\n"
     ]
    }
   ],
   "source": [
    "numbers = [2, 3, 4, 5, 6, 7, 8, 9, 10]\n",
    "\n",
    "numbers = list(filter(lambda x: x % 2 != 0, numbers))\n",
    "\n",
    "print(numbers)  # 결과: [3, 5, 7, 9]"
   ]
  },
  {
   "cell_type": "code",
   "execution_count": 135,
   "metadata": {},
   "outputs": [],
   "source": [
    "# 연습문제 1. 고등어 가게에서 고등어가 팔리고 있는 상황을 파이썬 프로그램으로 작성하려고 합니다. 아래의 코드를 완성하여, 5마리의 고등어부터 1마리의 고등어까지 재고를 표시하고, 마지막에는 ‘고등어 다 팔렸습니다.’라는 메시지가 출력되도록 하세요."
   ]
  },
  {
   "cell_type": "code",
   "execution_count": 138,
   "metadata": {},
   "outputs": [
    {
     "name": "stdout",
     "output_type": "stream",
     "text": [
      "고등어가  5 마리 남았습니다.\n",
      "고등어가  4 마리 남았습니다.\n",
      "고등어가  3 마리 남았습니다.\n",
      "고등어가  2 마리 남았습니다.\n",
      "고등어가  1 마리 남았습니다.\n",
      "고등어가 다 팔렸습니다.\n"
     ]
    }
   ],
   "source": [
    "for i in range(5, 0, -1):\n",
    "    print('고등어가 ', i, '마리 남았습니다.')\n",
    "else:\n",
    "    print('고등어가 다 팔렸습니다.')"
   ]
  },
  {
   "cell_type": "code",
   "execution_count": 140,
   "metadata": {},
   "outputs": [
    {
     "name": "stdout",
     "output_type": "stream",
     "text": [
      "고등어가  5 마리 남았습니다.\n",
      "고등어가  4 마리 남았습니다.\n",
      "고등어가  3 마리 남았습니다.\n",
      "고등어가  2 마리 남았습니다.\n",
      "고등어가  1 마리 남았습니다.\n"
     ]
    }
   ],
   "source": [
    "for i in range(5, 0, -1):\n",
    "    if i > 0:\n",
    "        print('고등어가 ', i, '마리 남았습니다.')\n",
    "    else:\n",
    "        print('고등어가 다 팔렸습니다.')"
   ]
  },
  {
   "cell_type": "code",
   "execution_count": 142,
   "metadata": {},
   "outputs": [],
   "source": [
    "data = [\n",
    "    {\n",
    "    \"_id\": \"6019fd4354979ca26b8f91dc\",\n",
    "    \"age\": 26,\n",
    "    \"eyeColor\": \"green\",\n",
    "    \"name\": \"Bender Allen\",\n",
    "    \"gender\": \"male\"\n",
    "    },\n",
    "    {\n",
    "    \"_id\": \"6019fd43db2951868889a0b4\",\n",
    "    \"age\": 27,\n",
    "    \"eyeColor\": \"blue\",\n",
    "    \"name\": \"Jacobs Golden\",\n",
    "    \"gender\": \"male\"\n",
    "    },\n",
    "    {\n",
    "    \"_id\": \"6019fd438c0bf8e775c28536\",\n",
    "    \"age\": 27,\n",
    "    \"eyeColor\": \"brown\",\n",
    "    \"name\": \"Grimes Oneal\",\n",
    "    \"gender\": \"male\"\n",
    "    },\n",
    "    {\n",
    "    \"_id\": \"6019fd43b68a7fd8b081ab26\",\n",
    "    \"age\": 40,\n",
    "    \"eyeColor\": \"blue\",\n",
    "    \"name\": \"Melissa Joyce\",\n",
    "    \"gender\": \"female\"\n",
    "    },\n",
    "    {\n",
    "    \"_id\": \"6019fd436c1edc4757aabb9d\",\n",
    "    \"age\": 32,\n",
    "    \"eyeColor\": \"blue\",\n",
    "    \"name\": \"Malone Bush\",\n",
    "    \"gender\": \"male\"\n",
    "    },\n",
    "    {\n",
    "    \"_id\": \"6019fd438eaf753918f55226\",\n",
    "    \"age\": 34,\n",
    "    \"eyeColor\": \"green\",\n",
    "    \"name\": \"Davenport Hyde\",\n",
    "    \"gender\": \"male\"\n",
    "    },\n",
    "    {\n",
    "    \"_id\": \"6019fd43c35929ff95004109\",\n",
    "    \"age\": 20,\n",
    "    \"eyeColor\": \"blue\",\n",
    "    \"name\": \"Shauna Blevins\",\n",
    "    \"gender\": \"female\"\n",
    "}\n",
    "]"
   ]
  },
  {
   "cell_type": "code",
   "execution_count": 168,
   "metadata": {},
   "outputs": [
    {
     "name": "stdout",
     "output_type": "stream",
     "text": [
      " 29.43\n"
     ]
    }
   ],
   "source": [
    "ages = [i['age'] for i in data]\n",
    "s = sum(ages) / len(ages)\n",
    "print(f'{s: .2f}')"
   ]
  },
  {
   "cell_type": "code",
   "execution_count": 174,
   "metadata": {},
   "outputs": [
    {
     "name": "stdout",
     "output_type": "stream",
     "text": [
      "5 : 2\n"
     ]
    }
   ],
   "source": [
    "male = 0\n",
    "female = 0\n",
    "for i in data:\n",
    "    if i['gender'] == 'male':\n",
    "        male += 1\n",
    "    else:\n",
    "        female += 1\n",
    "print(male, ':', female)"
   ]
  },
  {
   "cell_type": "code",
   "execution_count": 175,
   "metadata": {},
   "outputs": [],
   "source": [
    "data = [\n",
    "    {\n",
    "    \"_id\": \"fd7e9a0f-e77b-436a-B781-119b66033d49\",\n",
    "    \"index\": \"1\",\n",
    "    \"name\": \"나주헌\",\n",
    "    \"gender\": \"여성\",\n",
    "    \"age\": \"43\"\n",
    "    },\n",
    "    {\n",
    "    \"_id\": \"8ec6eabb-160a-41e4-A3de-cd33aff0b281\",\n",
    "    \"index\": \"2\",\n",
    "    \"name\": \"엄루다\",\n",
    "    \"gender\": \"남성\",\n",
    "    \"age\": \"22\"\n",
    "    },\n",
    "    {\n",
    "    \"_id\": \"bcf804f7-0452-4c31-B9d1-20cc2d38490b\",\n",
    "    \"index\": \"3\",\n",
    "    \"name\": \"형유환\",\n",
    "    \"gender\": \"남성\",\n",
    "    \"age\": \"31\"\n",
    "    }\n",
    "]"
   ]
  },
  {
   "cell_type": "code",
   "execution_count": 190,
   "metadata": {},
   "outputs": [
    {
     "data": {
      "text/plain": [
       "'43'"
      ]
     },
     "execution_count": 190,
     "metadata": {},
     "output_type": "execute_result"
    }
   ],
   "source": [
    "class User:\n",
    "\n",
    "    def __init__(self, data):\n",
    "        self._id = data['_id']\n",
    "        self.index = data['index']\n",
    "        self.name = data['name']\n",
    "        self.gender = data['gender']\n",
    "        self.age = data['age']\n",
    "user_1 = User(data[0])\n",
    "user_2 = User(data[1])\n",
    "user_3 = User(data[2])\n",
    "\n",
    "user_list = [user_1, user_2, user_3]\n",
    "user_list[0].age"
   ]
  },
  {
   "cell_type": "code",
   "execution_count": 191,
   "metadata": {},
   "outputs": [],
   "source": [
    "# BankAccount 클래스를 생성하세요. 이 클래스는 owner(계좌주 이름), balance(잔액) 속성을 가져야 합니다. 이 클래스는 deposit(amount) (입금) 및 withdraw(amount) (출금) 메서드를 가져야 합니다. 단, 출금 시 잔액보다 큰 금액을 출금하려고 하면 \"잔액 부족\" 메시지를 출력해야 합니다."
   ]
  },
  {
   "cell_type": "code",
   "execution_count": 206,
   "metadata": {},
   "outputs": [
    {
     "name": "stdout",
     "output_type": "stream",
     "text": [
      "0원 이하는 출금을 못합니다!\n"
     ]
    },
    {
     "data": {
      "text/plain": [
       "20000"
      ]
     },
     "execution_count": 206,
     "metadata": {},
     "output_type": "execute_result"
    }
   ],
   "source": [
    "class BankAccount:\n",
    "\n",
    "    def __init__(self, owner, balance):\n",
    "        self.owner = owner\n",
    "        self.balance = balance\n",
    "\n",
    "    def deposit(self, amount):\n",
    "        if amount > 0:\n",
    "            self.balance += amount\n",
    "        else:\n",
    "            print('1원 이상을 입금해주세요!')\n",
    "    \n",
    "    def withdraw(self,amount):\n",
    "        if amount > 0 and amount <= self.balance:\n",
    "            self.balance -= amount\n",
    "        elif amount <= 0:\n",
    "            print('0원 이하는 출금을 못합니다!')\n",
    "        else:\n",
    "            print('잔액부족!')\n",
    "\n",
    "account = BankAccount('강경모', 0)\n",
    "\n",
    "account.deposit(50000)\n",
    "account.balance\n",
    "account.withdraw(30000)\n",
    "account.balance\n",
    "account.withdraw(0)\n",
    "account.balance"
   ]
  },
  {
   "cell_type": "code",
   "execution_count": 207,
   "metadata": {},
   "outputs": [],
   "source": [
    "class Person:\n",
    "\t\t\n",
    "\t\tdef work(self):\n",
    "\t\t\t\tprint('열심히 일하자')\n",
    "\n",
    "\n",
    "class Cook(Person):\n",
    "\n",
    "\t\tdef __init__(self, menu):\n",
    "\t\t\t\tself.menu = menu\n",
    "\t\t\t\tprint('주방장이 될꺼야!')\n",
    "\t\t\n",
    "\t\tdef work(self):\n",
    "\t\t\t\tprint(f'{self.menu}를 만들자')\n",
    "\n",
    "\n",
    "class Developer(Person):\n",
    "\t\t\n",
    "\t\tdef __init__(self, language):\n",
    "\t\t\t\tself.language = language\n",
    "\t\t\t\tprint('CTO가 될꺼야!')\n",
    "\n",
    "\t\tdef work(self):\n",
    "\t\t\t\tprint(f'{self.language} 코드를 짜보자')"
   ]
  },
  {
   "cell_type": "code",
   "execution_count": 209,
   "metadata": {},
   "outputs": [
    {
     "name": "stdout",
     "output_type": "stream",
     "text": [
      "주방장이 될꺼야!\n",
      "CTO가 될꺼야!\n"
     ]
    }
   ],
   "source": [
    "person = Person()\n",
    "cook = Cook('피자')\n",
    "developer = Developer('파이썬')\n",
    "\n",
    "# person.work() # 열심히 일하자\n",
    "# cook.work() # 피자를 만들자\n",
    "# developer.work() #파이썬 코드르 짜보자"
   ]
  },
  {
   "cell_type": "code",
   "execution_count": 211,
   "metadata": {},
   "outputs": [
    {
     "name": "stdout",
     "output_type": "stream",
     "text": [
      "CTO가 될꺼야!\n",
      "파이썬 코드를 짜보자\n"
     ]
    }
   ],
   "source": [
    "class MultiPlayer(Developer, Cook):\n",
    "\t\tpass\n",
    "multiPlayer = MultiPlayer('파이썬')\n",
    "multiPlayer.work()"
   ]
  },
  {
   "cell_type": "code",
   "execution_count": 212,
   "metadata": {},
   "outputs": [],
   "source": [
    "list = [['101호', '102호'], ['201호', '202호'], ['301호', '302호']]"
   ]
  },
  {
   "cell_type": "code",
   "execution_count": 213,
   "metadata": {},
   "outputs": [],
   "source": [
    "stock = [['시가', 100, 200, 300], ['종가', 80, 210, 330]]"
   ]
  },
  {
   "cell_type": "code",
   "execution_count": 214,
   "metadata": {},
   "outputs": [],
   "source": [
    "stock = {'시가': [100, 200, 300], '종가': [80, 210, 300]}"
   ]
  },
  {
   "cell_type": "code",
   "execution_count": 215,
   "metadata": {},
   "outputs": [],
   "source": [
    "stock = {'10/10': [80, 110, 70, 90], '10/11': [210, 230, 190, 200]}"
   ]
  },
  {
   "cell_type": "code",
   "execution_count": 223,
   "metadata": {},
   "outputs": [
    {
     "name": "stdout",
     "output_type": "stream",
     "text": [
      "101 호\n",
      "102 호\n",
      "201 호\n",
      "202 호\n",
      "301 호\n",
      "302 호\n"
     ]
    }
   ],
   "source": [
    "apart = [ [101, 102], [201, 202], [301, 302] ]\n",
    "for i in apart:\n",
    "    for l in i:\n",
    "        print(l,'호')"
   ]
  },
  {
   "cell_type": "code",
   "execution_count": 228,
   "metadata": {},
   "outputs": [
    {
     "name": "stdout",
     "output_type": "stream",
     "text": [
      "301 호\n",
      "302 호\n",
      "201 호\n",
      "202 호\n",
      "101 호\n",
      "102 호\n"
     ]
    }
   ],
   "source": [
    "apart = [ [101, 102], [201, 202], [301, 302] ]\n",
    "for i in apart[::-1]:\n",
    "    for l in i:\n",
    "        print(l,'호')"
   ]
  },
  {
   "cell_type": "code",
   "execution_count": 231,
   "metadata": {},
   "outputs": [
    {
     "name": "stdout",
     "output_type": "stream",
     "text": [
      "302 호\n",
      "301 호\n",
      "202 호\n",
      "201 호\n",
      "102 호\n",
      "101 호\n"
     ]
    }
   ],
   "source": [
    "apart = [ [101, 102], [201, 202], [301, 302] ]\n",
    "for i in apart[::-1]:\n",
    "    for l in i[::-1]:\n",
    "        print(l,'호')"
   ]
  },
  {
   "cell_type": "code",
   "execution_count": null,
   "metadata": {},
   "outputs": [],
   "source": [
    "apart = [ [101, 102], [201, 202], [301, 302] ]\n"
   ]
  }
 ],
 "metadata": {
  "kernelspec": {
   "display_name": "main",
   "language": "python",
   "name": "python3"
  },
  "language_info": {
   "codemirror_mode": {
    "name": "ipython",
    "version": 3
   },
   "file_extension": ".py",
   "mimetype": "text/x-python",
   "name": "python",
   "nbconvert_exporter": "python",
   "pygments_lexer": "ipython3",
   "version": "3.11.5"
  },
  "orig_nbformat": 4
 },
 "nbformat": 4,
 "nbformat_minor": 2
}
