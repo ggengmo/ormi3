{
 "cells": [
  {
   "cell_type": "code",
   "execution_count": 2,
   "metadata": {},
   "outputs": [
    {
     "data": {
      "text/plain": [
       "'\\n [\\n  {\\n    \"gender\": \"여성\",\\n    \"age\": \"43\"\\n  },\\n  {\\n    \"gender\": \"남성\",\\n    \"age\": \"22\"\\n  },\\n  {\\n    \"gender\": \"남성\",\\n    \"age\": \"31\"\\n  }\\n]\\n'"
      ]
     },
     "execution_count": 2,
     "metadata": {},
     "output_type": "execute_result"
    }
   ],
   "source": [
    "# 아래 기본 data를 기반으로 문제를 풀어주세요.\n",
    "data = [\n",
    "  {\n",
    "    \"_id\": \"fd7e9a0f-e77b-436a-B781-119b66033d49\",\n",
    "    \"index\": \"1\",\n",
    "    \"name\": \"나주헌\",\n",
    "    \"gender\": \"여성\",\n",
    "    \"age\": \"43\"\n",
    "  },\n",
    "  {\n",
    "    \"_id\": \"8ec6eabb-160a-41e4-A3de-cd33aff0b281\",\n",
    "    \"index\": \"2\",\n",
    "    \"name\": \"엄루다\",\n",
    "    \"gender\": \"남성\",\n",
    "    \"age\": \"22\"\n",
    "  },\n",
    "  {\n",
    "    \"_id\": \"bcf804f7-0452-4c31-B9d1-20cc2d38490b\",\n",
    "    \"index\": \"3\",\n",
    "    \"name\": \"형유환\",\n",
    "    \"gender\": \"남성\",\n",
    "    \"age\": \"31\"\n",
    "  }\n",
    "]\n",
    "# 문제 1 gender, age값을 추출해보세요. 아래 양식처럼 추출하시면 됩니다. 가능하면 map을 사용해주세요.\n",
    "'''\n",
    "    [\n",
    "  {\n",
    "    \"gender\": \"여성\",\n",
    "    \"age\": \"43\"\n",
    "  },\n",
    "  {\n",
    "    \"gender\": \"남성\",\n",
    "    \"age\": \"22\"\n",
    "  },\n",
    "  {\n",
    "    \"gender\": \"남성\",\n",
    "    \"age\": \"31\"\n",
    "  }\n",
    "]\n",
    "'''\n",
    "\n",
    "# 문제 2 User라는 class를 만들어 해당 데이터를 관리해주세요. 아래처럼 저장되어야 합니다. \n",
    "# 다만 꼭 변수 이름이 user_1...user_n 일 필요는 없습니다.\n",
    "# 저장양식: '[user_1, user_2, user_3]'\n",
    "\n",
    "# 문제 3 BankAccount 클래스를 생성하세요. 이 클래스는 owner(계좌주 이름), balance(잔액) 속성을 가져야 합니다.\n",
    "# 이 클래스는 deposit(amount) (입금) 및 withdraw(amount) (출금) 메서드를 가져야 합니다. \n",
    "# 단, 출금 시 잔액보다 큰 금액을 출금하려고 하면 \"잔액 부족\" 메시지를 출력해야 합니다."
   ]
  },
  {
   "cell_type": "code",
   "execution_count": 8,
   "metadata": {},
   "outputs": [
    {
     "name": "stdout",
     "output_type": "stream",
     "text": [
      "[('여성', '43'), ('남성', '22'), ('남성', '31')]\n"
     ]
    }
   ],
   "source": [
    "data = [\n",
    "  {\n",
    "    \"_id\": \"fd7e9a0f-e77b-436a-B781-119b66033d49\",\n",
    "    \"index\": \"1\",\n",
    "    \"name\": \"나주헌\",\n",
    "    \"gender\": \"여성\",\n",
    "    \"age\": \"43\"\n",
    "  },\n",
    "  {\n",
    "    \"_id\": \"8ec6eabb-160a-41e4-A3de-cd33aff0b281\",\n",
    "    \"index\": \"2\",\n",
    "    \"name\": \"엄루다\",\n",
    "    \"gender\": \"남성\",\n",
    "    \"age\": \"22\"\n",
    "  },\n",
    "  {\n",
    "    \"_id\": \"bcf804f7-0452-4c31-B9d1-20cc2d38490b\",\n",
    "    \"index\": \"3\",\n",
    "    \"name\": \"형유환\",\n",
    "    \"gender\": \"남성\",\n",
    "    \"age\": \"31\"\n",
    "  }\n",
    "]\n",
    "# 문제 1 gender, age값을 추출해보세요. 아래 양식처럼 추출하시면 됩니다. 가능하면 map을 사용해주세요.\n",
    "'''\n",
    "    [\n",
    "  {\n",
    "    \"gender\": \"여성\",\n",
    "    \"age\": \"43\"\n",
    "  },\n",
    "  {\n",
    "    \"gender\": \"남성\",\n",
    "    \"age\": \"22\"\n",
    "  },\n",
    "  {\n",
    "    \"gender\": \"남성\",\n",
    "    \"age\": \"31\"\n",
    "  }\n",
    "]\n",
    "'''\n",
    "\n",
    "print(list(map(lambda x: (x['gender'], x['age']), data)))"
   ]
  },
  {
   "cell_type": "code",
   "execution_count": 9,
   "metadata": {},
   "outputs": [
    {
     "data": {
      "text/plain": [
       "'남성'"
      ]
     },
     "execution_count": 9,
     "metadata": {},
     "output_type": "execute_result"
    }
   ],
   "source": [
    "# 문제 2 User라는 class를 만들어 해당 데이터를 관리해주세요. 아래처럼 저장되어야 합니다. \n",
    "# 다만 꼭 변수 이름이 user_1...user_n 일 필요는 없습니다.\n",
    "# 저장양식: '[user_1, user_2, user_3]'\n",
    "\n",
    "# class User:\n",
    "#     def __init__(self, _id, index, name, gender, age):\n",
    "#         self._id = _id\n",
    "#         self.index = index\n",
    "#         self.name = name\n",
    "#         self.gender = gender\n",
    "#         self.age = age\n",
    "\n",
    "#     def __repr__(self):\n",
    "#         return f'user_{self.index}'\n",
    "\n",
    "# users = [User(**x) for x in data]\n",
    "# print(users)\n",
    "# users[0].name\n",
    "\n",
    "class User:\n",
    "  \n",
    "  def __init__(self, _id, index, name, gender, age):\n",
    "    self._id = _id\n",
    "    self.index = index\n",
    "    self.name = name\n",
    "    self.gender = gender\n",
    "    self.age = age\n",
    "\n",
    "user_1 = User(\"fd7e9a0f-e77b-436a-B781-119b66033d49\", \"1\", \"나주헌\", \"여성\", \"43\")\n",
    "user_2 = User(\"8ec6eabb-160a-41e4-A3de-cd33aff0b281\", \"2\", \"엄루다\", \"남성\", \"22\")\n",
    "user_3 = User(\"bcf804f7-0452-4c31-B9d1-20cc2d38490b\", \"3\", \"형유환\", \"남성\", \"31\")\n",
    "\n",
    "user_list = [user_1, user_2, user_3]\n",
    "user_list[1].gender"
   ]
  },
  {
   "cell_type": "code",
   "execution_count": 73,
   "metadata": {},
   "outputs": [
    {
     "name": "stdout",
     "output_type": "stream",
     "text": [
      "20000\n",
      "20100\n",
      "100\n",
      "잔액 부족\n"
     ]
    }
   ],
   "source": [
    "# 문제 3 BankAccount 클래스를 생성하세요. 이 클래스는 owner(계좌주 이름), balance(잔액) 속성을 가져야 합니다.\n",
    "# 이 클래스는 deposit(amount) (입금) 및 withdraw(amount) (출금) 메서드를 가져야 합니다. \n",
    "# 단, 출금 시 잔액보다 큰 금액을 출금하려고 하면 \"잔액 부족\" 메시지를 출력해야 합니다.\n",
    "\n",
    "class BankAccount:\n",
    "  def __init__(self, owner, balance = 0):\n",
    "    self.owner = owner\n",
    "    self.balance = balance\n",
    "\n",
    "  def deposit(self, amount):\n",
    "    if amount > 0:\n",
    "      self.balance += amount\n",
    "    else:\n",
    "      print('금액을 다시 입력해주세요!')\n",
    "\n",
    "  def withdraw(self, amount):\n",
    "    if amount < 0:\n",
    "      print('금액을 다시 입력해주세요!')\n",
    "    else:\n",
    "      if amount <= self.balance:\n",
    "        self.balance -= amount\n",
    "      else:\n",
    "        print('잔액 부족')\n",
    "\n",
    "user = BankAccount('강경모', 20000)\n",
    "print(user.balance)\n",
    "user.deposit(100)\n",
    "print(user.balance)\n",
    "user.withdraw(20000)\n",
    "print(user.balance)\n",
    "user.withdraw(100000)"
   ]
  },
  {
   "cell_type": "code",
   "execution_count": null,
   "metadata": {},
   "outputs": [],
   "source": []
  }
 ],
 "metadata": {
  "kernelspec": {
   "display_name": "Python 3",
   "language": "python",
   "name": "python3"
  },
  "language_info": {
   "codemirror_mode": {
    "name": "ipython",
    "version": 3
   },
   "file_extension": ".py",
   "mimetype": "text/x-python",
   "name": "python",
   "nbconvert_exporter": "python",
   "pygments_lexer": "ipython3",
   "version": "3.11.5"
  },
  "orig_nbformat": 4
 },
 "nbformat": 4,
 "nbformat_minor": 2
}
