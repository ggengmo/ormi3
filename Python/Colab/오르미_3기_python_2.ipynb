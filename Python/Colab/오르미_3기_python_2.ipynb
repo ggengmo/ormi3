{
  "nbformat": 4,
  "nbformat_minor": 0,
  "metadata": {
    "colab": {
      "provenance": []
    },
    "kernelspec": {
      "name": "python3",
      "display_name": "Python 3"
    },
    "language_info": {
      "name": "python"
    }
  },
  "cells": [
    {
      "cell_type": "markdown",
      "source": [
        "# 연산과 구문\n",
        "\n"
      ],
      "metadata": {
        "id": "oe2Nhsv-vu_S"
      }
    },
    {
      "cell_type": "markdown",
      "source": [
        "## 산술연산\n"
      ],
      "metadata": {
        "id": "48ZWYzpGv7n7"
      }
    },
    {
      "cell_type": "code",
      "source": [
        "{'one':1} + {'two':2} # error\n",
        "{5} + {6} # error"
      ],
      "metadata": {
        "id": "z8FB4pOiwBGV"
      },
      "execution_count": null,
      "outputs": []
    },
    {
      "cell_type": "code",
      "source": [
        "7 - 4"
      ],
      "metadata": {
        "id": "ehIP21F6wHkZ",
        "colab": {
          "base_uri": "https://localhost:8080/"
        },
        "outputId": "e10f3927-6263-4685-9f23-1a1fca756b0b"
      },
      "execution_count": null,
      "outputs": [
        {
          "output_type": "execute_result",
          "data": {
            "text/plain": [
              "3"
            ]
          },
          "metadata": {},
          "execution_count": 1
        }
      ]
    },
    {
      "cell_type": "code",
      "source": [
        "7 -- 4"
      ],
      "metadata": {
        "colab": {
          "base_uri": "https://localhost:8080/"
        },
        "id": "athQRITKwvnf",
        "outputId": "2b12b121-3a2a-4ca8-f0a1-28e8a3c5748f"
      },
      "execution_count": null,
      "outputs": [
        {
          "output_type": "execute_result",
          "data": {
            "text/plain": [
              "11"
            ]
          },
          "metadata": {},
          "execution_count": 2
        }
      ]
    },
    {
      "cell_type": "code",
      "source": [
        "7 ---- 4"
      ],
      "metadata": {
        "colab": {
          "base_uri": "https://localhost:8080/"
        },
        "id": "qFpyvvjswwbU",
        "outputId": "d6be08f1-f942-4687-f8d2-8606ab70c618"
      },
      "execution_count": null,
      "outputs": [
        {
          "output_type": "execute_result",
          "data": {
            "text/plain": [
              "11"
            ]
          },
          "metadata": {},
          "execution_count": 3
        }
      ]
    },
    {
      "cell_type": "code",
      "source": [
        "-2 * 2"
      ],
      "metadata": {
        "colab": {
          "base_uri": "https://localhost:8080/"
        },
        "id": "UZpjniS3wyBe",
        "outputId": "bad47a2d-9872-4c44-fe84-c66b71ce3cc8"
      },
      "execution_count": null,
      "outputs": [
        {
          "output_type": "execute_result",
          "data": {
            "text/plain": [
              "-4"
            ]
          },
          "metadata": {},
          "execution_count": 4
        }
      ]
    },
    {
      "cell_type": "code",
      "source": [
        "-2 ** 2 # 주의! 매우 주의!"
      ],
      "metadata": {
        "colab": {
          "base_uri": "https://localhost:8080/"
        },
        "id": "YdHQl-X1wzxy",
        "outputId": "5c2c8635-ba43-4224-9b43-b7ef40f59433"
      },
      "execution_count": null,
      "outputs": [
        {
          "output_type": "execute_result",
          "data": {
            "text/plain": [
              "-4"
            ]
          },
          "metadata": {},
          "execution_count": 5
        }
      ]
    },
    {
      "cell_type": "code",
      "source": [
        "result = \"Ha\" * 3\n",
        "print(result) # 결과: \"HaHaHa\""
      ],
      "metadata": {
        "colab": {
          "base_uri": "https://localhost:8080/"
        },
        "id": "MPGvxaoVw2Yf",
        "outputId": "9c8a7c57-d1e0-4d7c-c5f5-888cf001b3ef"
      },
      "execution_count": null,
      "outputs": [
        {
          "output_type": "stream",
          "name": "stdout",
          "text": [
            "HaHaHa\n"
          ]
        }
      ]
    },
    {
      "cell_type": "code",
      "source": [
        "result = [1, 2, 3] * 2\n",
        "print(result)  # [1, 2, 3, 1, 2, 3]"
      ],
      "metadata": {
        "colab": {
          "base_uri": "https://localhost:8080/"
        },
        "id": "Ow8pvxqCxAte",
        "outputId": "a7589b86-d47e-4541-9dc8-289c7be0422e"
      },
      "execution_count": null,
      "outputs": [
        {
          "output_type": "stream",
          "name": "stdout",
          "text": [
            "[1, 2, 3, 1, 2, 3]\n"
          ]
        }
      ]
    },
    {
      "cell_type": "code",
      "source": [
        "a = 10\n",
        "b = 2\n",
        "print(a / b) # 결과 5.0\n",
        "print(a // b) # 결과 5"
      ],
      "metadata": {
        "colab": {
          "base_uri": "https://localhost:8080/"
        },
        "id": "4sN2sV95xmML",
        "outputId": "f1120906-54e1-46e6-d028-5b60af9ea04e"
      },
      "execution_count": null,
      "outputs": [
        {
          "output_type": "stream",
          "name": "stdout",
          "text": [
            "5.0\n",
            "5\n"
          ]
        }
      ]
    },
    {
      "cell_type": "code",
      "source": [
        "# Python에서 //는 몫이 아님!\n",
        "a = -5\n",
        "b = 2\n",
        "print(a / b) # 결과: -2.5\n",
        "print(a // b) # 결과: -3"
      ],
      "metadata": {
        "colab": {
          "base_uri": "https://localhost:8080/"
        },
        "id": "pOxbM1UKxpZY",
        "outputId": "0822b1fc-1e22-411d-bb4b-94dcc6c84a1f"
      },
      "execution_count": null,
      "outputs": [
        {
          "output_type": "stream",
          "name": "stdout",
          "text": [
            "-2.5\n",
            "-3\n"
          ]
        }
      ]
    },
    {
      "cell_type": "code",
      "source": [
        "#10 / 0 # ZeroDivisionError"
      ],
      "metadata": {
        "id": "Y2sxi-Ilx8nM"
      },
      "execution_count": null,
      "outputs": []
    },
    {
      "cell_type": "code",
      "source": [
        "10.213 // 1"
      ],
      "metadata": {
        "colab": {
          "base_uri": "https://localhost:8080/"
        },
        "id": "3iWJqdBY1AIk",
        "outputId": "0fcd7814-19b3-4489-81e8-6ae2f0c4b339"
      },
      "execution_count": null,
      "outputs": [
        {
          "output_type": "execute_result",
          "data": {
            "text/plain": [
              "10.0"
            ]
          },
          "metadata": {},
          "execution_count": 13
        }
      ]
    },
    {
      "cell_type": "code",
      "source": [
        "- 10.213 // 1"
      ],
      "metadata": {
        "colab": {
          "base_uri": "https://localhost:8080/"
        },
        "id": "3aloFIy-1DHY",
        "outputId": "590ef267-02bb-40a4-958d-1452938a7053"
      },
      "execution_count": null,
      "outputs": [
        {
          "output_type": "execute_result",
          "data": {
            "text/plain": [
              "-11.0"
            ]
          },
          "metadata": {},
          "execution_count": 16
        }
      ]
    },
    {
      "cell_type": "code",
      "source": [
        "a = 10\n",
        "b = 3\n",
        "divide = a / b\n",
        "print(f'{a} ÷ {b} = {divide:.2f}')  # 결과: 10 ÷ 3 = 3.33"
      ],
      "metadata": {
        "colab": {
          "base_uri": "https://localhost:8080/"
        },
        "id": "LQht2BaU1ZI-",
        "outputId": "08e0d0c7-fb0d-42b1-c17d-a50b4f7ed22d"
      },
      "execution_count": null,
      "outputs": [
        {
          "output_type": "stream",
          "name": "stdout",
          "text": [
            "10 ÷ 3 = 3.33\n"
          ]
        }
      ]
    },
    {
      "cell_type": "code",
      "source": [
        "a = 10\n",
        "b = 3\n",
        "divide = a / b\n",
        "print(f'{a} ÷ {b} = {divide:.3f}')  # 결과: 10 ÷ 3 = 3.33"
      ],
      "metadata": {
        "colab": {
          "base_uri": "https://localhost:8080/"
        },
        "id": "uUg_co2v1Zv1",
        "outputId": "4a2cdba4-ee5b-400b-cd02-ada1177a783d"
      },
      "execution_count": null,
      "outputs": [
        {
          "output_type": "stream",
          "name": "stdout",
          "text": [
            "10 ÷ 3 = 3.333\n"
          ]
        }
      ]
    },
    {
      "cell_type": "code",
      "source": [
        "10 % 3.3"
      ],
      "metadata": {
        "colab": {
          "base_uri": "https://localhost:8080/"
        },
        "id": "N8XU-Les1i8G",
        "outputId": "fbb09671-1fdf-4b98-d248-79aed42c4942"
      },
      "execution_count": null,
      "outputs": [
        {
          "output_type": "execute_result",
          "data": {
            "text/plain": [
              "0.10000000000000053"
            ]
          },
          "metadata": {},
          "execution_count": 22
        }
      ]
    },
    {
      "cell_type": "code",
      "source": [
        "(100 % 33) / 10 # 소숫점 1자리까지 출력해야 한다."
      ],
      "metadata": {
        "colab": {
          "base_uri": "https://localhost:8080/"
        },
        "id": "vLxTkH3n1r1i",
        "outputId": "9a38ea41-2d45-4b66-c684-6553099e21b8"
      },
      "execution_count": null,
      "outputs": [
        {
          "output_type": "execute_result",
          "data": {
            "text/plain": [
              "0.1"
            ]
          },
          "metadata": {},
          "execution_count": 25
        }
      ]
    },
    {
      "cell_type": "code",
      "source": [
        "(1000 % 331) / 100 # 소숫점 2자리까지 출력해야 한다."
      ],
      "metadata": {
        "colab": {
          "base_uri": "https://localhost:8080/"
        },
        "id": "CjeMWur312rB",
        "outputId": "11a74c4d-d829-4b11-dead-8ae1b8c68dbf"
      },
      "execution_count": null,
      "outputs": [
        {
          "output_type": "execute_result",
          "data": {
            "text/plain": [
              "0.07"
            ]
          },
          "metadata": {},
          "execution_count": 2
        }
      ]
    },
    {
      "cell_type": "code",
      "source": [
        "a = 10\n",
        "a += 1 #a++ 을 사용하려면\n",
        "a"
      ],
      "metadata": {
        "colab": {
          "base_uri": "https://localhost:8080/"
        },
        "id": "uKLzaqId2BUU",
        "outputId": "9c018881-682c-4988-a37d-6f2703643d60"
      },
      "execution_count": null,
      "outputs": [
        {
          "output_type": "execute_result",
          "data": {
            "text/plain": [
              "11"
            ]
          },
          "metadata": {},
          "execution_count": 32
        }
      ]
    },
    {
      "cell_type": "markdown",
      "source": [
        "## 비교연산"
      ],
      "metadata": {
        "id": "lUw9-Uoj2gmj"
      }
    },
    {
      "cell_type": "code",
      "source": [
        "5 == '5' #False"
      ],
      "metadata": {
        "colab": {
          "base_uri": "https://localhost:8080/"
        },
        "id": "ZOapuTBH2hn2",
        "outputId": "cfd8d682-30ee-4095-8cf3-b01fb328a311"
      },
      "execution_count": null,
      "outputs": [
        {
          "output_type": "execute_result",
          "data": {
            "text/plain": [
              "False"
            ]
          },
          "metadata": {},
          "execution_count": 33
        }
      ]
    },
    {
      "cell_type": "code",
      "source": [
        "print('apple' < 'banana') # 결과: True, 맨 앞글자인 a 와 b 를 아스키코드로 비교한다."
      ],
      "metadata": {
        "id": "_x8kiW3M2_KJ"
      },
      "execution_count": null,
      "outputs": []
    },
    {
      "cell_type": "code",
      "source": [
        "print('apple' < 'applee') # 결과: True, 앞 글자가 같으면 앞에서부터 그 뒤로 비교하면서 비교한다. 즉, 문자열이 더 길어서 True다."
      ],
      "metadata": {
        "colab": {
          "base_uri": "https://localhost:8080/"
        },
        "id": "SlKeQCxh3EY8",
        "outputId": "4e2ca9b8-9b40-4e9d-a30a-bc5d7d0e6bd2"
      },
      "execution_count": null,
      "outputs": [
        {
          "output_type": "stream",
          "name": "stdout",
          "text": [
            "True\n"
          ]
        }
      ]
    },
    {
      "cell_type": "code",
      "source": [
        "print([10, 20, 30, 35] < [10, 20, 30, 50])"
      ],
      "metadata": {
        "colab": {
          "base_uri": "https://localhost:8080/"
        },
        "id": "BV1sVXPl3RFM",
        "outputId": "0d395bf8-3723-4c81-953c-49b894489bc2"
      },
      "execution_count": null,
      "outputs": [
        {
          "output_type": "stream",
          "name": "stdout",
          "text": [
            "True\n"
          ]
        }
      ]
    },
    {
      "cell_type": "code",
      "source": [
        "print([10, 20, 30, 35] < [10, 20, 30, 40])\n",
        "print([10, 20, 35] < [10, 20, 30, 40])\n",
        "# 문자열이 더 길더라도 앞에서 부터 10, 20을 비교하다가 35와 30에서 35가 더크니 False"
      ],
      "metadata": {
        "colab": {
          "base_uri": "https://localhost:8080/"
        },
        "id": "EKkBrsvd3ZbQ",
        "outputId": "a208ec1b-16e5-4b03-82b8-36770990c57a"
      },
      "execution_count": null,
      "outputs": [
        {
          "output_type": "stream",
          "name": "stdout",
          "text": [
            "True\n",
            "False\n"
          ]
        }
      ]
    },
    {
      "cell_type": "code",
      "source": [
        "x = 10\n",
        "print(5 < x < 15) # 결과: True"
      ],
      "metadata": {
        "colab": {
          "base_uri": "https://localhost:8080/"
        },
        "id": "i-x7zr1N3dbS",
        "outputId": "0adf5208-2581-4b93-ec7d-2f00454efd60"
      },
      "execution_count": null,
      "outputs": [
        {
          "output_type": "stream",
          "name": "stdout",
          "text": [
            "True\n"
          ]
        }
      ]
    },
    {
      "cell_type": "code",
      "source": [
        "x = 20\n",
        "print(5 < x < 11) # 결과: False"
      ],
      "metadata": {
        "colab": {
          "base_uri": "https://localhost:8080/"
        },
        "id": "dtNxz79z3_oh",
        "outputId": "17d70cac-169a-4d00-fba7-d063d2b3194b"
      },
      "execution_count": null,
      "outputs": [
        {
          "output_type": "stream",
          "name": "stdout",
          "text": [
            "False\n"
          ]
        }
      ]
    },
    {
      "cell_type": "markdown",
      "source": [
        "## 논리연산"
      ],
      "metadata": {
        "id": "ylRZE17i4bz7"
      }
    },
    {
      "cell_type": "code",
      "source": [
        "# and(곱), or(합), not(부정)\n",
        "x = True # 1\n",
        "y = False # 0\n",
        "\n",
        "print(True and False) # False\n",
        "print(True and True) # True\n",
        "print(True or False) # True\n",
        "print(True or True) # True"
      ],
      "metadata": {
        "colab": {
          "base_uri": "https://localhost:8080/"
        },
        "id": "qfc0xpND4eUn",
        "outputId": "4a51d006-ae13-495a-b927-d1765830a1a2"
      },
      "execution_count": null,
      "outputs": [
        {
          "output_type": "stream",
          "name": "stdout",
          "text": [
            "False\n",
            "True\n"
          ]
        }
      ]
    },
    {
      "cell_type": "code",
      "source": [
        "for i in range(101):\n",
        "    if i % 3 and i % 5 == 0:\n",
        "        print(i)"
      ],
      "metadata": {
        "id": "ZfIXrY2H4pmR"
      },
      "execution_count": null,
      "outputs": []
    },
    {
      "cell_type": "code",
      "source": [
        "for i in range(101):\n",
        "    if i % 3 == 0:\n",
        "        if i % 5 == 0:\n",
        "            print(i)\n",
        "\n",
        "for i in range(101):\n",
        "    if i % 3 and i % 5 == 0:\n",
        "        print(i)"
      ],
      "metadata": {
        "id": "Izh62PnM5RiA"
      },
      "execution_count": null,
      "outputs": []
    },
    {
      "cell_type": "code",
      "source": [
        "for i in range(101):\n",
        "    if i % 3 or i % 5 == 0:\n",
        "        print(i)"
      ],
      "metadata": {
        "id": "pPOJRRc56QcZ"
      },
      "execution_count": null,
      "outputs": []
    },
    {
      "cell_type": "code",
      "source": [
        "print(not True)  # 결과: False\n",
        "print(not False) # 결과: True"
      ],
      "metadata": {
        "colab": {
          "base_uri": "https://localhost:8080/"
        },
        "id": "u8xC8dTG6X-E",
        "outputId": "d4049843-9f3e-4681-fa26-9584387fcf30"
      },
      "execution_count": null,
      "outputs": [
        {
          "output_type": "stream",
          "name": "stdout",
          "text": [
            "False\n",
            "True\n"
          ]
        }
      ]
    },
    {
      "cell_type": "code",
      "source": [
        "# 여기서부터는 나아가기 입니다!\n",
        "a = True\n",
        "b = False\n",
        "\n",
        "a and b and ccc and ddd"
      ],
      "metadata": {
        "colab": {
          "base_uri": "https://localhost:8080/"
        },
        "id": "tn4snoND6bCE",
        "outputId": "cdb2c329-f771-4cf4-b70f-ae3c2391349f"
      },
      "execution_count": null,
      "outputs": [
        {
          "output_type": "execute_result",
          "data": {
            "text/plain": [
              "False"
            ]
          },
          "metadata": {},
          "execution_count": 47
        }
      ]
    },
    {
      "cell_type": "code",
      "source": [
        "a = True\n",
        "b = False\n",
        "\n",
        "a or b or eee or fff"
      ],
      "metadata": {
        "colab": {
          "base_uri": "https://localhost:8080/"
        },
        "id": "TKoraLM9611R",
        "outputId": "829ffd79-b8d1-4daa-bd23-192b5734cb75"
      },
      "execution_count": null,
      "outputs": [
        {
          "output_type": "execute_result",
          "data": {
            "text/plain": [
              "True"
            ]
          },
          "metadata": {},
          "execution_count": 48
        }
      ]
    },
    {
      "cell_type": "code",
      "source": [
        "a = True\n",
        "b = False\n",
        "c = False\n",
        "\n",
        "a or b and c"
      ],
      "metadata": {
        "colab": {
          "base_uri": "https://localhost:8080/"
        },
        "id": "Cpfo4KUg6-rF",
        "outputId": "3a025064-450b-4546-89af-204af4bf6be3"
      },
      "execution_count": null,
      "outputs": [
        {
          "output_type": "execute_result",
          "data": {
            "text/plain": [
              "True"
            ]
          },
          "metadata": {},
          "execution_count": 50
        }
      ]
    },
    {
      "cell_type": "code",
      "source": [
        "a = True\n",
        "b = False\n",
        "c = False\n",
        "d = True\n",
        "\n",
        "a and b or c and d"
      ],
      "metadata": {
        "colab": {
          "base_uri": "https://localhost:8080/"
        },
        "id": "Xe5tihC68Woy",
        "outputId": "ae4cbf17-b8b2-43b8-c0ba-353a4f0a6eff"
      },
      "execution_count": null,
      "outputs": [
        {
          "output_type": "execute_result",
          "data": {
            "text/plain": [
              "False"
            ]
          },
          "metadata": {},
          "execution_count": 52
        }
      ]
    },
    {
      "cell_type": "code",
      "source": [
        "a = True\n",
        "b = False\n",
        "c = False\n",
        "d = True\n",
        "\n",
        "a and not b or c and d # (a and (not b)) or (c and d)"
      ],
      "metadata": {
        "colab": {
          "base_uri": "https://localhost:8080/"
        },
        "id": "pFq3RNG48grV",
        "outputId": "82afa819-359d-4f5f-cc74-57438110b077"
      },
      "execution_count": null,
      "outputs": [
        {
          "output_type": "execute_result",
          "data": {
            "text/plain": [
              "True"
            ]
          },
          "metadata": {},
          "execution_count": 53
        }
      ]
    },
    {
      "cell_type": "code",
      "source": [
        "## 단락회로평가"
      ],
      "metadata": {
        "id": "hBAakILR7KIt"
      },
      "execution_count": null,
      "outputs": []
    },
    {
      "cell_type": "code",
      "source": [
        "a = 'hello'\n",
        "b = ''\n",
        "\n",
        "a or b"
      ],
      "metadata": {
        "colab": {
          "base_uri": "https://localhost:8080/",
          "height": 35
        },
        "id": "NqPVLPPF78Wh",
        "outputId": "b8c641b5-ba4f-4d0e-ac18-4910426ec9d1"
      },
      "execution_count": null,
      "outputs": [
        {
          "output_type": "execute_result",
          "data": {
            "text/plain": [
              "'hello'"
            ],
            "application/vnd.google.colaboratory.intrinsic+json": {
              "type": "string"
            }
          },
          "metadata": {},
          "execution_count": 54
        }
      ]
    },
    {
      "cell_type": "code",
      "source": [
        "a = 'hello'\n",
        "b = 'world'\n",
        "\n",
        "a or b"
      ],
      "metadata": {
        "colab": {
          "base_uri": "https://localhost:8080/",
          "height": 35
        },
        "id": "EuIzwhol9NU1",
        "outputId": "7c1a7b33-f32d-414d-c460-7286939d48f4"
      },
      "execution_count": null,
      "outputs": [
        {
          "output_type": "execute_result",
          "data": {
            "text/plain": [
              "'hello'"
            ],
            "application/vnd.google.colaboratory.intrinsic+json": {
              "type": "string"
            }
          },
          "metadata": {},
          "execution_count": 55
        }
      ]
    },
    {
      "cell_type": "code",
      "source": [
        "a = ''\n",
        "b = 'world'\n",
        "\n",
        "a or b"
      ],
      "metadata": {
        "colab": {
          "base_uri": "https://localhost:8080/",
          "height": 35
        },
        "id": "-h6tpJPp9YW3",
        "outputId": "966e915f-8c84-48f3-d3ad-9e584115f5f0"
      },
      "execution_count": null,
      "outputs": [
        {
          "output_type": "execute_result",
          "data": {
            "text/plain": [
              "'world'"
            ],
            "application/vnd.google.colaboratory.intrinsic+json": {
              "type": "string"
            }
          },
          "metadata": {},
          "execution_count": 56
        }
      ]
    },
    {
      "cell_type": "code",
      "source": [
        "username = ''\n",
        "\n",
        "username = username or '이름을 정하지 않았습니다.'\n",
        "username"
      ],
      "metadata": {
        "colab": {
          "base_uri": "https://localhost:8080/",
          "height": 35
        },
        "id": "LYDtmSU29cTF",
        "outputId": "6f49537c-7d18-43cc-8f80-1452961dd096"
      },
      "execution_count": null,
      "outputs": [
        {
          "output_type": "execute_result",
          "data": {
            "text/plain": [
              "'이름을 정하지 않았습니다.'"
            ],
            "application/vnd.google.colaboratory.intrinsic+json": {
              "type": "string"
            }
          },
          "metadata": {},
          "execution_count": 59
        }
      ]
    },
    {
      "cell_type": "code",
      "source": [
        "username = 'licat'\n",
        "\n",
        "username = username or '이름을 정하지 않았습니다.'\n",
        "username"
      ],
      "metadata": {
        "colab": {
          "base_uri": "https://localhost:8080/",
          "height": 35
        },
        "id": "06y3DDFn9sN3",
        "outputId": "ff6e752d-44f4-4e5e-d45f-3a625b3f174f"
      },
      "execution_count": null,
      "outputs": [
        {
          "output_type": "execute_result",
          "data": {
            "text/plain": [
              "'licat'"
            ],
            "application/vnd.google.colaboratory.intrinsic+json": {
              "type": "string"
            }
          },
          "metadata": {},
          "execution_count": 60
        }
      ]
    },
    {
      "cell_type": "code",
      "source": [
        "#result = functionA() or functionB()\n",
        "# 앞에 값이 None이나 0이 아니라면 뒤에 값으로 result를 만들겠다!"
      ],
      "metadata": {
        "id": "y0i0clLY9588"
      },
      "execution_count": null,
      "outputs": []
    },
    {
      "cell_type": "markdown",
      "source": [
        "## 할당연산"
      ],
      "metadata": {
        "id": "1BIX0ee2-b6v"
      }
    },
    {
      "cell_type": "code",
      "source": [
        "x = 10\n",
        "y = 20"
      ],
      "metadata": {
        "id": "UY54adqm-fu5"
      },
      "execution_count": null,
      "outputs": []
    },
    {
      "cell_type": "code",
      "source": [
        "x = x + 1"
      ],
      "metadata": {
        "id": "VBw01rHK_AGA"
      },
      "execution_count": null,
      "outputs": []
    },
    {
      "cell_type": "code",
      "source": [
        "x += 1\n",
        "x -= 1"
      ],
      "metadata": {
        "colab": {
          "base_uri": "https://localhost:8080/"
        },
        "id": "7BHeVmbQ_DpC",
        "outputId": "b2e02eb3-b2a9-414e-bcfb-221012dbabe9"
      },
      "execution_count": null,
      "outputs": [
        {
          "output_type": "execute_result",
          "data": {
            "text/plain": [
              "12"
            ]
          },
          "metadata": {},
          "execution_count": 63
        }
      ]
    },
    {
      "cell_type": "code",
      "source": [
        "x /= 1\n",
        "x //= 1\n",
        "x **= 1\n",
        "x *= 1\n",
        "x %= 1"
      ],
      "metadata": {
        "id": "QgIo5ymv_PvH"
      },
      "execution_count": null,
      "outputs": []
    },
    {
      "cell_type": "markdown",
      "source": [
        "## id연산자, is연산자, is not연산자"
      ],
      "metadata": {
        "id": "fkqfEJg__tNW"
      }
    },
    {
      "cell_type": "code",
      "source": [
        "a = 10000\n",
        "b = 10000\n",
        "\n",
        "a is b"
      ],
      "metadata": {
        "colab": {
          "base_uri": "https://localhost:8080/"
        },
        "id": "ubWLflIV_b49",
        "outputId": "69ccfa16-0cf6-4c63-9ed2-22ff744811cc"
      },
      "execution_count": null,
      "outputs": [
        {
          "output_type": "execute_result",
          "data": {
            "text/plain": [
              "False"
            ]
          },
          "metadata": {},
          "execution_count": 65
        }
      ]
    },
    {
      "cell_type": "code",
      "source": [
        "id(a), id(b)"
      ],
      "metadata": {
        "colab": {
          "base_uri": "https://localhost:8080/"
        },
        "id": "IQtMgkee_82-",
        "outputId": "8b1dd652-7dc4-4d99-8097-e92136b9d76f"
      },
      "execution_count": null,
      "outputs": [
        {
          "output_type": "execute_result",
          "data": {
            "text/plain": [
              "(132212151837424, 132212151839312)"
            ]
          },
          "metadata": {},
          "execution_count": 66
        }
      ]
    },
    {
      "cell_type": "code",
      "source": [
        "a = [1, 2, 3]\n",
        "b = [1, 2, 3]\n",
        "\n",
        "a is b\n",
        "\n",
        "#id(a), id(b)"
      ],
      "metadata": {
        "colab": {
          "base_uri": "https://localhost:8080/"
        },
        "id": "SAPpCPheABlO",
        "outputId": "b63fb5dc-7074-4728-b01d-bb1cb8c197d1"
      },
      "execution_count": null,
      "outputs": [
        {
          "output_type": "execute_result",
          "data": {
            "text/plain": [
              "False"
            ]
          },
          "metadata": {},
          "execution_count": 73
        }
      ]
    },
    {
      "cell_type": "code",
      "source": [
        "coffee_employee = \"Brand\"\n",
        "orange_employee = \"Brand\"\n",
        "\n",
        "print(coffee_employee is orange_employee)\n",
        "print(coffee_employee == orange_employee)"
      ],
      "metadata": {
        "colab": {
          "base_uri": "https://localhost:8080/"
        },
        "id": "ZdWyC9wRwPhp",
        "outputId": "258fbc07-fba6-46c1-a425-4596d78d81ee"
      },
      "execution_count": null,
      "outputs": [
        {
          "output_type": "stream",
          "name": "stdout",
          "text": [
            "True\n",
            "True\n"
          ]
        }
      ]
    },
    {
      "cell_type": "code",
      "source": [
        "coffee_employee = \"Branddasdasdsadsadasdsadasd.@132312312dasd\"\n",
        "orange_employee = \"Branddasdasdsadsadasdsadasd.@132312312dasd\"\n",
        "\n",
        "print(coffee_employee is orange_employee)\n",
        "print(coffee_employee == orange_employee)"
      ],
      "metadata": {
        "colab": {
          "base_uri": "https://localhost:8080/"
        },
        "id": "d_b99vkKwQJd",
        "outputId": "06a09290-f397-442f-f5c1-512e396ad20e"
      },
      "execution_count": null,
      "outputs": [
        {
          "output_type": "stream",
          "name": "stdout",
          "text": [
            "False\n",
            "True\n"
          ]
        }
      ]
    },
    {
      "cell_type": "markdown",
      "source": [
        "## in 구문"
      ],
      "metadata": {
        "id": "3JOotvhuxDt0"
      }
    },
    {
      "cell_type": "code",
      "source": [
        "# is는 is not이고 in은 not in임! 주의해야함\n",
        "10 in [10, 20, 30]"
      ],
      "metadata": {
        "colab": {
          "base_uri": "https://localhost:8080/"
        },
        "id": "DKJfvB7VxH04",
        "outputId": "40760868-b2ab-448e-f5d9-902ae316c1ad"
      },
      "execution_count": null,
      "outputs": [
        {
          "output_type": "execute_result",
          "data": {
            "text/plain": [
              "True"
            ]
          },
          "metadata": {},
          "execution_count": 5
        }
      ]
    },
    {
      "cell_type": "code",
      "source": [
        "'h' in 'hello world'"
      ],
      "metadata": {
        "colab": {
          "base_uri": "https://localhost:8080/"
        },
        "id": "fBpq6t-Hx6ea",
        "outputId": "b8189cd0-c566-4e4a-8ac6-3974a68d0b81"
      },
      "execution_count": null,
      "outputs": [
        {
          "output_type": "execute_result",
          "data": {
            "text/plain": [
              "True"
            ]
          },
          "metadata": {},
          "execution_count": 7
        }
      ]
    },
    {
      "cell_type": "code",
      "source": [
        "'world' in 'hello world'"
      ],
      "metadata": {
        "colab": {
          "base_uri": "https://localhost:8080/"
        },
        "id": "STTCUoRNx_GA",
        "outputId": "bb1c96ea-119a-40eb-deec-4091029d3b2e"
      },
      "execution_count": null,
      "outputs": [
        {
          "output_type": "execute_result",
          "data": {
            "text/plain": [
              "True"
            ]
          },
          "metadata": {},
          "execution_count": 8
        }
      ]
    },
    {
      "cell_type": "code",
      "source": [
        "'hell' not in 'hello world'"
      ],
      "metadata": {
        "colab": {
          "base_uri": "https://localhost:8080/"
        },
        "id": "EpUbNTFEyQ00",
        "outputId": "2bf4c171-3c4a-41ea-98ba-efe6fdb8be8b"
      },
      "execution_count": null,
      "outputs": [
        {
          "output_type": "execute_result",
          "data": {
            "text/plain": [
              "False"
            ]
          },
          "metadata": {},
          "execution_count": 9
        }
      ]
    },
    {
      "cell_type": "code",
      "source": [
        "'wolf' not in 'hello world'"
      ],
      "metadata": {
        "colab": {
          "base_uri": "https://localhost:8080/"
        },
        "id": "wln9foWhyS4i",
        "outputId": "86c4c77f-cae5-44ec-974a-e7481ce0cbf8"
      },
      "execution_count": null,
      "outputs": [
        {
          "output_type": "execute_result",
          "data": {
            "text/plain": [
              "True"
            ]
          },
          "metadata": {},
          "execution_count": 10
        }
      ]
    },
    {
      "cell_type": "code",
      "source": [
        "a = {'key1': 'value1', 'key2': 'value2'} #딕셔너리\n",
        "b = {10, 10, 20}\n",
        "10 in b # 출력: True\n",
        "{10} in b # 출력: False, 주의\n",
        "{10, 20} in b # 출력: False, 주의\n",
        "\n",
        "'key1' in a # 출력: True\n",
        "'value1' in a # 출력: False\n",
        "('key1', 'key2') in a # 출력: False\n",
        "#{'key1':'value1'} in a # error"
      ],
      "metadata": {
        "colab": {
          "base_uri": "https://localhost:8080/"
        },
        "id": "YbpWy61vyWvJ",
        "outputId": "ca6e810f-7954-470e-edcc-165a3f9bbcd2"
      },
      "execution_count": null,
      "outputs": [
        {
          "output_type": "execute_result",
          "data": {
            "text/plain": [
              "False"
            ]
          },
          "metadata": {},
          "execution_count": 12
        }
      ]
    },
    {
      "cell_type": "code",
      "source": [
        "'value' in a.values()"
      ],
      "metadata": {
        "colab": {
          "base_uri": "https://localhost:8080/"
        },
        "id": "n51Z45B5ynpB",
        "outputId": "2d3e044d-2109-402b-be9e-7a6154ebfb62"
      },
      "execution_count": null,
      "outputs": [
        {
          "output_type": "execute_result",
          "data": {
            "text/plain": [
              "False"
            ]
          },
          "metadata": {},
          "execution_count": 13
        }
      ]
    },
    {
      "cell_type": "markdown",
      "source": [
        "## 연산자 우선순위"
      ],
      "metadata": {
        "id": "CCXVN3ttziRk"
      }
    },
    {
      "cell_type": "code",
      "source": [
        "((True * True) and (True + False))"
      ],
      "metadata": {
        "colab": {
          "base_uri": "https://localhost:8080/"
        },
        "id": "WkwGh-LZzmcV",
        "outputId": "9cc0781a-2bb6-4164-e00b-a660ce549594"
      },
      "execution_count": null,
      "outputs": [
        {
          "output_type": "execute_result",
          "data": {
            "text/plain": [
              "1"
            ]
          },
          "metadata": {},
          "execution_count": 14
        }
      ]
    },
    {
      "cell_type": "code",
      "source": [
        "a = 10\n",
        "a += 10 * 100\n",
        "a"
      ],
      "metadata": {
        "colab": {
          "base_uri": "https://localhost:8080/"
        },
        "id": "9UI-vlyL0Pgf",
        "outputId": "ce8e7612-d353-4997-8a0a-9267d638562a"
      },
      "execution_count": null,
      "outputs": [
        {
          "output_type": "execute_result",
          "data": {
            "text/plain": [
              "1010"
            ]
          },
          "metadata": {},
          "execution_count": 16
        }
      ]
    },
    {
      "cell_type": "code",
      "source": [
        "# 복합 할당 연산자가 가장 나중임!\n",
        "a = 10\n",
        "a *= 10 + 100\n",
        "a"
      ],
      "metadata": {
        "colab": {
          "base_uri": "https://localhost:8080/"
        },
        "id": "-tpZEWrd0bdr",
        "outputId": "bab0dabb-7739-43db-8e2d-fbbdd7af76a8"
      },
      "execution_count": null,
      "outputs": [
        {
          "output_type": "execute_result",
          "data": {
            "text/plain": [
              "1100"
            ]
          },
          "metadata": {},
          "execution_count": 17
        }
      ]
    },
    {
      "cell_type": "code",
      "source": [
        "# a가 30이 될거같지만\n",
        "# 오류가 나는 문법!\n",
        "a = 10\n",
        "# a = 10 += 20"
      ],
      "metadata": {
        "id": "FXI5DXkY03zt"
      },
      "execution_count": null,
      "outputs": []
    },
    {
      "cell_type": "markdown",
      "source": [
        "# 연습문제"
      ],
      "metadata": {
        "id": "CNjtxncW1pUa"
      }
    },
    {
      "cell_type": "code",
      "source": [
        "# 배우신 분들\n",
        "# 그리디 알고리즘입니다.\n",
        "# 10000원짜리를 들고가서 1500원짜리 월드콘을 사먹었습니다. 거스름돈을 가장 적게 줄 수 있는 코드를 작성하세요.\n",
        "\n",
        "거스름돈 = 10000 - 1500\n",
        "print(거스름돈 // 5000, '5000원')\n",
        "거스름돈 = 거스름돈 % 5000\n",
        "\n",
        "print(거스름돈 // 1000, '1000원')\n",
        "거스름돈 = 거스름돈 % 1000\n",
        "\n",
        "print(거스름돈 // 500, '500원')\n",
        "거스름돈 = 거스름돈 % 500\n",
        "\n",
        "print(거스름돈 // 100, '100원')\n",
        "거스름돈 = 거스름돈 % 100"
      ],
      "metadata": {
        "colab": {
          "base_uri": "https://localhost:8080/"
        },
        "id": "e2FZt7jx1Rpq",
        "outputId": "18619f99-c0b3-4331-b708-0263208d8c70"
      },
      "execution_count": null,
      "outputs": [
        {
          "output_type": "stream",
          "name": "stdout",
          "text": [
            "1 5000원\n",
            "3 1000원\n",
            "1 500원\n",
            "0 100원\n"
          ]
        }
      ]
    },
    {
      "cell_type": "markdown",
      "source": [
        "# 함수"
      ],
      "metadata": {
        "id": "2KkVmBT43bRi"
      }
    },
    {
      "cell_type": "code",
      "source": [
        "def 부지매입():\n",
        "    pass\n",
        "\n",
        "def 설계도면작성():\n",
        "    pass\n",
        "\n",
        "def 인력모집():\n",
        "    pass\n",
        "\n",
        "def 벽돌쌓기():\n",
        "    pass\n",
        "\n",
        "def 지붕올리기():\n",
        "    pass\n",
        "\n",
        "부지매입()\n",
        "설계도면작성()\n",
        "인력모집()\n",
        "벽돌쌓기()\n",
        "지붕올리기()"
      ],
      "metadata": {
        "id": "Ufv7_lly3FTo"
      },
      "execution_count": null,
      "outputs": []
    },
    {
      "cell_type": "code",
      "source": [
        "# 함수의 종료 구분은 들여쓰기 기준이며\n",
        "# return으로도 구분이 됩니다."
      ],
      "metadata": {
        "id": "OyNblhOf9yxN"
      },
      "execution_count": null,
      "outputs": []
    },
    {
      "cell_type": "code",
      "source": [
        "#들여쓰기\n",
        "# print와 return은 헷갈리시면 안됩니다!\n",
        "def printnum(): #함수의 정의\n",
        "    print('1')\n",
        "    print('2')\n",
        "    print('3')\n",
        "    return None\n",
        "\n",
        "a = printnum() #함수의 호출\n",
        "print(a)"
      ],
      "metadata": {
        "colab": {
          "base_uri": "https://localhost:8080/"
        },
        "id": "d_QZa5FX6r-a",
        "outputId": "9a7dfd9a-6e27-4850-e98b-02465916e17c"
      },
      "execution_count": null,
      "outputs": [
        {
          "output_type": "stream",
          "name": "stdout",
          "text": [
            "1\n",
            "2\n",
            "3\n",
            "None\n"
          ]
        }
      ]
    },
    {
      "cell_type": "code",
      "source": [
        "def printnum():\n",
        "    print('1')\n",
        "    print('2')\n",
        "print('3')\n",
        "\n",
        "printnum() # __repr__"
      ],
      "metadata": {
        "colab": {
          "base_uri": "https://localhost:8080/"
        },
        "id": "r_6FnnGh64ua",
        "outputId": "51b84170-b2f8-475d-d30f-41514c9c6702"
      },
      "execution_count": null,
      "outputs": [
        {
          "output_type": "stream",
          "name": "stdout",
          "text": [
            "3\n",
            "1\n",
            "2\n"
          ]
        }
      ]
    },
    {
      "cell_type": "code",
      "source": [
        "def printnum():\n",
        "    print('1')\n",
        "    print('2')\n",
        "print('3')\n",
        "\n",
        "print(printnum())"
      ],
      "metadata": {
        "colab": {
          "base_uri": "https://localhost:8080/"
        },
        "id": "-eB7t3oe7EQW",
        "outputId": "9e3a1820-ce45-462a-c2bc-461fd569652b"
      },
      "execution_count": null,
      "outputs": [
        {
          "output_type": "stream",
          "name": "stdout",
          "text": [
            "3\n",
            "1\n",
            "2\n",
            "None\n"
          ]
        }
      ]
    },
    {
      "cell_type": "code",
      "source": [
        "# 출력값이 다르다는 것을 꼭 기억해주세요! (print(type()). type())\n",
        "print(type(printnum)) # __str__\n",
        "type(printnum) # __repr__\n",
        "\n",
        "dir(printnum)"
      ],
      "metadata": {
        "colab": {
          "base_uri": "https://localhost:8080/"
        },
        "id": "-by_UiVg7OnB",
        "outputId": "6d93f37d-7185-4e90-e9ea-bcf6c7afb499"
      },
      "execution_count": null,
      "outputs": [
        {
          "output_type": "execute_result",
          "data": {
            "text/plain": [
              "['__annotations__',\n",
              " '__builtins__',\n",
              " '__call__',\n",
              " '__class__',\n",
              " '__closure__',\n",
              " '__code__',\n",
              " '__defaults__',\n",
              " '__delattr__',\n",
              " '__dict__',\n",
              " '__dir__',\n",
              " '__doc__',\n",
              " '__eq__',\n",
              " '__format__',\n",
              " '__ge__',\n",
              " '__get__',\n",
              " '__getattribute__',\n",
              " '__globals__',\n",
              " '__gt__',\n",
              " '__hash__',\n",
              " '__init__',\n",
              " '__init_subclass__',\n",
              " '__kwdefaults__',\n",
              " '__le__',\n",
              " '__lt__',\n",
              " '__module__',\n",
              " '__name__',\n",
              " '__ne__',\n",
              " '__new__',\n",
              " '__qualname__',\n",
              " '__reduce__',\n",
              " '__reduce_ex__',\n",
              " '__repr__',\n",
              " '__setattr__',\n",
              " '__sizeof__',\n",
              " '__str__',\n",
              " '__subclasshook__']"
            ]
          },
          "metadata": {},
          "execution_count": 7
        }
      ]
    },
    {
      "cell_type": "code",
      "source": [
        "printnum.__str__()"
      ],
      "metadata": {
        "colab": {
          "base_uri": "https://localhost:8080/",
          "height": 35
        },
        "id": "B7hiECmV7ukk",
        "outputId": "9771a2f0-bb03-42fd-e4e6-6da0d0fa2e10"
      },
      "execution_count": null,
      "outputs": [
        {
          "output_type": "execute_result",
          "data": {
            "text/plain": [
              "'<function printnum at 0x7c437dab6ef0>'"
            ],
            "application/vnd.google.colaboratory.intrinsic+json": {
              "type": "string"
            }
          },
          "metadata": {},
          "execution_count": 9
        }
      ]
    },
    {
      "cell_type": "code",
      "source": [
        "printnum.__repr__()"
      ],
      "metadata": {
        "colab": {
          "base_uri": "https://localhost:8080/",
          "height": 35
        },
        "id": "_6tXcMOM7y4x",
        "outputId": "b06662cc-55bf-4029-d71e-6a64c1a9c500"
      },
      "execution_count": null,
      "outputs": [
        {
          "output_type": "execute_result",
          "data": {
            "text/plain": [
              "'<function printnum at 0x7c437dab6ef0>'"
            ],
            "application/vnd.google.colaboratory.intrinsic+json": {
              "type": "string"
            }
          },
          "metadata": {},
          "execution_count": 11
        }
      ]
    },
    {
      "cell_type": "code",
      "source": [
        "# 파선아실\n",
        "def function(x, y):\n",
        "    z = x + y\n",
        "    return z\n",
        "print('function(5, 7)=', function(5, 7))"
      ],
      "metadata": {
        "colab": {
          "base_uri": "https://localhost:8080/"
        },
        "id": "aAiu8YqK70hY",
        "outputId": "73aed162-cb01-4077-ffcb-baa34e8a4278"
      },
      "execution_count": null,
      "outputs": [
        {
          "output_type": "stream",
          "name": "stdout",
          "text": [
            "function(5, 7)= 12\n"
          ]
        }
      ]
    },
    {
      "cell_type": "code",
      "source": [
        "# 함수 안에 함수\n",
        "def f():\n",
        "    def ff():\n",
        "        return 100\n",
        "    x = ff()\n",
        "    return x\n",
        "\n",
        "f()\n",
        "# ff() 함수 내부에서 선언한 변수와 함수 내부에서 선언된 함수는 밖에서 호출할 수 없습니다."
      ],
      "metadata": {
        "colab": {
          "base_uri": "https://localhost:8080/"
        },
        "id": "gU5LKglF8FcE",
        "outputId": "6687619e-e3d3-4c6c-dcac-92b1d53f3a6d"
      },
      "execution_count": null,
      "outputs": [
        {
          "output_type": "execute_result",
          "data": {
            "text/plain": [
              "100"
            ]
          },
          "metadata": {},
          "execution_count": 15
        }
      ]
    },
    {
      "cell_type": "code",
      "source": [
        "# 함수를 아규먼트로 전달\n",
        "def f(a, b):\n",
        "    return a + b\n",
        "\n",
        "def ff(a):\n",
        "    return f(10,20)\n",
        "\n",
        "ff(f)"
      ],
      "metadata": {
        "colab": {
          "base_uri": "https://localhost:8080/"
        },
        "id": "5hlUyP1W8-hA",
        "outputId": "7ae0d3cb-0f98-4770-8316-07a82ca3d3fb"
      },
      "execution_count": null,
      "outputs": [
        {
          "output_type": "execute_result",
          "data": {
            "text/plain": [
              "30"
            ]
          },
          "metadata": {},
          "execution_count": 2
        }
      ]
    },
    {
      "cell_type": "code",
      "source": [
        "# def f():\n",
        "#     pass\n",
        "\n",
        "\n",
        "# def f():\n",
        "#     pass\n",
        "#     return None\n",
        "\n",
        "def f():\n",
        "    pass\n",
        "    print(10)\n",
        "\n",
        "f()"
      ],
      "metadata": {
        "colab": {
          "base_uri": "https://localhost:8080/"
        },
        "id": "V6YkFWFc90x6",
        "outputId": "bc50553a-675a-410a-84f6-038ab2ec138a"
      },
      "execution_count": null,
      "outputs": [
        {
          "output_type": "stream",
          "name": "stdout",
          "text": [
            "10\n"
          ]
        }
      ]
    },
    {
      "cell_type": "code",
      "source": [
        "# 안에 pass를 넣어 오류를 방지한다.(빈 함수를 만들 때 사용!)\n",
        "def hit():\n",
        "    pass\n",
        "\n",
        "def move():\n",
        "    pass\n",
        "\n",
        "def heal():\n",
        "    pass"
      ],
      "metadata": {
        "id": "BVYzYBMu-QgW"
      },
      "execution_count": null,
      "outputs": []
    },
    {
      "cell_type": "code",
      "source": [
        "#return을 사용해도 되는데 왜 pass를 사용하나?\n",
        "# pass를 사용했을 때 나중에 개발될 것이라는 표시를 해놓는 것과 같습니다.\n",
        "# 글자수도 2자가 더 짧고 타이핑 하기 쉽다.(속도감이 있습니다. 속도감 무시하지 마세요. Python에서 속도감 중요합니다.)\n",
        "def hit():\n",
        "    return\n",
        "\n",
        "def move():\n",
        "    return\n",
        "\n",
        "def heal():\n",
        "    return"
      ],
      "metadata": {
        "id": "Q3GR_WmR-m30"
      },
      "execution_count": null,
      "outputs": []
    },
    {
      "cell_type": "code",
      "source": [
        "def f(a, b, c):\n",
        "    print(a, b, c)\n",
        "\n",
        "# f() # error\n",
        "# f(100, 10) # error\n",
        "f(a=100, b=200, c=300)\n",
        "f(c=300, a=100, b=200)"
      ],
      "metadata": {
        "colab": {
          "base_uri": "https://localhost:8080/"
        },
        "id": "4iIWYjCu_uW2",
        "outputId": "c086775d-4b3e-474c-9add-048f17b0b301"
      },
      "execution_count": null,
      "outputs": [
        {
          "output_type": "stream",
          "name": "stdout",
          "text": [
            "100 200 300\n",
            "100 200 300\n"
          ]
        }
      ]
    },
    {
      "cell_type": "code",
      "source": [
        "def f(a=10, b=20, c=30):\n",
        "    print(a, b, c)\n",
        "\n",
        "f()\n",
        "f(100, 10)\n",
        "f(a=100, b=200, c=300)\n",
        "f(c=300, a=100, b=200)"
      ],
      "metadata": {
        "colab": {
          "base_uri": "https://localhost:8080/"
        },
        "id": "79A6HaST8_VY",
        "outputId": "ab912467-ef12-477d-c98f-cf42697d213e"
      },
      "execution_count": null,
      "outputs": [
        {
          "output_type": "stream",
          "name": "stdout",
          "text": [
            "10 20 30\n",
            "100 10 30\n",
            "100 200 300\n",
            "100 200 300\n"
          ]
        }
      ]
    },
    {
      "cell_type": "code",
      "source": [
        "def f(a, b=20, c=100): # c만 default value를 안주게 되면 error, 순서대로 안주어야 합니다.\n",
        "    print(a, b, c)\n",
        "\n",
        "# f() # error\n",
        "# f(100, 10) # error\n",
        "# f(a=100, b=200, c=300) # error\n",
        "# f(c=300, a=100, b=200) # error\n",
        "# f(c=300) # error"
      ],
      "metadata": {
        "id": "BGKZi1L2A3qn"
      },
      "execution_count": null,
      "outputs": []
    },
    {
      "cell_type": "code",
      "source": [
        "# 기본값이 없는 것들은 앞에 배치해야 합니다! 밑에 처럼 a, b=20, c=20 이런식이어야함.\n",
        "#def f(a=10, b=20, c): # 이 코드는 가능하지 않습니다.\n",
        "    print(a, b, c)\n",
        "\n",
        "def f(a, b=20, c=30): # 이 코드는 가능합니다.\n",
        "    print(a, b, c)"
      ],
      "metadata": {
        "id": "9lxjGZAfBCTe"
      },
      "execution_count": null,
      "outputs": []
    },
    {
      "cell_type": "code",
      "source": [
        "def f(a, b=20, c=30): # 이 코드는 가능합니다.\n",
        "    print(a, b, c)\n",
        "\n",
        "# f() # error\n",
        "# f(100, 10)\n",
        "# f(a=100, b=200, c=300)\n",
        "# f(c=300, a=100, b=200)\n",
        "# f(c=300) # error"
      ],
      "metadata": {
        "colab": {
          "base_uri": "https://localhost:8080/"
        },
        "id": "w2-lBQ4aBP6d",
        "outputId": "e378d956-9dff-4043-ad3c-8bf43af60d36"
      },
      "execution_count": null,
      "outputs": [
        {
          "output_type": "stream",
          "name": "stdout",
          "text": [
            "300 20 30\n"
          ]
        }
      ]
    },
    {
      "cell_type": "code",
      "source": [
        "# a 와 b 를 더한 값과 a 와 b 를 뺀 값을 곱하는 함수를 만들어주세요.\n",
        "a = 2\n",
        "b = 3\n",
        "def multiple (x=0, y=0):\n",
        "    return x * y\n",
        "\n",
        "def plus (x=0, y=0):\n",
        "    return x + y\n",
        "\n",
        "def minus (x=0,y=0):\n",
        "    return x - y\n",
        "\n",
        "multiple(plus(a, b), minus(a, b))\n",
        "# def f(a = 0, b = 0):\n",
        "#     return((a+b) * (a-b))\n",
        "\n",
        "# f()"
      ],
      "metadata": {
        "colab": {
          "base_uri": "https://localhost:8080/"
        },
        "id": "Tv3XiYJmB6dd",
        "outputId": "5caa4db7-1abe-41e2-adc0-5054e1b85fc5"
      },
      "execution_count": null,
      "outputs": [
        {
          "output_type": "execute_result",
          "data": {
            "text/plain": [
              "-5"
            ]
          },
          "metadata": {},
          "execution_count": 33
        }
      ]
    },
    {
      "cell_type": "code",
      "source": [
        "# 지역변수\n",
        "def f():\n",
        "    inner_value = 100\n",
        "\n",
        "# print(inner_value)\n",
        "# 안에 있는 변수는 호출 할 수 없다."
      ],
      "metadata": {
        "id": "odCneaCWD6cZ"
      },
      "execution_count": null,
      "outputs": []
    },
    {
      "cell_type": "code",
      "source": [
        "x = 100\n",
        "def f():\n",
        "    print(x)\n",
        "\n",
        "f()"
      ],
      "metadata": {
        "colab": {
          "base_uri": "https://localhost:8080/"
        },
        "id": "OFRgXyhPEEiO",
        "outputId": "fe5bb093-9594-49af-f523-6ceed91a2d84"
      },
      "execution_count": null,
      "outputs": [
        {
          "output_type": "stream",
          "name": "stdout",
          "text": [
            "100\n"
          ]
        }
      ]
    },
    {
      "cell_type": "code",
      "source": [
        "x = 100\n",
        "def f():\n",
        "    y = x + x\n",
        "    return y\n",
        "\n",
        "f()"
      ],
      "metadata": {
        "colab": {
          "base_uri": "https://localhost:8080/"
        },
        "id": "S3NqLOwvEQU-",
        "outputId": "a90df066-603b-4884-f0f6-8ecd1cbe03a5"
      },
      "execution_count": null,
      "outputs": [
        {
          "output_type": "execute_result",
          "data": {
            "text/plain": [
              "200"
            ]
          },
          "metadata": {},
          "execution_count": 38
        }
      ]
    },
    {
      "cell_type": "code",
      "source": [
        "x = 100\n",
        "def f():\n",
        "    x = 200\n",
        "    return x\n",
        "\n",
        "f()\n",
        "print(x)"
      ],
      "metadata": {
        "colab": {
          "base_uri": "https://localhost:8080/"
        },
        "id": "yhgIFI4fEWIL",
        "outputId": "3c21d445-69c2-498c-cce3-ad7740c75f57"
      },
      "execution_count": null,
      "outputs": [
        {
          "output_type": "stream",
          "name": "stdout",
          "text": [
            "100\n"
          ]
        }
      ]
    },
    {
      "cell_type": "code",
      "source": [
        "# global 사용 후\n",
        "a = 100\n",
        "def f():\n",
        "    global a\n",
        "    a = a + 1\n",
        "\n",
        "f()\n",
        "a"
      ],
      "metadata": {
        "colab": {
          "base_uri": "https://localhost:8080/"
        },
        "id": "UQjD9GTpFOJS",
        "outputId": "7c44f17a-4d0f-4fdf-84c3-6fbe246f6193"
      },
      "execution_count": null,
      "outputs": [
        {
          "output_type": "execute_result",
          "data": {
            "text/plain": [
              "101"
            ]
          },
          "metadata": {},
          "execution_count": 44
        }
      ]
    },
    {
      "cell_type": "code",
      "source": [
        "a = 100\n",
        "def f():\n",
        "    #a = a + 1 오류\n",
        "    return a\n",
        "\n",
        "f()\n",
        "a"
      ],
      "metadata": {
        "colab": {
          "base_uri": "https://localhost:8080/",
          "height": 364
        },
        "id": "hQWrrZoVH8I2",
        "outputId": "172b9207-48b9-432d-ae52-8c5c180f43e0"
      },
      "execution_count": null,
      "outputs": [
        {
          "output_type": "error",
          "ename": "UnboundLocalError",
          "evalue": "ignored",
          "traceback": [
            "\u001b[0;31m---------------------------------------------------------------------------\u001b[0m",
            "\u001b[0;31mUnboundLocalError\u001b[0m                         Traceback (most recent call last)",
            "\u001b[0;32m<ipython-input-45-23fe501425fe>\u001b[0m in \u001b[0;36m<cell line: 6>\u001b[0;34m()\u001b[0m\n\u001b[1;32m      4\u001b[0m     \u001b[0;32mreturn\u001b[0m \u001b[0ma\u001b[0m\u001b[0;34m\u001b[0m\u001b[0;34m\u001b[0m\u001b[0m\n\u001b[1;32m      5\u001b[0m \u001b[0;34m\u001b[0m\u001b[0m\n\u001b[0;32m----> 6\u001b[0;31m \u001b[0mf\u001b[0m\u001b[0;34m(\u001b[0m\u001b[0;34m)\u001b[0m\u001b[0;34m\u001b[0m\u001b[0;34m\u001b[0m\u001b[0m\n\u001b[0m\u001b[1;32m      7\u001b[0m \u001b[0ma\u001b[0m\u001b[0;34m\u001b[0m\u001b[0;34m\u001b[0m\u001b[0m\n",
            "\u001b[0;32m<ipython-input-45-23fe501425fe>\u001b[0m in \u001b[0;36mf\u001b[0;34m()\u001b[0m\n\u001b[1;32m      1\u001b[0m \u001b[0ma\u001b[0m \u001b[0;34m=\u001b[0m \u001b[0;36m100\u001b[0m\u001b[0;34m\u001b[0m\u001b[0;34m\u001b[0m\u001b[0m\n\u001b[1;32m      2\u001b[0m \u001b[0;32mdef\u001b[0m \u001b[0mf\u001b[0m\u001b[0;34m(\u001b[0m\u001b[0;34m)\u001b[0m\u001b[0;34m:\u001b[0m\u001b[0;34m\u001b[0m\u001b[0;34m\u001b[0m\u001b[0m\n\u001b[0;32m----> 3\u001b[0;31m     \u001b[0ma\u001b[0m \u001b[0;34m=\u001b[0m \u001b[0ma\u001b[0m \u001b[0;34m+\u001b[0m \u001b[0;36m1\u001b[0m\u001b[0;34m\u001b[0m\u001b[0;34m\u001b[0m\u001b[0m\n\u001b[0m\u001b[1;32m      4\u001b[0m     \u001b[0;32mreturn\u001b[0m \u001b[0ma\u001b[0m\u001b[0;34m\u001b[0m\u001b[0;34m\u001b[0m\u001b[0m\n\u001b[1;32m      5\u001b[0m \u001b[0;34m\u001b[0m\u001b[0m\n",
            "\u001b[0;31mUnboundLocalError\u001b[0m: local variable 'a' referenced before assignment"
          ]
        }
      ]
    },
    {
      "cell_type": "code",
      "source": [
        "a = 100\n",
        "def f():\n",
        "    b = a + 1\n",
        "    return b\n",
        "\n",
        "f()"
      ],
      "metadata": {
        "colab": {
          "base_uri": "https://localhost:8080/"
        },
        "id": "Dn-zFhIwIS7Q",
        "outputId": "cca101d3-7ce3-4315-e8e3-b08d6fbcc0a7"
      },
      "execution_count": null,
      "outputs": [
        {
          "output_type": "execute_result",
          "data": {
            "text/plain": [
              "101"
            ]
          },
          "metadata": {},
          "execution_count": 46
        }
      ]
    },
    {
      "cell_type": "code",
      "source": [
        "a = 10\n",
        "def f():\n",
        "    a = 100\n",
        "    print(a)\n",
        "    def ff():\n",
        "        a = 1000\n",
        "        print(a)\n",
        "        def fff():\n",
        "            a = 10000\n",
        "            print(a)\n",
        "        fff()\n",
        "    ff()\n",
        "f()\n",
        "print(a)"
      ],
      "metadata": {
        "colab": {
          "base_uri": "https://localhost:8080/"
        },
        "id": "7EZTvMgaIfd2",
        "outputId": "5670680f-ee86-48be-f44e-1203e80f7efc"
      },
      "execution_count": null,
      "outputs": [
        {
          "output_type": "stream",
          "name": "stdout",
          "text": [
            "100\n",
            "1000\n",
            "10000\n",
            "10\n"
          ]
        }
      ]
    },
    {
      "cell_type": "code",
      "source": [
        "# global을 하면 함수가 얼만큼 중첩되어 있건 최상단에 있는 a를 바라봅니다.\n",
        "a = 10\n",
        "def f():\n",
        "    a = 100\n",
        "    print(a)\n",
        "    def ff():\n",
        "        a = 1000\n",
        "        print(a)\n",
        "        def fff():\n",
        "            global a\n",
        "            print(a)\n",
        "        fff()\n",
        "    ff()\n",
        "f()\n",
        "print(a)"
      ],
      "metadata": {
        "colab": {
          "base_uri": "https://localhost:8080/"
        },
        "id": "peo2205iI94u",
        "outputId": "af0b20d2-c0cf-4f97-f5e3-e8af3494ad6b"
      },
      "execution_count": null,
      "outputs": [
        {
          "output_type": "stream",
          "name": "stdout",
          "text": [
            "100\n",
            "1000\n",
            "10\n",
            "10\n"
          ]
        }
      ]
    },
    {
      "cell_type": "code",
      "source": [
        "# global을 사용하지 않고 중첩된 함수 내에서 a를 출력하게 되면 바로 위 함수의 a를 출력합니다.\n",
        "a = 10\n",
        "def f():\n",
        "    a = 100\n",
        "    print(a)\n",
        "    def ff():\n",
        "        a = 1000\n",
        "        print(a)\n",
        "        def fff():\n",
        "            print(a)\n",
        "        fff()\n",
        "    ff()\n",
        "f()\n",
        "print(a)"
      ],
      "metadata": {
        "colab": {
          "base_uri": "https://localhost:8080/"
        },
        "id": "eUf18F4kJHxX",
        "outputId": "dd216c0b-2531-4d7a-8629-624f9358c97e"
      },
      "execution_count": null,
      "outputs": [
        {
          "output_type": "stream",
          "name": "stdout",
          "text": [
            "100\n",
            "1000\n",
            "1000\n",
            "10\n"
          ]
        }
      ]
    },
    {
      "cell_type": "code",
      "source": [
        "# nonloca을 사용하지 않고 중첩된 함수 내에서 a를 출력하게 되면 바로 위 함수의 a를 출력합니다.\n",
        "a = 10\n",
        "def f():\n",
        "    a = 100\n",
        "    print(f'f a:{a}')\n",
        "    def ff():\n",
        "        a = 1000\n",
        "        print(f'ff a:{a}')\n",
        "        def fff():\n",
        "            nonlocal a\n",
        "            a = 100\n",
        "            print(f'fff a:{a}')\n",
        "        fff()\n",
        "        print(f'ff a:{a}')\n",
        "    ff()\n",
        "f()\n",
        "print(f'global a:{a}')"
      ],
      "metadata": {
        "colab": {
          "base_uri": "https://localhost:8080/"
        },
        "id": "j-X7l1LxJgY0",
        "outputId": "bc46efee-89cc-4db1-e2f3-bbf023454585"
      },
      "execution_count": null,
      "outputs": [
        {
          "output_type": "stream",
          "name": "stdout",
          "text": [
            "f a:100\n",
            "ff a:1000\n",
            "fff a:100\n",
            "ff a:100\n",
            "global a:10\n"
          ]
        }
      ]
    },
    {
      "cell_type": "code",
      "source": [
        "# sys.setrecursionlimit -> 제한을 늘릴 수 있음\n",
        "# 실행하지 마세요!\n",
        "def 숫자출력():\n",
        "    print(1)\n",
        "    return 숫자출력()\n",
        "숫자출력()"
      ],
      "metadata": {
        "id": "hCBQV7QuJtQR"
      },
      "execution_count": null,
      "outputs": []
    },
    {
      "cell_type": "code",
      "source": [
        "# sys.setrecursionlimit -> 제한을 늘릴 수 있음\n",
        "def 숫자출력(count):\n",
        "    if count > 100:\n",
        "        return\n",
        "    print(count)\n",
        "    return 숫자출력(count+1) #값을 1부터 반복횟수 까지의 값을 출력\n",
        "\n",
        "숫자출력(1)"
      ],
      "metadata": {
        "id": "NEX6ENAdKdAI"
      },
      "execution_count": null,
      "outputs": []
    },
    {
      "cell_type": "code",
      "source": [
        "# 재귀함수는 사용하지 마세요!(주니어 때)\n",
        "# 위험하고 일부 효율이 좋지 않습니다.\n",
        "# 반복문 <==> 서로 상호 호환이 가능하다.\n",
        "# 반복문 사용하세요!"
      ],
      "metadata": {
        "id": "0SH1lUBzK5ry"
      },
      "execution_count": null,
      "outputs": []
    },
    {
      "cell_type": "code",
      "source": [
        "# 상식 수준에서 다음 재귀는 외우셨으면 좋겠습니다!\n",
        "# 1. 팩토리얼\n",
        "# 2. 문자열 뒤집기"
      ],
      "metadata": {
        "id": "ID4YQfBiLMpr"
      },
      "execution_count": null,
      "outputs": []
    },
    {
      "cell_type": "code",
      "source": [
        "def factorial(n):\n",
        "    if n == 1:\n",
        "        return 1\n",
        "    return n * factorial(n-1)\n",
        "\n",
        "factorial(5)\n",
        "'''\n",
        "함수호출        reutrn\n",
        "factorial(n)    n * factorial(n-1)\n",
        "factorial(5)    5 * factorial(4) == 5 *24\n",
        "factorial(4)    4 * factorial(3) == 4 * 6\n",
        "factorial(3)    3 * factorial(2) == 3 * 2\n",
        "factorial(2)    2 * factorial(1) == 2 * 1\n",
        "factorial(1)    1                = 1\n",
        "'''"
      ],
      "metadata": {
        "colab": {
          "base_uri": "https://localhost:8080/"
        },
        "id": "JlOyQxGhLZy5",
        "outputId": "05c589e4-3c4a-454a-8dbc-dcb2ad1cb9e1"
      },
      "execution_count": null,
      "outputs": [
        {
          "output_type": "execute_result",
          "data": {
            "text/plain": [
              "120"
            ]
          },
          "metadata": {},
          "execution_count": 55
        }
      ]
    },
    {
      "cell_type": "code",
      "source": [
        "s = 'hello world'\n",
        "print(s[1:] + s[0])\n",
        "s = s[1:]\n",
        "\n",
        "print(s[1:] + s[0])\n",
        "s = s[1:]\n",
        "\n",
        "print(s[1:] + s[0])\n",
        "s = s[1:]\n",
        "\n",
        "print(s[1:] + s[0])\n",
        "s = s[1:]\n"
      ],
      "metadata": {
        "colab": {
          "base_uri": "https://localhost:8080/"
        },
        "id": "MRoyUThDOdJ9",
        "outputId": "fd19705d-c52a-4d7b-ca16-9b5e151fcc50"
      },
      "execution_count": null,
      "outputs": [
        {
          "output_type": "stream",
          "name": "stdout",
          "text": [
            "ello worldh\n",
            "llo worlde\n",
            "lo worldl\n",
            "o worldl\n"
          ]
        }
      ]
    },
    {
      "cell_type": "code",
      "source": [
        "def reversed_str(s):\n",
        "    if len(s) <= 1:\n",
        "        return s\n",
        "    return reversed_str(s[1:]) + s[0]\n",
        "\n",
        "reversed_str('hello')\n",
        "\n",
        "'''\n",
        "함수 호출               return\n",
        "reversed_str(n)         reversed_str(s[1:]) + s[0]\n",
        "reversed_str('hello')   reversed_str('ello') + 'h'  == '0lle' + 'h'\n",
        "reversed_str('ello')    reversed_str('llo') + 'e'   == '0ll' + 'e'\n",
        "reversed_str('llo')     reversed_str('lo') + 'l'    == '0l' + 'l'\n",
        "reversed_str('lo')      reversed_str('o') + 'l'     == '0' + 'l'\n",
        "reversed_str('o')       'o'                         == '0'\n",
        "'''"
      ],
      "metadata": {
        "colab": {
          "base_uri": "https://localhost:8080/",
          "height": 72
        },
        "id": "IeiIddoQLwdb",
        "outputId": "389e6fc4-6d0d-4030-c791-d16d020279e1"
      },
      "execution_count": null,
      "outputs": [
        {
          "output_type": "execute_result",
          "data": {
            "text/plain": [
              "\"\\n함수 호출               return\\nreversed_str(n)         reversed_str(s[1:]) + s[0]\\nreversed_str('hello')   reversed_str(s[1:]) + s[0]\\nreversed_str(4)         reversed_str(s[1:]) + s[0]\\nreversed_str(3)         reversed_str(s[1:]) + s[0]\\nreversed_str(2)         reversed_str(s[1:]) + s[0]\\nreversed_str(1)\\n\""
            ],
            "application/vnd.google.colaboratory.intrinsic+json": {
              "type": "string"
            }
          },
          "metadata": {},
          "execution_count": 63
        }
      ]
    },
    {
      "cell_type": "code",
      "source": [
        "# 반복문을 아직 안배웠지만 간단하게 된다는 것을 보여드리기 위함입니다!\n",
        "n = 5\n",
        "result = 1\n",
        "for i in range(1, n+1):\n",
        "    result *= i\n",
        "result"
      ],
      "metadata": {
        "colab": {
          "base_uri": "https://localhost:8080/"
        },
        "id": "e474qLwGSGxK",
        "outputId": "ccf7a83c-4c76-4588-8b61-9da34d52d9c7"
      },
      "execution_count": null,
      "outputs": [
        {
          "output_type": "execute_result",
          "data": {
            "text/plain": [
              "120"
            ]
          },
          "metadata": {},
          "execution_count": 65
        }
      ]
    },
    {
      "cell_type": "code",
      "source": [
        "# 문자열 뒤집기\n",
        "s = 'hello'\n",
        "result = ''\n",
        "\n",
        "for i in s:\n",
        "    result = i + result\n",
        "    print(result)\n",
        "\n",
        "result"
      ],
      "metadata": {
        "colab": {
          "base_uri": "https://localhost:8080/",
          "height": 126
        },
        "id": "-wl2zGnxSQdG",
        "outputId": "e4bc6d8f-77ef-49fe-eb4c-05440c0697c7"
      },
      "execution_count": null,
      "outputs": [
        {
          "output_type": "stream",
          "name": "stdout",
          "text": [
            "h\n",
            "eh\n",
            "leh\n",
            "lleh\n",
            "olleh\n"
          ]
        },
        {
          "output_type": "execute_result",
          "data": {
            "text/plain": [
              "'olleh'"
            ],
            "application/vnd.google.colaboratory.intrinsic+json": {
              "type": "string"
            }
          },
          "metadata": {},
          "execution_count": 67
        }
      ]
    },
    {
      "cell_type": "markdown",
      "source": [
        "# 함수 나아가기"
      ],
      "metadata": {
        "id": "yGEj2FWJSppW"
      }
    },
    {
      "cell_type": "code",
      "source": [
        "def f():\n",
        "    'hello world'\\\n",
        "        .upper()\\\n",
        "        .replace(' ', '')\\\n",
        "        .lower()\n",
        "    return x\n",
        "\n",
        "f()"
      ],
      "metadata": {
        "colab": {
          "base_uri": "https://localhost:8080/"
        },
        "id": "EHhd36gzm8ZJ",
        "outputId": "fcc545e7-d865-4275-b0dc-7fe9e387f49f"
      },
      "execution_count": null,
      "outputs": [
        {
          "output_type": "execute_result",
          "data": {
            "text/plain": [
              "100"
            ]
          },
          "metadata": {},
          "execution_count": 73
        }
      ]
    },
    {
      "cell_type": "code",
      "source": [
        "# 여러개의 값 반환하기\n",
        "\n",
        "def f():\n",
        "    a = 10\n",
        "    b = 20\n",
        "    c = 30\n",
        "    return a, b, c\n",
        "\n",
        "f()"
      ],
      "metadata": {
        "colab": {
          "base_uri": "https://localhost:8080/"
        },
        "id": "EXL9Jv6lSqXJ",
        "outputId": "e2c122da-c307-42d4-d534-cdc9e5f96a33"
      },
      "execution_count": null,
      "outputs": [
        {
          "output_type": "execute_result",
          "data": {
            "text/plain": [
              "(10, 20, 30)"
            ]
          },
          "metadata": {},
          "execution_count": 68
        }
      ]
    },
    {
      "cell_type": "code",
      "source": [
        "print() # built-in function\n",
        "\n",
        "def f(): # function\n",
        "    pass\n",
        "\n",
        "# 여기서 print와 f는 변수입니다.\n",
        "# 변수는 가리키는 것입니다.\n",
        "leehojun = print\n",
        "leehojun('hello world')"
      ],
      "metadata": {
        "colab": {
          "base_uri": "https://localhost:8080/"
        },
        "id": "qllGmQJVS4QX",
        "outputId": "aa369a15-4a30-4430-ef80-408dc36c7644"
      },
      "execution_count": null,
      "outputs": [
        {
          "output_type": "stream",
          "name": "stdout",
          "text": [
            "\n",
            "hello world\n"
          ]
        }
      ]
    },
    {
      "cell_type": "code",
      "source": [
        "# 변수처럼 아래처럼 관리할 수 있습니다.\n",
        "x = 10\n",
        "y = 20\n",
        "l = [x, y]\n",
        "\n",
        "def add(x, y):\n",
        "    return x + y\n",
        "\n",
        "def sub(x, y):\n",
        "    return x - y\n",
        "\n",
        "ll = [add, sub]\n",
        "ll[0](10, 20) # add(10, 20)과 같습니다."
      ],
      "metadata": {
        "colab": {
          "base_uri": "https://localhost:8080/"
        },
        "id": "WiucwLCDnkLF",
        "outputId": "0a04befe-3e2f-456d-a3da-ee1df6ba7ef7"
      },
      "execution_count": null,
      "outputs": [
        {
          "output_type": "execute_result",
          "data": {
            "text/plain": [
              "30"
            ]
          },
          "metadata": {},
          "execution_count": 4
        }
      ]
    },
    {
      "cell_type": "code",
      "source": [
        "test = lambda x:x ** 2\n",
        "test(10)\n",
        "\n",
        "def test2(x):\n",
        "    return x ** 2\n",
        "\n",
        "test2(10)"
      ],
      "metadata": {
        "colab": {
          "base_uri": "https://localhost:8080/"
        },
        "id": "AzUc0iRZopH0",
        "outputId": "f29daf29-c971-4c30-e47a-27c8c231f245"
      },
      "execution_count": null,
      "outputs": [
        {
          "output_type": "execute_result",
          "data": {
            "text/plain": [
              "100"
            ]
          },
          "metadata": {},
          "execution_count": 6
        }
      ]
    },
    {
      "cell_type": "code",
      "source": [
        "# 매우 중요!\n",
        "add2 = lambda x, y:x + y\n",
        "sub2 = lambda x, y:x - y\n",
        "add2(10, 20)"
      ],
      "metadata": {
        "colab": {
          "base_uri": "https://localhost:8080/"
        },
        "id": "3pwNJNRpoEl-",
        "outputId": "032fe038-6ad7-4aa0-927a-92c1a53da574"
      },
      "execution_count": null,
      "outputs": [
        {
          "output_type": "execute_result",
          "data": {
            "text/plain": [
              "30"
            ]
          },
          "metadata": {},
          "execution_count": 77
        }
      ]
    },
    {
      "cell_type": "code",
      "source": [
        "x = map(int, '1234')\n",
        "\n",
        "for i in x:\n",
        "    print(i)\n",
        "\n",
        "for i in x: # 더이상 순화가 안됩니다! 이 이유는 나중에 진행하겠습니다.\n",
        "    print(i)"
      ],
      "metadata": {
        "colab": {
          "base_uri": "https://localhost:8080/"
        },
        "id": "5EAcxKmuoY5_",
        "outputId": "14c544f0-021d-411b-ff86-b6c12476e464"
      },
      "execution_count": null,
      "outputs": [
        {
          "output_type": "stream",
          "name": "stdout",
          "text": [
            "1\n",
            "2\n",
            "3\n",
            "4\n"
          ]
        }
      ]
    },
    {
      "cell_type": "code",
      "source": [
        "x = map(int, '1234')\n",
        "# 1번째 수행 int('1')\n",
        "# 2번째 수행 int('2')\n",
        "# 3번째 수행 int('3')\n",
        "# 4번째 수행 int('4')"
      ],
      "metadata": {
        "id": "qE3FmKRIpVv3"
      },
      "execution_count": null,
      "outputs": []
    },
    {
      "cell_type": "code",
      "source": [
        "list(map(int, '1234'))"
      ],
      "metadata": {
        "colab": {
          "base_uri": "https://localhost:8080/"
        },
        "id": "iXSkZXkAqMXO",
        "outputId": "c116f7e0-2f74-43f8-ffaf-68cae04b2474"
      },
      "execution_count": null,
      "outputs": [
        {
          "output_type": "execute_result",
          "data": {
            "text/plain": [
              "[1, 2, 3, 4]"
            ]
          },
          "metadata": {},
          "execution_count": 84
        }
      ]
    },
    {
      "cell_type": "code",
      "source": [
        "def f(x):\n",
        "    return x * 2\n",
        "\n",
        "list(map(f, '1234'))"
      ],
      "metadata": {
        "colab": {
          "base_uri": "https://localhost:8080/"
        },
        "id": "fJkG008gqUBw",
        "outputId": "d399fe79-9a2d-4d1d-ffb2-5a4aeefa8cda"
      },
      "execution_count": null,
      "outputs": [
        {
          "output_type": "execute_result",
          "data": {
            "text/plain": [
              "['11', '22', '33', '44']"
            ]
          },
          "metadata": {},
          "execution_count": 85
        }
      ]
    },
    {
      "cell_type": "code",
      "source": [
        "list(map(lambda x:x*2, '1234'))"
      ],
      "metadata": {
        "colab": {
          "base_uri": "https://localhost:8080/"
        },
        "id": "A_3YkaM9qVYk",
        "outputId": "3185046e-dcf1-4e3b-b9c3-32f3093fb735"
      },
      "execution_count": null,
      "outputs": [
        {
          "output_type": "execute_result",
          "data": {
            "text/plain": [
              "['11', '22', '33', '44']"
            ]
          },
          "metadata": {},
          "execution_count": 86
        }
      ]
    },
    {
      "cell_type": "code",
      "source": [
        "# built-function"
      ],
      "metadata": {
        "id": "G1dDDhyjqWI3"
      },
      "execution_count": null,
      "outputs": []
    },
    {
      "cell_type": "code",
      "source": [
        "all([True, True, True])\n",
        "all([True, True, False])\n",
        "all([1, 1, 1, 0])\n",
        "all([1, 0, 1, 1])\n",
        "all([1, 100, 10, -1])"
      ],
      "metadata": {
        "colab": {
          "base_uri": "https://localhost:8080/"
        },
        "id": "sSVjqdHPsV7x",
        "outputId": "50e4ef25-5474-4766-d1ea-8242de20122b"
      },
      "execution_count": null,
      "outputs": [
        {
          "output_type": "execute_result",
          "data": {
            "text/plain": [
              "True"
            ]
          },
          "metadata": {},
          "execution_count": 92
        }
      ]
    },
    {
      "cell_type": "code",
      "source": [
        "# 하나라도 True이면 True이다.\n",
        "any([True, False, False])\n",
        "any([False, False, False])"
      ],
      "metadata": {
        "colab": {
          "base_uri": "https://localhost:8080/"
        },
        "id": "XcfyQpCisvqn",
        "outputId": "7c99aae6-ad37-4c6b-ca97-f247cab5444e"
      },
      "execution_count": null,
      "outputs": [
        {
          "output_type": "execute_result",
          "data": {
            "text/plain": [
              "False"
            ]
          },
          "metadata": {},
          "execution_count": 95
        }
      ]
    },
    {
      "cell_type": "code",
      "source": [
        "# 10진수로 유니코드표에서 찾아 대응되는 값을 줍니다.\n",
        "chr(65)\n",
        "chr(97)\n",
        "chr(54616)"
      ],
      "metadata": {
        "colab": {
          "base_uri": "https://localhost:8080/",
          "height": 35
        },
        "id": "M-OLOzfZtQLN",
        "outputId": "f81c75b5-5371-4888-95a2-91f3c78a0e61"
      },
      "execution_count": null,
      "outputs": [
        {
          "output_type": "execute_result",
          "data": {
            "text/plain": [
              "'하'"
            ],
            "application/vnd.google.colaboratory.intrinsic+json": {
              "type": "string"
            }
          },
          "metadata": {},
          "execution_count": 103
        }
      ]
    },
    {
      "cell_type": "code",
      "source": [
        "#문자를 입력하면 유니코드에서 숫자로 출력합니다.\n",
        "ord('a')\n",
        "ord('하')"
      ],
      "metadata": {
        "colab": {
          "base_uri": "https://localhost:8080/"
        },
        "id": "6lt3Ob_gt4Lv",
        "outputId": "7d3d6609-ba6b-4fa1-b7a9-a4b5c3f7652b"
      },
      "execution_count": null,
      "outputs": [
        {
          "output_type": "execute_result",
          "data": {
            "text/plain": [
              "54616"
            ]
          },
          "metadata": {},
          "execution_count": 102
        }
      ]
    },
    {
      "cell_type": "code",
      "source": [
        "map(lambda x:x**2,[1, 2, 3, 4]) # 계산 되기 전"
      ],
      "metadata": {
        "colab": {
          "base_uri": "https://localhost:8080/"
        },
        "id": "GEpuUcacw6uV",
        "outputId": "4578bccd-253a-4af0-fbfb-5b3b229076f1"
      },
      "execution_count": null,
      "outputs": [
        {
          "output_type": "execute_result",
          "data": {
            "text/plain": [
              "<map at 0x7c4367c0a860>"
            ]
          },
          "metadata": {},
          "execution_count": 106
        }
      ]
    },
    {
      "cell_type": "code",
      "source": [
        "list(map(lambda x:x**2,[1, 2, 3, 4])) # 계산된 후"
      ],
      "metadata": {
        "colab": {
          "base_uri": "https://localhost:8080/"
        },
        "id": "whXaQh_OxONZ",
        "outputId": "08223f05-b04e-4da0-c8fe-a9d4ca176cbb"
      },
      "execution_count": null,
      "outputs": [
        {
          "output_type": "execute_result",
          "data": {
            "text/plain": [
              "[1, 4, 9, 16]"
            ]
          },
          "metadata": {},
          "execution_count": 108
        }
      ]
    },
    {
      "cell_type": "code",
      "source": [
        "list(filter(lambda x:x>10, [1, 2, 11, 12, 9, 6, 13]))"
      ],
      "metadata": {
        "colab": {
          "base_uri": "https://localhost:8080/"
        },
        "id": "qT6cPPsvxS6o",
        "outputId": "c82204c0-eaf4-4b3f-efe6-0719470896a0"
      },
      "execution_count": null,
      "outputs": [
        {
          "output_type": "execute_result",
          "data": {
            "text/plain": [
              "[11, 12, 13]"
            ]
          },
          "metadata": {},
          "execution_count": 110
        }
      ]
    },
    {
      "cell_type": "code",
      "source": [
        "def filter_function(x):\n",
        "    return x > 10\n",
        "\n",
        "list(filter(lambda x:x>10, [1, 2, 11, 12, 9, 6, 13]))"
      ],
      "metadata": {
        "colab": {
          "base_uri": "https://localhost:8080/"
        },
        "id": "wUfXfENixl9u",
        "outputId": "f896e0c3-f929-45c7-ec58-3a2144e40231"
      },
      "execution_count": null,
      "outputs": [
        {
          "output_type": "execute_result",
          "data": {
            "text/plain": [
              "[11, 12, 13]"
            ]
          },
          "metadata": {},
          "execution_count": 112
        }
      ]
    },
    {
      "cell_type": "code",
      "source": [
        "list(zip('abc', '123', '456'))"
      ],
      "metadata": {
        "colab": {
          "base_uri": "https://localhost:8080/"
        },
        "id": "AJ6U2PwhyENu",
        "outputId": "66a40450-bf1e-44a0-ea22-dc3e16b494ee"
      },
      "execution_count": null,
      "outputs": [
        {
          "output_type": "execute_result",
          "data": {
            "text/plain": [
              "[('a', '1', '4'), ('b', '2', '5'), ('c', '3', '6')]"
            ]
          },
          "metadata": {},
          "execution_count": 114
        }
      ]
    },
    {
      "cell_type": "code",
      "source": [
        "list(zip('abc', '123', [10, 20, 30]))"
      ],
      "metadata": {
        "colab": {
          "base_uri": "https://localhost:8080/"
        },
        "id": "gMvG811oyIpB",
        "outputId": "31d302c7-d79a-410f-fc01-01cfce523525"
      },
      "execution_count": null,
      "outputs": [
        {
          "output_type": "execute_result",
          "data": {
            "text/plain": [
              "[('a', '1', 10), ('b', '2', 20), ('c', '3', 30)]"
            ]
          },
          "metadata": {},
          "execution_count": 116
        }
      ]
    },
    {
      "cell_type": "code",
      "source": [
        "list(zip('abc', '123457', [10, 20, 30]))"
      ],
      "metadata": {
        "colab": {
          "base_uri": "https://localhost:8080/"
        },
        "id": "g8GWWauFyUNN",
        "outputId": "a1cb9ee8-901d-4180-a921-f4562c07fa4e"
      },
      "execution_count": null,
      "outputs": [
        {
          "output_type": "execute_result",
          "data": {
            "text/plain": [
              "[('a', '1', 10), ('b', '2', 20), ('c', '3', 30)]"
            ]
          },
          "metadata": {},
          "execution_count": 118
        }
      ]
    },
    {
      "cell_type": "code",
      "source": [
        "# 예를들어 S={1, 3, 4, 8, 13, 17, 20} 이 주어졌다면, 결과값은 (3, 4)가 될 것이다.\n",
        "\n",
        "s = [1, 3, 4, 8, 13, 17, 20]\n",
        "list(zip(s, s[1:]))"
      ],
      "metadata": {
        "colab": {
          "base_uri": "https://localhost:8080/"
        },
        "id": "29fpuyqUybTl",
        "outputId": "8ede9230-5361-4337-ad96-91ff53f473ad"
      },
      "execution_count": null,
      "outputs": [
        {
          "output_type": "execute_result",
          "data": {
            "text/plain": [
              "[(1, 3), (3, 4), (4, 8), (8, 13), (13, 17), (17, 20)]"
            ]
          },
          "metadata": {},
          "execution_count": 120
        }
      ]
    },
    {
      "cell_type": "code",
      "source": [
        "# sorted는 지금 단계에서 하지 않아요. 바로 뒤에 있으니 지금 이해하려 하지 마세요.\n",
        "# 지금은 zip에 집중해주세요.\n",
        "sorted(zip(s, s[1:]), key=lambda x:x[1]-x[0])\n",
        "# sorted(zip(s, s[1:]), key=lambda x:x[1]-x[0])[0] # 정답 코드"
      ],
      "metadata": {
        "colab": {
          "base_uri": "https://localhost:8080/"
        },
        "id": "bPAnZd4KzWup",
        "outputId": "a45360c6-9040-4e59-e5a1-f128f63c651c"
      },
      "execution_count": null,
      "outputs": [
        {
          "output_type": "execute_result",
          "data": {
            "text/plain": [
              "[(3, 4), (1, 3), (17, 20), (4, 8), (13, 17), (8, 13)]"
            ]
          },
          "metadata": {},
          "execution_count": 121
        }
      ]
    },
    {
      "cell_type": "code",
      "source": [
        "format(100000000, ',')"
      ],
      "metadata": {
        "colab": {
          "base_uri": "https://localhost:8080/",
          "height": 35
        },
        "id": "hNRwPkUdzX6u",
        "outputId": "81d298f8-fa1c-4e3f-f196-69c0e6d783b0"
      },
      "execution_count": null,
      "outputs": [
        {
          "output_type": "execute_result",
          "data": {
            "text/plain": [
              "'100,000,000'"
            ],
            "application/vnd.google.colaboratory.intrinsic+json": {
              "type": "string"
            }
          },
          "metadata": {},
          "execution_count": 124
        }
      ]
    },
    {
      "cell_type": "code",
      "source": [
        "len('hello world')"
      ],
      "metadata": {
        "colab": {
          "base_uri": "https://localhost:8080/"
        },
        "id": "u1TzxFBm0Vlg",
        "outputId": "e5501a0f-9512-4f52-e195-038c92be519f"
      },
      "execution_count": null,
      "outputs": [
        {
          "output_type": "execute_result",
          "data": {
            "text/plain": [
              "11"
            ]
          },
          "metadata": {},
          "execution_count": 125
        }
      ]
    },
    {
      "cell_type": "code",
      "source": [
        "max([1, 2, 3, 4, 5])"
      ],
      "metadata": {
        "colab": {
          "base_uri": "https://localhost:8080/"
        },
        "id": "ABX3HE5w0WwP",
        "outputId": "79f8b7e2-4a02-4a32-81ae-1bd61100e1f7"
      },
      "execution_count": null,
      "outputs": [
        {
          "output_type": "execute_result",
          "data": {
            "text/plain": [
              "5"
            ]
          },
          "metadata": {},
          "execution_count": 126
        }
      ]
    },
    {
      "cell_type": "code",
      "source": [
        "min([1, 2, 3, 4, 5])"
      ],
      "metadata": {
        "colab": {
          "base_uri": "https://localhost:8080/"
        },
        "id": "MC2HsMMn0Z2f",
        "outputId": "177bd0c4-5fd8-42b2-eba5-b51b088e89ed"
      },
      "execution_count": null,
      "outputs": [
        {
          "output_type": "execute_result",
          "data": {
            "text/plain": [
              "1"
            ]
          },
          "metadata": {},
          "execution_count": 127
        }
      ]
    },
    {
      "cell_type": "code",
      "source": [
        "sum([1, 2, 3, 4, 5])"
      ],
      "metadata": {
        "colab": {
          "base_uri": "https://localhost:8080/"
        },
        "id": "H5uVwjq90bGD",
        "outputId": "33b585dc-dfbe-4c88-c910-42d803d28c96"
      },
      "execution_count": null,
      "outputs": [
        {
          "output_type": "execute_result",
          "data": {
            "text/plain": [
              "15"
            ]
          },
          "metadata": {},
          "execution_count": 129
        }
      ]
    },
    {
      "cell_type": "code",
      "source": [
        "max([(1, 2), (3, 101), (1, 20), (3, 100)])\n",
        "max(['hello', 'world', 'world1'])"
      ],
      "metadata": {
        "colab": {
          "base_uri": "https://localhost:8080/",
          "height": 35
        },
        "id": "VG24PEAv0leI",
        "outputId": "4a210610-e39f-4a72-ff48-6d62c39fda08"
      },
      "execution_count": null,
      "outputs": [
        {
          "output_type": "execute_result",
          "data": {
            "text/plain": [
              "'world1'"
            ],
            "application/vnd.google.colaboratory.intrinsic+json": {
              "type": "string"
            }
          },
          "metadata": {},
          "execution_count": 132
        }
      ]
    },
    {
      "cell_type": "code",
      "source": [
        "sum([[1, 2], [3, 101], [1, 20], [3, 10]], [])"
      ],
      "metadata": {
        "colab": {
          "base_uri": "https://localhost:8080/"
        },
        "id": "LhGUvOcy0vNI",
        "outputId": "ea782b5b-ee4c-4ffb-cf23-2b472a4fbb9c"
      },
      "execution_count": null,
      "outputs": [
        {
          "output_type": "execute_result",
          "data": {
            "text/plain": [
              "[1, 2, 3, 101, 1, 20, 3, 10]"
            ]
          },
          "metadata": {},
          "execution_count": 138
        }
      ]
    },
    {
      "cell_type": "code",
      "source": [
        "# [] + [1. 2]\n",
        "# [1. 2] + [3, 101]\n",
        "# [1, 2, 3, 101] + [1, 20]\n",
        "# [1, 2, 3, 101, 1, 20] +[3, 10]\n"
      ],
      "metadata": {
        "colab": {
          "base_uri": "https://localhost:8080/",
          "height": 146
        },
        "id": "oWg-laTN1xXR",
        "outputId": "7629d435-2bf3-4dc2-bd1d-2f4aba362d94"
      },
      "execution_count": null,
      "outputs": [
        {
          "output_type": "error",
          "ename": "SyntaxError",
          "evalue": "ignored",
          "traceback": [
            "\u001b[0;36m  File \u001b[0;32m\"<ipython-input-139-b511fac8d925>\"\u001b[0;36m, line \u001b[0;32m1\u001b[0m\n\u001b[0;31m    [] + [1. 2]\u001b[0m\n\u001b[0m          ^\u001b[0m\n\u001b[0;31mSyntaxError\u001b[0m\u001b[0;31m:\u001b[0m invalid syntax. Perhaps you forgot a comma?\n"
          ]
        }
      ]
    },
    {
      "cell_type": "code",
      "source": [
        "가수 = ['뉴진스', '르세라핌', '에스파', '아이브']\n",
        "print(list(enumerate(가수)))\n",
        "print(list(enumerate(가수, 1)))\n",
        "print(list(enumerate(가수, 100)))\n",
        "\n",
        "for i, j in enumerate(가수, 1):\n",
        "    print(i, j)"
      ],
      "metadata": {
        "colab": {
          "base_uri": "https://localhost:8080/"
        },
        "id": "ErGaQCDt2Nlg",
        "outputId": "b640e0a5-685c-453f-f3b5-d6b2fcc96e03"
      },
      "execution_count": null,
      "outputs": [
        {
          "output_type": "stream",
          "name": "stdout",
          "text": [
            "[(0, '뉴진스'), (1, '르세라핌'), (2, '에스파'), (3, '아이브')]\n",
            "[(1, '뉴진스'), (2, '르세라핌'), (3, '에스파'), (4, '아이브')]\n",
            "[(100, '뉴진스'), (101, '르세라핌'), (102, '에스파'), (103, '아이브')]\n",
            "1 뉴진스\n",
            "2 르세라핌\n",
            "3 에스파\n",
            "4 아이브\n"
          ]
        }
      ]
    },
    {
      "cell_type": "code",
      "source": [
        "type(print)"
      ],
      "metadata": {
        "colab": {
          "base_uri": "https://localhost:8080/"
        },
        "id": "di1NWw_l20Ex",
        "outputId": "0df37d01-1eda-4096-bbc5-d05dc7c4f9e7"
      },
      "execution_count": null,
      "outputs": [
        {
          "output_type": "execute_result",
          "data": {
            "text/plain": [
              "builtin_function_or_method"
            ]
          },
          "metadata": {},
          "execution_count": 146
        }
      ]
    },
    {
      "cell_type": "code",
      "source": [
        "type(enumerate)"
      ],
      "metadata": {
        "colab": {
          "base_uri": "https://localhost:8080/"
        },
        "id": "JbedK4_z3DdU",
        "outputId": "bcba486c-e17e-4b9e-f8fd-5e09f54ab43d"
      },
      "execution_count": null,
      "outputs": [
        {
          "output_type": "execute_result",
          "data": {
            "text/plain": [
              "type"
            ]
          },
          "metadata": {},
          "execution_count": 147
        }
      ]
    },
    {
      "cell_type": "code",
      "source": [
        "type(max)"
      ],
      "metadata": {
        "colab": {
          "base_uri": "https://localhost:8080/"
        },
        "id": "jihucAK33G6y",
        "outputId": "17821954-0cd6-4035-9200-05f149d2f8ab"
      },
      "execution_count": null,
      "outputs": [
        {
          "output_type": "execute_result",
          "data": {
            "text/plain": [
              "builtin_function_or_method"
            ]
          },
          "metadata": {},
          "execution_count": 148
        }
      ]
    },
    {
      "cell_type": "code",
      "source": [
        "type(len)"
      ],
      "metadata": {
        "colab": {
          "base_uri": "https://localhost:8080/"
        },
        "id": "k3yzAeeN3Iuq",
        "outputId": "a54b3e55-204e-410e-9cca-5a028789b3a2"
      },
      "execution_count": null,
      "outputs": [
        {
          "output_type": "execute_result",
          "data": {
            "text/plain": [
              "builtin_function_or_method"
            ]
          },
          "metadata": {},
          "execution_count": 149
        }
      ]
    },
    {
      "cell_type": "code",
      "source": [
        "type(format)"
      ],
      "metadata": {
        "colab": {
          "base_uri": "https://localhost:8080/"
        },
        "id": "axTcL1mo3KWA",
        "outputId": "8f3f7f03-722b-4762-83c4-d3215b02a4cf"
      },
      "execution_count": null,
      "outputs": [
        {
          "output_type": "execute_result",
          "data": {
            "text/plain": [
              "builtin_function_or_method"
            ]
          },
          "metadata": {},
          "execution_count": 150
        }
      ]
    },
    {
      "cell_type": "code",
      "source": [
        "type(range)"
      ],
      "metadata": {
        "colab": {
          "base_uri": "https://localhost:8080/"
        },
        "id": "JMi4YRat3MqV",
        "outputId": "380ef2cf-4f1f-4248-efda-8444979384d1"
      },
      "execution_count": null,
      "outputs": [
        {
          "output_type": "execute_result",
          "data": {
            "text/plain": [
              "type"
            ]
          },
          "metadata": {},
          "execution_count": 151
        }
      ]
    },
    {
      "cell_type": "code",
      "source": [
        "type(zip)"
      ],
      "metadata": {
        "colab": {
          "base_uri": "https://localhost:8080/"
        },
        "id": "9VO1UXUX3Pdf",
        "outputId": "459a4854-140a-4291-c3c0-245909eb981a"
      },
      "execution_count": null,
      "outputs": [
        {
          "output_type": "execute_result",
          "data": {
            "text/plain": [
              "type"
            ]
          },
          "metadata": {},
          "execution_count": 152
        }
      ]
    },
    {
      "cell_type": "code",
      "source": [
        "type(map)"
      ],
      "metadata": {
        "colab": {
          "base_uri": "https://localhost:8080/"
        },
        "id": "Z2mHWFIW3Ro_",
        "outputId": "cac2022c-7b02-4cc2-a0fb-ac2abe66813c"
      },
      "execution_count": null,
      "outputs": [
        {
          "output_type": "execute_result",
          "data": {
            "text/plain": [
              "type"
            ]
          },
          "metadata": {},
          "execution_count": 153
        }
      ]
    },
    {
      "cell_type": "code",
      "source": [
        "type(filter)"
      ],
      "metadata": {
        "colab": {
          "base_uri": "https://localhost:8080/"
        },
        "id": "ZdRI5p9G3SYd",
        "outputId": "de809bd1-3e18-4007-91c3-63087cba0db3"
      },
      "execution_count": null,
      "outputs": [
        {
          "output_type": "execute_result",
          "data": {
            "text/plain": [
              "type"
            ]
          },
          "metadata": {},
          "execution_count": 157
        }
      ]
    },
    {
      "cell_type": "code",
      "source": [
        "type(int)"
      ],
      "metadata": {
        "colab": {
          "base_uri": "https://localhost:8080/"
        },
        "id": "8tkVd9GR3VRt",
        "outputId": "1c07bf29-e2d2-43a7-e965-93fc044c4c98"
      },
      "execution_count": null,
      "outputs": [
        {
          "output_type": "execute_result",
          "data": {
            "text/plain": [
              "type"
            ]
          },
          "metadata": {},
          "execution_count": 159
        }
      ]
    },
    {
      "cell_type": "code",
      "source": [
        "# range(start, stop, step) # 슬라이싱과 비슷한 형태를 지니고 있습니다.\n",
        "print(range(10)) # 값을 가지고 있지 않습니다.\n",
        "print(list(range(10)))\n",
        "x = range(10)\n",
        "print(type(x))\n",
        "print(list(range(0, 10, 2)))\n",
        "print(list(range(10, 0, -2)))\n",
        "# print(list(range(10, 0, 2.1))) # error, numpy 모듈 사용하면 가능합니다.\n",
        "# print(list(range(10.1, 2.0, 2))) # error, numpy 모듈 사용하면 가능합니다.\n",
        "print(list(range(0, 10, -2)))"
      ],
      "metadata": {
        "colab": {
          "base_uri": "https://localhost:8080/"
        },
        "id": "JKjbstKU3blY",
        "outputId": "386cca7e-2ace-4ec6-afe0-32851164cd06"
      },
      "execution_count": null,
      "outputs": [
        {
          "output_type": "stream",
          "name": "stdout",
          "text": [
            "range(0, 10)\n",
            "[0, 1, 2, 3, 4, 5, 6, 7, 8, 9]\n",
            "<class 'range'>\n",
            "[0, 2, 4, 6, 8]\n",
            "[10, 8, 6, 4, 2]\n",
            "[]\n"
          ]
        }
      ]
    },
    {
      "cell_type": "code",
      "source": [
        "# 2.x에서 range와 그 외 값들에 대한 히스토리\n",
        "# print(range(10)) # 출력: [0, 1, 2, 3, 4, 5, 6, 7, 8, 9]\n",
        "# 메모리를 모두 차지해야 합니다.\n",
        "\n",
        "# print(range(100000000000000000000000000000000000000))\n",
        "# 메모리의 효율이 극도로 안좋아짐\n",
        "\n",
        "# 그런데 3.x에서 range(10000000000000000000000000000)는 메모리 효율이 안좋나요?\n",
        "# 시작과, 끝, 스텝값만 가지고 있기 때문에 메모리 낭비가 전혀 없습니다.\n",
        "\n",
        "# 2.x에서도 3.x와 같은 range타입이 있었습니다. xrange문법입니다.\n",
        "# xrange문법이 3.x되면서 range가 된겁니다.\n",
        "# 2.x에서 사용가능 문법\n",
        "# print(xrange(10)) # 출력: xrange(10)\n",
        "# for i in xrange(10): # 출력: 순회 가능\n",
        "#     print(i)"
      ],
      "metadata": {
        "id": "qHAlEsLP39lE"
      },
      "execution_count": null,
      "outputs": []
    },
    {
      "cell_type": "code",
      "source": [
        "list(reversed('hello world'))\n",
        "list(reversed([1, 2, 3, 10, 5, 4])) # 역 정렬이 아니고 역순입니다!"
      ],
      "metadata": {
        "colab": {
          "base_uri": "https://localhost:8080/"
        },
        "id": "o-GycfmC7V-V",
        "outputId": "9ce48bdf-7824-4ce3-df97-d58ea8ba50e5"
      },
      "execution_count": null,
      "outputs": [
        {
          "output_type": "execute_result",
          "data": {
            "text/plain": [
              "[4, 5, 10, 3, 2, 1]"
            ]
          },
          "metadata": {},
          "execution_count": 170
        }
      ]
    },
    {
      "cell_type": "code",
      "source": [
        "list(reversed(sorted([1, 2, 3, 10, 5, 4])))"
      ],
      "metadata": {
        "colab": {
          "base_uri": "https://localhost:8080/"
        },
        "id": "NM_xOYcF7x5q",
        "outputId": "81b600d0-7748-4445-8648-159b6c36ebba"
      },
      "execution_count": null,
      "outputs": [
        {
          "output_type": "execute_result",
          "data": {
            "text/plain": [
              "[10, 5, 4, 3, 2, 1]"
            ]
          },
          "metadata": {},
          "execution_count": 172
        }
      ]
    },
    {
      "cell_type": "code",
      "source": [
        "# 매우 중요합니다.\n",
        "# 알고리즘 문제에서 단골 built-in function\n",
        "sorted([1, 2, 100, 200, 3, 4, 10, 20])\n",
        "sorted([1, 2, 100, 200, 3, 4, 10, 20], reverse = True)"
      ],
      "metadata": {
        "colab": {
          "base_uri": "https://localhost:8080/"
        },
        "id": "wykLT1Jc76lX",
        "outputId": "7c8d8f3a-0f44-41cb-e052-d68e6a33e72a"
      },
      "execution_count": null,
      "outputs": [
        {
          "output_type": "execute_result",
          "data": {
            "text/plain": [
              "[200, 100, 20, 10, 4, 3, 2, 1]"
            ]
          },
          "metadata": {},
          "execution_count": 177
        }
      ]
    },
    {
      "cell_type": "code",
      "source": [
        "sorted(['hello', 'l', 'hilo', 'hel', 'heo', 'a'])\n",
        "sorted(['hello', 'l', 'hilo', 'hel', 'heo', 'a'], key = len)\n",
        "['a', 'hel', 'hello', 'heo', 'hilo', 'i']\n",
        "# 위코드는 sorted(['5', '1', '4', '3', '3', '1'])와 같습니다."
      ],
      "metadata": {
        "colab": {
          "base_uri": "https://localhost:8080/"
        },
        "id": "zTvu-W4T_V1C",
        "outputId": "f3e6e14f-b2d2-4a34-b5ba-327a02d2e8ac"
      },
      "execution_count": null,
      "outputs": [
        {
          "output_type": "execute_result",
          "data": {
            "text/plain": [
              "['5', '1', '4', '3', '3', '1']"
            ]
          },
          "metadata": {},
          "execution_count": 180
        }
      ]
    },
    {
      "cell_type": "code",
      "source": [
        "sorted(['hello', 'l', 'hilo', 'hel', 'heo', 'a'], key = len)"
      ],
      "metadata": {
        "colab": {
          "base_uri": "https://localhost:8080/"
        },
        "id": "XUHrhQ-b_1As",
        "outputId": "8182a4de-200d-4030-ddd7-4b4882e16b4c"
      },
      "execution_count": null,
      "outputs": [
        {
          "output_type": "execute_result",
          "data": {
            "text/plain": [
              "['l', 'a', 'hel', 'heo', 'hilo', 'hello']"
            ]
          },
          "metadata": {},
          "execution_count": 182
        }
      ]
    },
    {
      "cell_type": "code",
      "source": [
        "data = [\n",
        "    [2, 'hello world', 30],\n",
        "    [3, 'hworl', 33],\n",
        "    [5, 'hello wo', 35],\n",
        "    [4, 'hello w', 31],\n",
        "    [6, 'hello w', 39]\n",
        "]\n",
        "\n",
        "# 1번쨰 문제 : 첫번째 요소의 값을 정렬하세요.\n",
        "sorted(data)\n",
        "# 2번째 문제 : 두번째 요소의 문자열 길이를 기준으로 정렬하세요.\n",
        "sorted(data, key=lambda x:len(x[1]))\n",
        "# sorted([11, 5, 7, 8, 7])를 정렬하는 것과 같습니다. 다만 숫자 값으로 반환하는 것이 아니라 object로 반환합니다!\n",
        "\n",
        "# 3번째 문제 : 세번째 요소 기준으로 정렬하세요.\n",
        "sorted(data, key=lambda x:x[2])\n",
        "\n",
        "# 4번째 문제 : 첫번째 요소와 세번째 요소의 차카 큰 순으로 출력해주세요.\n",
        "sorted(data, key=lambda x: x[2] - x[0], reverse = True)\n",
        "#sorted(data, key=lambda x: x[2] - x[0])\n"
      ],
      "metadata": {
        "colab": {
          "base_uri": "https://localhost:8080/"
        },
        "id": "uEWVDYWBAM4t",
        "outputId": "1ca2cae0-5f15-48fc-a705-74f1ef6ab848"
      },
      "execution_count": null,
      "outputs": [
        {
          "output_type": "execute_result",
          "data": {
            "text/plain": [
              "[[6, 'hello w', 39],\n",
              " [3, 'hworl', 33],\n",
              " [5, 'hello wo', 35],\n",
              " [2, 'hello world', 30],\n",
              " [4, 'hello w', 31]]"
            ]
          },
          "metadata": {},
          "execution_count": 199
        }
      ]
    }
  ]
}