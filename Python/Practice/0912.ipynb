{
 "cells": [
  {
   "cell_type": "code",
   "execution_count": 1,
   "metadata": {},
   "outputs": [
    {
     "data": {
      "text/plain": [
       "True"
      ]
     },
     "execution_count": 1,
     "metadata": {},
     "output_type": "execute_result"
    }
   ],
   "source": [
    "#1번\n",
    "a = 100\n",
    "(a > 100) and (a < 200) #False\n",
    "(a > 100) or (a < 200) # True\n",
    "(a >= 100) and (a <= 200) # True\n",
    "(a >= 100) or (a <= 200) # True"
   ]
  },
  {
   "cell_type": "code",
   "execution_count": 2,
   "metadata": {},
   "outputs": [
    {
     "data": {
      "text/plain": [
       "False"
      ]
     },
     "execution_count": 2,
     "metadata": {},
     "output_type": "execute_result"
    }
   ],
   "source": [
    "b = 25\n",
    "(b % 2 == 0) and (b % 5 == 0) # False"
   ]
  },
  {
   "cell_type": "code",
   "execution_count": 5,
   "metadata": {},
   "outputs": [
    {
     "data": {
      "text/plain": [
       "10"
      ]
     },
     "execution_count": 5,
     "metadata": {},
     "output_type": "execute_result"
    }
   ],
   "source": [
    "c = 1000\n",
    "# 결과값은 10입니다.\n",
    "c // 100"
   ]
  },
  {
   "cell_type": "code",
   "execution_count": 9,
   "metadata": {},
   "outputs": [
    {
     "name": "stdout",
     "output_type": "stream",
     "text": [
      "5000원 지폐 개수: 10장\n"
     ]
    }
   ],
   "source": [
    "# (심화문제) 입력한 금액을 5000원, 1000원, 500원, 100원으로 교환하는 프로그램을 만들어주세요.\n",
    "money = int(input())\n",
    "\n",
    "a = money // 5000\n",
    "money = money - a * 5000\n",
    "\n",
    "b = money // 1000\n",
    "money = money - b * 1000\n",
    "\n",
    "c = money // 500\n",
    "money = money - c * 500\n",
    "\n",
    "d = money // 100\n",
    "money = money - d * 100\n",
    "\n",
    "print('5000원 지폐 개수:', str(a) +'장')"
   ]
  },
  {
   "cell_type": "code",
   "execution_count": null,
   "metadata": {},
   "outputs": [],
   "source": [
    "a = 'pithon'\n",
    "\n",
    "def 함수1():\n",
    "    def 함수2():\n",
    "        print('love')\n",
    "        \n",
    "    print('I')\n",
    "    함수2()\n",
    "    return \"python\"\n",
    "\t\n",
    "\n",
    "a = 함수1()\n",
    "print(a)"
   ]
  }
 ],
 "metadata": {
  "kernelspec": {
   "display_name": "Python 3",
   "language": "python",
   "name": "python3"
  },
  "language_info": {
   "codemirror_mode": {
    "name": "ipython",
    "version": 3
   },
   "file_extension": ".py",
   "mimetype": "text/x-python",
   "name": "python",
   "nbconvert_exporter": "python",
   "pygments_lexer": "ipython3",
   "version": "3.11.5"
  },
  "orig_nbformat": 4
 },
 "nbformat": 4,
 "nbformat_minor": 2
}
